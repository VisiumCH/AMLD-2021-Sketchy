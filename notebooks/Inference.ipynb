{
 "cells": [
  {
   "cell_type": "markdown",
   "metadata": {},
   "source": [
    "# Inference"
   ]
  },
  {
   "cell_type": "markdown",
   "metadata": {},
   "source": [
    "This notebook enables to predict the closest images of a sketch. "
   ]
  },
  {
   "cell_type": "code",
   "execution_count": 43,
   "metadata": {
    "ExecuteTime": {
     "end_time": "2021-02-19T13:44:42.706542Z",
     "start_time": "2021-02-19T13:44:42.702347Z"
    }
   },
   "outputs": [],
   "source": [
    "# Imports\n",
    "import matplotlib.pyplot as plt\n",
    "import matplotlib.image as mpimg\n",
    "import torch\n",
    "from torchvision import transforms\n",
    "from torch.utils.data import DataLoader\n",
    "\n",
    "plt.rcParams[\"figure.figsize\"] = (12,12)\n",
    "plt.rcParams['axes.titlesize'] = 15"
   ]
  },
  {
   "cell_type": "code",
   "execution_count": 44,
   "metadata": {
    "ExecuteTime": {
     "end_time": "2021-02-19T13:44:43.060439Z",
     "start_time": "2021-02-19T13:44:43.056015Z"
    }
   },
   "outputs": [],
   "source": [
    "from src.data.loader_factory import load_data\n",
    "from src.models.encoder import EncoderCNN\n",
    "from src.models.utils import load_checkpoint\n",
    "from src.models.test import get_test_data\n",
    "from src.models.metrics import get_similarity"
   ]
  },
  {
   "cell_type": "code",
   "execution_count": 50,
   "metadata": {
    "ExecuteTime": {
     "end_time": "2021-02-19T13:54:01.468228Z",
     "start_time": "2021-02-19T13:54:01.464096Z"
    }
   },
   "outputs": [],
   "source": [
    "class Args:\n",
    "    dataset = \"sketchy_extend\"\n",
    "    data_path = \"../io/data/raw\"\n",
    "    emb_size = 256\n",
    "    grl_lambda = 0.5\n",
    "    nopretrain = False\n",
    "    epochs = 1000\n",
    "    batch_size = 10\n",
    "    seed = 42\n",
    "    load = None\n",
    "    early_stop = 20\n",
    "    ngpu = 1\n",
    "    prefetch = 2\n",
    "    log = \"../io/models/\"\n",
    "    log_interval = 20\n",
    "    attn = True\n",
    "    plot = False\n",
    "    cuda = False\n",
    "\n",
    "args = Args()"
   ]
  },
  {
   "cell_type": "markdown",
   "metadata": {},
   "source": [
    "## Load the model"
   ]
  },
  {
   "cell_type": "code",
   "execution_count": 46,
   "metadata": {
    "ExecuteTime": {
     "end_time": "2021-02-19T13:44:44.032835Z",
     "start_time": "2021-02-19T13:44:44.030747Z"
    }
   },
   "outputs": [],
   "source": [
    "BEST_CHECKPOINT = '../io/models/1_run-batch_size_10/checkpoint.pth'"
   ]
  },
  {
   "cell_type": "code",
   "execution_count": 47,
   "metadata": {
    "ExecuteTime": {
     "end_time": "2021-02-19T13:44:44.385812Z",
     "start_time": "2021-02-19T13:44:44.379768Z"
    }
   },
   "outputs": [],
   "source": [
    "def get_model(args, best_checkpoint):\n",
    "    im_net = EncoderCNN(out_size=args.emb_size, attention=True)\n",
    "    sk_net = EncoderCNN(out_size=args.emb_size, attention=True)\n",
    "    \n",
    "    #checkpoint = load_checkpoint(best_checkpoint)\n",
    "    checkpoint = torch.load(best_checkpoint, map_location='cpu')\n",
    "    \n",
    "    im_net.load_state_dict(checkpoint['im_state'])\n",
    "    sk_net.load_state_dict(checkpoint['sk_state'])\n",
    "\n",
    "    if args.cuda and args.ngpu > 1:\n",
    "        print('\\t* Data Parallel **NOT TESTED**')\n",
    "        im_net = nn.DataParallel(im_net, device_ids=list(range(args.ngpu)))\n",
    "        sk_net = nn.DataParallel(sk_net, device_ids=list(range(args.ngpu)))\n",
    "\n",
    "    if args.cuda:\n",
    "        print('\\t* CUDA')\n",
    "        im_net, sk_net = im_net.cuda(), sk_net.cuda()\n",
    "\n",
    "    return im_net, sk_net"
   ]
  },
  {
   "cell_type": "code",
   "execution_count": 48,
   "metadata": {
    "ExecuteTime": {
     "end_time": "2021-02-19T13:44:48.084739Z",
     "start_time": "2021-02-19T13:44:44.762995Z"
    }
   },
   "outputs": [],
   "source": [
    "im_net, sk_net = get_model(args, BEST_CHECKPOINT)"
   ]
  },
  {
   "cell_type": "markdown",
   "metadata": {},
   "source": [
    "## Get all images and compute their embeddings"
   ]
  },
  {
   "cell_type": "code",
   "execution_count": 49,
   "metadata": {
    "ExecuteTime": {
     "end_time": "2021-02-19T13:44:48.126428Z",
     "start_time": "2021-02-19T13:44:48.107292Z"
    }
   },
   "outputs": [
    {
     "ename": "FileNotFoundError",
     "evalue": "[Errno 2] No such file or directory: '../io/data/raw/Sketchy/zeroshot_classes_sketchy.txt'",
     "output_type": "error",
     "traceback": [
      "\u001b[0;31m---------------------------------------------------------------------------\u001b[0m",
      "\u001b[0;31mFileNotFoundError\u001b[0m                         Traceback (most recent call last)",
      "\u001b[0;32m<ipython-input-49-d5f045b031df>\u001b[0m in \u001b[0;36m<module>\u001b[0;34m\u001b[0m\n\u001b[1;32m      1\u001b[0m \u001b[0mtransform\u001b[0m \u001b[0;34m=\u001b[0m \u001b[0mtransforms\u001b[0m\u001b[0;34m.\u001b[0m\u001b[0mCompose\u001b[0m\u001b[0;34m(\u001b[0m\u001b[0;34m[\u001b[0m\u001b[0mtransforms\u001b[0m\u001b[0;34m.\u001b[0m\u001b[0mToTensor\u001b[0m\u001b[0;34m(\u001b[0m\u001b[0;34m)\u001b[0m\u001b[0;34m]\u001b[0m\u001b[0;34m)\u001b[0m\u001b[0;34m\u001b[0m\u001b[0;34m\u001b[0m\u001b[0m\n\u001b[0;32m----> 2\u001b[0;31m \u001b[0m_\u001b[0m\u001b[0;34m,\u001b[0m \u001b[0;34m[\u001b[0m\u001b[0m_\u001b[0m\u001b[0;34m,\u001b[0m \u001b[0m_\u001b[0m\u001b[0;34m]\u001b[0m\u001b[0;34m,\u001b[0m \u001b[0;34m[\u001b[0m\u001b[0mtest_sk_data\u001b[0m\u001b[0;34m,\u001b[0m \u001b[0mtest_im_data\u001b[0m\u001b[0;34m]\u001b[0m\u001b[0;34m,\u001b[0m \u001b[0mdict_class\u001b[0m \u001b[0;34m=\u001b[0m \u001b[0mload_data\u001b[0m\u001b[0;34m(\u001b[0m\u001b[0margs\u001b[0m\u001b[0;34m,\u001b[0m \u001b[0mtransform\u001b[0m\u001b[0;34m)\u001b[0m\u001b[0;34m\u001b[0m\u001b[0;34m\u001b[0m\u001b[0m\n\u001b[0m",
      "\u001b[0;32m~/AMLD-2021-Sketchy/src/data/loader_factory.py\u001b[0m in \u001b[0;36mload_data\u001b[0;34m(args, transform)\u001b[0m\n\u001b[1;32m     23\u001b[0m     \"\"\"\n\u001b[1;32m     24\u001b[0m     \u001b[0;32mif\u001b[0m \u001b[0margs\u001b[0m\u001b[0;34m.\u001b[0m\u001b[0mdataset\u001b[0m \u001b[0;34m==\u001b[0m \u001b[0;34m\"sketchy_extend\"\u001b[0m\u001b[0;34m:\u001b[0m\u001b[0;34m\u001b[0m\u001b[0;34m\u001b[0m\u001b[0m\n\u001b[0;32m---> 25\u001b[0;31m         \u001b[0;32mreturn\u001b[0m \u001b[0mSketchy_Extended\u001b[0m\u001b[0;34m(\u001b[0m\u001b[0margs\u001b[0m\u001b[0;34m,\u001b[0m \u001b[0mtransform\u001b[0m\u001b[0;34m)\u001b[0m\u001b[0;34m\u001b[0m\u001b[0;34m\u001b[0m\u001b[0m\n\u001b[0m\u001b[1;32m     26\u001b[0m     \u001b[0;32melif\u001b[0m \u001b[0margs\u001b[0m\u001b[0;34m.\u001b[0m\u001b[0mdataset\u001b[0m \u001b[0;34m==\u001b[0m \u001b[0;34m\"tuberlin_extend\"\u001b[0m\u001b[0;34m:\u001b[0m\u001b[0;34m\u001b[0m\u001b[0;34m\u001b[0m\u001b[0m\n\u001b[1;32m     27\u001b[0m         \u001b[0;32mreturn\u001b[0m \u001b[0mTUBerlin_Extended\u001b[0m\u001b[0;34m(\u001b[0m\u001b[0margs\u001b[0m\u001b[0;34m,\u001b[0m \u001b[0mtransform\u001b[0m\u001b[0;34m)\u001b[0m\u001b[0;34m\u001b[0m\u001b[0;34m\u001b[0m\u001b[0m\n",
      "\u001b[0;32m~/AMLD-2021-Sketchy/src/data/sketchy_extended.py\u001b[0m in \u001b[0;36mSketchy_Extended\u001b[0;34m(args, transform)\u001b[0m\n\u001b[1;32m     27\u001b[0m \u001b[0;34m\u001b[0m\u001b[0m\n\u001b[1;32m     28\u001b[0m     \u001b[0;31m# Read test classes\u001b[0m\u001b[0;34m\u001b[0m\u001b[0;34m\u001b[0m\u001b[0;34m\u001b[0m\u001b[0m\n\u001b[0;32m---> 29\u001b[0;31m     \u001b[0;32mwith\u001b[0m \u001b[0mopen\u001b[0m\u001b[0;34m(\u001b[0m\u001b[0mos\u001b[0m\u001b[0;34m.\u001b[0m\u001b[0mpath\u001b[0m\u001b[0;34m.\u001b[0m\u001b[0mjoin\u001b[0m\u001b[0;34m(\u001b[0m\u001b[0margs\u001b[0m\u001b[0;34m.\u001b[0m\u001b[0mdata_path\u001b[0m\u001b[0;34m,\u001b[0m \u001b[0;34m\"Sketchy/zeroshot_classes_sketchy.txt\"\u001b[0m\u001b[0;34m)\u001b[0m\u001b[0;34m)\u001b[0m \u001b[0;32mas\u001b[0m \u001b[0mfp\u001b[0m\u001b[0;34m:\u001b[0m\u001b[0;34m\u001b[0m\u001b[0;34m\u001b[0m\u001b[0m\n\u001b[0m\u001b[1;32m     30\u001b[0m         \u001b[0mtest_class\u001b[0m \u001b[0;34m=\u001b[0m \u001b[0mfp\u001b[0m\u001b[0;34m.\u001b[0m\u001b[0mread\u001b[0m\u001b[0;34m(\u001b[0m\u001b[0;34m)\u001b[0m\u001b[0;34m.\u001b[0m\u001b[0msplitlines\u001b[0m\u001b[0;34m(\u001b[0m\u001b[0;34m)\u001b[0m\u001b[0;34m\u001b[0m\u001b[0;34m\u001b[0m\u001b[0m\n\u001b[1;32m     31\u001b[0m     \u001b[0mlist_class\u001b[0m \u001b[0;34m=\u001b[0m \u001b[0;34m[\u001b[0m\u001b[0mx\u001b[0m \u001b[0;32mfor\u001b[0m \u001b[0mx\u001b[0m \u001b[0;32min\u001b[0m \u001b[0mlist_class\u001b[0m \u001b[0;32mif\u001b[0m \u001b[0mx\u001b[0m \u001b[0;32mnot\u001b[0m \u001b[0;32min\u001b[0m \u001b[0mtest_class\u001b[0m\u001b[0;34m]\u001b[0m\u001b[0;34m\u001b[0m\u001b[0;34m\u001b[0m\u001b[0m\n",
      "\u001b[0;31mFileNotFoundError\u001b[0m: [Errno 2] No such file or directory: '../io/data/raw/Sketchy/zeroshot_classes_sketchy.txt'"
     ]
    }
   ],
   "source": [
    "transform = transforms.Compose([transforms.ToTensor()])\n",
    "_, [_, _], [test_sk_data, test_im_data], dict_class = load_data(args, transform)"
   ]
  },
  {
   "cell_type": "code",
   "execution_count": null,
   "metadata": {
    "ExecuteTime": {
     "end_time": "2021-02-19T13:44:48.130486Z",
     "start_time": "2021-02-19T13:44:46.066Z"
    }
   },
   "outputs": [],
   "source": [
    "print(\"Length Sketch: {}\".format(len(test_sk_data)))\n",
    "print(\"Length Image: {}\".format(len(test_im_data)))\n",
    "print(\"Classes: {}\".format(test_sk_data.get_class_dict()))\n",
    "print(\"Num Classes: {}\".format(len(test_sk_data.get_class_dict())))"
   ]
  },
  {
   "cell_type": "code",
   "execution_count": null,
   "metadata": {
    "ExecuteTime": {
     "end_time": "2021-02-19T13:44:48.136481Z",
     "start_time": "2021-02-19T13:44:46.525Z"
    }
   },
   "outputs": [],
   "source": [
    "test_im_loader = DataLoader(test_im_data, batch_size=3 * args.batch_size, num_workers=args.prefetch, pin_memory=True)\n",
    "test_sk_loader = DataLoader(test_sk_data, batch_size=3 * args.batch_size, num_workers=args.prefetch, pin_memory=True)"
   ]
  },
  {
   "cell_type": "code",
   "execution_count": null,
   "metadata": {},
   "outputs": [],
   "source": [
    "def get_test_data(data_loader, model, args):\n",
    "    fnames = []\n",
    "    for i, (image, target, fname) in enumerate(data_loader):\n",
    "        # Process\n",
    "        out_features, _ = model(image)\n",
    "\n",
    "        # Filename of the images for qualitative\n",
    "        fnames.append(fname)\n",
    "\n",
    "        if i == 0:\n",
    "            embeddings = out_features\n",
    "            classes = target\n",
    "        else:\n",
    "            embeddings = np.concatenate((embeddings, out_features), axis=0)\n",
    "            classes = np.concatenate((classes, target), axis=0)"
   ]
  },
  {
   "cell_type": "code",
   "execution_count": null,
   "metadata": {
    "ExecuteTime": {
     "end_time": "2021-02-19T13:44:48.141767Z",
     "start_time": "2021-02-19T13:44:46.930Z"
    }
   },
   "outputs": [],
   "source": [
    "images_fnames, images_embeddings, images_classes = get_test_data(test_im_loader, im_net, args)\n",
    "sketch_fnames, sketch_embeddings, sketch_classes = get_test_data(test_sk_loader, sk_net, args)"
   ]
  },
  {
   "cell_type": "code",
   "execution_count": null,
   "metadata": {
    "ExecuteTime": {
     "end_time": "2021-02-19T13:44:48.145073Z",
     "start_time": "2021-02-19T13:44:47.430Z"
    }
   },
   "outputs": [],
   "source": [
    "print(len(images_fnames))\n",
    "print(len(sketch_fnames))\n",
    "print(images_embeddings.shape)\n",
    "print(sketch_embeddings.shape)"
   ]
  },
  {
   "cell_type": "markdown",
   "metadata": {},
   "source": [
    "## Find closest images"
   ]
  },
  {
   "cell_type": "markdown",
   "metadata": {},
   "source": [
    "Similarity measure between a sketch and images"
   ]
  },
  {
   "cell_type": "markdown",
   "metadata": {},
   "source": [
    "### Choose a sketch"
   ]
  },
  {
   "cell_type": "code",
   "execution_count": 21,
   "metadata": {
    "ExecuteTime": {
     "end_time": "2021-02-19T13:35:33.225930Z",
     "start_time": "2021-02-19T13:35:33.223967Z"
    }
   },
   "outputs": [],
   "source": [
    "SKETCH_INDEX = 0"
   ]
  },
  {
   "cell_type": "code",
   "execution_count": null,
   "metadata": {},
   "outputs": [],
   "source": [
    "sketch_embeddings.shape"
   ]
  },
  {
   "cell_type": "code",
   "execution_count": null,
   "metadata": {},
   "outputs": [],
   "source": [
    "sketch_embedding = sketch_embeddings[SKETCH_INDEX]"
   ]
  },
  {
   "cell_type": "code",
   "execution_count": null,
   "metadata": {},
   "outputs": [],
   "source": [
    "sketch_embedding.shape"
   ]
  },
  {
   "cell_type": "markdown",
   "metadata": {},
   "source": [
    "### Compute similarity"
   ]
  },
  {
   "cell_type": "code",
   "execution_count": null,
   "metadata": {},
   "outputs": [],
   "source": [
    "similarity = get_similarity(sketch_embedding, images_embeddings)"
   ]
  },
  {
   "cell_type": "code",
   "execution_count": null,
   "metadata": {},
   "outputs": [],
   "source": [
    "similarity.shape"
   ]
  },
  {
   "cell_type": "code",
   "execution_count": null,
   "metadata": {},
   "outputs": [],
   "source": [
    "arg_sorted_sim = (-similarity).argsort()"
   ]
  },
  {
   "cell_type": "code",
   "execution_count": null,
   "metadata": {},
   "outputs": [],
   "source": [
    "arg_sorted_sim.shape"
   ]
  },
  {
   "cell_type": "code",
   "execution_count": null,
   "metadata": {},
   "outputs": [],
   "source": []
  },
  {
   "cell_type": "markdown",
   "metadata": {},
   "source": [
    "## Plot results"
   ]
  },
  {
   "cell_type": "code",
   "execution_count": 52,
   "metadata": {
    "ExecuteTime": {
     "end_time": "2021-02-19T14:17:31.473140Z",
     "start_time": "2021-02-19T14:17:31.470275Z"
    }
   },
   "outputs": [],
   "source": [
    "NUM_CLOSEST = 4 # number of cloest images to plot"
   ]
  },
  {
   "cell_type": "code",
   "execution_count": 53,
   "metadata": {
    "ExecuteTime": {
     "end_time": "2021-02-19T14:17:31.832151Z",
     "start_time": "2021-02-19T14:17:31.829671Z"
    }
   },
   "outputs": [],
   "source": [
    "sketch_fnames = ['../io/raw/Sketchy/sketch/tx_000000000000/airplane/n02691156_58-1.png']\n",
    "images_fnames = [\n",
    "                    '../io/raw/Sketchy/sketch/tx_000000000000/airplane/n02691156_58-2.png',\n",
    "                    '../io/raw/Sketchy/sketch/tx_000000000000/airplane/n02691156_58-3.png',\n",
    "                    '../io/raw/Sketchy/sketch/tx_000000000000/airplane/n02691156_58-4.png',\n",
    "                    '../io/raw/Sketchy/sketch/tx_000000000000/airplane/n02691156_58-5.png'\n",
    "                ]\n",
    "closest_images = [2, 1, 0, 3]"
   ]
  },
  {
   "cell_type": "code",
   "execution_count": 54,
   "metadata": {
    "ExecuteTime": {
     "end_time": "2021-02-19T14:17:32.616207Z",
     "start_time": "2021-02-19T14:17:32.156284Z"
    }
   },
   "outputs": [
    {
     "data": {
      "image/png": "[encoded data removed]",
      "text/plain": [
       "<Figure size 864x864 with 5 Axes>"
      ]
     },
     "metadata": {
      "needs_background": "light"
     },
     "output_type": "display_data"
    }
   ],
   "source": [
    "fig, axes = plt.subplots(1, NUM_CLOSEST + 1)\n",
    "\n",
    "sk = mpimg.imread(sketch_fnames[SKETCH_INDEX])\n",
    "axes[0].imshow(sk)\n",
    "axes[0].set(title='Sketch')\n",
    "\n",
    "for i in range(1, NUM_CLOSEST + 1):\n",
    "    im = mpimg.imread(images_fnames[closest_images[i-1]])\n",
    "    axes[i].imshow(im)\n",
    "    axes[i].set(title='Closest image ' + str(i))\n",
    "    \n",
    "plt.subplots_adjust(wspace=0.25, hspace=-0.35)"
   ]
  },
  {
   "cell_type": "code",
   "execution_count": null,
   "metadata": {},
   "outputs": [],
   "source": []
  },
  {
   "cell_type": "code",
   "execution_count": 51,
   "metadata": {
    "ExecuteTime": {
     "end_time": "2021-02-19T13:56:54.935172Z",
     "start_time": "2021-02-19T13:56:54.931457Z"
    }
   },
   "outputs": [],
   "source": [
    "class Inference():\n",
    "    \n",
    "    def __init__(model_path):\n",
    "        \n",
    "        self.im_net, self.sk_net = get_model(args, model_path)\n",
    "        self.prepare_image_embeddings()\n",
    "        \n",
    "    def prepare_image_embeddings(self)\n",
    "        '''Get all images and compute their embeddings'''\n",
    "        transform = transforms.Compose([transforms.ToTensor()])\n",
    "        \n",
    "        #test_im_data, dict_class = load_inference_data(args, transform) TODO one with all class\n",
    "        _, [_, _], [test_sk_data, test_im_data], dict_class = load_data(args, transform)\n",
    "        \n",
    "        test_im_loader = DataLoader(test_im_data, batch_size=3 * args.batch_size, num_workers=args.prefetch, pin_memory=True)\n",
    "        self.images_fnames, self.images_embeddings, self.images_classes = get_test_data(test_im_loader, im_net, args)\n",
    "        \n",
    "    def process_sketch(self, sketch_path, plot=True):\n",
    "        ''' For now just process a sketch but TODO decide how to proceed later'''\n",
    "        \n",
    "        self.sketch_path = sketch_path\n",
    "        sketch = torch.tensor(mpimg.imread(sketch_path))\n",
    "        embedding, _ = self.sk_net(sketch)\n",
    "        self.get_closest_images(embedding)\n",
    "        \n",
    "        if plot:\n",
    "            self.plot_closest()\n",
    "        \n",
    "    def get_closest_images(self, sketch_embedding):\n",
    "        '''\n",
    "        Based on a sketch embedding, retrieve the index of the closest images\n",
    "        '''\n",
    "        \n",
    "        similarity = get_similarity(sketch_embedding, self.images_embeddings)\n",
    "        arg_sorted_sim = (-similarity).argsort()\n",
    "        self.closest_images_fnames = []  # path to closest images (same index as closest image embeddings)\n",
    "        \n",
    "    def plot_closest(self):\n",
    "        fig, axes = plt.subplots(1, NUM_CLOSEST + 1)\n",
    "\n",
    "        sk = mpimg.imread(self.sketch_path)\n",
    "        axes[0].imshow(sk)\n",
    "        axes[0].set(title='Sketch')\n",
    "\n",
    "        for i in range(1, NUM_CLOSEST + 1):\n",
    "            im = mpimg.imread(self.closest_images_fnames[i-1])\n",
    "            axes[i].imshow(im)\n",
    "            axes[i].set(title='Closest image ' + str(i))\n",
    "\n",
    "        plt.subplots_adjust(wspace=0.25, hspace=-0.35)"
   ]
  },
  {
   "cell_type": "code",
   "execution_count": null,
   "metadata": {},
   "outputs": [],
   "source": [
    "inference = Inference(BEST_CHECKPOINT)"
   ]
  },
  {
   "cell_type": "code",
   "execution_count": null,
   "metadata": {},
   "outputs": [],
   "source": [
    "closest_images = inference.process_sketch(sketch_fnames[0], plot=True)"
   ]
  }
 ],
 "metadata": {
  "kernelspec": {
   "display_name": "new sketchy",
   "language": "python",
   "name": "myenv"
  },
  "language_info": {
   "codemirror_mode": {
    "name": "ipython",
    "version": 3
   },
   "file_extension": ".py",
   "mimetype": "text/x-python",
   "name": "python",
   "nbconvert_exporter": "python",
   "pygments_lexer": "ipython3",
   "version": "3.6.9"
  },
  "toc": {
   "base_numbering": 1,
   "nav_menu": {},
   "number_sections": true,
   "sideBar": true,
   "skip_h1_title": false,
   "title_cell": "Table of Contents",
   "title_sidebar": "Contents",
   "toc_cell": false,
   "toc_position": {},
   "toc_section_display": true,
   "toc_window_display": false
  },
  "varInspector": {
   "cols": {
    "lenName": 16,
    "lenType": 16,
    "lenVar": 40
   },
   "kernels_config": {
    "python": {
     "delete_cmd_postfix": "",
     "delete_cmd_prefix": "del ",
     "library": "var_list.py",
     "varRefreshCmd": "print(var_dic_list())"
    },
    "r": {
     "delete_cmd_postfix": ") ",
     "delete_cmd_prefix": "rm(",
     "library": "var_list.r",
     "varRefreshCmd": "cat(var_dic_list()) "
    }
   },
   "types_to_exclude": [
    "module",
    "function",
    "builtin_function_or_method",
    "instance",
    "_Feature"
   ],
   "window_display": false
  }
 },
 "nbformat": 4,
 "nbformat_minor": 4
}
