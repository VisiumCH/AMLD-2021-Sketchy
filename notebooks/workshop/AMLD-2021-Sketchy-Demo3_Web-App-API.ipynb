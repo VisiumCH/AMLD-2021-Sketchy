{
 "cells": [
  {
   "cell_type": "markdown",
   "metadata": {},
   "source": [
    "# AMLD-2021-Sketchy: Web App APIs"
   ]
  },
  {
   "cell_type": "markdown",
   "metadata": {},
   "source": [
    "In this notebook, we reproduce the different API calls of the web app and code along similar functionnalitites.\n",
    "\n",
    "You willl need to have the server running."
   ]
  },
  {
   "cell_type": "code",
   "execution_count": 78,
   "metadata": {},
   "outputs": [],
   "source": [
    "training_name = \"quickdraw\" # name of the trained model we use\n",
    "max_epoch = \"00012\" # final epoch of the training"
   ]
  },
  {
   "cell_type": "code",
   "execution_count": 63,
   "metadata": {},
   "outputs": [],
   "source": [
    "# !python src/api/server.py quickdraw"
   ]
  },
  {
   "cell_type": "code",
   "execution_count": 104,
   "metadata": {},
   "outputs": [],
   "source": [
    "import os\n",
    "import base64\n",
    "import io\n",
    "import json\n",
    "import random\n",
    "import requests\n",
    "\n",
    "from cairosvg import svg2png\n",
    "import matplotlib.pyplot as plt\n",
    "import numpy as np\n",
    "import pandas as pd\n",
    "from PIL import Image\n",
    "import plotly.graph_objects as go\n",
    "from sklearn.decomposition import PCA\n",
    "\n",
    "from src.data.utils import default_image_loader"
   ]
  },
  {
   "cell_type": "markdown",
   "metadata": {},
   "source": [
    "##  Receive an svg string\n",
    "\n",
    "In the web app the user draws a sketch and then this sketch is sent as an svg string in base 64 encoding to the back-end. \n",
    "\n",
    "Here, the back end receives an dictionnary with a key `sketch` and the associated value `svg_string` (base 64 encoding of the image). To pass this sketch through the encoder netowrk, we need to convert the base 64 encoded string to a png image (with `svg_to_png`)."
   ]
  },
  {
   "cell_type": "code",
   "execution_count": 44,
   "metadata": {},
   "outputs": [],
   "source": [
    "def svg_to_png(sketch):\n",
    "    \"\"\" Convert a sketch in svg format to an image array \"\"\"\n",
    "    # random name\n",
    "    random_number = str(random.random())\n",
    "    sketch_fname = \"sketch\" + random_number + \".png\"\n",
    "\n",
    "    # make png\n",
    "    svg2png(bytestring=sketch, write_to=sketch_fname)\n",
    "\n",
    "    # add white background\n",
    "    im = Image.open(sketch_fname)\n",
    "    im = im.convert(\"RGBA\")\n",
    "    background = Image.new(im.mode[:-1], im.size, (255, 255, 255))\n",
    "    background.paste(im, im.split()[-1])  # omit transparency\n",
    "    background.convert(\"RGB\").save(sketch_fname)\n",
    "\n",
    "    sketch = default_image_loader(sketch_fname)\n",
    "    os.remove(sketch_fname)\n",
    "\n",
    "    return sketch"
   ]
  },
  {
   "cell_type": "markdown",
   "metadata": {},
   "source": [
    "Here, instead of drawing an image in the web app and sending it to the server, we saved json files with data in a similar format as what the server receives. In the folder `svg` there are 3 choices: 'amld' written in letters, a pineapple and a raccon. You can change the `index` value below between 0 and 2 to choose your sketch."
   ]
  },
  {
   "cell_type": "code",
   "execution_count": 45,
   "metadata": {},
   "outputs": [],
   "source": [
    "# Modify the index value. 0 dor AMLD, 1 for pineapple, 2 for racoon.\n",
    "index = 2\n",
    "assert ((isinstance(index, int)) and (0 <= index <= 2)), \"The index must be 0, 1 or 2\"\n",
    "\n",
    "svg_folder = 'svg/'\n",
    "svg_files = ['amld', 'pineapple', 'racoon']\n",
    "path = svg_folder + svg_files[index] + '.json' # choose any"
   ]
  },
  {
   "cell_type": "code",
   "execution_count": 46,
   "metadata": {},
   "outputs": [],
   "source": [
    "with open(path, 'r') as fp:\n",
    "    data = json.load(fp)"
   ]
  },
  {
   "cell_type": "code",
   "execution_count": 47,
   "metadata": {},
   "outputs": [],
   "source": [
    "svg_string = data['sketch']"
   ]
  },
  {
   "cell_type": "markdown",
   "metadata": {},
   "source": [
    "We can convert the sketch string and plot it."
   ]
  },
  {
   "cell_type": "code",
   "execution_count": 48,
   "metadata": {},
   "outputs": [
    {
     "data": {
      "image/png": "[encoded data removed]",
      "text/plain": [
       "<Figure size 432x288 with 1 Axes>"
      ]
     },
     "metadata": {
      "needs_background": "light"
     },
     "output_type": "display_data"
    }
   ],
   "source": [
    "sketch = svg_to_png(svg_string)\n",
    "plt.imshow(sketch);\n",
    "plt.title('Sketch received from back-end')\n",
    "plt.axis(\"off\");"
   ]
  },
  {
   "cell_type": "markdown",
   "metadata": {},
   "source": [
    "## List of APIs"
   ]
  },
  {
   "cell_type": "markdown",
   "metadata": {},
   "source": [
    "There are many different api calls. /api_list lists them:"
   ]
  },
  {
   "cell_type": "code",
   "execution_count": 61,
   "metadata": {},
   "outputs": [
    {
     "name": "stdout",
     "output_type": "stream",
     "text": [
      "cmd: /api_list\n",
      "Input: None. Return the list of available commands.\n",
      "\n",
      "\n",
      "cmd: /find_images\n",
      "Input: an svg base 64 string of a sketch. Returns base 64 string of its closest images, the associated labels and the attention map\n",
      "\n",
      "\n",
      "cmd: /get_embeddings\n",
      "Inputs: a dimension number (2 or 3) and optinally a sketch. Returns the projected points of the embeddings.\n",
      "\n",
      "\n",
      "cmd: /get_dataset_images\n",
      "Input: a category name. Returns 5 random images and sketches of this category.\n",
      "\n",
      "\n",
      "cmd: /get_embedding_images\n",
      "Input: a class and clicked position. Returns the closest image to the clicked position.\n",
      "\n",
      "\n",
      "cmd: /scalar_perf\n",
      "Input: None. Returns the values of the loss and metrics during training.\n",
      "\n",
      "\n",
      "cmd: /image_perf\n",
      "Input: an image type (inference, sketch or image attention). Returns how the model performed at each epoch of the training.\n",
      "\n",
      "\n"
     ]
    }
   ],
   "source": [
    "res = requests.get(\"http://127.0.0.1:5000/api_list\")\n",
    "apis = res.json()['available-apis']\n",
    "for api in apis:\n",
    "    print(api['api-key'])\n",
    "    print(api['description'])\n",
    "    print('\\n')"
   ]
  },
  {
   "cell_type": "markdown",
   "metadata": {},
   "source": [
    "Can you guess which api calls match with which page and functionnality of the web app ?"
   ]
  },
  {
   "cell_type": "markdown",
   "metadata": {},
   "source": [
    "We will code here some of the functions equivalent to those of the web app or the server."
   ]
  },
  {
   "cell_type": "markdown",
   "metadata": {},
   "source": [
    "## Inference: return closest images of sketch"
   ]
  },
  {
   "cell_type": "markdown",
   "metadata": {},
   "source": [
    "We send an svg drawing to the server form the web app."
   ]
  },
  {
   "cell_type": "code",
   "execution_count": 64,
   "metadata": {},
   "outputs": [],
   "source": [
    "data = {\"sketch\": svg_string}\n",
    "res = requests.post(\"http://127.0.0.1:5000/find_images\", json=data).json()"
   ]
  },
  {
   "cell_type": "markdown",
   "metadata": {},
   "source": [
    "In the back-end, the svg is converted into a png and a white background is added. Then the inference function gets the 2 closest images and the associated attention map (very similar to what we did in the notebook with the performance). These are all returned as a response from the api call."
   ]
  },
  {
   "cell_type": "code",
   "execution_count": 65,
   "metadata": {},
   "outputs": [],
   "source": [
    "images_base64 = res['images_base64']\n",
    "images_labels = res['images_label']\n",
    "attention = res['attention']"
   ]
  },
  {
   "cell_type": "markdown",
   "metadata": {},
   "source": [
    "The returned data is encoded in base64 strings, we convert it back to an array."
   ]
  },
  {
   "cell_type": "code",
   "execution_count": 68,
   "metadata": {},
   "outputs": [],
   "source": [
    "def base64_to_array(base64_string):\n",
    "    '''\n",
    "    Converts a returned base 64 string of an image into a numpy array\n",
    "    Args: \n",
    "        - base64_string: base 64 encoding of the image\n",
    "    Return:\n",
    "        - numpy array of the image\n",
    "    '''\n",
    "    base64_string = base64_string.split(\"'\")[1]\n",
    "    image = base64.b64decode(base64_string)\n",
    "    image = Image.open(io.BytesIO(image))\n",
    "    return np.array(image)"
   ]
  },
  {
   "cell_type": "code",
   "execution_count": 69,
   "metadata": {},
   "outputs": [],
   "source": [
    "image1 = base64_to_array(images_base64[0])\n",
    "image2 = base64_to_array(images_base64[1])\n",
    "attention = base64_to_array(attention)"
   ]
  },
  {
   "cell_type": "code",
   "execution_count": 70,
   "metadata": {},
   "outputs": [
    {
     "data": {
      "image/png": "[encoded data removed]",
      "text/plain": [
       "<Figure size 720x576 with 4 Axes>"
      ]
     },
     "metadata": {
      "needs_background": "light"
     },
     "output_type": "display_data"
    }
   ],
   "source": [
    "fig, axes = plt.subplots(1, 4, figsize=(10, 8))\n",
    "axes[0].set(title='Sketch')\n",
    "axes[0].imshow(sketch)\n",
    "axes[0].axis(\"off\");\n",
    "\n",
    "axes[1].set(title=f'1st image: {images_labels[0]}')\n",
    "axes[1].imshow(image1)\n",
    "axes[1].axis(\"off\");\n",
    "\n",
    "axes[2].set(title=f'2nd image: {images_labels[1]}')\n",
    "axes[2].imshow(image2)\n",
    "axes[2].axis(\"off\");\n",
    "\n",
    "axes[3].set(title=f'Attention map')\n",
    "axes[3].imshow(attention)\n",
    "axes[3].axis(\"off\");\n",
    "plt.subplots_adjust(wspace=0.25, hspace=-0.35)"
   ]
  },
  {
   "cell_type": "markdown",
   "metadata": {},
   "source": [
    "## Embeddings: get 2D or 3D projection of the embeddings' PCA.\n",
    "\n",
    "The `/get_embedding` function returns the 2D or 3D PCA projection of a selected number of images embeddings.\n",
    "\n",
    "- It must receive the number of dimension `nb_dim` that is either 2 or 3 (for 2D or 3D).\n",
    "- If it receives an svg sketch in `sketch` then it also computes the PCA with this sketch and also return the sketch's projected position in the category \"My Custom Sketch\"."
   ]
  },
  {
   "cell_type": "markdown",
   "metadata": {},
   "source": [
    "We show here how to do the 2D plot with the associated custom sketch embedding. "
   ]
  },
  {
   "cell_type": "code",
   "execution_count": 71,
   "metadata": {},
   "outputs": [],
   "source": [
    "data = {\"nb_dim\": 2, \"sketch\": svg_string}\n",
    "res = requests.post(\"http://127.0.0.1:5000/get_embeddings\", json=data).json()"
   ]
  },
  {
   "cell_type": "code",
   "execution_count": 72,
   "metadata": {},
   "outputs": [],
   "source": [
    "colors = [\"#e6194b\",\"#3cb44b\",\"#ffe119\",\"#4363d8\",\"#f58231\",\n",
    "          \"#911eb4\",\"#46f0f0\",\"#f032e6\",\"#bcf60c\",\"#fabebe\",\n",
    "          \"#008080\",\"#e6beff\",\"#9a6324\",\"#fffac8\",\"#800000\",\n",
    "          \"#aaffc3\",\"#808000\",\"#ffd8b1\",\"#000075\",\"#808080\",\"#000000\"]"
   ]
  },
  {
   "cell_type": "code",
   "execution_count": 76,
   "metadata": {},
   "outputs": [
    {
     "data": {
      "application/vnd.plotly.v1+json": {
       "config": {
        "plotlyServerURL": "https://plot.ly"
       },
       "data": [
        {
         "hoverinfo": "name",
         "marker": {
          "color": "#e6194b",
          "size": 12
         },
         "mode": "markers",
         "name": "My Custom Sketch",
         "type": "scatter",
         "x": [
          -4.215165615081787
         ],
         "y": [
          -0.9559689164161682
         ]
        },
        {
         "hoverinfo": "name",
         "marker": {
          "color": "#3cb44b",
          "size": 6
         },
         "mode": "markers",
         "name": "butterfly",
         "type": "scatter",
         "x": [
          -1.3763020038604736,
          -1.416645884513855,
          -1.3763020038604736,
          -1.416645884513855,
          -0.21559184789657593,
          -1.416645884513855,
          0.3457864224910736,
          0.0555611327290535,
          0.3457864224910736,
          0.2843223512172699,
          0.2843223512172699,
          -1.3763020038604736,
          -1.416645884513855,
          0.0555611327290535,
          0.2843223512172699,
          -1.8151887655258179,
          -0.8686193227767944,
          -1.729675531387329,
          -1.729675531387329,
          -1.8151887655258179,
          -1.729675531387329,
          -1.729675531387329,
          -0.8686193227767944,
          -0.8686193227767944,
          -1.729675531387329,
          -0.8686193227767944,
          -0.8686193227767944,
          -1.729675531387329,
          -0.8686193227767944,
          -1.6707196235656738,
          -1.2025930881500244,
          -1.6707196235656738,
          -1.2025930881500244,
          -1.8151887655258179
         ],
         "y": [
          4.514806270599365,
          4.002974033355713,
          4.514806270599365,
          4.002974033355713,
          3.1540744304656982,
          4.002974033355713,
          1.2624543905258179,
          4.582043170928955,
          1.2624543905258179,
          2.4214630126953125,
          2.4214630126953125,
          4.514806270599365,
          4.002974033355713,
          4.582043170928955,
          2.4214630126953125,
          3.5087053775787354,
          3.3267714977264404,
          4.805545806884766,
          4.805545806884766,
          3.5087053775787354,
          4.805545806884766,
          4.805545806884766,
          3.3267714977264404,
          3.3267714977264404,
          4.805545806884766,
          3.3267714977264404,
          3.3267714977264404,
          4.805545806884766,
          3.3267714977264404,
          4.446939945220947,
          5.562636375427246,
          4.446939945220947,
          5.562636375427246,
          3.5087053775787354
         ]
        },
        {
         "hoverinfo": "name",
         "marker": {
          "color": "#ffe119",
          "size": 6
         },
         "mode": "markers",
         "name": "candle",
         "type": "scatter",
         "x": [
          3.352940082550049,
          2.4324896335601807,
          2.954577684402466,
          2.849776268005371,
          2.6088438034057617,
          2.4324896335601807,
          2.954577684402466,
          2.954577684402466,
          3.352940082550049,
          2.954577684402466,
          2.4324896335601807,
          1.605714201927185,
          3.684803009033203,
          3.684803009033203,
          -0.10459846258163452,
          -0.10459846258163452,
          1.605714201927185,
          1.605714201927185,
          1.605714201927185,
          2.9945878982543945,
          -0.10459846258163452
         ],
         "y": [
          -0.03584621101617813,
          -0.10796566307544708,
          -0.3993092477321625,
          0.529049277305603,
          0.3200577199459076,
          -0.10796566307544708,
          -0.3993092477321625,
          -0.3993092477321625,
          -0.03584621101617813,
          -0.3993092477321625,
          -0.10796566307544708,
          0.8107786774635315,
          -0.3618081212043762,
          -0.3618081212043762,
          -0.10422712564468384,
          -0.10422712564468384,
          0.8107786774635315,
          0.8107786774635315,
          0.8107786774635315,
          0.743737518787384,
          -0.10422712564468384
         ]
        },
        {
         "hoverinfo": "name",
         "marker": {
          "color": "#4363d8",
          "size": 6
         },
         "mode": "markers",
         "name": "church",
         "type": "scatter",
         "x": [
          3.5859251022338867,
          3.5859251022338867,
          2.068869113922119,
          2.618945598602295,
          2.9469151496887207,
          2.618945598602295,
          3.5859251022338867,
          2.926156520843506,
          3.5859251022338867,
          2.926156520843506,
          2.068869113922119,
          3.5859251022338867,
          3.5859251022338867,
          2.457923173904419,
          2.457923173904419,
          1.7230607271194458,
          3.166191339492798,
          1.7230607271194458,
          3.166191339492798,
          1.7230607271194458,
          1.927101492881775,
          1.927101492881775,
          3.166191339492798
         ],
         "y": [
          -1.8177872896194458,
          -1.8177872896194458,
          -2.371990203857422,
          -1.2710728645324707,
          -2.0872271060943604,
          -1.2710728645324707,
          -1.8177872896194458,
          -1.5870459079742432,
          -1.8177872896194458,
          -1.5870459079742432,
          -2.371990203857422,
          -1.8177872896194458,
          -1.8177872896194458,
          -2.3865103721618652,
          -2.3865103721618652,
          -1.6832650899887085,
          -2.5842721462249756,
          -1.6832650899887085,
          -2.5842721462249756,
          -1.6832650899887085,
          -2.7120840549468994,
          -2.7120840549468994,
          -2.5842721462249756
         ]
        },
        {
         "hoverinfo": "name",
         "marker": {
          "color": "#f58231",
          "size": 6
         },
         "mode": "markers",
         "name": "cup",
         "type": "scatter",
         "x": [
          3.929569721221924,
          3.1417291164398193,
          1.5312788486480713,
          4.3770575523376465,
          1.5312788486480713,
          3.793321371078491,
          1.5312788486480713,
          2.8534722328186035,
          2.8534722328186035,
          3.929569721221924,
          3.929569721221924,
          3.9758856296539307,
          2.9127864837646484,
          2.9127864837646484,
          3.9758856296539307,
          4.440566539764404,
          4.440566539764404,
          3.9758856296539307,
          2.9127864837646484,
          4.440566539764404,
          4.440566539764404,
          4.092787742614746,
          2.9127864837646484
         ],
         "y": [
          1.5307236909866333,
          -0.024138063192367554,
          1.941615104675293,
          1.6192606687545776,
          1.941615104675293,
          2.096292018890381,
          1.941615104675293,
          1.4662444591522217,
          1.4662444591522217,
          1.5307236909866333,
          1.5307236909866333,
          1.7868107557296753,
          2.231981039047241,
          2.231981039047241,
          1.7868107557296753,
          1.5177053213119507,
          1.5177053213119507,
          1.7868107557296753,
          2.231981039047241,
          1.5177053213119507,
          1.5177053213119507,
          1.1547529697418213,
          2.231981039047241
         ]
        },
        {
         "hoverinfo": "name",
         "marker": {
          "color": "#911eb4",
          "size": 6
         },
         "mode": "markers",
         "name": "door",
         "type": "scatter",
         "x": [
          5.619688510894775,
          5.238360404968262,
          5.0448384284973145,
          5.619688510894775,
          3.8501298427581787,
          5.238360404968262,
          2.6238691806793213,
          5.0448384284973145,
          2.6238691806793213,
          3.8501298427581787,
          3.9222066402435303,
          5.0448384284973145,
          5.22371244430542,
          5.22371244430542,
          5.238360404968262,
          5.619688510894775,
          5.22371244430542,
          6.418697357177734,
          8.8480863571167,
          8.8480863571167,
          7.375907897949219,
          7.375907897949219,
          9.351797103881836,
          7.375907897949219,
          7.375907897949219,
          6.418697357177734,
          8.8480863571167,
          6.418697357177734,
          7.375907897949219,
          6.4487199783325195
         ],
         "y": [
          -1.2135341167449951,
          -1.3220207691192627,
          -1.6203807592391968,
          -1.2135341167449951,
          -2.193434476852417,
          -1.3220207691192627,
          -1.847312331199646,
          -1.6203807592391968,
          -1.847312331199646,
          -2.193434476852417,
          -1.5676997900009155,
          -1.6203807592391968,
          -1.800568699836731,
          -1.800568699836731,
          -1.3220207691192627,
          -1.2135341167449951,
          -1.800568699836731,
          -2.3293073177337646,
          -3.6740705966949463,
          -3.6740705966949463,
          -2.8341174125671387,
          -2.8341174125671387,
          -3.5573673248291016,
          -2.8341174125671387,
          -2.8341174125671387,
          -2.3293073177337646,
          -3.6740705966949463,
          -2.3293073177337646,
          -2.8341174125671387,
          -2.6749396324157715
         ]
        },
        {
         "hoverinfo": "name",
         "marker": {
          "color": "#46f0f0",
          "size": 6
         },
         "mode": "markers",
         "name": "hat",
         "type": "scatter",
         "x": [
          1.3396576642990112,
          0.9764553904533386,
          0.9764553904533386,
          1.3903805017471313,
          1.3396576642990112,
          1.7429697513580322,
          0.9764553904533386,
          -0.24784588813781738,
          0.9764553904533386,
          0.09070512652397156,
          -3.4474000930786133,
          0.09070512652397156,
          -0.5041812658309937,
          2.268315315246582,
          2.268315315246582,
          -3.4474000930786133,
          -3.4474000930786133,
          -3.4474000930786133,
          -0.5041812658309937
         ],
         "y": [
          -1.1907716989517212,
          1.0428322553634644,
          1.0428322553634644,
          1.1529743671417236,
          -1.1907716989517212,
          -1.602948784828186,
          1.0428322553634644,
          0.47376561164855957,
          1.0428322553634644,
          -2.105811595916748,
          -2.5198097229003906,
          -2.105811595916748,
          -0.6756330728530884,
          -1.9938920736312866,
          -1.9938920736312866,
          -2.5198097229003906,
          -2.5198097229003906,
          -2.5198097229003906,
          -0.6756330728530884
         ]
        },
        {
         "hoverinfo": "name",
         "marker": {
          "color": "#f032e6",
          "size": 6
         },
         "mode": "markers",
         "name": "hedgehog",
         "type": "scatter",
         "x": [
          -1.5527851581573486,
          -2.1583361625671387,
          -2.0173254013061523,
          -1.5527851581573486,
          -3.2825846672058105,
          -3.2825846672058105,
          -1.3296666145324707,
          -2.8962485790252686,
          -2.0173254013061523,
          -2.5845792293548584,
          -2.8962485790252686,
          -1.3296666145324707,
          -1.8674862384796143,
          -1.3296666145324707,
          -2.6548523902893066,
          -2.6548523902893066,
          -2.6548523902893066,
          -3.0876574516296387,
          -3.297687530517578,
          -2.6548523902893066,
          -2.6548523902893066
         ],
         "y": [
          2.7142903804779053,
          0.9035242199897766,
          3.0688586235046387,
          2.7142903804779053,
          1.5989187955856323,
          1.5989187955856323,
          2.249122142791748,
          1.2882275581359863,
          3.0688586235046387,
          2.6992712020874023,
          1.2882275581359863,
          2.249122142791748,
          1.0875178575515747,
          2.249122142791748,
          0.8995730876922607,
          0.8995730876922607,
          0.8995730876922607,
          2.228456497192383,
          1.8739348649978638,
          0.8995730876922607,
          0.8995730876922607
         ]
        },
        {
         "hoverinfo": "name",
         "marker": {
          "color": "#bcf60c",
          "size": 6
         },
         "mode": "markers",
         "name": "helicopter",
         "type": "scatter",
         "x": [
          0.16127224266529083,
          -2.089008331298828,
          -0.5206151008605957,
          -0.46332937479019165,
          0.16127224266529083,
          -2.089008331298828,
          0.16832488775253296,
          -0.5206151008605957,
          -0.43486782908439636,
          -1.5241940021514893,
          -1.097987174987793,
          -0.008343501016497612,
          -1.5241940021514893,
          -0.008343501016497612,
          -1.5241940021514893,
          -1.6839826107025146,
          -0.008343501016497612,
          -1.6839826107025146
         ],
         "y": [
          -1.298100233078003,
          -0.010126202367246151,
          2.356186866760254,
          0.029680225998163223,
          -1.298100233078003,
          -0.010126202367246151,
          -1.6164865493774414,
          2.356186866760254,
          -0.2443065196275711,
          -0.3799183964729309,
          0.4327961504459381,
          -1.19497811794281,
          -0.3799183964729309,
          -1.19497811794281,
          -0.3799183964729309,
          0.07087615132331848,
          -1.19497811794281,
          0.07087615132331848
         ]
        },
        {
         "hoverinfo": "name",
         "marker": {
          "color": "#fabebe",
          "size": 6
         },
         "mode": "markers",
         "name": "horse",
         "type": "scatter",
         "x": [
          -5.331449508666992,
          -0.6347376108169556,
          -3.1602818965911865,
          -3.56520676612854,
          -0.6347376108169556,
          -0.3946911096572876,
          -3.56520676612854,
          -4.8216447830200195,
          -3.1602818965911865,
          -5.331449508666992,
          -3.56520676612854,
          -4.8216447830200195,
          -4.8216447830200195,
          -3.8627748489379883,
          -4.8216447830200195,
          -3.8627748489379883,
          -5.0897088050842285,
          -4.8216447830200195,
          -3.5175983905792236,
          -3.5175983905792236,
          -2.982107639312744,
          -4.494495391845703,
          -3.5175983905792236,
          -3.5175983905792236,
          -4.139581203460693,
          -4.494495391845703,
          -3.5175983905792236,
          -2.4664645195007324,
          -3.8316595554351807,
          -4.139581203460693,
          -3.8316595554351807,
          -3.742882490158081,
          -4.732575416564941,
          -3.8316595554351807,
          -3.5175983905792236,
          -4.732575416564941,
          -4.494495391845703,
          -3.742882490158081,
          -4.494495391845703,
          -4.139581203460693
         ],
         "y": [
          -2.7696919441223145,
          -1.703106164932251,
          -3.214796304702759,
          -2.266439914703369,
          -1.703106164932251,
          -2.016803503036499,
          -2.266439914703369,
          -3.8211019039154053,
          -3.214796304702759,
          -2.7696919441223145,
          -2.266439914703369,
          -3.8211019039154053,
          -3.8211019039154053,
          -3.48093843460083,
          -3.8211019039154053,
          -3.48093843460083,
          -1.8059571981430054,
          -3.8211019039154053,
          -0.33337172865867615,
          -0.33337172865867615,
          -3.367776870727539,
          -2.9181456565856934,
          -0.33337172865867615,
          -0.33337172865867615,
          -2.4053127765655518,
          -2.9181456565856934,
          -0.33337172865867615,
          -2.4105324745178223,
          -2.8073747158050537,
          -2.4053127765655518,
          -2.8073747158050537,
          -1.7973400354385376,
          -2.9482133388519287,
          -2.8073747158050537,
          -0.33337172865867615,
          -2.9482133388519287,
          -2.9181456565856934,
          -1.7973400354385376,
          -2.9181456565856934,
          -2.4053127765655518
         ]
        },
        {
         "hoverinfo": "name",
         "marker": {
          "color": "#008080",
          "size": 6
         },
         "mode": "markers",
         "name": "pineapple",
         "type": "scatter",
         "x": [
          1.501682996749878,
          0.2433568835258484,
          1.501682996749878,
          -0.24539969861507416,
          -0.5386484861373901,
          -0.3972620368003845,
          0.2433568835258484,
          -0.3972620368003845,
          -0.5494253635406494,
          -0.3972620368003845,
          0.2433568835258484,
          -0.3972620368003845,
          -0.5058891773223877,
          -0.5058891773223877,
          0.3416362702846527,
          0.7411125302314758,
          0.7411125302314758,
          0.3416362702846527,
          0.3416362702846527,
          0.3416362702846527
         ],
         "y": [
          3.70566463470459,
          2.47294020652771,
          3.70566463470459,
          2.7623038291931152,
          2.90327525138855,
          1.873221755027771,
          2.47294020652771,
          1.873221755027771,
          2.7718687057495117,
          1.873221755027771,
          2.47294020652771,
          1.873221755027771,
          3.655139684677124,
          3.655139684677124,
          2.7727301120758057,
          5.385425567626953,
          5.385425567626953,
          2.7727301120758057,
          2.7727301120758057,
          2.7727301120758057
         ]
        },
        {
         "hoverinfo": "name",
         "marker": {
          "color": "#e6beff",
          "size": 6
         },
         "mode": "markers",
         "name": "rifle",
         "type": "scatter",
         "x": [
          0.02744569256901741,
          0.05915064737200737,
          0.02744569256901741,
          -0.5730440020561218,
          0.15228009223937988,
          -0.20175956189632416,
          0.4842022955417633,
          0.23401068150997162,
          -0.5730440020561218,
          -0.5490388870239258,
          -0.5730440020561218,
          -0.5490388870239258,
          0.05915064737200737,
          0.4842022955417633,
          -0.20175956189632416,
          -0.5730440020561218,
          0.4842022955417633,
          0.15228009223937988,
          -0.26260048151016235,
          -0.5152350068092346,
          -0.26260048151016235,
          1.7982611656188965,
          -0.26260048151016235,
          -0.26260048151016235,
          -0.5152350068092346,
          1.7982611656188965,
          -0.26260048151016235,
          -0.5152350068092346,
          1.7982611656188965,
          0.00428934907540679,
          1.7982611656188965
         ],
         "y": [
          -3.067136287689209,
          -2.989605665206909,
          -3.067136287689209,
          -1.5364196300506592,
          -2.4768364429473877,
          -1.8766835927963257,
          -3.031188726425171,
          -2.6965179443359375,
          -1.5364196300506592,
          -0.7757177948951721,
          -1.5364196300506592,
          -0.7757177948951721,
          -2.989605665206909,
          -3.031188726425171,
          -1.8766835927963257,
          -1.5364196300506592,
          -3.031188726425171,
          -2.4768364429473877,
          -3.7628817558288574,
          -3.6102123260498047,
          -3.7628817558288574,
          0.21942077577114105,
          -3.7628817558288574,
          -3.7628817558288574,
          -3.6102123260498047,
          0.21942077577114105,
          -3.7628817558288574,
          -3.6102123260498047,
          0.21942077577114105,
          -2.0272998809814453,
          0.21942077577114105
         ]
        },
        {
         "hoverinfo": "name",
         "marker": {
          "color": "#9a6324",
          "size": 6
         },
         "mode": "markers",
         "name": "shark",
         "type": "scatter",
         "x": [
          -2.1388394832611084,
          -2.717820644378662,
          -2.1388394832611084,
          -2.717820644378662,
          -2.19201397895813,
          -2.6538736820220947,
          -2.1388394832611084,
          -2.717820644378662,
          -1.2454191446304321,
          -1.2454191446304321,
          -2.6538736820220947,
          -1.3552043437957764,
          -1.3552043437957764,
          -2.1388394832611084,
          -1.3552043437957764,
          -1.3552043437957764,
          -3.330676794052124,
          -3.2507104873657227,
          -3.2507104873657227,
          -3.2507104873657227,
          -3.330676794052124,
          -3.2507104873657227,
          -3.330676794052124,
          -2.123917579650879,
          -3.2507104873657227,
          -3.2507104873657227,
          -3.2507104873657227,
          -3.330676794052124
         ],
         "y": [
          2.067779541015625,
          -0.23164351284503937,
          2.067779541015625,
          -0.23164351284503937,
          0.23930107057094574,
          0.5503132343292236,
          2.067779541015625,
          -0.23164351284503937,
          -0.6421136856079102,
          -0.6421136856079102,
          0.5503132343292236,
          0.4558965265750885,
          0.4558965265750885,
          2.067779541015625,
          0.4558965265750885,
          0.4558965265750885,
          -0.4211461842060089,
          0.4320757985115051,
          0.4320757985115051,
          0.4320757985115051,
          -0.4211461842060089,
          0.4320757985115051,
          -0.4211461842060089,
          1.5378564596176147,
          0.4320757985115051,
          0.4320757985115051,
          0.4320757985115051,
          -0.4211461842060089
         ]
        },
        {
         "hoverinfo": "name",
         "marker": {
          "color": "#fffac8",
          "size": 6
         },
         "mode": "markers",
         "name": "snail",
         "type": "scatter",
         "x": [
          0.19677087664604187,
          0.19677087664604187,
          -0.9743885397911072,
          -0.9743885397911072,
          2.550990343093872,
          1.6484274864196777,
          1.3011521100997925,
          1.3011521100997925,
          1.2573668956756592,
          2.403672933578491,
          1.7566215991973877,
          1.3011521100997925,
          1.3011521100997925,
          2.403672933578491,
          1.7566215991973877,
          1.7566215991973877,
          1.2573668956756592,
          1.2573668956756592,
          2.403672933578491,
          1.3011521100997925,
          1.2573668956756592,
          2.403672933578491,
          1.2573668956756592
         ],
         "y": [
          3.7198965549468994,
          3.7198965549468994,
          3.529008388519287,
          3.529008388519287,
          4.612584590911865,
          3.5360348224639893,
          4.185187816619873,
          4.185187816619873,
          3.5096678733825684,
          5.000144004821777,
          3.3402416706085205,
          4.185187816619873,
          4.185187816619873,
          5.000144004821777,
          3.3402416706085205,
          3.3402416706085205,
          3.5096678733825684,
          3.5096678733825684,
          5.000144004821777,
          4.185187816619873,
          3.5096678733825684,
          5.000144004821777,
          3.5096678733825684
         ]
        },
        {
         "hoverinfo": "name",
         "marker": {
          "color": "#800000",
          "size": 6
         },
         "mode": "markers",
         "name": "snake",
         "type": "scatter",
         "x": [
          -1.3680729866027832,
          0.25184115767478943,
          -1.3680729866027832,
          -0.02221548557281494,
          0.25184115767478943,
          0.09512753784656525,
          0.09512753784656525,
          0.25184115767478943,
          0.09512753784656525,
          -0.4393969476222992,
          -0.7115494608879089,
          -1.0650352239608765,
          -0.7115494608879089,
          -0.4393969476222992,
          -1.5816049575805664,
          -0.7115494608879089,
          -0.9633381962776184,
          -1.5816049575805664,
          -0.4393969476222992,
          -0.4393969476222992,
          -1.5816049575805664,
          -0.9633381962776184,
          -0.7115494608879089,
          -0.7115494608879089,
          -0.4393969476222992,
          -1.5816049575805664,
          -1.0650352239608765,
          -0.843919038772583
         ],
         "y": [
          0.28393086791038513,
          1.1340886354446411,
          0.28393086791038513,
          -0.7717944979667664,
          1.1340886354446411,
          1.0387064218521118,
          1.0387064218521118,
          1.1340886354446411,
          1.0387064218521118,
          -0.3884051442146301,
          1.7647722959518433,
          0.2845238447189331,
          1.7647722959518433,
          -0.3884051442146301,
          1.7072855234146118,
          1.7647722959518433,
          -0.017136694863438606,
          1.7072855234146118,
          -0.3884051442146301,
          -0.3884051442146301,
          1.7072855234146118,
          -0.017136694863438606,
          1.7647722959518433,
          1.7647722959518433,
          -0.3884051442146301,
          1.7072855234146118,
          0.2845238447189331,
          0.6794477701187134
         ]
        },
        {
         "hoverinfo": "name",
         "marker": {
          "color": "#aaffc3",
          "size": 6
         },
         "mode": "markers",
         "name": "teapot",
         "type": "scatter",
         "x": [
          2.734142303466797,
          2.734142303466797,
          3.2751784324645996,
          2.1052446365356445,
          0.8430424332618713,
          -0.18192008137702942,
          2.734142303466797,
          2.734142303466797,
          2.1052446365356445,
          -0.18192008137702942,
          0.11383779346942902,
          1.1848790645599365,
          0.11383779346942902,
          0.11383779346942902,
          0.11383779346942902,
          -0.1702450066804886,
          2.866072177886963,
          -0.1702450066804886,
          0.11383779346942902,
          0.11383779346942902,
          2.866072177886963,
          2.866072177886963,
          1.1848790645599365
         ],
         "y": [
          2.481189727783203,
          2.481189727783203,
          2.1702747344970703,
          1.7006480693817139,
          1.7754484415054321,
          0.8271118402481079,
          2.481189727783203,
          2.481189727783203,
          1.7006480693817139,
          0.8271118402481079,
          -0.3603084087371826,
          1.1471538543701172,
          -0.3603084087371826,
          -0.3603084087371826,
          -0.3603084087371826,
          -2.5124359130859375,
          2.5847606658935547,
          -2.5124359130859375,
          -0.3603084087371826,
          -0.3603084087371826,
          2.5847606658935547,
          2.5847606658935547,
          1.1471538543701172
         ]
        },
        {
         "hoverinfo": "name",
         "marker": {
          "color": "#808000",
          "size": 6
         },
         "mode": "markers",
         "name": "teddy_bear",
         "type": "scatter",
         "x": [
          -2.494157075881958,
          -1.0131570100784302,
          -0.12302102148532867,
          -0.7143455147743225,
          -0.7143455147743225,
          -0.12302102148532867,
          0.3475426733493805,
          -0.27136489748954773,
          -1.2584809064865112,
          -0.8777074813842773,
          0.10522487759590149,
          -0.14236438274383545,
          -0.8777074813842773,
          -0.14236438274383545,
          0.9767279624938965,
          -0.8777074813842773,
          -0.8777074813842773,
          -0.8777074813842773
         ],
         "y": [
          1.4883447885513306,
          1.2385340929031372,
          0.5286399722099304,
          2.0365822315216064,
          2.0365822315216064,
          0.5286399722099304,
          -0.149216890335083,
          0.2232539802789688,
          -0.13920019567012787,
          1.7607169151306152,
          1.2777906656265259,
          0.8809677958488464,
          1.7607169151306152,
          0.8809677958488464,
          0.5493247509002686,
          1.7607169151306152,
          1.7607169151306152,
          1.7607169151306152
         ]
        },
        {
         "hoverinfo": "name",
         "marker": {
          "color": "#ffd8b1",
          "size": 6
         },
         "mode": "markers",
         "name": "tiger",
         "type": "scatter",
         "x": [
          -3.785792827606201,
          -3.0052037239074707,
          -3.0052037239074707,
          -4.176341533660889,
          -4.176341533660889,
          -2.0121519565582275,
          -4.176341533660889,
          -2.0121519565582275,
          -3.785792827606201,
          -3.0052037239074707,
          -4.176341533660889,
          -2.6325137615203857,
          -4.5126495361328125,
          -4.5126495361328125,
          -4.257297992706299,
          -4.098894119262695,
          -4.098894119262695,
          -4.098894119262695,
          -4.098894119262695,
          -4.3853373527526855,
          -3.600477933883667,
          -3.5765221118927,
          -3.5765221118927,
          -3.600477933883667,
          -4.3853373527526855,
          -4.257297992706299,
          -3.5765221118927,
          -3.600477933883667
         ],
         "y": [
          -2.1583871841430664,
          0.6642588973045349,
          0.6642588973045349,
          0.4265669882297516,
          0.4265669882297516,
          -3.769232749938965,
          0.4265669882297516,
          -3.769232749938965,
          -2.1583871841430664,
          0.6642588973045349,
          0.4265669882297516,
          0.5651542544364929,
          -2.8689117431640625,
          -2.8689117431640625,
          -0.921158492565155,
          -0.42882105708122253,
          -0.42882105708122253,
          -0.42882105708122253,
          -0.42882105708122253,
          -1.5021021366119385,
          -0.6754337549209595,
          -0.7721912860870361,
          -0.7721912860870361,
          -0.6754337549209595,
          -1.5021021366119385,
          -0.921158492565155,
          -0.7721912860870361,
          -0.6754337549209595
         ]
        },
        {
         "hoverinfo": "name",
         "marker": {
          "color": "#000075",
          "size": 6
         },
         "mode": "markers",
         "name": "umbrella",
         "type": "scatter",
         "x": [
          0.3322625160217285,
          1.3416348695755005,
          0.3322625160217285,
          1.1532200574874878,
          1.3416348695755005,
          1.3416348695755005,
          1.3416348695755005,
          1.4881442785263062,
          1.1532200574874878,
          2.292759656906128,
          2.292759656906128,
          -1.5870468616485596,
          2.6232428550720215,
          2.292759656906128,
          2.292759656906128,
          1.2951041460037231,
          0.7711777091026306,
          2.327645778656006,
          2.327645778656006,
          2.327645778656006,
          1.5493828058242798,
          1.5493828058242798,
          1.5493828058242798,
          2.1769661903381348,
          1.2951041460037231,
          0.7711777091026306,
          2.327645778656006,
          1.5493828058242798
         ],
         "y": [
          -0.40075668692588806,
          1.452156662940979,
          -0.40075668692588806,
          -0.7385205626487732,
          1.452156662940979,
          1.452156662940979,
          1.452156662940979,
          1.163537621498108,
          -0.7385205626487732,
          -0.36864715814590454,
          -0.36864715814590454,
          0.8078222274780273,
          0.1395157277584076,
          -0.36864715814590454,
          -0.36864715814590454,
          -1.7991610765457153,
          -2.2444992065429688,
          -0.9991207718849182,
          -0.9991207718849182,
          -0.9991207718849182,
          -0.8777037858963013,
          -0.8777037858963013,
          -0.8777037858963013,
          -3.06701922416687,
          -1.7991610765457153,
          -2.2444992065429688,
          -0.9991207718849182,
          -0.8777037858963013
         ]
        },
        {
         "hoverinfo": "name",
         "marker": {
          "color": "#808080",
          "size": 6
         },
         "mode": "markers",
         "name": "violin",
         "type": "scatter",
         "x": [
          1.0454007387161255,
          1.2803068161010742,
          1.2803068161010742,
          1.2804163694381714,
          1.0910649299621582,
          1.0687428712844849,
          1.2804163694381714,
          1.0687428712844849,
          1.3846880197525024,
          1.2803068161010742,
          1.3846880197525024,
          1.3418997526168823,
          1.2803068161010742,
          1.2803068161010742,
          1.2424687147140503,
          0.866597056388855,
          1.0462409257888794,
          0.43367964029312134,
          1.0462409257888794,
          0.43367964029312134,
          0.43367964029312134,
          1.0462409257888794,
          1.0462409257888794,
          0.866597056388855,
          0.43367964029312134,
          0.43367964029312134,
          1.0462409257888794,
          0.866597056388855,
          1.355626106262207,
          0.866597056388855
         ],
         "y": [
          -1.0597670078277588,
          -2.707995891571045,
          -2.707995891571045,
          -2.996624231338501,
          -2.1292943954467773,
          -2.710618257522583,
          -2.996624231338501,
          -2.710618257522583,
          -1.8464045524597168,
          -2.707995891571045,
          -1.8464045524597168,
          -1.3155630826950073,
          -2.707995891571045,
          -2.707995891571045,
          -1.9795093536376953,
          -2.5605058670043945,
          -1.9994769096374512,
          -1.8812347650527954,
          -1.9994769096374512,
          -1.8812347650527954,
          -1.8812347650527954,
          -1.9994769096374512,
          -1.9994769096374512,
          -2.5605058670043945,
          -1.8812347650527954,
          -1.8812347650527954,
          -1.9994769096374512,
          -2.5605058670043945,
          -2.250854253768921,
          -2.5605058670043945
         ]
        },
        {
         "hoverinfo": "name",
         "marker": {
          "color": "#000000",
          "size": 6
         },
         "mode": "markers",
         "name": "zebra",
         "type": "scatter",
         "x": [
          -0.07506004720926285,
          -4.0008769035339355,
          -0.07506004720926285,
          -4.0008769035339355,
          -4.562496185302734,
          -3.4387435913085938,
          -0.07506004720926285,
          -4.0008769035339355,
          -4.7719340324401855,
          -4.7719340324401855,
          -3.9738285541534424,
          -4.134218215942383,
          -4.941809177398682,
          -4.941809177398682
         ],
         "y": [
          -2.1511266231536865,
          0.14576086401939392,
          -2.1511266231536865,
          0.14576086401939392,
          -4.226128101348877,
          0.560158908367157,
          -2.1511266231536865,
          0.14576086401939392,
          -2.7406320571899414,
          -2.7406320571899414,
          -3.244476795196533,
          -3.267228603363037,
          -2.5704519748687744,
          -2.5704519748687744
         ]
        }
       ],
       "layout": {
        "template": {
         "data": {
          "bar": [
           {
            "error_x": {
             "color": "#2a3f5f"
            },
            "error_y": {
             "color": "#2a3f5f"
            },
            "marker": {
             "line": {
              "color": "#E5ECF6",
              "width": 0.5
             }
            },
            "type": "bar"
           }
          ],
          "barpolar": [
           {
            "marker": {
             "line": {
              "color": "#E5ECF6",
              "width": 0.5
             }
            },
            "type": "barpolar"
           }
          ],
          "carpet": [
           {
            "aaxis": {
             "endlinecolor": "#2a3f5f",
             "gridcolor": "white",
             "linecolor": "white",
             "minorgridcolor": "white",
             "startlinecolor": "#2a3f5f"
            },
            "baxis": {
             "endlinecolor": "#2a3f5f",
             "gridcolor": "white",
             "linecolor": "white",
             "minorgridcolor": "white",
             "startlinecolor": "#2a3f5f"
            },
            "type": "carpet"
           }
          ],
          "choropleth": [
           {
            "colorbar": {
             "outlinewidth": 0,
             "ticks": ""
            },
            "type": "choropleth"
           }
          ],
          "contour": [
           {
            "colorbar": {
             "outlinewidth": 0,
             "ticks": ""
            },
            "colorscale": [
             [
              0,
              "#0d0887"
             ],
             [
              0.1111111111111111,
              "#46039f"
             ],
             [
              0.2222222222222222,
              "#7201a8"
             ],
             [
              0.3333333333333333,
              "#9c179e"
             ],
             [
              0.4444444444444444,
              "#bd3786"
             ],
             [
              0.5555555555555556,
              "#d8576b"
             ],
             [
              0.6666666666666666,
              "#ed7953"
             ],
             [
              0.7777777777777778,
              "#fb9f3a"
             ],
             [
              0.8888888888888888,
              "#fdca26"
             ],
             [
              1,
              "#f0f921"
             ]
            ],
            "type": "contour"
           }
          ],
          "contourcarpet": [
           {
            "colorbar": {
             "outlinewidth": 0,
             "ticks": ""
            },
            "type": "contourcarpet"
           }
          ],
          "heatmap": [
           {
            "colorbar": {
             "outlinewidth": 0,
             "ticks": ""
            },
            "colorscale": [
             [
              0,
              "#0d0887"
             ],
             [
              0.1111111111111111,
              "#46039f"
             ],
             [
              0.2222222222222222,
              "#7201a8"
             ],
             [
              0.3333333333333333,
              "#9c179e"
             ],
             [
              0.4444444444444444,
              "#bd3786"
             ],
             [
              0.5555555555555556,
              "#d8576b"
             ],
             [
              0.6666666666666666,
              "#ed7953"
             ],
             [
              0.7777777777777778,
              "#fb9f3a"
             ],
             [
              0.8888888888888888,
              "#fdca26"
             ],
             [
              1,
              "#f0f921"
             ]
            ],
            "type": "heatmap"
           }
          ],
          "heatmapgl": [
           {
            "colorbar": {
             "outlinewidth": 0,
             "ticks": ""
            },
            "colorscale": [
             [
              0,
              "#0d0887"
             ],
             [
              0.1111111111111111,
              "#46039f"
             ],
             [
              0.2222222222222222,
              "#7201a8"
             ],
             [
              0.3333333333333333,
              "#9c179e"
             ],
             [
              0.4444444444444444,
              "#bd3786"
             ],
             [
              0.5555555555555556,
              "#d8576b"
             ],
             [
              0.6666666666666666,
              "#ed7953"
             ],
             [
              0.7777777777777778,
              "#fb9f3a"
             ],
             [
              0.8888888888888888,
              "#fdca26"
             ],
             [
              1,
              "#f0f921"
             ]
            ],
            "type": "heatmapgl"
           }
          ],
          "histogram": [
           {
            "marker": {
             "colorbar": {
              "outlinewidth": 0,
              "ticks": ""
             }
            },
            "type": "histogram"
           }
          ],
          "histogram2d": [
           {
            "colorbar": {
             "outlinewidth": 0,
             "ticks": ""
            },
            "colorscale": [
             [
              0,
              "#0d0887"
             ],
             [
              0.1111111111111111,
              "#46039f"
             ],
             [
              0.2222222222222222,
              "#7201a8"
             ],
             [
              0.3333333333333333,
              "#9c179e"
             ],
             [
              0.4444444444444444,
              "#bd3786"
             ],
             [
              0.5555555555555556,
              "#d8576b"
             ],
             [
              0.6666666666666666,
              "#ed7953"
             ],
             [
              0.7777777777777778,
              "#fb9f3a"
             ],
             [
              0.8888888888888888,
              "#fdca26"
             ],
             [
              1,
              "#f0f921"
             ]
            ],
            "type": "histogram2d"
           }
          ],
          "histogram2dcontour": [
           {
            "colorbar": {
             "outlinewidth": 0,
             "ticks": ""
            },
            "colorscale": [
             [
              0,
              "#0d0887"
             ],
             [
              0.1111111111111111,
              "#46039f"
             ],
             [
              0.2222222222222222,
              "#7201a8"
             ],
             [
              0.3333333333333333,
              "#9c179e"
             ],
             [
              0.4444444444444444,
              "#bd3786"
             ],
             [
              0.5555555555555556,
              "#d8576b"
             ],
             [
              0.6666666666666666,
              "#ed7953"
             ],
             [
              0.7777777777777778,
              "#fb9f3a"
             ],
             [
              0.8888888888888888,
              "#fdca26"
             ],
             [
              1,
              "#f0f921"
             ]
            ],
            "type": "histogram2dcontour"
           }
          ],
          "mesh3d": [
           {
            "colorbar": {
             "outlinewidth": 0,
             "ticks": ""
            },
            "type": "mesh3d"
           }
          ],
          "parcoords": [
           {
            "line": {
             "colorbar": {
              "outlinewidth": 0,
              "ticks": ""
             }
            },
            "type": "parcoords"
           }
          ],
          "pie": [
           {
            "automargin": true,
            "type": "pie"
           }
          ],
          "scatter": [
           {
            "marker": {
             "colorbar": {
              "outlinewidth": 0,
              "ticks": ""
             }
            },
            "type": "scatter"
           }
          ],
          "scatter3d": [
           {
            "line": {
             "colorbar": {
              "outlinewidth": 0,
              "ticks": ""
             }
            },
            "marker": {
             "colorbar": {
              "outlinewidth": 0,
              "ticks": ""
             }
            },
            "type": "scatter3d"
           }
          ],
          "scattercarpet": [
           {
            "marker": {
             "colorbar": {
              "outlinewidth": 0,
              "ticks": ""
             }
            },
            "type": "scattercarpet"
           }
          ],
          "scattergeo": [
           {
            "marker": {
             "colorbar": {
              "outlinewidth": 0,
              "ticks": ""
             }
            },
            "type": "scattergeo"
           }
          ],
          "scattergl": [
           {
            "marker": {
             "colorbar": {
              "outlinewidth": 0,
              "ticks": ""
             }
            },
            "type": "scattergl"
           }
          ],
          "scattermapbox": [
           {
            "marker": {
             "colorbar": {
              "outlinewidth": 0,
              "ticks": ""
             }
            },
            "type": "scattermapbox"
           }
          ],
          "scatterpolar": [
           {
            "marker": {
             "colorbar": {
              "outlinewidth": 0,
              "ticks": ""
             }
            },
            "type": "scatterpolar"
           }
          ],
          "scatterpolargl": [
           {
            "marker": {
             "colorbar": {
              "outlinewidth": 0,
              "ticks": ""
             }
            },
            "type": "scatterpolargl"
           }
          ],
          "scatterternary": [
           {
            "marker": {
             "colorbar": {
              "outlinewidth": 0,
              "ticks": ""
             }
            },
            "type": "scatterternary"
           }
          ],
          "surface": [
           {
            "colorbar": {
             "outlinewidth": 0,
             "ticks": ""
            },
            "colorscale": [
             [
              0,
              "#0d0887"
             ],
             [
              0.1111111111111111,
              "#46039f"
             ],
             [
              0.2222222222222222,
              "#7201a8"
             ],
             [
              0.3333333333333333,
              "#9c179e"
             ],
             [
              0.4444444444444444,
              "#bd3786"
             ],
             [
              0.5555555555555556,
              "#d8576b"
             ],
             [
              0.6666666666666666,
              "#ed7953"
             ],
             [
              0.7777777777777778,
              "#fb9f3a"
             ],
             [
              0.8888888888888888,
              "#fdca26"
             ],
             [
              1,
              "#f0f921"
             ]
            ],
            "type": "surface"
           }
          ],
          "table": [
           {
            "cells": {
             "fill": {
              "color": "#EBF0F8"
             },
             "line": {
              "color": "white"
             }
            },
            "header": {
             "fill": {
              "color": "#C8D4E3"
             },
             "line": {
              "color": "white"
             }
            },
            "type": "table"
           }
          ]
         },
         "layout": {
          "annotationdefaults": {
           "arrowcolor": "#2a3f5f",
           "arrowhead": 0,
           "arrowwidth": 1
          },
          "autotypenumbers": "strict",
          "coloraxis": {
           "colorbar": {
            "outlinewidth": 0,
            "ticks": ""
           }
          },
          "colorscale": {
           "diverging": [
            [
             0,
             "#8e0152"
            ],
            [
             0.1,
             "#c51b7d"
            ],
            [
             0.2,
             "#de77ae"
            ],
            [
             0.3,
             "#f1b6da"
            ],
            [
             0.4,
             "#fde0ef"
            ],
            [
             0.5,
             "#f7f7f7"
            ],
            [
             0.6,
             "#e6f5d0"
            ],
            [
             0.7,
             "#b8e186"
            ],
            [
             0.8,
             "#7fbc41"
            ],
            [
             0.9,
             "#4d9221"
            ],
            [
             1,
             "#276419"
            ]
           ],
           "sequential": [
            [
             0,
             "#0d0887"
            ],
            [
             0.1111111111111111,
             "#46039f"
            ],
            [
             0.2222222222222222,
             "#7201a8"
            ],
            [
             0.3333333333333333,
             "#9c179e"
            ],
            [
             0.4444444444444444,
             "#bd3786"
            ],
            [
             0.5555555555555556,
             "#d8576b"
            ],
            [
             0.6666666666666666,
             "#ed7953"
            ],
            [
             0.7777777777777778,
             "#fb9f3a"
            ],
            [
             0.8888888888888888,
             "#fdca26"
            ],
            [
             1,
             "#f0f921"
            ]
           ],
           "sequentialminus": [
            [
             0,
             "#0d0887"
            ],
            [
             0.1111111111111111,
             "#46039f"
            ],
            [
             0.2222222222222222,
             "#7201a8"
            ],
            [
             0.3333333333333333,
             "#9c179e"
            ],
            [
             0.4444444444444444,
             "#bd3786"
            ],
            [
             0.5555555555555556,
             "#d8576b"
            ],
            [
             0.6666666666666666,
             "#ed7953"
            ],
            [
             0.7777777777777778,
             "#fb9f3a"
            ],
            [
             0.8888888888888888,
             "#fdca26"
            ],
            [
             1,
             "#f0f921"
            ]
           ]
          },
          "colorway": [
           "#636efa",
           "#EF553B",
           "#00cc96",
           "#ab63fa",
           "#FFA15A",
           "#19d3f3",
           "#FF6692",
           "#B6E880",
           "#FF97FF",
           "#FECB52"
          ],
          "font": {
           "color": "#2a3f5f"
          },
          "geo": {
           "bgcolor": "white",
           "lakecolor": "white",
           "landcolor": "#E5ECF6",
           "showlakes": true,
           "showland": true,
           "subunitcolor": "white"
          },
          "hoverlabel": {
           "align": "left"
          },
          "hovermode": "closest",
          "mapbox": {
           "style": "light"
          },
          "paper_bgcolor": "white",
          "plot_bgcolor": "#E5ECF6",
          "polar": {
           "angularaxis": {
            "gridcolor": "white",
            "linecolor": "white",
            "ticks": ""
           },
           "bgcolor": "#E5ECF6",
           "radialaxis": {
            "gridcolor": "white",
            "linecolor": "white",
            "ticks": ""
           }
          },
          "scene": {
           "xaxis": {
            "backgroundcolor": "#E5ECF6",
            "gridcolor": "white",
            "gridwidth": 2,
            "linecolor": "white",
            "showbackground": true,
            "ticks": "",
            "zerolinecolor": "white"
           },
           "yaxis": {
            "backgroundcolor": "#E5ECF6",
            "gridcolor": "white",
            "gridwidth": 2,
            "linecolor": "white",
            "showbackground": true,
            "ticks": "",
            "zerolinecolor": "white"
           },
           "zaxis": {
            "backgroundcolor": "#E5ECF6",
            "gridcolor": "white",
            "gridwidth": 2,
            "linecolor": "white",
            "showbackground": true,
            "ticks": "",
            "zerolinecolor": "white"
           }
          },
          "shapedefaults": {
           "line": {
            "color": "#2a3f5f"
           }
          },
          "ternary": {
           "aaxis": {
            "gridcolor": "white",
            "linecolor": "white",
            "ticks": ""
           },
           "baxis": {
            "gridcolor": "white",
            "linecolor": "white",
            "ticks": ""
           },
           "bgcolor": "#E5ECF6",
           "caxis": {
            "gridcolor": "white",
            "linecolor": "white",
            "ticks": ""
           }
          },
          "title": {
           "x": 0.05
          },
          "xaxis": {
           "automargin": true,
           "gridcolor": "white",
           "linecolor": "white",
           "ticks": "",
           "title": {
            "standoff": 15
           },
           "zerolinecolor": "white",
           "zerolinewidth": 2
          },
          "yaxis": {
           "automargin": true,
           "gridcolor": "white",
           "linecolor": "white",
           "ticks": "",
           "title": {
            "standoff": 15
           },
           "zerolinecolor": "white",
           "zerolinewidth": 2
          }
         }
        },
        "title": {
         "text": "2D plot of the embeddings (projected with the PCA)"
        }
       }
      },
      "text/html": [
       "<div>                            <div id=\"955c5b11-3b6b-4376-9046-28dc9ef01a8c\" class=\"plotly-graph-div\" style=\"height:525px; width:100%;\"></div>            <script type=\"text/javascript\">                require([\"plotly\"], function(Plotly) {                    window.PLOTLYENV=window.PLOTLYENV || {};                                    if (document.getElementById(\"955c5b11-3b6b-4376-9046-28dc9ef01a8c\")) {                    Plotly.newPlot(                        \"955c5b11-3b6b-4376-9046-28dc9ef01a8c\",                        [{\"hoverinfo\": \"name\", \"marker\": {\"color\": \"#e6194b\", \"size\": 12}, \"mode\": \"markers\", \"name\": \"My Custom Sketch\", \"type\": \"scatter\", \"x\": [-4.215165615081787], \"y\": [-0.9559689164161682]}, {\"hoverinfo\": \"name\", \"marker\": {\"color\": \"#3cb44b\", \"size\": 6}, \"mode\": \"markers\", \"name\": \"butterfly\", \"type\": \"scatter\", \"x\": [-1.3763020038604736, -1.416645884513855, -1.3763020038604736, -1.416645884513855, -0.21559184789657593, -1.416645884513855, 0.3457864224910736, 0.0555611327290535, 0.3457864224910736, 0.2843223512172699, 0.2843223512172699, -1.3763020038604736, -1.416645884513855, 0.0555611327290535, 0.2843223512172699, -1.8151887655258179, -0.8686193227767944, -1.729675531387329, -1.729675531387329, -1.8151887655258179, -1.729675531387329, -1.729675531387329, -0.8686193227767944, -0.8686193227767944, -1.729675531387329, -0.8686193227767944, -0.8686193227767944, -1.729675531387329, -0.8686193227767944, -1.6707196235656738, -1.2025930881500244, -1.6707196235656738, -1.2025930881500244, -1.8151887655258179], \"y\": [4.514806270599365, 4.002974033355713, 4.514806270599365, 4.002974033355713, 3.1540744304656982, 4.002974033355713, 1.2624543905258179, 4.582043170928955, 1.2624543905258179, 2.4214630126953125, 2.4214630126953125, 4.514806270599365, 4.002974033355713, 4.582043170928955, 2.4214630126953125, 3.5087053775787354, 3.3267714977264404, 4.805545806884766, 4.805545806884766, 3.5087053775787354, 4.805545806884766, 4.805545806884766, 3.3267714977264404, 3.3267714977264404, 4.805545806884766, 3.3267714977264404, 3.3267714977264404, 4.805545806884766, 3.3267714977264404, 4.446939945220947, 5.562636375427246, 4.446939945220947, 5.562636375427246, 3.5087053775787354]}, {\"hoverinfo\": \"name\", \"marker\": {\"color\": \"#ffe119\", \"size\": 6}, \"mode\": \"markers\", \"name\": \"candle\", \"type\": \"scatter\", \"x\": [3.352940082550049, 2.4324896335601807, 2.954577684402466, 2.849776268005371, 2.6088438034057617, 2.4324896335601807, 2.954577684402466, 2.954577684402466, 3.352940082550049, 2.954577684402466, 2.4324896335601807, 1.605714201927185, 3.684803009033203, 3.684803009033203, -0.10459846258163452, -0.10459846258163452, 1.605714201927185, 1.605714201927185, 1.605714201927185, 2.9945878982543945, -0.10459846258163452], \"y\": [-0.03584621101617813, -0.10796566307544708, -0.3993092477321625, 0.529049277305603, 0.3200577199459076, -0.10796566307544708, -0.3993092477321625, -0.3993092477321625, -0.03584621101617813, -0.3993092477321625, -0.10796566307544708, 0.8107786774635315, -0.3618081212043762, -0.3618081212043762, -0.10422712564468384, -0.10422712564468384, 0.8107786774635315, 0.8107786774635315, 0.8107786774635315, 0.743737518787384, -0.10422712564468384]}, {\"hoverinfo\": \"name\", \"marker\": {\"color\": \"#4363d8\", \"size\": 6}, \"mode\": \"markers\", \"name\": \"church\", \"type\": \"scatter\", \"x\": [3.5859251022338867, 3.5859251022338867, 2.068869113922119, 2.618945598602295, 2.9469151496887207, 2.618945598602295, 3.5859251022338867, 2.926156520843506, 3.5859251022338867, 2.926156520843506, 2.068869113922119, 3.5859251022338867, 3.5859251022338867, 2.457923173904419, 2.457923173904419, 1.7230607271194458, 3.166191339492798, 1.7230607271194458, 3.166191339492798, 1.7230607271194458, 1.927101492881775, 1.927101492881775, 3.166191339492798], \"y\": [-1.8177872896194458, -1.8177872896194458, -2.371990203857422, -1.2710728645324707, -2.0872271060943604, -1.2710728645324707, -1.8177872896194458, -1.5870459079742432, -1.8177872896194458, -1.5870459079742432, -2.371990203857422, -1.8177872896194458, -1.8177872896194458, -2.3865103721618652, -2.3865103721618652, -1.6832650899887085, -2.5842721462249756, -1.6832650899887085, -2.5842721462249756, -1.6832650899887085, -2.7120840549468994, -2.7120840549468994, -2.5842721462249756]}, {\"hoverinfo\": \"name\", \"marker\": {\"color\": \"#f58231\", \"size\": 6}, \"mode\": \"markers\", \"name\": \"cup\", \"type\": \"scatter\", \"x\": [3.929569721221924, 3.1417291164398193, 1.5312788486480713, 4.3770575523376465, 1.5312788486480713, 3.793321371078491, 1.5312788486480713, 2.8534722328186035, 2.8534722328186035, 3.929569721221924, 3.929569721221924, 3.9758856296539307, 2.9127864837646484, 2.9127864837646484, 3.9758856296539307, 4.440566539764404, 4.440566539764404, 3.9758856296539307, 2.9127864837646484, 4.440566539764404, 4.440566539764404, 4.092787742614746, 2.9127864837646484], \"y\": [1.5307236909866333, -0.024138063192367554, 1.941615104675293, 1.6192606687545776, 1.941615104675293, 2.096292018890381, 1.941615104675293, 1.4662444591522217, 1.4662444591522217, 1.5307236909866333, 1.5307236909866333, 1.7868107557296753, 2.231981039047241, 2.231981039047241, 1.7868107557296753, 1.5177053213119507, 1.5177053213119507, 1.7868107557296753, 2.231981039047241, 1.5177053213119507, 1.5177053213119507, 1.1547529697418213, 2.231981039047241]}, {\"hoverinfo\": \"name\", \"marker\": {\"color\": \"#911eb4\", \"size\": 6}, \"mode\": \"markers\", \"name\": \"door\", \"type\": \"scatter\", \"x\": [5.619688510894775, 5.238360404968262, 5.0448384284973145, 5.619688510894775, 3.8501298427581787, 5.238360404968262, 2.6238691806793213, 5.0448384284973145, 2.6238691806793213, 3.8501298427581787, 3.9222066402435303, 5.0448384284973145, 5.22371244430542, 5.22371244430542, 5.238360404968262, 5.619688510894775, 5.22371244430542, 6.418697357177734, 8.8480863571167, 8.8480863571167, 7.375907897949219, 7.375907897949219, 9.351797103881836, 7.375907897949219, 7.375907897949219, 6.418697357177734, 8.8480863571167, 6.418697357177734, 7.375907897949219, 6.4487199783325195], \"y\": [-1.2135341167449951, -1.3220207691192627, -1.6203807592391968, -1.2135341167449951, -2.193434476852417, -1.3220207691192627, -1.847312331199646, -1.6203807592391968, -1.847312331199646, -2.193434476852417, -1.5676997900009155, -1.6203807592391968, -1.800568699836731, -1.800568699836731, -1.3220207691192627, -1.2135341167449951, -1.800568699836731, -2.3293073177337646, -3.6740705966949463, -3.6740705966949463, -2.8341174125671387, -2.8341174125671387, -3.5573673248291016, -2.8341174125671387, -2.8341174125671387, -2.3293073177337646, -3.6740705966949463, -2.3293073177337646, -2.8341174125671387, -2.6749396324157715]}, {\"hoverinfo\": \"name\", \"marker\": {\"color\": \"#46f0f0\", \"size\": 6}, \"mode\": \"markers\", \"name\": \"hat\", \"type\": \"scatter\", \"x\": [1.3396576642990112, 0.9764553904533386, 0.9764553904533386, 1.3903805017471313, 1.3396576642990112, 1.7429697513580322, 0.9764553904533386, -0.24784588813781738, 0.9764553904533386, 0.09070512652397156, -3.4474000930786133, 0.09070512652397156, -0.5041812658309937, 2.268315315246582, 2.268315315246582, -3.4474000930786133, -3.4474000930786133, -3.4474000930786133, -0.5041812658309937], \"y\": [-1.1907716989517212, 1.0428322553634644, 1.0428322553634644, 1.1529743671417236, -1.1907716989517212, -1.602948784828186, 1.0428322553634644, 0.47376561164855957, 1.0428322553634644, -2.105811595916748, -2.5198097229003906, -2.105811595916748, -0.6756330728530884, -1.9938920736312866, -1.9938920736312866, -2.5198097229003906, -2.5198097229003906, -2.5198097229003906, -0.6756330728530884]}, {\"hoverinfo\": \"name\", \"marker\": {\"color\": \"#f032e6\", \"size\": 6}, \"mode\": \"markers\", \"name\": \"hedgehog\", \"type\": \"scatter\", \"x\": [-1.5527851581573486, -2.1583361625671387, -2.0173254013061523, -1.5527851581573486, -3.2825846672058105, -3.2825846672058105, -1.3296666145324707, -2.8962485790252686, -2.0173254013061523, -2.5845792293548584, -2.8962485790252686, -1.3296666145324707, -1.8674862384796143, -1.3296666145324707, -2.6548523902893066, -2.6548523902893066, -2.6548523902893066, -3.0876574516296387, -3.297687530517578, -2.6548523902893066, -2.6548523902893066], \"y\": [2.7142903804779053, 0.9035242199897766, 3.0688586235046387, 2.7142903804779053, 1.5989187955856323, 1.5989187955856323, 2.249122142791748, 1.2882275581359863, 3.0688586235046387, 2.6992712020874023, 1.2882275581359863, 2.249122142791748, 1.0875178575515747, 2.249122142791748, 0.8995730876922607, 0.8995730876922607, 0.8995730876922607, 2.228456497192383, 1.8739348649978638, 0.8995730876922607, 0.8995730876922607]}, {\"hoverinfo\": \"name\", \"marker\": {\"color\": \"#bcf60c\", \"size\": 6}, \"mode\": \"markers\", \"name\": \"helicopter\", \"type\": \"scatter\", \"x\": [0.16127224266529083, -2.089008331298828, -0.5206151008605957, -0.46332937479019165, 0.16127224266529083, -2.089008331298828, 0.16832488775253296, -0.5206151008605957, -0.43486782908439636, -1.5241940021514893, -1.097987174987793, -0.008343501016497612, -1.5241940021514893, -0.008343501016497612, -1.5241940021514893, -1.6839826107025146, -0.008343501016497612, -1.6839826107025146], \"y\": [-1.298100233078003, -0.010126202367246151, 2.356186866760254, 0.029680225998163223, -1.298100233078003, -0.010126202367246151, -1.6164865493774414, 2.356186866760254, -0.2443065196275711, -0.3799183964729309, 0.4327961504459381, -1.19497811794281, -0.3799183964729309, -1.19497811794281, -0.3799183964729309, 0.07087615132331848, -1.19497811794281, 0.07087615132331848]}, {\"hoverinfo\": \"name\", \"marker\": {\"color\": \"#fabebe\", \"size\": 6}, \"mode\": \"markers\", \"name\": \"horse\", \"type\": \"scatter\", \"x\": [-5.331449508666992, -0.6347376108169556, -3.1602818965911865, -3.56520676612854, -0.6347376108169556, -0.3946911096572876, -3.56520676612854, -4.8216447830200195, -3.1602818965911865, -5.331449508666992, -3.56520676612854, -4.8216447830200195, -4.8216447830200195, -3.8627748489379883, -4.8216447830200195, -3.8627748489379883, -5.0897088050842285, -4.8216447830200195, -3.5175983905792236, -3.5175983905792236, -2.982107639312744, -4.494495391845703, -3.5175983905792236, -3.5175983905792236, -4.139581203460693, -4.494495391845703, -3.5175983905792236, -2.4664645195007324, -3.8316595554351807, -4.139581203460693, -3.8316595554351807, -3.742882490158081, -4.732575416564941, -3.8316595554351807, -3.5175983905792236, -4.732575416564941, -4.494495391845703, -3.742882490158081, -4.494495391845703, -4.139581203460693], \"y\": [-2.7696919441223145, -1.703106164932251, -3.214796304702759, -2.266439914703369, -1.703106164932251, -2.016803503036499, -2.266439914703369, -3.8211019039154053, -3.214796304702759, -2.7696919441223145, -2.266439914703369, -3.8211019039154053, -3.8211019039154053, -3.48093843460083, -3.8211019039154053, -3.48093843460083, -1.8059571981430054, -3.8211019039154053, -0.33337172865867615, -0.33337172865867615, -3.367776870727539, -2.9181456565856934, -0.33337172865867615, -0.33337172865867615, -2.4053127765655518, -2.9181456565856934, -0.33337172865867615, -2.4105324745178223, -2.8073747158050537, -2.4053127765655518, -2.8073747158050537, -1.7973400354385376, -2.9482133388519287, -2.8073747158050537, -0.33337172865867615, -2.9482133388519287, -2.9181456565856934, -1.7973400354385376, -2.9181456565856934, -2.4053127765655518]}, {\"hoverinfo\": \"name\", \"marker\": {\"color\": \"#008080\", \"size\": 6}, \"mode\": \"markers\", \"name\": \"pineapple\", \"type\": \"scatter\", \"x\": [1.501682996749878, 0.2433568835258484, 1.501682996749878, -0.24539969861507416, -0.5386484861373901, -0.3972620368003845, 0.2433568835258484, -0.3972620368003845, -0.5494253635406494, -0.3972620368003845, 0.2433568835258484, -0.3972620368003845, -0.5058891773223877, -0.5058891773223877, 0.3416362702846527, 0.7411125302314758, 0.7411125302314758, 0.3416362702846527, 0.3416362702846527, 0.3416362702846527], \"y\": [3.70566463470459, 2.47294020652771, 3.70566463470459, 2.7623038291931152, 2.90327525138855, 1.873221755027771, 2.47294020652771, 1.873221755027771, 2.7718687057495117, 1.873221755027771, 2.47294020652771, 1.873221755027771, 3.655139684677124, 3.655139684677124, 2.7727301120758057, 5.385425567626953, 5.385425567626953, 2.7727301120758057, 2.7727301120758057, 2.7727301120758057]}, {\"hoverinfo\": \"name\", \"marker\": {\"color\": \"#e6beff\", \"size\": 6}, \"mode\": \"markers\", \"name\": \"rifle\", \"type\": \"scatter\", \"x\": [0.02744569256901741, 0.05915064737200737, 0.02744569256901741, -0.5730440020561218, 0.15228009223937988, -0.20175956189632416, 0.4842022955417633, 0.23401068150997162, -0.5730440020561218, -0.5490388870239258, -0.5730440020561218, -0.5490388870239258, 0.05915064737200737, 0.4842022955417633, -0.20175956189632416, -0.5730440020561218, 0.4842022955417633, 0.15228009223937988, -0.26260048151016235, -0.5152350068092346, -0.26260048151016235, 1.7982611656188965, -0.26260048151016235, -0.26260048151016235, -0.5152350068092346, 1.7982611656188965, -0.26260048151016235, -0.5152350068092346, 1.7982611656188965, 0.00428934907540679, 1.7982611656188965], \"y\": [-3.067136287689209, -2.989605665206909, -3.067136287689209, -1.5364196300506592, -2.4768364429473877, -1.8766835927963257, -3.031188726425171, -2.6965179443359375, -1.5364196300506592, -0.7757177948951721, -1.5364196300506592, -0.7757177948951721, -2.989605665206909, -3.031188726425171, -1.8766835927963257, -1.5364196300506592, -3.031188726425171, -2.4768364429473877, -3.7628817558288574, -3.6102123260498047, -3.7628817558288574, 0.21942077577114105, -3.7628817558288574, -3.7628817558288574, -3.6102123260498047, 0.21942077577114105, -3.7628817558288574, -3.6102123260498047, 0.21942077577114105, -2.0272998809814453, 0.21942077577114105]}, {\"hoverinfo\": \"name\", \"marker\": {\"color\": \"#9a6324\", \"size\": 6}, \"mode\": \"markers\", \"name\": \"shark\", \"type\": \"scatter\", \"x\": [-2.1388394832611084, -2.717820644378662, -2.1388394832611084, -2.717820644378662, -2.19201397895813, -2.6538736820220947, -2.1388394832611084, -2.717820644378662, -1.2454191446304321, -1.2454191446304321, -2.6538736820220947, -1.3552043437957764, -1.3552043437957764, -2.1388394832611084, -1.3552043437957764, -1.3552043437957764, -3.330676794052124, -3.2507104873657227, -3.2507104873657227, -3.2507104873657227, -3.330676794052124, -3.2507104873657227, -3.330676794052124, -2.123917579650879, -3.2507104873657227, -3.2507104873657227, -3.2507104873657227, -3.330676794052124], \"y\": [2.067779541015625, -0.23164351284503937, 2.067779541015625, -0.23164351284503937, 0.23930107057094574, 0.5503132343292236, 2.067779541015625, -0.23164351284503937, -0.6421136856079102, -0.6421136856079102, 0.5503132343292236, 0.4558965265750885, 0.4558965265750885, 2.067779541015625, 0.4558965265750885, 0.4558965265750885, -0.4211461842060089, 0.4320757985115051, 0.4320757985115051, 0.4320757985115051, -0.4211461842060089, 0.4320757985115051, -0.4211461842060089, 1.5378564596176147, 0.4320757985115051, 0.4320757985115051, 0.4320757985115051, -0.4211461842060089]}, {\"hoverinfo\": \"name\", \"marker\": {\"color\": \"#fffac8\", \"size\": 6}, \"mode\": \"markers\", \"name\": \"snail\", \"type\": \"scatter\", \"x\": [0.19677087664604187, 0.19677087664604187, -0.9743885397911072, -0.9743885397911072, 2.550990343093872, 1.6484274864196777, 1.3011521100997925, 1.3011521100997925, 1.2573668956756592, 2.403672933578491, 1.7566215991973877, 1.3011521100997925, 1.3011521100997925, 2.403672933578491, 1.7566215991973877, 1.7566215991973877, 1.2573668956756592, 1.2573668956756592, 2.403672933578491, 1.3011521100997925, 1.2573668956756592, 2.403672933578491, 1.2573668956756592], \"y\": [3.7198965549468994, 3.7198965549468994, 3.529008388519287, 3.529008388519287, 4.612584590911865, 3.5360348224639893, 4.185187816619873, 4.185187816619873, 3.5096678733825684, 5.000144004821777, 3.3402416706085205, 4.185187816619873, 4.185187816619873, 5.000144004821777, 3.3402416706085205, 3.3402416706085205, 3.5096678733825684, 3.5096678733825684, 5.000144004821777, 4.185187816619873, 3.5096678733825684, 5.000144004821777, 3.5096678733825684]}, {\"hoverinfo\": \"name\", \"marker\": {\"color\": \"#800000\", \"size\": 6}, \"mode\": \"markers\", \"name\": \"snake\", \"type\": \"scatter\", \"x\": [-1.3680729866027832, 0.25184115767478943, -1.3680729866027832, -0.02221548557281494, 0.25184115767478943, 0.09512753784656525, 0.09512753784656525, 0.25184115767478943, 0.09512753784656525, -0.4393969476222992, -0.7115494608879089, -1.0650352239608765, -0.7115494608879089, -0.4393969476222992, -1.5816049575805664, -0.7115494608879089, -0.9633381962776184, -1.5816049575805664, -0.4393969476222992, -0.4393969476222992, -1.5816049575805664, -0.9633381962776184, -0.7115494608879089, -0.7115494608879089, -0.4393969476222992, -1.5816049575805664, -1.0650352239608765, -0.843919038772583], \"y\": [0.28393086791038513, 1.1340886354446411, 0.28393086791038513, -0.7717944979667664, 1.1340886354446411, 1.0387064218521118, 1.0387064218521118, 1.1340886354446411, 1.0387064218521118, -0.3884051442146301, 1.7647722959518433, 0.2845238447189331, 1.7647722959518433, -0.3884051442146301, 1.7072855234146118, 1.7647722959518433, -0.017136694863438606, 1.7072855234146118, -0.3884051442146301, -0.3884051442146301, 1.7072855234146118, -0.017136694863438606, 1.7647722959518433, 1.7647722959518433, -0.3884051442146301, 1.7072855234146118, 0.2845238447189331, 0.6794477701187134]}, {\"hoverinfo\": \"name\", \"marker\": {\"color\": \"#aaffc3\", \"size\": 6}, \"mode\": \"markers\", \"name\": \"teapot\", \"type\": \"scatter\", \"x\": [2.734142303466797, 2.734142303466797, 3.2751784324645996, 2.1052446365356445, 0.8430424332618713, -0.18192008137702942, 2.734142303466797, 2.734142303466797, 2.1052446365356445, -0.18192008137702942, 0.11383779346942902, 1.1848790645599365, 0.11383779346942902, 0.11383779346942902, 0.11383779346942902, -0.1702450066804886, 2.866072177886963, -0.1702450066804886, 0.11383779346942902, 0.11383779346942902, 2.866072177886963, 2.866072177886963, 1.1848790645599365], \"y\": [2.481189727783203, 2.481189727783203, 2.1702747344970703, 1.7006480693817139, 1.7754484415054321, 0.8271118402481079, 2.481189727783203, 2.481189727783203, 1.7006480693817139, 0.8271118402481079, -0.3603084087371826, 1.1471538543701172, -0.3603084087371826, -0.3603084087371826, -0.3603084087371826, -2.5124359130859375, 2.5847606658935547, -2.5124359130859375, -0.3603084087371826, -0.3603084087371826, 2.5847606658935547, 2.5847606658935547, 1.1471538543701172]}, {\"hoverinfo\": \"name\", \"marker\": {\"color\": \"#808000\", \"size\": 6}, \"mode\": \"markers\", \"name\": \"teddy_bear\", \"type\": \"scatter\", \"x\": [-2.494157075881958, -1.0131570100784302, -0.12302102148532867, -0.7143455147743225, -0.7143455147743225, -0.12302102148532867, 0.3475426733493805, -0.27136489748954773, -1.2584809064865112, -0.8777074813842773, 0.10522487759590149, -0.14236438274383545, -0.8777074813842773, -0.14236438274383545, 0.9767279624938965, -0.8777074813842773, -0.8777074813842773, -0.8777074813842773], \"y\": [1.4883447885513306, 1.2385340929031372, 0.5286399722099304, 2.0365822315216064, 2.0365822315216064, 0.5286399722099304, -0.149216890335083, 0.2232539802789688, -0.13920019567012787, 1.7607169151306152, 1.2777906656265259, 0.8809677958488464, 1.7607169151306152, 0.8809677958488464, 0.5493247509002686, 1.7607169151306152, 1.7607169151306152, 1.7607169151306152]}, {\"hoverinfo\": \"name\", \"marker\": {\"color\": \"#ffd8b1\", \"size\": 6}, \"mode\": \"markers\", \"name\": \"tiger\", \"type\": \"scatter\", \"x\": [-3.785792827606201, -3.0052037239074707, -3.0052037239074707, -4.176341533660889, -4.176341533660889, -2.0121519565582275, -4.176341533660889, -2.0121519565582275, -3.785792827606201, -3.0052037239074707, -4.176341533660889, -2.6325137615203857, -4.5126495361328125, -4.5126495361328125, -4.257297992706299, -4.098894119262695, -4.098894119262695, -4.098894119262695, -4.098894119262695, -4.3853373527526855, -3.600477933883667, -3.5765221118927, -3.5765221118927, -3.600477933883667, -4.3853373527526855, -4.257297992706299, -3.5765221118927, -3.600477933883667], \"y\": [-2.1583871841430664, 0.6642588973045349, 0.6642588973045349, 0.4265669882297516, 0.4265669882297516, -3.769232749938965, 0.4265669882297516, -3.769232749938965, -2.1583871841430664, 0.6642588973045349, 0.4265669882297516, 0.5651542544364929, -2.8689117431640625, -2.8689117431640625, -0.921158492565155, -0.42882105708122253, -0.42882105708122253, -0.42882105708122253, -0.42882105708122253, -1.5021021366119385, -0.6754337549209595, -0.7721912860870361, -0.7721912860870361, -0.6754337549209595, -1.5021021366119385, -0.921158492565155, -0.7721912860870361, -0.6754337549209595]}, {\"hoverinfo\": \"name\", \"marker\": {\"color\": \"#000075\", \"size\": 6}, \"mode\": \"markers\", \"name\": \"umbrella\", \"type\": \"scatter\", \"x\": [0.3322625160217285, 1.3416348695755005, 0.3322625160217285, 1.1532200574874878, 1.3416348695755005, 1.3416348695755005, 1.3416348695755005, 1.4881442785263062, 1.1532200574874878, 2.292759656906128, 2.292759656906128, -1.5870468616485596, 2.6232428550720215, 2.292759656906128, 2.292759656906128, 1.2951041460037231, 0.7711777091026306, 2.327645778656006, 2.327645778656006, 2.327645778656006, 1.5493828058242798, 1.5493828058242798, 1.5493828058242798, 2.1769661903381348, 1.2951041460037231, 0.7711777091026306, 2.327645778656006, 1.5493828058242798], \"y\": [-0.40075668692588806, 1.452156662940979, -0.40075668692588806, -0.7385205626487732, 1.452156662940979, 1.452156662940979, 1.452156662940979, 1.163537621498108, -0.7385205626487732, -0.36864715814590454, -0.36864715814590454, 0.8078222274780273, 0.1395157277584076, -0.36864715814590454, -0.36864715814590454, -1.7991610765457153, -2.2444992065429688, -0.9991207718849182, -0.9991207718849182, -0.9991207718849182, -0.8777037858963013, -0.8777037858963013, -0.8777037858963013, -3.06701922416687, -1.7991610765457153, -2.2444992065429688, -0.9991207718849182, -0.8777037858963013]}, {\"hoverinfo\": \"name\", \"marker\": {\"color\": \"#808080\", \"size\": 6}, \"mode\": \"markers\", \"name\": \"violin\", \"type\": \"scatter\", \"x\": [1.0454007387161255, 1.2803068161010742, 1.2803068161010742, 1.2804163694381714, 1.0910649299621582, 1.0687428712844849, 1.2804163694381714, 1.0687428712844849, 1.3846880197525024, 1.2803068161010742, 1.3846880197525024, 1.3418997526168823, 1.2803068161010742, 1.2803068161010742, 1.2424687147140503, 0.866597056388855, 1.0462409257888794, 0.43367964029312134, 1.0462409257888794, 0.43367964029312134, 0.43367964029312134, 1.0462409257888794, 1.0462409257888794, 0.866597056388855, 0.43367964029312134, 0.43367964029312134, 1.0462409257888794, 0.866597056388855, 1.355626106262207, 0.866597056388855], \"y\": [-1.0597670078277588, -2.707995891571045, -2.707995891571045, -2.996624231338501, -2.1292943954467773, -2.710618257522583, -2.996624231338501, -2.710618257522583, -1.8464045524597168, -2.707995891571045, -1.8464045524597168, -1.3155630826950073, -2.707995891571045, -2.707995891571045, -1.9795093536376953, -2.5605058670043945, -1.9994769096374512, -1.8812347650527954, -1.9994769096374512, -1.8812347650527954, -1.8812347650527954, -1.9994769096374512, -1.9994769096374512, -2.5605058670043945, -1.8812347650527954, -1.8812347650527954, -1.9994769096374512, -2.5605058670043945, -2.250854253768921, -2.5605058670043945]}, {\"hoverinfo\": \"name\", \"marker\": {\"color\": \"#000000\", \"size\": 6}, \"mode\": \"markers\", \"name\": \"zebra\", \"type\": \"scatter\", \"x\": [-0.07506004720926285, -4.0008769035339355, -0.07506004720926285, -4.0008769035339355, -4.562496185302734, -3.4387435913085938, -0.07506004720926285, -4.0008769035339355, -4.7719340324401855, -4.7719340324401855, -3.9738285541534424, -4.134218215942383, -4.941809177398682, -4.941809177398682], \"y\": [-2.1511266231536865, 0.14576086401939392, -2.1511266231536865, 0.14576086401939392, -4.226128101348877, 0.560158908367157, -2.1511266231536865, 0.14576086401939392, -2.7406320571899414, -2.7406320571899414, -3.244476795196533, -3.267228603363037, -2.5704519748687744, -2.5704519748687744]}],                        {\"template\": {\"data\": {\"bar\": [{\"error_x\": {\"color\": \"#2a3f5f\"}, \"error_y\": {\"color\": \"#2a3f5f\"}, \"marker\": {\"line\": {\"color\": \"#E5ECF6\", \"width\": 0.5}}, \"type\": \"bar\"}], \"barpolar\": [{\"marker\": {\"line\": {\"color\": \"#E5ECF6\", \"width\": 0.5}}, \"type\": \"barpolar\"}], \"carpet\": [{\"aaxis\": {\"endlinecolor\": \"#2a3f5f\", \"gridcolor\": \"white\", \"linecolor\": \"white\", \"minorgridcolor\": \"white\", \"startlinecolor\": \"#2a3f5f\"}, \"baxis\": {\"endlinecolor\": \"#2a3f5f\", \"gridcolor\": \"white\", \"linecolor\": \"white\", \"minorgridcolor\": \"white\", \"startlinecolor\": \"#2a3f5f\"}, \"type\": \"carpet\"}], \"choropleth\": [{\"colorbar\": {\"outlinewidth\": 0, \"ticks\": \"\"}, \"type\": \"choropleth\"}], \"contour\": [{\"colorbar\": {\"outlinewidth\": 0, \"ticks\": \"\"}, \"colorscale\": [[0.0, \"#0d0887\"], [0.1111111111111111, \"#46039f\"], [0.2222222222222222, \"#7201a8\"], [0.3333333333333333, \"#9c179e\"], [0.4444444444444444, \"#bd3786\"], [0.5555555555555556, \"#d8576b\"], [0.6666666666666666, \"#ed7953\"], [0.7777777777777778, \"#fb9f3a\"], [0.8888888888888888, \"#fdca26\"], [1.0, \"#f0f921\"]], \"type\": \"contour\"}], \"contourcarpet\": [{\"colorbar\": {\"outlinewidth\": 0, \"ticks\": \"\"}, \"type\": \"contourcarpet\"}], \"heatmap\": [{\"colorbar\": {\"outlinewidth\": 0, \"ticks\": \"\"}, \"colorscale\": [[0.0, \"#0d0887\"], [0.1111111111111111, \"#46039f\"], [0.2222222222222222, \"#7201a8\"], [0.3333333333333333, \"#9c179e\"], [0.4444444444444444, \"#bd3786\"], [0.5555555555555556, \"#d8576b\"], [0.6666666666666666, \"#ed7953\"], [0.7777777777777778, \"#fb9f3a\"], [0.8888888888888888, \"#fdca26\"], [1.0, \"#f0f921\"]], \"type\": \"heatmap\"}], \"heatmapgl\": [{\"colorbar\": {\"outlinewidth\": 0, \"ticks\": \"\"}, \"colorscale\": [[0.0, \"#0d0887\"], [0.1111111111111111, \"#46039f\"], [0.2222222222222222, \"#7201a8\"], [0.3333333333333333, \"#9c179e\"], [0.4444444444444444, \"#bd3786\"], [0.5555555555555556, \"#d8576b\"], [0.6666666666666666, \"#ed7953\"], [0.7777777777777778, \"#fb9f3a\"], [0.8888888888888888, \"#fdca26\"], [1.0, \"#f0f921\"]], \"type\": \"heatmapgl\"}], \"histogram\": [{\"marker\": {\"colorbar\": {\"outlinewidth\": 0, \"ticks\": \"\"}}, \"type\": \"histogram\"}], \"histogram2d\": [{\"colorbar\": {\"outlinewidth\": 0, \"ticks\": \"\"}, \"colorscale\": [[0.0, \"#0d0887\"], [0.1111111111111111, \"#46039f\"], [0.2222222222222222, \"#7201a8\"], [0.3333333333333333, \"#9c179e\"], [0.4444444444444444, \"#bd3786\"], [0.5555555555555556, \"#d8576b\"], [0.6666666666666666, \"#ed7953\"], [0.7777777777777778, \"#fb9f3a\"], [0.8888888888888888, \"#fdca26\"], [1.0, \"#f0f921\"]], \"type\": \"histogram2d\"}], \"histogram2dcontour\": [{\"colorbar\": {\"outlinewidth\": 0, \"ticks\": \"\"}, \"colorscale\": [[0.0, \"#0d0887\"], [0.1111111111111111, \"#46039f\"], [0.2222222222222222, \"#7201a8\"], [0.3333333333333333, \"#9c179e\"], [0.4444444444444444, \"#bd3786\"], [0.5555555555555556, \"#d8576b\"], [0.6666666666666666, \"#ed7953\"], [0.7777777777777778, \"#fb9f3a\"], [0.8888888888888888, \"#fdca26\"], [1.0, \"#f0f921\"]], \"type\": \"histogram2dcontour\"}], \"mesh3d\": [{\"colorbar\": {\"outlinewidth\": 0, \"ticks\": \"\"}, \"type\": \"mesh3d\"}], \"parcoords\": [{\"line\": {\"colorbar\": {\"outlinewidth\": 0, \"ticks\": \"\"}}, \"type\": \"parcoords\"}], \"pie\": [{\"automargin\": true, \"type\": \"pie\"}], \"scatter\": [{\"marker\": {\"colorbar\": {\"outlinewidth\": 0, \"ticks\": \"\"}}, \"type\": \"scatter\"}], \"scatter3d\": [{\"line\": {\"colorbar\": {\"outlinewidth\": 0, \"ticks\": \"\"}}, \"marker\": {\"colorbar\": {\"outlinewidth\": 0, \"ticks\": \"\"}}, \"type\": \"scatter3d\"}], \"scattercarpet\": [{\"marker\": {\"colorbar\": {\"outlinewidth\": 0, \"ticks\": \"\"}}, \"type\": \"scattercarpet\"}], \"scattergeo\": [{\"marker\": {\"colorbar\": {\"outlinewidth\": 0, \"ticks\": \"\"}}, \"type\": \"scattergeo\"}], \"scattergl\": [{\"marker\": {\"colorbar\": {\"outlinewidth\": 0, \"ticks\": \"\"}}, \"type\": \"scattergl\"}], \"scattermapbox\": [{\"marker\": {\"colorbar\": {\"outlinewidth\": 0, \"ticks\": \"\"}}, \"type\": \"scattermapbox\"}], \"scatterpolar\": [{\"marker\": {\"colorbar\": {\"outlinewidth\": 0, \"ticks\": \"\"}}, \"type\": \"scatterpolar\"}], \"scatterpolargl\": [{\"marker\": {\"colorbar\": {\"outlinewidth\": 0, \"ticks\": \"\"}}, \"type\": \"scatterpolargl\"}], \"scatterternary\": [{\"marker\": {\"colorbar\": {\"outlinewidth\": 0, \"ticks\": \"\"}}, \"type\": \"scatterternary\"}], \"surface\": [{\"colorbar\": {\"outlinewidth\": 0, \"ticks\": \"\"}, \"colorscale\": [[0.0, \"#0d0887\"], [0.1111111111111111, \"#46039f\"], [0.2222222222222222, \"#7201a8\"], [0.3333333333333333, \"#9c179e\"], [0.4444444444444444, \"#bd3786\"], [0.5555555555555556, \"#d8576b\"], [0.6666666666666666, \"#ed7953\"], [0.7777777777777778, \"#fb9f3a\"], [0.8888888888888888, \"#fdca26\"], [1.0, \"#f0f921\"]], \"type\": \"surface\"}], \"table\": [{\"cells\": {\"fill\": {\"color\": \"#EBF0F8\"}, \"line\": {\"color\": \"white\"}}, \"header\": {\"fill\": {\"color\": \"#C8D4E3\"}, \"line\": {\"color\": \"white\"}}, \"type\": \"table\"}]}, \"layout\": {\"annotationdefaults\": {\"arrowcolor\": \"#2a3f5f\", \"arrowhead\": 0, \"arrowwidth\": 1}, \"autotypenumbers\": \"strict\", \"coloraxis\": {\"colorbar\": {\"outlinewidth\": 0, \"ticks\": \"\"}}, \"colorscale\": {\"diverging\": [[0, \"#8e0152\"], [0.1, \"#c51b7d\"], [0.2, \"#de77ae\"], [0.3, \"#f1b6da\"], [0.4, \"#fde0ef\"], [0.5, \"#f7f7f7\"], [0.6, \"#e6f5d0\"], [0.7, \"#b8e186\"], [0.8, \"#7fbc41\"], [0.9, \"#4d9221\"], [1, \"#276419\"]], \"sequential\": [[0.0, \"#0d0887\"], [0.1111111111111111, \"#46039f\"], [0.2222222222222222, \"#7201a8\"], [0.3333333333333333, \"#9c179e\"], [0.4444444444444444, \"#bd3786\"], [0.5555555555555556, \"#d8576b\"], [0.6666666666666666, \"#ed7953\"], [0.7777777777777778, \"#fb9f3a\"], [0.8888888888888888, \"#fdca26\"], [1.0, \"#f0f921\"]], \"sequentialminus\": [[0.0, \"#0d0887\"], [0.1111111111111111, \"#46039f\"], [0.2222222222222222, \"#7201a8\"], [0.3333333333333333, \"#9c179e\"], [0.4444444444444444, \"#bd3786\"], [0.5555555555555556, \"#d8576b\"], [0.6666666666666666, \"#ed7953\"], [0.7777777777777778, \"#fb9f3a\"], [0.8888888888888888, \"#fdca26\"], [1.0, \"#f0f921\"]]}, \"colorway\": [\"#636efa\", \"#EF553B\", \"#00cc96\", \"#ab63fa\", \"#FFA15A\", \"#19d3f3\", \"#FF6692\", \"#B6E880\", \"#FF97FF\", \"#FECB52\"], \"font\": {\"color\": \"#2a3f5f\"}, \"geo\": {\"bgcolor\": \"white\", \"lakecolor\": \"white\", \"landcolor\": \"#E5ECF6\", \"showlakes\": true, \"showland\": true, \"subunitcolor\": \"white\"}, \"hoverlabel\": {\"align\": \"left\"}, \"hovermode\": \"closest\", \"mapbox\": {\"style\": \"light\"}, \"paper_bgcolor\": \"white\", \"plot_bgcolor\": \"#E5ECF6\", \"polar\": {\"angularaxis\": {\"gridcolor\": \"white\", \"linecolor\": \"white\", \"ticks\": \"\"}, \"bgcolor\": \"#E5ECF6\", \"radialaxis\": {\"gridcolor\": \"white\", \"linecolor\": \"white\", \"ticks\": \"\"}}, \"scene\": {\"xaxis\": {\"backgroundcolor\": \"#E5ECF6\", \"gridcolor\": \"white\", \"gridwidth\": 2, \"linecolor\": \"white\", \"showbackground\": true, \"ticks\": \"\", \"zerolinecolor\": \"white\"}, \"yaxis\": {\"backgroundcolor\": \"#E5ECF6\", \"gridcolor\": \"white\", \"gridwidth\": 2, \"linecolor\": \"white\", \"showbackground\": true, \"ticks\": \"\", \"zerolinecolor\": \"white\"}, \"zaxis\": {\"backgroundcolor\": \"#E5ECF6\", \"gridcolor\": \"white\", \"gridwidth\": 2, \"linecolor\": \"white\", \"showbackground\": true, \"ticks\": \"\", \"zerolinecolor\": \"white\"}}, \"shapedefaults\": {\"line\": {\"color\": \"#2a3f5f\"}}, \"ternary\": {\"aaxis\": {\"gridcolor\": \"white\", \"linecolor\": \"white\", \"ticks\": \"\"}, \"baxis\": {\"gridcolor\": \"white\", \"linecolor\": \"white\", \"ticks\": \"\"}, \"bgcolor\": \"#E5ECF6\", \"caxis\": {\"gridcolor\": \"white\", \"linecolor\": \"white\", \"ticks\": \"\"}}, \"title\": {\"x\": 0.05}, \"xaxis\": {\"automargin\": true, \"gridcolor\": \"white\", \"linecolor\": \"white\", \"ticks\": \"\", \"title\": {\"standoff\": 15}, \"zerolinecolor\": \"white\", \"zerolinewidth\": 2}, \"yaxis\": {\"automargin\": true, \"gridcolor\": \"white\", \"linecolor\": \"white\", \"ticks\": \"\", \"title\": {\"standoff\": 15}, \"zerolinecolor\": \"white\", \"zerolinewidth\": 2}}}, \"title\": {\"text\": \"2D plot of the embeddings (projected with the PCA)\"}},                        {\"responsive\": true}                    ).then(function(){\n",
       "                            \n",
       "var gd = document.getElementById('955c5b11-3b6b-4376-9046-28dc9ef01a8c');\n",
       "var x = new MutationObserver(function (mutations, observer) {{\n",
       "        var display = window.getComputedStyle(gd).display;\n",
       "        if (!display || display === 'none') {{\n",
       "            console.log([gd, 'removed!']);\n",
       "            Plotly.purge(gd);\n",
       "            observer.disconnect();\n",
       "        }}\n",
       "}});\n",
       "\n",
       "// Listen for the removal of the full notebook cells\n",
       "var notebookContainer = gd.closest('#notebook-container');\n",
       "if (notebookContainer) {{\n",
       "    x.observe(notebookContainer, {childList: true});\n",
       "}}\n",
       "\n",
       "// Listen for the clearing of the current output cell\n",
       "var outputEl = gd.closest('.output');\n",
       "if (outputEl) {{\n",
       "    x.observe(outputEl, {childList: true});\n",
       "}}\n",
       "\n",
       "                        })                };                });            </script>        </div>"
      ]
     },
     "metadata": {},
     "output_type": "display_data"
    }
   ],
   "source": [
    "traces = []\n",
    "fig = go.Figure()\n",
    "for i, (category, coordinates) in enumerate(res.items()):\n",
    "    if category == \"My Custom Sketch\":\n",
    "        marker_size=12\n",
    "    else:\n",
    "        marker_size=6\n",
    "    trace = go.Scatter(\n",
    "        x=coordinates['x'],\n",
    "        y=coordinates['y'],\n",
    "        name=category,\n",
    "        mode='markers',\n",
    "        marker_color=colors[i], \n",
    "        marker_size=marker_size,\n",
    "        hoverinfo= \"name\",\n",
    "    )\n",
    "    fig.add_trace(trace)\n",
    "    fig.update_layout(title='2D plot of the embeddings (projected with the PCA)')\n",
    "    \n",
    "fig.show()"
   ]
  },
  {
   "cell_type": "markdown",
   "metadata": {},
   "source": [
    "The backend now receives a request to see the same embeddings but displayed in 3D, we must return the embeddings of the model (with are in the 256 dimensional embedding space) to visualise them."
   ]
  },
  {
   "cell_type": "code",
   "execution_count": 98,
   "metadata": {},
   "outputs": [],
   "source": [
    "nb_dimension = 3    # the visalisation must be in 3D\n",
    "show_sketch = False # this time we do not send a sketch"
   ]
  },
  {
   "cell_type": "markdown",
   "metadata": {},
   "source": [
    "During training we logged metadata in the folder of the model. There we can find the model checkpoints as well as many tensorboard logs such as the logs for the embeddings that we were able to visualise in tensorboard's projector.\n",
    "\n",
    "Overall, tensorboard saves the embedding metadata in 3 different files which contain the ordered labels, images and embeddings.\n",
    "\n",
    "    - sprite.png: very large image containing the sketches and images next to each others\n",
    "    - metadata.csv: each row contains the label of the associated sketch or images in sprite.png\n",
    "    - tensors.tsv: earch row contains an embedding of the associated sketch or images in sprite.png\n",
    "\n",
    "To get the 'raw' embedding data (still in 256 dimensions) with their classes, we need to process the files `tensors.tsv` and the `metadata.tsv` in the last epoch of training in the training folder of the model."
   ]
  },
  {
   "cell_type": "code",
   "execution_count": 82,
   "metadata": {},
   "outputs": [],
   "source": [
    "folder = f\"/io/models/{training_name}/{max_epoch}/default/\"\n",
    "tensors_path = folder + \"tensors.tsv\"\n",
    "classes_path = folder + \"metadata.tsv\""
   ]
  },
  {
   "cell_type": "markdown",
   "metadata": {},
   "source": [
    "We read the classes and store them in a list."
   ]
  },
  {
   "cell_type": "code",
   "execution_count": 91,
   "metadata": {},
   "outputs": [],
   "source": [
    "with open(classes_path, \"r\") as f:\n",
    "    classes = [line.rstrip(\"\\n\") for line in f]"
   ]
  },
  {
   "cell_type": "markdown",
   "metadata": {},
   "source": [
    "We read the raw embeddings and store the embeddings in an array."
   ]
  },
  {
   "cell_type": "code",
   "execution_count": 83,
   "metadata": {},
   "outputs": [],
   "source": [
    "def read_tensor_tsv_file(fpath):\n",
    "    \"\"\"Read the tensors file:  earch row contains an embedding\"\"\"\n",
    "    with open(fpath, \"r\") as f:\n",
    "        tensor = []\n",
    "        for line in f:\n",
    "            line = line.rstrip(\"\\n\")\n",
    "            if line:\n",
    "                tensor.append(list(map(float, line.split(\"\\t\"))))\n",
    "    return np.array(tensor, dtype=\"float32\")"
   ]
  },
  {
   "cell_type": "code",
   "execution_count": 110,
   "metadata": {},
   "outputs": [
    {
     "name": "stdout",
     "output_type": "stream",
     "text": [
      "There are 500 samples of dimension 256.\n",
      "250 sketches and 250 images.\n"
     ]
    }
   ],
   "source": [
    "tensors = read_tensor_tsv_file(tensors_path)\n",
    "print(f\"There are {tensors.shape[0]} samples of dimension {tensors.shape[1]}.\")\n",
    "print(f\"{int(tensors.shape[0]/2)} sketches and {int(tensors.shape[0]/2)} images.\")"
   ]
  },
  {
   "cell_type": "markdown",
   "metadata": {},
   "source": [
    "**TODO** Project the embeddings from 256D to 3D. Feel free to use an algorithm of your choice. The back-end of the web app implements a PCA, TSNE and UMAP but you can choose something else!"
   ]
  },
  {
   "cell_type": "code",
   "execution_count": 99,
   "metadata": {},
   "outputs": [],
   "source": [
    "def project_embeddings(tensors, nb_dimension):\n",
    "    \"\"\"Perform a dimensionality reduction on the tensors to n_dimensions\"\"\"\n",
    "    X = ...\n",
    "    return X"
   ]
  },
  {
   "cell_type": "code",
   "execution_count": 100,
   "metadata": {},
   "outputs": [],
   "source": [
    "def project_embeddings_solution(tensors, nb_dimension):\n",
    "    \"\"\"Perform a dimensionality reduction on the tensors to n_dimensions\"\"\"\n",
    "    pca = PCA(n_components=nb_dimension)\n",
    "    pca.fit(tensors)\n",
    "    return pca.transform(tensors)"
   ]
  },
  {
   "cell_type": "code",
   "execution_count": 109,
   "metadata": {},
   "outputs": [],
   "source": [
    "X = project_embeddings_solution(tensors, nb_dimension)"
   ]
  },
  {
   "cell_type": "markdown",
   "metadata": {},
   "source": [
    "We then store all the data in a dictionnary and sort them by class."
   ]
  },
  {
   "cell_type": "code",
   "execution_count": 105,
   "metadata": {},
   "outputs": [],
   "source": [
    "# Store together\n",
    "d = {\"x\": list(X[:, 0]), \"y\": list(X[:, 1]), \"z\": list(X[:, 2]), \"classes\": classes}\n",
    "\n",
    "# Sort by class\n",
    "df = pd.DataFrame(data=d)\n",
    "df.sort_values(by=[\"classes\"])\n",
    "class_set = sorted(list(set(df[\"classes\"])))\n",
    "\n",
    "# Modify structure to simplify plot\n",
    "data = {}\n",
    "for _class in class_set:\n",
    "    data[_class] = {}\n",
    "    data[_class][\"x\"] = list(df[df[\"classes\"] == _class][\"x\"])\n",
    "    data[_class][\"y\"] = list(df[df[\"classes\"] == _class][\"y\"])\n",
    "    data[_class][\"z\"] = list(df[df[\"classes\"] == _class][\"z\"])"
   ]
  },
  {
   "cell_type": "markdown",
   "metadata": {},
   "source": [
    "**TODO**: You can now code the 3D plot with the data directory. Feel free to inspire yourself from the 2D plot above."
   ]
  },
  {
   "cell_type": "code",
   "execution_count": 17,
   "metadata": {},
   "outputs": [
    {
     "data": {
      "application/vnd.plotly.v1+json": {
       "config": {
        "plotlyServerURL": "https://plot.ly"
       },
       "data": [],
       "layout": {
        "template": {
         "data": {
          "bar": [
           {
            "error_x": {
             "color": "#2a3f5f"
            },
            "error_y": {
             "color": "#2a3f5f"
            },
            "marker": {
             "line": {
              "color": "#E5ECF6",
              "width": 0.5
             }
            },
            "type": "bar"
           }
          ],
          "barpolar": [
           {
            "marker": {
             "line": {
              "color": "#E5ECF6",
              "width": 0.5
             }
            },
            "type": "barpolar"
           }
          ],
          "carpet": [
           {
            "aaxis": {
             "endlinecolor": "#2a3f5f",
             "gridcolor": "white",
             "linecolor": "white",
             "minorgridcolor": "white",
             "startlinecolor": "#2a3f5f"
            },
            "baxis": {
             "endlinecolor": "#2a3f5f",
             "gridcolor": "white",
             "linecolor": "white",
             "minorgridcolor": "white",
             "startlinecolor": "#2a3f5f"
            },
            "type": "carpet"
           }
          ],
          "choropleth": [
           {
            "colorbar": {
             "outlinewidth": 0,
             "ticks": ""
            },
            "type": "choropleth"
           }
          ],
          "contour": [
           {
            "colorbar": {
             "outlinewidth": 0,
             "ticks": ""
            },
            "colorscale": [
             [
              0,
              "#0d0887"
             ],
             [
              0.1111111111111111,
              "#46039f"
             ],
             [
              0.2222222222222222,
              "#7201a8"
             ],
             [
              0.3333333333333333,
              "#9c179e"
             ],
             [
              0.4444444444444444,
              "#bd3786"
             ],
             [
              0.5555555555555556,
              "#d8576b"
             ],
             [
              0.6666666666666666,
              "#ed7953"
             ],
             [
              0.7777777777777778,
              "#fb9f3a"
             ],
             [
              0.8888888888888888,
              "#fdca26"
             ],
             [
              1,
              "#f0f921"
             ]
            ],
            "type": "contour"
           }
          ],
          "contourcarpet": [
           {
            "colorbar": {
             "outlinewidth": 0,
             "ticks": ""
            },
            "type": "contourcarpet"
           }
          ],
          "heatmap": [
           {
            "colorbar": {
             "outlinewidth": 0,
             "ticks": ""
            },
            "colorscale": [
             [
              0,
              "#0d0887"
             ],
             [
              0.1111111111111111,
              "#46039f"
             ],
             [
              0.2222222222222222,
              "#7201a8"
             ],
             [
              0.3333333333333333,
              "#9c179e"
             ],
             [
              0.4444444444444444,
              "#bd3786"
             ],
             [
              0.5555555555555556,
              "#d8576b"
             ],
             [
              0.6666666666666666,
              "#ed7953"
             ],
             [
              0.7777777777777778,
              "#fb9f3a"
             ],
             [
              0.8888888888888888,
              "#fdca26"
             ],
             [
              1,
              "#f0f921"
             ]
            ],
            "type": "heatmap"
           }
          ],
          "heatmapgl": [
           {
            "colorbar": {
             "outlinewidth": 0,
             "ticks": ""
            },
            "colorscale": [
             [
              0,
              "#0d0887"
             ],
             [
              0.1111111111111111,
              "#46039f"
             ],
             [
              0.2222222222222222,
              "#7201a8"
             ],
             [
              0.3333333333333333,
              "#9c179e"
             ],
             [
              0.4444444444444444,
              "#bd3786"
             ],
             [
              0.5555555555555556,
              "#d8576b"
             ],
             [
              0.6666666666666666,
              "#ed7953"
             ],
             [
              0.7777777777777778,
              "#fb9f3a"
             ],
             [
              0.8888888888888888,
              "#fdca26"
             ],
             [
              1,
              "#f0f921"
             ]
            ],
            "type": "heatmapgl"
           }
          ],
          "histogram": [
           {
            "marker": {
             "colorbar": {
              "outlinewidth": 0,
              "ticks": ""
             }
            },
            "type": "histogram"
           }
          ],
          "histogram2d": [
           {
            "colorbar": {
             "outlinewidth": 0,
             "ticks": ""
            },
            "colorscale": [
             [
              0,
              "#0d0887"
             ],
             [
              0.1111111111111111,
              "#46039f"
             ],
             [
              0.2222222222222222,
              "#7201a8"
             ],
             [
              0.3333333333333333,
              "#9c179e"
             ],
             [
              0.4444444444444444,
              "#bd3786"
             ],
             [
              0.5555555555555556,
              "#d8576b"
             ],
             [
              0.6666666666666666,
              "#ed7953"
             ],
             [
              0.7777777777777778,
              "#fb9f3a"
             ],
             [
              0.8888888888888888,
              "#fdca26"
             ],
             [
              1,
              "#f0f921"
             ]
            ],
            "type": "histogram2d"
           }
          ],
          "histogram2dcontour": [
           {
            "colorbar": {
             "outlinewidth": 0,
             "ticks": ""
            },
            "colorscale": [
             [
              0,
              "#0d0887"
             ],
             [
              0.1111111111111111,
              "#46039f"
             ],
             [
              0.2222222222222222,
              "#7201a8"
             ],
             [
              0.3333333333333333,
              "#9c179e"
             ],
             [
              0.4444444444444444,
              "#bd3786"
             ],
             [
              0.5555555555555556,
              "#d8576b"
             ],
             [
              0.6666666666666666,
              "#ed7953"
             ],
             [
              0.7777777777777778,
              "#fb9f3a"
             ],
             [
              0.8888888888888888,
              "#fdca26"
             ],
             [
              1,
              "#f0f921"
             ]
            ],
            "type": "histogram2dcontour"
           }
          ],
          "mesh3d": [
           {
            "colorbar": {
             "outlinewidth": 0,
             "ticks": ""
            },
            "type": "mesh3d"
           }
          ],
          "parcoords": [
           {
            "line": {
             "colorbar": {
              "outlinewidth": 0,
              "ticks": ""
             }
            },
            "type": "parcoords"
           }
          ],
          "pie": [
           {
            "automargin": true,
            "type": "pie"
           }
          ],
          "scatter": [
           {
            "marker": {
             "colorbar": {
              "outlinewidth": 0,
              "ticks": ""
             }
            },
            "type": "scatter"
           }
          ],
          "scatter3d": [
           {
            "line": {
             "colorbar": {
              "outlinewidth": 0,
              "ticks": ""
             }
            },
            "marker": {
             "colorbar": {
              "outlinewidth": 0,
              "ticks": ""
             }
            },
            "type": "scatter3d"
           }
          ],
          "scattercarpet": [
           {
            "marker": {
             "colorbar": {
              "outlinewidth": 0,
              "ticks": ""
             }
            },
            "type": "scattercarpet"
           }
          ],
          "scattergeo": [
           {
            "marker": {
             "colorbar": {
              "outlinewidth": 0,
              "ticks": ""
             }
            },
            "type": "scattergeo"
           }
          ],
          "scattergl": [
           {
            "marker": {
             "colorbar": {
              "outlinewidth": 0,
              "ticks": ""
             }
            },
            "type": "scattergl"
           }
          ],
          "scattermapbox": [
           {
            "marker": {
             "colorbar": {
              "outlinewidth": 0,
              "ticks": ""
             }
            },
            "type": "scattermapbox"
           }
          ],
          "scatterpolar": [
           {
            "marker": {
             "colorbar": {
              "outlinewidth": 0,
              "ticks": ""
             }
            },
            "type": "scatterpolar"
           }
          ],
          "scatterpolargl": [
           {
            "marker": {
             "colorbar": {
              "outlinewidth": 0,
              "ticks": ""
             }
            },
            "type": "scatterpolargl"
           }
          ],
          "scatterternary": [
           {
            "marker": {
             "colorbar": {
              "outlinewidth": 0,
              "ticks": ""
             }
            },
            "type": "scatterternary"
           }
          ],
          "surface": [
           {
            "colorbar": {
             "outlinewidth": 0,
             "ticks": ""
            },
            "colorscale": [
             [
              0,
              "#0d0887"
             ],
             [
              0.1111111111111111,
              "#46039f"
             ],
             [
              0.2222222222222222,
              "#7201a8"
             ],
             [
              0.3333333333333333,
              "#9c179e"
             ],
             [
              0.4444444444444444,
              "#bd3786"
             ],
             [
              0.5555555555555556,
              "#d8576b"
             ],
             [
              0.6666666666666666,
              "#ed7953"
             ],
             [
              0.7777777777777778,
              "#fb9f3a"
             ],
             [
              0.8888888888888888,
              "#fdca26"
             ],
             [
              1,
              "#f0f921"
             ]
            ],
            "type": "surface"
           }
          ],
          "table": [
           {
            "cells": {
             "fill": {
              "color": "#EBF0F8"
             },
             "line": {
              "color": "white"
             }
            },
            "header": {
             "fill": {
              "color": "#C8D4E3"
             },
             "line": {
              "color": "white"
             }
            },
            "type": "table"
           }
          ]
         },
         "layout": {
          "annotationdefaults": {
           "arrowcolor": "#2a3f5f",
           "arrowhead": 0,
           "arrowwidth": 1
          },
          "autotypenumbers": "strict",
          "coloraxis": {
           "colorbar": {
            "outlinewidth": 0,
            "ticks": ""
           }
          },
          "colorscale": {
           "diverging": [
            [
             0,
             "#8e0152"
            ],
            [
             0.1,
             "#c51b7d"
            ],
            [
             0.2,
             "#de77ae"
            ],
            [
             0.3,
             "#f1b6da"
            ],
            [
             0.4,
             "#fde0ef"
            ],
            [
             0.5,
             "#f7f7f7"
            ],
            [
             0.6,
             "#e6f5d0"
            ],
            [
             0.7,
             "#b8e186"
            ],
            [
             0.8,
             "#7fbc41"
            ],
            [
             0.9,
             "#4d9221"
            ],
            [
             1,
             "#276419"
            ]
           ],
           "sequential": [
            [
             0,
             "#0d0887"
            ],
            [
             0.1111111111111111,
             "#46039f"
            ],
            [
             0.2222222222222222,
             "#7201a8"
            ],
            [
             0.3333333333333333,
             "#9c179e"
            ],
            [
             0.4444444444444444,
             "#bd3786"
            ],
            [
             0.5555555555555556,
             "#d8576b"
            ],
            [
             0.6666666666666666,
             "#ed7953"
            ],
            [
             0.7777777777777778,
             "#fb9f3a"
            ],
            [
             0.8888888888888888,
             "#fdca26"
            ],
            [
             1,
             "#f0f921"
            ]
           ],
           "sequentialminus": [
            [
             0,
             "#0d0887"
            ],
            [
             0.1111111111111111,
             "#46039f"
            ],
            [
             0.2222222222222222,
             "#7201a8"
            ],
            [
             0.3333333333333333,
             "#9c179e"
            ],
            [
             0.4444444444444444,
             "#bd3786"
            ],
            [
             0.5555555555555556,
             "#d8576b"
            ],
            [
             0.6666666666666666,
             "#ed7953"
            ],
            [
             0.7777777777777778,
             "#fb9f3a"
            ],
            [
             0.8888888888888888,
             "#fdca26"
            ],
            [
             1,
             "#f0f921"
            ]
           ]
          },
          "colorway": [
           "#636efa",
           "#EF553B",
           "#00cc96",
           "#ab63fa",
           "#FFA15A",
           "#19d3f3",
           "#FF6692",
           "#B6E880",
           "#FF97FF",
           "#FECB52"
          ],
          "font": {
           "color": "#2a3f5f"
          },
          "geo": {
           "bgcolor": "white",
           "lakecolor": "white",
           "landcolor": "#E5ECF6",
           "showlakes": true,
           "showland": true,
           "subunitcolor": "white"
          },
          "hoverlabel": {
           "align": "left"
          },
          "hovermode": "closest",
          "mapbox": {
           "style": "light"
          },
          "paper_bgcolor": "white",
          "plot_bgcolor": "#E5ECF6",
          "polar": {
           "angularaxis": {
            "gridcolor": "white",
            "linecolor": "white",
            "ticks": ""
           },
           "bgcolor": "#E5ECF6",
           "radialaxis": {
            "gridcolor": "white",
            "linecolor": "white",
            "ticks": ""
           }
          },
          "scene": {
           "xaxis": {
            "backgroundcolor": "#E5ECF6",
            "gridcolor": "white",
            "gridwidth": 2,
            "linecolor": "white",
            "showbackground": true,
            "ticks": "",
            "zerolinecolor": "white"
           },
           "yaxis": {
            "backgroundcolor": "#E5ECF6",
            "gridcolor": "white",
            "gridwidth": 2,
            "linecolor": "white",
            "showbackground": true,
            "ticks": "",
            "zerolinecolor": "white"
           },
           "zaxis": {
            "backgroundcolor": "#E5ECF6",
            "gridcolor": "white",
            "gridwidth": 2,
            "linecolor": "white",
            "showbackground": true,
            "ticks": "",
            "zerolinecolor": "white"
           }
          },
          "shapedefaults": {
           "line": {
            "color": "#2a3f5f"
           }
          },
          "ternary": {
           "aaxis": {
            "gridcolor": "white",
            "linecolor": "white",
            "ticks": ""
           },
           "baxis": {
            "gridcolor": "white",
            "linecolor": "white",
            "ticks": ""
           },
           "bgcolor": "#E5ECF6",
           "caxis": {
            "gridcolor": "white",
            "linecolor": "white",
            "ticks": ""
           }
          },
          "title": {
           "x": 0.05
          },
          "xaxis": {
           "automargin": true,
           "gridcolor": "white",
           "linecolor": "white",
           "ticks": "",
           "title": {
            "standoff": 15
           },
           "zerolinecolor": "white",
           "zerolinewidth": 2
          },
          "yaxis": {
           "automargin": true,
           "gridcolor": "white",
           "linecolor": "white",
           "ticks": "",
           "title": {
            "standoff": 15
           },
           "zerolinecolor": "white",
           "zerolinewidth": 2
          }
         }
        },
        "title": {
         "text": "3D plot of the embeddings (projected with the PCA)"
        }
       }
      },
      "text/html": [
       "<div>                            <div id=\"b0ecfa10-5173-4ecc-a050-8f2582e918ca\" class=\"plotly-graph-div\" style=\"height:525px; width:100%;\"></div>            <script type=\"text/javascript\">                require([\"plotly\"], function(Plotly) {                    window.PLOTLYENV=window.PLOTLYENV || {};                                    if (document.getElementById(\"b0ecfa10-5173-4ecc-a050-8f2582e918ca\")) {                    Plotly.newPlot(                        \"b0ecfa10-5173-4ecc-a050-8f2582e918ca\",                        [],                        {\"template\": {\"data\": {\"bar\": [{\"error_x\": {\"color\": \"#2a3f5f\"}, \"error_y\": {\"color\": \"#2a3f5f\"}, \"marker\": {\"line\": {\"color\": \"#E5ECF6\", \"width\": 0.5}}, \"type\": \"bar\"}], \"barpolar\": [{\"marker\": {\"line\": {\"color\": \"#E5ECF6\", \"width\": 0.5}}, \"type\": \"barpolar\"}], \"carpet\": [{\"aaxis\": {\"endlinecolor\": \"#2a3f5f\", \"gridcolor\": \"white\", \"linecolor\": \"white\", \"minorgridcolor\": \"white\", \"startlinecolor\": \"#2a3f5f\"}, \"baxis\": {\"endlinecolor\": \"#2a3f5f\", \"gridcolor\": \"white\", \"linecolor\": \"white\", \"minorgridcolor\": \"white\", \"startlinecolor\": \"#2a3f5f\"}, \"type\": \"carpet\"}], \"choropleth\": [{\"colorbar\": {\"outlinewidth\": 0, \"ticks\": \"\"}, \"type\": \"choropleth\"}], \"contour\": [{\"colorbar\": {\"outlinewidth\": 0, \"ticks\": \"\"}, \"colorscale\": [[0.0, \"#0d0887\"], [0.1111111111111111, \"#46039f\"], [0.2222222222222222, \"#7201a8\"], [0.3333333333333333, \"#9c179e\"], [0.4444444444444444, \"#bd3786\"], [0.5555555555555556, \"#d8576b\"], [0.6666666666666666, \"#ed7953\"], [0.7777777777777778, \"#fb9f3a\"], [0.8888888888888888, \"#fdca26\"], [1.0, \"#f0f921\"]], \"type\": \"contour\"}], \"contourcarpet\": [{\"colorbar\": {\"outlinewidth\": 0, \"ticks\": \"\"}, \"type\": \"contourcarpet\"}], \"heatmap\": [{\"colorbar\": {\"outlinewidth\": 0, \"ticks\": \"\"}, \"colorscale\": [[0.0, \"#0d0887\"], [0.1111111111111111, \"#46039f\"], [0.2222222222222222, \"#7201a8\"], [0.3333333333333333, \"#9c179e\"], [0.4444444444444444, \"#bd3786\"], [0.5555555555555556, \"#d8576b\"], [0.6666666666666666, \"#ed7953\"], [0.7777777777777778, \"#fb9f3a\"], [0.8888888888888888, \"#fdca26\"], [1.0, \"#f0f921\"]], \"type\": \"heatmap\"}], \"heatmapgl\": [{\"colorbar\": {\"outlinewidth\": 0, \"ticks\": \"\"}, \"colorscale\": [[0.0, \"#0d0887\"], [0.1111111111111111, \"#46039f\"], [0.2222222222222222, \"#7201a8\"], [0.3333333333333333, \"#9c179e\"], [0.4444444444444444, \"#bd3786\"], [0.5555555555555556, \"#d8576b\"], [0.6666666666666666, \"#ed7953\"], [0.7777777777777778, \"#fb9f3a\"], [0.8888888888888888, \"#fdca26\"], [1.0, \"#f0f921\"]], \"type\": \"heatmapgl\"}], \"histogram\": [{\"marker\": {\"colorbar\": {\"outlinewidth\": 0, \"ticks\": \"\"}}, \"type\": \"histogram\"}], \"histogram2d\": [{\"colorbar\": {\"outlinewidth\": 0, \"ticks\": \"\"}, \"colorscale\": [[0.0, \"#0d0887\"], [0.1111111111111111, \"#46039f\"], [0.2222222222222222, \"#7201a8\"], [0.3333333333333333, \"#9c179e\"], [0.4444444444444444, \"#bd3786\"], [0.5555555555555556, \"#d8576b\"], [0.6666666666666666, \"#ed7953\"], [0.7777777777777778, \"#fb9f3a\"], [0.8888888888888888, \"#fdca26\"], [1.0, \"#f0f921\"]], \"type\": \"histogram2d\"}], \"histogram2dcontour\": [{\"colorbar\": {\"outlinewidth\": 0, \"ticks\": \"\"}, \"colorscale\": [[0.0, \"#0d0887\"], [0.1111111111111111, \"#46039f\"], [0.2222222222222222, \"#7201a8\"], [0.3333333333333333, \"#9c179e\"], [0.4444444444444444, \"#bd3786\"], [0.5555555555555556, \"#d8576b\"], [0.6666666666666666, \"#ed7953\"], [0.7777777777777778, \"#fb9f3a\"], [0.8888888888888888, \"#fdca26\"], [1.0, \"#f0f921\"]], \"type\": \"histogram2dcontour\"}], \"mesh3d\": [{\"colorbar\": {\"outlinewidth\": 0, \"ticks\": \"\"}, \"type\": \"mesh3d\"}], \"parcoords\": [{\"line\": {\"colorbar\": {\"outlinewidth\": 0, \"ticks\": \"\"}}, \"type\": \"parcoords\"}], \"pie\": [{\"automargin\": true, \"type\": \"pie\"}], \"scatter\": [{\"marker\": {\"colorbar\": {\"outlinewidth\": 0, \"ticks\": \"\"}}, \"type\": \"scatter\"}], \"scatter3d\": [{\"line\": {\"colorbar\": {\"outlinewidth\": 0, \"ticks\": \"\"}}, \"marker\": {\"colorbar\": {\"outlinewidth\": 0, \"ticks\": \"\"}}, \"type\": \"scatter3d\"}], \"scattercarpet\": [{\"marker\": {\"colorbar\": {\"outlinewidth\": 0, \"ticks\": \"\"}}, \"type\": \"scattercarpet\"}], \"scattergeo\": [{\"marker\": {\"colorbar\": {\"outlinewidth\": 0, \"ticks\": \"\"}}, \"type\": \"scattergeo\"}], \"scattergl\": [{\"marker\": {\"colorbar\": {\"outlinewidth\": 0, \"ticks\": \"\"}}, \"type\": \"scattergl\"}], \"scattermapbox\": [{\"marker\": {\"colorbar\": {\"outlinewidth\": 0, \"ticks\": \"\"}}, \"type\": \"scattermapbox\"}], \"scatterpolar\": [{\"marker\": {\"colorbar\": {\"outlinewidth\": 0, \"ticks\": \"\"}}, \"type\": \"scatterpolar\"}], \"scatterpolargl\": [{\"marker\": {\"colorbar\": {\"outlinewidth\": 0, \"ticks\": \"\"}}, \"type\": \"scatterpolargl\"}], \"scatterternary\": [{\"marker\": {\"colorbar\": {\"outlinewidth\": 0, \"ticks\": \"\"}}, \"type\": \"scatterternary\"}], \"surface\": [{\"colorbar\": {\"outlinewidth\": 0, \"ticks\": \"\"}, \"colorscale\": [[0.0, \"#0d0887\"], [0.1111111111111111, \"#46039f\"], [0.2222222222222222, \"#7201a8\"], [0.3333333333333333, \"#9c179e\"], [0.4444444444444444, \"#bd3786\"], [0.5555555555555556, \"#d8576b\"], [0.6666666666666666, \"#ed7953\"], [0.7777777777777778, \"#fb9f3a\"], [0.8888888888888888, \"#fdca26\"], [1.0, \"#f0f921\"]], \"type\": \"surface\"}], \"table\": [{\"cells\": {\"fill\": {\"color\": \"#EBF0F8\"}, \"line\": {\"color\": \"white\"}}, \"header\": {\"fill\": {\"color\": \"#C8D4E3\"}, \"line\": {\"color\": \"white\"}}, \"type\": \"table\"}]}, \"layout\": {\"annotationdefaults\": {\"arrowcolor\": \"#2a3f5f\", \"arrowhead\": 0, \"arrowwidth\": 1}, \"autotypenumbers\": \"strict\", \"coloraxis\": {\"colorbar\": {\"outlinewidth\": 0, \"ticks\": \"\"}}, \"colorscale\": {\"diverging\": [[0, \"#8e0152\"], [0.1, \"#c51b7d\"], [0.2, \"#de77ae\"], [0.3, \"#f1b6da\"], [0.4, \"#fde0ef\"], [0.5, \"#f7f7f7\"], [0.6, \"#e6f5d0\"], [0.7, \"#b8e186\"], [0.8, \"#7fbc41\"], [0.9, \"#4d9221\"], [1, \"#276419\"]], \"sequential\": [[0.0, \"#0d0887\"], [0.1111111111111111, \"#46039f\"], [0.2222222222222222, \"#7201a8\"], [0.3333333333333333, \"#9c179e\"], [0.4444444444444444, \"#bd3786\"], [0.5555555555555556, \"#d8576b\"], [0.6666666666666666, \"#ed7953\"], [0.7777777777777778, \"#fb9f3a\"], [0.8888888888888888, \"#fdca26\"], [1.0, \"#f0f921\"]], \"sequentialminus\": [[0.0, \"#0d0887\"], [0.1111111111111111, \"#46039f\"], [0.2222222222222222, \"#7201a8\"], [0.3333333333333333, \"#9c179e\"], [0.4444444444444444, \"#bd3786\"], [0.5555555555555556, \"#d8576b\"], [0.6666666666666666, \"#ed7953\"], [0.7777777777777778, \"#fb9f3a\"], [0.8888888888888888, \"#fdca26\"], [1.0, \"#f0f921\"]]}, \"colorway\": [\"#636efa\", \"#EF553B\", \"#00cc96\", \"#ab63fa\", \"#FFA15A\", \"#19d3f3\", \"#FF6692\", \"#B6E880\", \"#FF97FF\", \"#FECB52\"], \"font\": {\"color\": \"#2a3f5f\"}, \"geo\": {\"bgcolor\": \"white\", \"lakecolor\": \"white\", \"landcolor\": \"#E5ECF6\", \"showlakes\": true, \"showland\": true, \"subunitcolor\": \"white\"}, \"hoverlabel\": {\"align\": \"left\"}, \"hovermode\": \"closest\", \"mapbox\": {\"style\": \"light\"}, \"paper_bgcolor\": \"white\", \"plot_bgcolor\": \"#E5ECF6\", \"polar\": {\"angularaxis\": {\"gridcolor\": \"white\", \"linecolor\": \"white\", \"ticks\": \"\"}, \"bgcolor\": \"#E5ECF6\", \"radialaxis\": {\"gridcolor\": \"white\", \"linecolor\": \"white\", \"ticks\": \"\"}}, \"scene\": {\"xaxis\": {\"backgroundcolor\": \"#E5ECF6\", \"gridcolor\": \"white\", \"gridwidth\": 2, \"linecolor\": \"white\", \"showbackground\": true, \"ticks\": \"\", \"zerolinecolor\": \"white\"}, \"yaxis\": {\"backgroundcolor\": \"#E5ECF6\", \"gridcolor\": \"white\", \"gridwidth\": 2, \"linecolor\": \"white\", \"showbackground\": true, \"ticks\": \"\", \"zerolinecolor\": \"white\"}, \"zaxis\": {\"backgroundcolor\": \"#E5ECF6\", \"gridcolor\": \"white\", \"gridwidth\": 2, \"linecolor\": \"white\", \"showbackground\": true, \"ticks\": \"\", \"zerolinecolor\": \"white\"}}, \"shapedefaults\": {\"line\": {\"color\": \"#2a3f5f\"}}, \"ternary\": {\"aaxis\": {\"gridcolor\": \"white\", \"linecolor\": \"white\", \"ticks\": \"\"}, \"baxis\": {\"gridcolor\": \"white\", \"linecolor\": \"white\", \"ticks\": \"\"}, \"bgcolor\": \"#E5ECF6\", \"caxis\": {\"gridcolor\": \"white\", \"linecolor\": \"white\", \"ticks\": \"\"}}, \"title\": {\"x\": 0.05}, \"xaxis\": {\"automargin\": true, \"gridcolor\": \"white\", \"linecolor\": \"white\", \"ticks\": \"\", \"title\": {\"standoff\": 15}, \"zerolinecolor\": \"white\", \"zerolinewidth\": 2}, \"yaxis\": {\"automargin\": true, \"gridcolor\": \"white\", \"linecolor\": \"white\", \"ticks\": \"\", \"title\": {\"standoff\": 15}, \"zerolinecolor\": \"white\", \"zerolinewidth\": 2}}}, \"title\": {\"text\": \"3D plot of the embeddings (projected with the PCA)\"}},                        {\"responsive\": true}                    ).then(function(){\n",
       "                            \n",
       "var gd = document.getElementById('b0ecfa10-5173-4ecc-a050-8f2582e918ca');\n",
       "var x = new MutationObserver(function (mutations, observer) {{\n",
       "        var display = window.getComputedStyle(gd).display;\n",
       "        if (!display || display === 'none') {{\n",
       "            console.log([gd, 'removed!']);\n",
       "            Plotly.purge(gd);\n",
       "            observer.disconnect();\n",
       "        }}\n",
       "}});\n",
       "\n",
       "// Listen for the removal of the full notebook cells\n",
       "var notebookContainer = gd.closest('#notebook-container');\n",
       "if (notebookContainer) {{\n",
       "    x.observe(notebookContainer, {childList: true});\n",
       "}}\n",
       "\n",
       "// Listen for the clearing of the current output cell\n",
       "var outputEl = gd.closest('.output');\n",
       "if (outputEl) {{\n",
       "    x.observe(outputEl, {childList: true});\n",
       "}}\n",
       "\n",
       "                        })                };                });            </script>        </div>"
      ]
     },
     "metadata": {},
     "output_type": "display_data"
    }
   ],
   "source": [
    "traces = []\n",
    "fig = go.Figure()\n",
    "# Implement me!\n",
    "fig.update_layout(title='3D plot of the embeddings (projected with the PCA)')\n",
    "fig.show()"
   ]
  },
  {
   "cell_type": "code",
   "execution_count": 108,
   "metadata": {},
   "outputs": [
    {
     "data": {
      "application/vnd.plotly.v1+json": {
       "config": {
        "plotlyServerURL": "https://plot.ly"
       },
       "data": [
        {
         "marker": {
          "color": "#e6194b",
          "size": 4
         },
         "mode": "markers",
         "name": "butterfly",
         "type": "scatter3d",
         "x": [
          -1.3922138214111328,
          -1.433207631111145,
          -1.3922138214111328,
          -1.433207631111145,
          -0.24429285526275635,
          -1.433207631111145,
          0.3311147689819336,
          0.029809845611453056,
          0.3311147689819336,
          0.2812080383300781,
          0.2812080383300781,
          -1.3922138214111328,
          -1.433207631111145,
          0.029809845611453056,
          0.2812080383300781,
          -1.8392746448516846,
          -0.8974252939224243,
          -1.7574180364608765,
          -1.7574180364608765,
          -1.8392746448516846,
          -1.7574180364608765,
          -1.7574180364608765,
          -0.8974252939224243,
          -0.8974252939224243,
          -1.7574180364608765,
          -0.8974252939224243,
          -0.8974252939224243,
          -1.7574180364608765,
          -0.8974252939224243,
          -1.7075313329696655,
          -1.2478749752044678,
          -1.7075313329696655,
          -1.2478749752044678,
          -1.8392746448516846
         ],
         "y": [
          4.5145463943481445,
          4.005286693572998,
          4.5145463943481445,
          4.005286693572998,
          3.1464426517486572,
          4.005286693572998,
          1.2538371086120605,
          4.583713531494141,
          1.2538371086120605,
          2.4310364723205566,
          2.4310364723205566,
          4.5145463943481445,
          4.005286693572998,
          4.583713531494141,
          2.4310364723205566,
          3.501755952835083,
          3.3136379718780518,
          4.796516418457031,
          4.796516418457031,
          3.501755952835083,
          4.796516418457031,
          4.796516418457031,
          3.3136379718780518,
          3.3136379718780518,
          4.796516418457031,
          3.3136379718780518,
          3.3136379718780518,
          4.796516418457031,
          3.3136379718780518,
          4.431153297424316,
          5.5423903465271,
          4.431153297424316,
          5.5423903465271,
          3.501755952835083
         ],
         "z": [
          0.24421249330043793,
          0.7932721376419067,
          0.24421249330043793,
          0.7932721376419067,
          0.23359619081020355,
          0.7932721376419067,
          -1.0666017532348633,
          0.7836208939552307,
          -1.0666017532348633,
          0.37170425057411194,
          0.37170425057411194,
          0.24421249330043793,
          0.7932721376419067,
          0.7836208939552307,
          0.37170425057411194,
          0.31714922189712524,
          -0.5463647246360779,
          0.06811577081680298,
          0.06811577081680298,
          0.31714922189712524,
          0.06811577081680298,
          0.06811577081680298,
          -0.5463647246360779,
          -0.5463647246360779,
          0.06811577081680298,
          -0.5463647246360779,
          -0.5463647246360779,
          0.06811577081680298,
          -0.5463647246360779,
          -0.10621336102485657,
          -0.63966304063797,
          -0.10621336102485657,
          -0.63966304063797,
          0.31714922189712524
         ]
        },
        {
         "marker": {
          "color": "#3cb44b",
          "size": 4
         },
         "mode": "markers",
         "name": "candle",
         "type": "scatter3d",
         "x": [
          3.3413567543029785,
          2.4188194274902344,
          2.94227933883667,
          2.829721689224243,
          2.588301181793213,
          2.4188194274902344,
          2.94227933883667,
          2.94227933883667,
          3.3413567543029785,
          2.94227933883667,
          2.4188194274902344,
          1.5854061841964722,
          3.664917469024658,
          3.664917469024658,
          -0.09900995343923569,
          -0.09900995343923569,
          1.5854061841964722,
          1.5854061841964722,
          1.5854061841964722,
          2.9855997562408447,
          -0.09900995343923569
         ],
         "y": [
          -0.021736204624176025,
          -0.09522417187690735,
          -0.38976970314979553,
          0.5341061949729919,
          0.3241700232028961,
          -0.09522417187690735,
          -0.38976970314979553,
          -0.38976970314979553,
          -0.021736204624176025,
          -0.38976970314979553,
          -0.09522417187690735,
          0.8094029426574707,
          -0.35507673025131226,
          -0.35507673025131226,
          -0.09079144895076752,
          -0.09079144895076752,
          0.8094029426574707,
          0.8094029426574707,
          0.8094029426574707,
          0.7609228491783142,
          -0.09079144895076752
         ],
         "z": [
          1.9579468965530396,
          1.9337726831436157,
          1.4713088274002075,
          1.2699899673461914,
          1.5646517276763916,
          1.9337726831436157,
          1.4713088274002075,
          1.4713088274002075,
          1.9579468965530396,
          1.4713088274002075,
          1.9337726831436157,
          0.9553197622299194,
          1.7210930585861206,
          1.7210930585861206,
          1.3662587404251099,
          1.3662587404251099,
          0.9553197622299194,
          0.9553197622299194,
          0.9553197622299194,
          2.578538656234741,
          1.3662587404251099
         ]
        },
        {
         "marker": {
          "color": "#ffe119",
          "size": 4
         },
         "mode": "markers",
         "name": "church",
         "type": "scatter3d",
         "x": [
          3.596547842025757,
          3.596547842025757,
          2.074331760406494,
          2.6417529582977295,
          2.9584474563598633,
          2.6417529582977295,
          3.596547842025757,
          2.9380013942718506,
          3.596547842025757,
          2.9380013942718506,
          2.074331760406494,
          3.596547842025757,
          3.596547842025757,
          2.466860294342041,
          2.466860294342041,
          1.7286561727523804,
          3.170295000076294,
          1.7286561727523804,
          3.170295000076294,
          1.7286561727523804,
          1.9282519817352295,
          1.9282519817352295,
          3.170295000076294
         ],
         "y": [
          -1.7892131805419922,
          -1.7892131805419922,
          -2.356865882873535,
          -1.2329810857772827,
          -2.062844753265381,
          -1.2329810857772827,
          -1.7892131805419922,
          -1.557631015777588,
          -1.7892131805419922,
          -1.557631015777588,
          -2.356865882873535,
          -1.7892131805419922,
          -1.7892131805419922,
          -2.3638100624084473,
          -2.3638100624084473,
          -1.6610442399978638,
          -2.5650196075439453,
          -1.6610442399978638,
          -2.5650196075439453,
          -1.6610442399978638,
          -2.6972224712371826,
          -2.6972224712371826,
          -2.5650196075439453
         ],
         "z": [
          2.0806777477264404,
          2.0806777477264404,
          1.506113052368164,
          2.71596097946167,
          1.726352572441101,
          2.71596097946167,
          2.0806777477264404,
          2.1515285968780518,
          2.0806777477264404,
          2.1515285968780518,
          1.506113052368164,
          2.0806777477264404,
          2.0806777477264404,
          2.0148496627807617,
          2.0148496627807617,
          2.4037349224090576,
          1.724483609199524,
          2.4037349224090576,
          1.724483609199524,
          2.4037349224090576,
          1.6975862979888916,
          1.6975862979888916,
          1.724483609199524
         ]
        },
        {
         "marker": {
          "color": "#4363d8",
          "size": 4
         },
         "mode": "markers",
         "name": "cup",
         "type": "scatter3d",
         "x": [
          3.926748752593994,
          3.14643931388855,
          1.5046874284744263,
          4.370834827423096,
          1.5046874284744263,
          3.7748372554779053,
          1.5046874284744263,
          2.8410232067108154,
          2.8410232067108154,
          3.926748752593994,
          3.926748752593994,
          3.9555890560150146,
          2.90120267868042,
          2.90120267868042,
          3.9555890560150146,
          4.420091152191162,
          4.420091152191162,
          3.9555890560150146,
          2.90120267868042,
          4.420091152191162,
          4.420091152191162,
          4.083465099334717,
          2.90120267868042
         ],
         "y": [
          1.556879997253418,
          0.0006642701337113976,
          1.9336047172546387,
          1.6440973281860352,
          1.9336047172546387,
          2.1068739891052246,
          1.9336047172546387,
          1.4773914813995361,
          1.4773914813995361,
          1.556879997253418,
          1.556879997253418,
          1.7975023984909058,
          2.2445433139801025,
          2.2445433139801025,
          1.7975023984909058,
          1.5238157510757446,
          1.5238157510757446,
          1.7975023984909058,
          2.2445433139801025,
          1.5238157510757446,
          1.5238157510757446,
          1.1702165603637695,
          2.2445433139801025
         ],
         "z": [
          1.3411952257156372,
          1.2174404859542847,
          -0.8993011116981506,
          1.1935333013534546,
          -0.8993011116981506,
          0.12969082593917847,
          -0.8993011116981506,
          0.2131025344133377,
          0.2131025344133377,
          1.3411952257156372,
          1.3411952257156372,
          0.07472658902406693,
          -0.051302358508110046,
          -0.051302358508110046,
          0.07472658902406693,
          -0.8514193296432495,
          -0.8514193296432495,
          0.07472658902406693,
          -0.051302358508110046,
          -0.8514193296432495,
          -0.8514193296432495,
          0.23108495771884918,
          -0.051302358508110046
         ]
        },
        {
         "marker": {
          "color": "#f58231",
          "size": 4
         },
         "mode": "markers",
         "name": "door",
         "type": "scatter3d",
         "x": [
          5.6496477127075195,
          5.26544713973999,
          5.084928512573242,
          5.6496477127075195,
          3.8625855445861816,
          5.26544713973999,
          2.6382627487182617,
          5.084928512573242,
          2.6382627487182617,
          3.8625855445861816,
          3.944044828414917,
          5.084928512573242,
          5.262272357940674,
          5.262272357940674,
          5.26544713973999,
          5.6496477127075195,
          5.262272357940674,
          6.4516496658325195,
          8.90224838256836,
          8.90224838256836,
          7.422056198120117,
          7.422056198120117,
          9.400349617004395,
          7.422056198120117,
          7.422056198120117,
          6.4516496658325195,
          8.90224838256836,
          6.4516496658325195,
          7.422056198120117,
          6.47200345993042
         ],
         "y": [
          -1.1613894701004028,
          -1.2733557224273682,
          -1.5623369216918945,
          -1.1613894701004028,
          -2.170137882232666,
          -1.2733557224273682,
          -1.8205112218856812,
          -1.5623369216918945,
          -1.8205112218856812,
          -2.170137882232666,
          -1.5318264961242676,
          -1.5623369216918945,
          -1.7418948411941528,
          -1.7418948411941528,
          -1.2733557224273682,
          -1.1613894701004028,
          -1.7418948411941528,
          -2.279226779937744,
          -3.6001126766204834,
          -3.6001126766204834,
          -2.769582748413086,
          -2.769582748413086,
          -3.4857871532440186,
          -2.769582748413086,
          -2.769582748413086,
          -2.279226779937744,
          -3.6001126766204834,
          -2.279226779937744,
          -2.769582748413086,
          -2.6338930130004883
         ],
         "z": [
          2.3629374504089355,
          2.27199125289917,
          2.773946762084961,
          2.3629374504089355,
          0.5577479004859924,
          2.27199125289917,
          1.754482626914978,
          2.773946762084961,
          1.754482626914978,
          0.5577479004859924,
          1.5577597618103027,
          2.773946762084961,
          3.079599380493164,
          3.079599380493164,
          2.27199125289917,
          2.3629374504089355,
          3.079599380493164,
          1.7795525789260864,
          2.692730188369751,
          2.692730188369751,
          2.4711215496063232,
          2.4711215496063232,
          2.4132816791534424,
          2.4711215496063232,
          2.4711215496063232,
          1.7795525789260864,
          2.692730188369751,
          1.7795525789260864,
          2.4711215496063232,
          1.2055418491363525
         ]
        },
        {
         "marker": {
          "color": "#911eb4",
          "size": 4
         },
         "mode": "markers",
         "name": "hat",
         "type": "scatter3d",
         "x": [
          1.3180376291275024,
          0.9566157460212708,
          0.9566157460212708,
          1.3706042766571045,
          1.3180376291275024,
          1.7262824773788452,
          0.9566157460212708,
          -0.2863394021987915,
          0.9566157460212708,
          0.09589600563049316,
          -3.449676513671875,
          0.09589600563049316,
          -0.5475992560386658,
          2.253980875015259,
          2.253980875015259,
          -3.449676513671875,
          -3.449676513671875,
          -3.449676513671875,
          -0.5475992560386658
         ],
         "y": [
          -1.2116445302963257,
          1.0347931385040283,
          1.0347931385040283,
          1.1415984630584717,
          -1.2116445302963257,
          -1.6147631406784058,
          1.0347931385040283,
          0.43942779302597046,
          1.0347931385040283,
          -2.1007089614868164,
          -2.5302023887634277,
          -2.1007089614868164,
          -0.7046741247177124,
          -1.9994233846664429,
          -1.9994233846664429,
          -2.5302023887634277,
          -2.5302023887634277,
          -2.5302023887634277,
          -0.7046741247177124
         ],
         "z": [
          -2.2172975540161133,
          -0.9695106744766235,
          -0.9695106744766235,
          -1.735266089439392,
          -2.2172975540161133,
          -1.2596505880355835,
          -0.9695106744766235,
          -2.749791145324707,
          -0.9695106744766235,
          0.36092615127563477,
          0.1444186419248581,
          0.36092615127563477,
          -1.4651271104812622,
          -0.6536624431610107,
          -0.6536624431610107,
          0.1444186419248581,
          0.1444186419248581,
          0.1444186419248581,
          -1.4651271104812622
         ]
        },
        {
         "marker": {
          "color": "#46f0f0",
          "size": 4
         },
         "mode": "markers",
         "name": "hedgehog",
         "type": "scatter3d",
         "x": [
          -1.5402698516845703,
          -2.1404809951782227,
          -2.007066249847412,
          -1.5402698516845703,
          -3.2635293006896973,
          -3.2635293006896973,
          -1.3059202432632446,
          -2.8948285579681396,
          -2.007066249847412,
          -2.5575437545776367,
          -2.8948285579681396,
          -1.3059202432632446,
          -1.8442639112472534,
          -1.3059202432632446,
          -2.641521453857422,
          -2.641521453857422,
          -2.641521453857422,
          -3.0836234092712402,
          -3.290311574935913,
          -2.641521453857422,
          -2.641521453857422
         ],
         "y": [
          2.740863561630249,
          0.9208054542541504,
          3.09110426902771,
          2.740863561630249,
          1.610751748085022,
          1.610751748085022,
          2.284712553024292,
          1.293993353843689,
          3.09110426902771,
          2.733182907104492,
          1.293993353843689,
          2.284712553024292,
          1.1144033670425415,
          2.284712553024292,
          0.9123638272285461,
          0.9123638272285461,
          0.9123638272285461,
          2.2431480884552,
          1.8909755945205688,
          0.9123638272285461,
          0.9123638272285461
         ],
         "z": [
          3.738330841064453,
          2.362855911254883,
          3.417382001876831,
          3.738330841064453,
          2.072314977645874,
          2.072314977645874,
          4.185455799102783,
          2.288597345352173,
          3.417382001876831,
          4.003870487213135,
          2.288597345352173,
          4.185455799102783,
          3.18084454536438,
          4.185455799102783,
          2.117072582244873,
          2.117072582244873,
          2.117072582244873,
          3.214318037033081,
          3.525434732437134,
          2.117072582244873,
          2.117072582244873
         ]
        },
        {
         "marker": {
          "color": "#f032e6",
          "size": 4
         },
         "mode": "markers",
         "name": "helicopter",
         "type": "scatter3d",
         "x": [
          0.116717629134655,
          -2.124842643737793,
          -0.553826630115509,
          -0.49697351455688477,
          0.116717629134655,
          -2.124842643737793,
          0.1402980387210846,
          -0.553826630115509,
          -0.4694502055644989,
          -1.5639609098434448,
          -1.1364023685455322,
          -0.029233120381832123,
          -1.5639609098434448,
          -0.029233120381832123,
          -1.5639609098434448,
          -1.7331974506378174,
          -0.029233120381832123,
          -1.7331974506378174
         ],
         "y": [
          -1.3228310346603394,
          -0.03183959051966667,
          2.350065231323242,
          0.0038466753903776407,
          -1.3228310346603394,
          -0.03183959051966667,
          -1.629989504814148,
          2.350065231323242,
          -0.26221296191215515,
          -0.40922027826309204,
          0.41113460063934326,
          -1.2126741409301758,
          -0.40922027826309204,
          -1.2126741409301758,
          -0.40922027826309204,
          0.03375903517007828,
          -1.2126741409301758,
          0.03375903517007828
         ],
         "z": [
          -0.4326726496219635,
          0.012103183194994926,
          1.3890109062194824,
          -1.2162572145462036,
          -0.4326726496219635,
          0.012103183194994926,
          0.4147663116455078,
          1.3890109062194824,
          0.012918640859425068,
          -0.6705599427223206,
          -0.10551854968070984,
          -0.6484235525131226,
          -0.6705599427223206,
          -0.6484235525131226,
          -0.6705599427223206,
          -1.3760579824447632,
          -0.6484235525131226,
          -1.3760579824447632
         ]
        },
        {
         "marker": {
          "color": "#bcf60c",
          "size": 4
         },
         "mode": "markers",
         "name": "horse",
         "type": "scatter3d",
         "x": [
          -5.314877986907959,
          -0.6407150030136108,
          -3.155014753341675,
          -3.560600996017456,
          -0.6407150030136108,
          -0.4009268879890442,
          -3.560600996017456,
          -4.777493476867676,
          -3.155014753341675,
          -5.314877986907959,
          -3.560600996017456,
          -4.777493476867676,
          -4.777493476867676,
          -3.845338821411133,
          -4.777493476867676,
          -3.845338821411133,
          -5.049290657043457,
          -4.777493476867676,
          -3.5154144763946533,
          -3.5154144763946533,
          -2.9794833660125732,
          -4.477049827575684,
          -3.5154144763946533,
          -3.5154144763946533,
          -4.13826322555542,
          -4.477049827575684,
          -3.5154144763946533,
          -2.4794921875,
          -3.8112752437591553,
          -4.13826322555542,
          -3.8112752437591553,
          -3.7111847400665283,
          -4.740597724914551,
          -3.8112752437591553,
          -3.5154144763946533,
          -4.740597724914551,
          -4.477049827575684,
          -3.7111847400665283,
          -4.477049827575684,
          -4.13826322555542
         ],
         "y": [
          -2.7695400714874268,
          -1.7112776041030884,
          -3.2180016040802,
          -2.272428035736084,
          -1.7112776041030884,
          -2.0207855701446533,
          -2.272428035736084,
          -3.803042411804199,
          -3.2180016040802,
          -2.7695400714874268,
          -2.272428035736084,
          -3.803042411804199,
          -3.803042411804199,
          -3.477708339691162,
          -3.803042411804199,
          -3.477708339691162,
          -1.796573281288147,
          -3.803042411804199,
          -0.34270358085632324,
          -0.34270358085632324,
          -3.376495599746704,
          -2.9165897369384766,
          -0.34270358085632324,
          -0.34270358085632324,
          -2.4132468700408936,
          -2.9165897369384766,
          -0.34270358085632324,
          -2.4322354793548584,
          -2.8068692684173584,
          -2.4132468700408936,
          -2.8068692684173584,
          -1.7836869955062866,
          -2.9694371223449707,
          -2.8068692684173584,
          -0.34270358085632324,
          -2.9694371223449707,
          -2.9165897369384766,
          -1.7836869955062866,
          -2.9165897369384766,
          -2.4132468700408936
         ],
         "z": [
          1.1887344121932983,
          -0.17573687434196472,
          0.6820789575576782,
          0.27836593985557556,
          -0.17573687434196472,
          0.05469673126935959,
          0.27836593985557556,
          2.3010008335113525,
          0.6820789575576782,
          1.1887344121932983,
          0.27836593985557556,
          2.3010008335113525,
          2.3010008335113525,
          1.1586897373199463,
          2.3010008335113525,
          1.1586897373199463,
          1.0353443622589111,
          2.3010008335113525,
          -0.5971983671188354,
          -0.5971983671188354,
          0.015416787937283516,
          1.247259497642517,
          -0.5971983671188354,
          -0.5971983671188354,
          0.2773332893848419,
          1.247259497642517,
          -0.5971983671188354,
          -1.1109899282455444,
          0.34710583090782166,
          0.2773332893848419,
          0.34710583090782166,
          1.6145552396774292,
          -0.3959367573261261,
          0.34710583090782166,
          -0.5971983671188354,
          -0.3959367573261261,
          1.247259497642517,
          1.6145552396774292,
          1.247259497642517,
          0.2773332893848419
         ]
        },
        {
         "marker": {
          "color": "#fabebe",
          "size": 4
         },
         "mode": "markers",
         "name": "pineapple",
         "type": "scatter3d",
         "x": [
          1.4683198928833008,
          0.23608911037445068,
          1.4683198928833008,
          -0.248937726020813,
          -0.5694243311882019,
          -0.4182194173336029,
          0.23608911037445068,
          -0.4182194173336029,
          -0.552560031414032,
          -0.4182194173336029,
          0.23608911037445068,
          -0.4182194173336029,
          -0.5377354025840759,
          -0.5377354025840759,
          0.31566816568374634,
          0.7046363353729248,
          0.7046363353729248,
          0.31566816568374634,
          0.31566816568374634,
          0.31566816568374634
         ],
         "y": [
          3.7219507694244385,
          2.492621421813965,
          3.7219507694244385,
          2.7787399291992188,
          2.9142463207244873,
          1.8760298490524292,
          2.492621421813965,
          1.8760298490524292,
          2.792184829711914,
          1.8760298490524292,
          2.492621421813965,
          1.8760298490524292,
          3.650012254714966,
          3.650012254714966,
          2.7773396968841553,
          5.407647609710693,
          5.407647609710693,
          2.7773396968841553,
          2.7773396968841553,
          2.7773396968841553
         ],
         "z": [
          3.884228229522705,
          3.481956958770752,
          3.884228229522705,
          2.1417665481567383,
          3.7595887184143066,
          2.253791570663452,
          3.481956958770752,
          2.253791570663452,
          3.5950767993927,
          2.253791570663452,
          3.481956958770752,
          2.253791570663452,
          1.805294394493103,
          1.805294394493103,
          2.329455852508545,
          6.689390182495117,
          6.689390182495117,
          2.329455852508545,
          2.329455852508545,
          2.329455852508545
         ]
        },
        {
         "marker": {
          "color": "#008080",
          "size": 4
         },
         "mode": "markers",
         "name": "rifle",
         "type": "scatter3d",
         "x": [
          0.015366923995316029,
          0.059231217950582504,
          0.015366923995316029,
          -0.5972068309783936,
          0.11461085081100464,
          -0.23304171860218048,
          0.4948310852050781,
          0.23654066026210785,
          -0.5972068309783936,
          -0.5662977695465088,
          -0.5972068309783936,
          -0.5662977695465088,
          0.059231217950582504,
          0.4948310852050781,
          -0.23304171860218048,
          -0.5972068309783936,
          0.4948310852050781,
          0.11461085081100464,
          -0.28027209639549255,
          -0.5406526327133179,
          -0.28027209639549255,
          1.8028359413146973,
          -0.28027209639549255,
          -0.28027209639549255,
          -0.5406526327133179,
          1.8028359413146973,
          -0.28027209639549255,
          -0.5406526327133179,
          1.8028359413146973,
          -0.035167794674634933,
          1.8028359413146973
         ],
         "y": [
          -3.0856997966766357,
          -2.9975199699401855,
          -3.0856997966766357,
          -1.562166452407837,
          -2.508427619934082,
          -1.913557529449463,
          -3.028841972351074,
          -2.7012035846710205,
          -1.562166452407837,
          -0.7920294404029846,
          -1.562166452407837,
          -0.7920294404029846,
          -2.9975199699401855,
          -3.028841972351074,
          -1.913557529449463,
          -1.562166452407837,
          -3.028841972351074,
          -2.508427619934082,
          -3.7922067642211914,
          -3.6442956924438477,
          -3.7922067642211914,
          0.23641861975193024,
          -3.7922067642211914,
          -3.7922067642211914,
          -3.6442956924438477,
          0.23641861975193024,
          -3.7922067642211914,
          -3.6442956924438477,
          0.23641861975193024,
          -2.0658516883850098,
          0.23641861975193024
         ],
         "z": [
          -1.3702682256698608,
          -0.8832516670227051,
          -1.3702682256698608,
          -1.2819284200668335,
          -1.5800646543502808,
          -2.8673360347747803,
          -0.1645863801240921,
          -0.4573805630207062,
          -1.2819284200668335,
          -0.7228601574897766,
          -1.2819284200668335,
          -0.7228601574897766,
          -0.8832516670227051,
          -0.1645863801240921,
          -2.8673360347747803,
          -1.2819284200668335,
          -0.1645863801240921,
          -1.5800646543502808,
          -2.1085875034332275,
          -2.4289183616638184,
          -2.1085875034332275,
          1.1121482849121094,
          -2.1085875034332275,
          -2.1085875034332275,
          -2.4289183616638184,
          1.1121482849121094,
          -2.1085875034332275,
          -2.4289183616638184,
          1.1121482849121094,
          -2.7766380310058594,
          1.1121482849121094
         ]
        },
        {
         "marker": {
          "color": "#e6beff",
          "size": 4
         },
         "mode": "markers",
         "name": "shark",
         "type": "scatter3d",
         "x": [
          -2.1783392429351807,
          -2.7722902297973633,
          -2.1783392429351807,
          -2.7722902297973633,
          -2.238018751144409,
          -2.7034480571746826,
          -2.1783392429351807,
          -2.7722902297973633,
          -1.2886313199996948,
          -1.2886313199996948,
          -2.7034480571746826,
          -1.4149630069732666,
          -1.4149630069732666,
          -2.1783392429351807,
          -1.4149630069732666,
          -1.4149630069732666,
          -3.391892910003662,
          -3.297495126724243,
          -3.297495126724243,
          -3.297495126724243,
          -3.391892910003662,
          -3.297495126724243,
          -3.391892910003662,
          -2.1699233055114746,
          -3.297495126724243,
          -3.297495126724243,
          -3.297495126724243,
          -3.391892910003662
         ],
         "y": [
          2.044180154800415,
          -0.27857401967048645,
          2.044180154800415,
          -0.27857401967048645,
          0.19801940023899078,
          0.5088156461715698,
          2.044180154800415,
          -0.27857401967048645,
          -0.6797749400138855,
          -0.6797749400138855,
          0.5088156461715698,
          0.4099375009536743,
          0.4099375009536743,
          2.044180154800415,
          0.4099375009536743,
          0.4099375009536743,
          -0.477578729391098,
          0.3852890133857727,
          0.3852890133857727,
          0.3852890133857727,
          -0.477578729391098,
          0.3852890133857727,
          -0.477578729391098,
          1.4978593587875366,
          0.3852890133857727,
          0.3852890133857727,
          0.3852890133857727,
          -0.477578729391098
         ],
         "z": [
          -0.7917640209197998,
          -2.2490503787994385,
          -0.7917640209197998,
          -2.2490503787994385,
          -2.414454698562622,
          -1.9047572612762451,
          -0.7917640209197998,
          -2.2490503787994385,
          -1.9962269067764282,
          -1.9962269067764282,
          -1.9047572612762451,
          -2.4184675216674805,
          -2.4184675216674805,
          -0.7917640209197998,
          -2.4184675216674805,
          -2.4184675216674805,
          -2.8692691326141357,
          -2.3970043659210205,
          -2.3970043659210205,
          -2.3970043659210205,
          -2.8692691326141357,
          -2.3970043659210205,
          -2.8692691326141357,
          -2.5220797061920166,
          -2.3970043659210205,
          -2.3970043659210205,
          -2.3970043659210205,
          -2.8692691326141357
         ]
        },
        {
         "marker": {
          "color": "#9a6324",
          "size": 4
         },
         "mode": "markers",
         "name": "snail",
         "type": "scatter3d",
         "x": [
          0.18965770304203033,
          0.18965770304203033,
          -0.976952850818634,
          -0.976952850818634,
          2.53784441947937,
          1.6336833238601685,
          1.2805163860321045,
          1.2805163860321045,
          1.2372037172317505,
          2.3854727745056152,
          1.7393221855163574,
          1.2805163860321045,
          1.2805163860321045,
          2.3854727745056152,
          1.7393221855163574,
          1.7393221855163574,
          1.2372037172317505,
          1.2372037172317505,
          2.3854727745056152,
          1.2805163860321045,
          1.2372037172317505,
          2.3854727745056152,
          1.2372037172317505
         ],
         "y": [
          3.7116010189056396,
          3.7116010189056396,
          3.525179862976074,
          3.525179862976074,
          4.609152793884277,
          3.5256147384643555,
          4.174925804138184,
          4.174925804138184,
          3.504671335220337,
          4.98976993560791,
          3.333019971847534,
          4.174925804138184,
          4.174925804138184,
          4.98976993560791,
          3.333019971847534,
          3.333019971847534,
          3.504671335220337,
          3.504671335220337,
          4.98976993560791,
          4.174925804138184,
          3.504671335220337,
          4.98976993560791,
          3.504671335220337
         ],
         "z": [
          -2.9021360874176025,
          -2.9021360874176025,
          -1.5174328088760376,
          -1.5174328088760376,
          -3.3307406902313232,
          -3.3092775344848633,
          -3.022213935852051,
          -3.022213935852051,
          -1.7110564708709717,
          -4.4203290939331055,
          -2.794504165649414,
          -3.022213935852051,
          -3.022213935852051,
          -4.4203290939331055,
          -2.794504165649414,
          -2.794504165649414,
          -1.7110564708709717,
          -1.7110564708709717,
          -4.4203290939331055,
          -3.022213935852051,
          -1.7110564708709717,
          -4.4203290939331055,
          -1.7110564708709717
         ]
        },
        {
         "marker": {
          "color": "#fffac8",
          "size": 4
         },
         "mode": "markers",
         "name": "snake",
         "type": "scatter3d",
         "x": [
          -1.394161343574524,
          0.21381144225597382,
          -1.394161343574524,
          -0.05686522275209427,
          0.21381144225597382,
          0.06719927489757538,
          0.06719927489757538,
          0.21381144225597382,
          0.06719927489757538,
          -0.4479779005050659,
          -0.7284421920776367,
          -1.1010953187942505,
          -0.7284421920776367,
          -0.4479779005050659,
          -1.5767395496368408,
          -0.7284421920776367,
          -1.008367657661438,
          -1.5767395496368408,
          -0.4479779005050659,
          -0.4479779005050659,
          -1.5767395496368408,
          -1.008367657661438,
          -0.7284421920776367,
          -0.7284421920776367,
          -0.4479779005050659,
          -1.5767395496368408,
          -1.1010953187942505,
          -0.8956899046897888
         ],
         "y": [
          0.24772381782531738,
          1.0956372022628784,
          0.24772381782531738,
          -0.8133177757263184,
          1.0956372022628784,
          1.007526159286499,
          1.007526159286499,
          1.0956372022628784,
          1.007526159286499,
          -0.3902260959148407,
          1.7483432292938232,
          0.23936882615089417,
          1.7483432292938232,
          -0.3902260959148407,
          1.7155373096466064,
          1.7483432292938232,
          -0.07134617865085602,
          1.7155373096466064,
          -0.3902260959148407,
          -0.3902260959148407,
          1.7155373096466064,
          -0.07134617865085602,
          1.7483432292938232,
          1.7483432292938232,
          -0.3902260959148407,
          1.7155373096466064,
          0.23936882615089417,
          0.6175006628036499
         ],
         "z": [
          -3.919609308242798,
          -4.323899745941162,
          -3.919609308242798,
          -4.311848163604736,
          -4.323899745941162,
          -4.056612014770508,
          -4.056612014770508,
          -4.323899745941162,
          -4.056612014770508,
          0.21877431869506836,
          -2.2130985260009766,
          -4.650590896606445,
          -2.2130985260009766,
          0.21877431869506836,
          0.9121012091636658,
          -2.2130985260009766,
          -5.238226890563965,
          0.9121012091636658,
          0.21877431869506836,
          0.21877431869506836,
          0.9121012091636658,
          -5.238226890563965,
          -2.2130985260009766,
          -2.2130985260009766,
          0.21877431869506836,
          0.9121012091636658,
          -4.650590896606445,
          -6.296419620513916
         ]
        },
        {
         "marker": {
          "color": "#800000",
          "size": 4
         },
         "mode": "markers",
         "name": "teapot",
         "type": "scatter3d",
         "x": [
          2.710496187210083,
          2.710496187210083,
          3.2540924549102783,
          2.095900297164917,
          0.8393591046333313,
          -0.2059406340122223,
          2.710496187210083,
          2.710496187210083,
          2.095900297164917,
          -0.2059406340122223,
          0.10028493404388428,
          1.1447677612304688,
          0.10028493404388428,
          0.10028493404388428,
          0.10028493404388428,
          -0.17733924090862274,
          2.863239049911499,
          -0.17733924090862274,
          0.10028493404388428,
          0.10028493404388428,
          2.863239049911499,
          2.863239049911499,
          1.1447677612304688
         ],
         "y": [
          2.486093044281006,
          2.486093044281006,
          2.1767313480377197,
          1.7079352140426636,
          1.7783347368240356,
          0.8060131072998047,
          2.486093044281006,
          2.486093044281006,
          1.7079352140426636,
          0.8060131072998047,
          -0.3769841492176056,
          1.1154301166534424,
          -0.3769841492176056,
          -0.3769841492176056,
          -0.3769841492176056,
          -2.5182347297668457,
          2.605116844177246,
          -2.5182347297668457,
          -0.3769841492176056,
          -0.3769841492176056,
          2.605116844177246,
          2.605116844177246,
          1.1154301166534424
         ],
         "z": [
          -0.07170351594686508,
          -0.07170351594686508,
          -0.29270902276039124,
          -0.3314305543899536,
          -0.9027703404426575,
          -2.143217086791992,
          -0.07170351594686508,
          -0.07170351594686508,
          -0.3314305543899536,
          -2.143217086791992,
          -1.9023405313491821,
          -2.6994431018829346,
          -1.9023405313491821,
          -1.9023405313491821,
          -1.9023405313491821,
          -0.012342664413154125,
          0.5241098999977112,
          -0.012342664413154125,
          -1.9023405313491821,
          -1.9023405313491821,
          0.5241098999977112,
          0.5241098999977112,
          -2.6994431018829346
         ]
        },
        {
         "marker": {
          "color": "#aaffc3",
          "size": 4
         },
         "mode": "markers",
         "name": "teddy_bear",
         "type": "scatter3d",
         "x": [
          -2.445474624633789,
          -0.9610748291015625,
          -0.09124067425727844,
          -0.6959588527679443,
          -0.6959588527679443,
          -0.09124067425727844,
          0.3913402259349823,
          -0.24905972182750702,
          -1.210707187652588,
          -0.8701852560043335,
          0.13354040682315826,
          -0.09904361516237259,
          -0.8701852560043335,
          -0.09904361516237259,
          0.9994637370109558,
          -0.8701852560043335,
          -0.8701852560043335,
          -0.8701852560043335
         ],
         "y": [
          1.5231685638427734,
          1.2678755521774292,
          0.5512387752532959,
          2.0508804321289062,
          2.0508804321289062,
          0.5512387752532959,
          -0.1157056912779808,
          0.23630933463573456,
          -0.10308420658111572,
          1.7746704816818237,
          1.3058974742889404,
          0.9169424176216125,
          1.7746704816818237,
          0.9169424176216125,
          0.5745382308959961,
          1.7746704816818237,
          1.7746704816818237,
          1.7746704816818237
         ],
         "z": [
          2.9797286987304688,
          0.5763148665428162,
          0.9303964376449585,
          0.6676007509231567,
          0.6676007509231567,
          0.9303964376449585,
          1.7121704816818237,
          0.2740100026130676,
          2.4485580921173096,
          1.1989400386810303,
          1.7103599309921265,
          1.987990140914917,
          1.1989400386810303,
          1.987990140914917,
          1.2680855989456177,
          1.1989400386810303,
          1.1989400386810303,
          1.1989400386810303
         ]
        },
        {
         "marker": {
          "color": "#808000",
          "size": 4
         },
         "mode": "markers",
         "name": "tiger",
         "type": "scatter3d",
         "x": [
          -3.7379610538482666,
          -3.0299763679504395,
          -3.0299763679504395,
          -4.101757049560547,
          -4.101757049560547,
          -1.9926588535308838,
          -4.101757049560547,
          -1.9926588535308838,
          -3.7379610538482666,
          -3.0299763679504395,
          -4.101757049560547,
          -2.6373565196990967,
          -4.475390911102295,
          -4.475390911102295,
          -4.224230766296387,
          -4.064676761627197,
          -4.064676761627197,
          -4.064676761627197,
          -4.064676761627197,
          -4.344858169555664,
          -3.5629405975341797,
          -3.54055118560791,
          -3.54055118560791,
          -3.5629405975341797,
          -4.344858169555664,
          -4.224230766296387,
          -3.54055118560791,
          -3.5629405975341797
         ],
         "y": [
          -2.132943868637085,
          0.6543067693710327,
          0.6543067693710327,
          0.4675232172012329,
          0.4675232172012329,
          -3.7575433254241943,
          0.4675232172012329,
          -3.7575433254241943,
          -2.132943868637085,
          0.6543067693710327,
          0.4675232172012329,
          0.570677638053894,
          -2.844587802886963,
          -2.844587802886963,
          -0.9050679206848145,
          -0.4131813049316406,
          -0.4131813049316406,
          -0.4131813049316406,
          -0.4131813049316406,
          -1.4782270193099976,
          -0.651914119720459,
          -0.7489299774169922,
          -0.7489299774169922,
          -0.651914119720459,
          -1.4782270193099976,
          -0.9050679206848145,
          -0.7489299774169922,
          -0.651914119720459
         ],
         "z": [
          2.445183753967285,
          0.7209832668304443,
          0.7209832668304443,
          2.599839210510254,
          2.599839210510254,
          2.566774368286133,
          2.599839210510254,
          2.566774368286133,
          2.445183753967285,
          0.7209832668304443,
          2.599839210510254,
          1.7004876136779785,
          3.3757269382476807,
          3.3757269382476807,
          1.9927829504013062,
          1.659385323524475,
          1.659385323524475,
          1.659385323524475,
          1.659385323524475,
          2.921992063522339,
          2.607311487197876,
          2.431234359741211,
          2.431234359741211,
          2.607311487197876,
          2.921992063522339,
          1.9927829504013062,
          2.431234359741211,
          2.607311487197876
         ]
        },
        {
         "marker": {
          "color": "#ffd8b1",
          "size": 4
         },
         "mode": "markers",
         "name": "umbrella",
         "type": "scatter3d",
         "x": [
          0.3118986487388611,
          1.3180437088012695,
          0.3118986487388611,
          1.1187710762023926,
          1.3180437088012695,
          1.3180437088012695,
          1.3180437088012695,
          1.4539446830749512,
          1.1187710762023926,
          2.266082763671875,
          2.266082763671875,
          -1.592741847038269,
          2.5954482555389404,
          2.266082763671875,
          2.266082763671875,
          1.2701741456985474,
          0.7481668591499329,
          2.2852818965911865,
          2.2852818965911865,
          2.2852818965911865,
          1.5375500917434692,
          1.5375500917434692,
          1.5375500917434692,
          2.159687042236328,
          1.2701741456985474,
          0.7481668591499329,
          2.2852818965911865,
          1.5375500917434692
         ],
         "y": [
          -0.41469794511795044,
          1.4417617321014404,
          -0.41469794511795044,
          -0.7530549764633179,
          1.4417617321014404,
          1.4417617321014404,
          1.4417617321014404,
          1.148629069328308,
          -0.7530549764633179,
          -0.3757328689098358,
          -0.3757328689098358,
          0.8097931742668152,
          0.13338853418827057,
          -0.3757328689098358,
          -0.3757328689098358,
          -1.8140443563461304,
          -2.2654457092285156,
          -1.0203336477279663,
          -1.0203336477279663,
          -1.0203336477279663,
          -0.88181471824646,
          -0.88181471824646,
          -0.88181471824646,
          -3.0767035484313965,
          -1.8140443563461304,
          -2.2654457092285156,
          -1.0203336477279663,
          -0.88181471824646
         ],
         "z": [
          -0.6172090172767639,
          -1.6248329877853394,
          -0.6172090172767639,
          -0.578511118888855,
          -1.6248329877853394,
          -1.6248329877853394,
          -1.6248329877853394,
          -1.4519879817962646,
          -0.578511118888855,
          -0.46963417530059814,
          -0.46963417530059814,
          0.6905975937843323,
          -0.6680243015289307,
          -0.46963417530059814,
          -0.46963417530059814,
          -1.038407564163208,
          -1.6085586547851562,
          -1.629949927330017,
          -1.629949927330017,
          -1.629949927330017,
          -0.47343140840530396,
          -0.47343140840530396,
          -0.47343140840530396,
          -0.8914691805839539,
          -1.038407564163208,
          -1.6085586547851562,
          -1.629949927330017,
          -0.47343140840530396
         ]
        },
        {
         "marker": {
          "color": "#000075",
          "size": 4
         },
         "mode": "markers",
         "name": "violin",
         "type": "scatter3d",
         "x": [
          1.0158089399337769,
          1.2406930923461914,
          1.2406930923461914,
          1.2457038164138794,
          1.0662987232208252,
          1.0430351495742798,
          1.2457038164138794,
          1.0430351495742798,
          1.3491315841674805,
          1.2406930923461914,
          1.3491315841674805,
          1.3079708814620972,
          1.2406930923461914,
          1.2406930923461914,
          1.2030454874038696,
          0.8300779461860657,
          1.0116900205612183,
          0.39583635330200195,
          1.0116900205612183,
          0.39583635330200195,
          0.39583635330200195,
          1.0116900205612183,
          1.0116900205612183,
          0.8300779461860657,
          0.39583635330200195,
          0.39583635330200195,
          1.0116900205612183,
          0.8300779461860657,
          1.3301117420196533,
          0.8300779461860657
         ],
         "y": [
          -1.0912152528762817,
          -2.755701780319214,
          -2.755701780319214,
          -3.041013479232788,
          -2.156411647796631,
          -2.7445919513702393,
          -3.041013479232788,
          -2.7445919513702393,
          -1.8903125524520874,
          -2.755701780319214,
          -1.8903125524520874,
          -1.3530333042144775,
          -2.755701780319214,
          -2.755701780319214,
          -2.0292396545410156,
          -2.5995898246765137,
          -2.042239189147949,
          -1.9311386346817017,
          -2.042239189147949,
          -1.9311386346817017,
          -1.9311386346817017,
          -2.042239189147949,
          -2.042239189147949,
          -2.5995898246765137,
          -1.9311386346817017,
          -1.9311386346817017,
          -2.042239189147949,
          -2.5995898246765137,
          -2.2813241481781006,
          -2.5995898246765137
         ],
         "z": [
          -2.2923848628997803,
          -3.770270347595215,
          -3.770270347595215,
          -3.4926071166992188,
          -1.8641847372055054,
          -2.7355048656463623,
          -3.4926071166992188,
          -2.7355048656463623,
          -4.082060813903809,
          -3.770270347595215,
          -4.082060813903809,
          -3.229757070541382,
          -3.770270347595215,
          -3.770270347595215,
          -4.530014514923096,
          -2.9348511695861816,
          -3.7008535861968994,
          -4.248158931732178,
          -3.7008535861968994,
          -4.248158931732178,
          -4.248158931732178,
          -3.7008535861968994,
          -3.7008535861968994,
          -2.9348511695861816,
          -4.248158931732178,
          -4.248158931732178,
          -3.7008535861968994,
          -2.9348511695861816,
          -2.9833860397338867,
          -2.9348511695861816
         ]
        },
        {
         "marker": {
          "color": "#808080",
          "size": 4
         },
         "mode": "markers",
         "name": "zebra",
         "type": "scatter3d",
         "x": [
          -0.08011890202760696,
          -3.994800329208374,
          -0.08011890202760696,
          -3.994800329208374,
          -4.539031028747559,
          -3.4276692867279053,
          -0.08011890202760696,
          -3.994800329208374,
          -4.7716965675354,
          -4.7716965675354,
          -3.975217819213867,
          -4.138731956481934,
          -4.925309658050537,
          -4.925309658050537
         ],
         "y": [
          -2.1481285095214844,
          0.1579837203025818,
          -2.1481285095214844,
          0.1579837203025818,
          -4.2165117263793945,
          0.5835558176040649,
          -2.1481285095214844,
          0.1579837203025818,
          -2.7456722259521484,
          -2.7456722259521484,
          -3.2518832683563232,
          -3.271996259689331,
          -2.567284345626831,
          -2.567284345626831
         ],
         "z": [
          0.8388703465461731,
          2.6409249305725098,
          0.8388703465461731,
          2.6409249305725098,
          2.17401123046875,
          3.52180814743042,
          0.8388703465461731,
          2.6409249305725098,
          1.432359218597412,
          1.432359218597412,
          0.9805640578269958,
          1.5720347166061401,
          1.708168864250183,
          1.708168864250183
         ]
        }
       ],
       "layout": {
        "template": {
         "data": {
          "bar": [
           {
            "error_x": {
             "color": "#2a3f5f"
            },
            "error_y": {
             "color": "#2a3f5f"
            },
            "marker": {
             "line": {
              "color": "#E5ECF6",
              "width": 0.5
             }
            },
            "type": "bar"
           }
          ],
          "barpolar": [
           {
            "marker": {
             "line": {
              "color": "#E5ECF6",
              "width": 0.5
             }
            },
            "type": "barpolar"
           }
          ],
          "carpet": [
           {
            "aaxis": {
             "endlinecolor": "#2a3f5f",
             "gridcolor": "white",
             "linecolor": "white",
             "minorgridcolor": "white",
             "startlinecolor": "#2a3f5f"
            },
            "baxis": {
             "endlinecolor": "#2a3f5f",
             "gridcolor": "white",
             "linecolor": "white",
             "minorgridcolor": "white",
             "startlinecolor": "#2a3f5f"
            },
            "type": "carpet"
           }
          ],
          "choropleth": [
           {
            "colorbar": {
             "outlinewidth": 0,
             "ticks": ""
            },
            "type": "choropleth"
           }
          ],
          "contour": [
           {
            "colorbar": {
             "outlinewidth": 0,
             "ticks": ""
            },
            "colorscale": [
             [
              0,
              "#0d0887"
             ],
             [
              0.1111111111111111,
              "#46039f"
             ],
             [
              0.2222222222222222,
              "#7201a8"
             ],
             [
              0.3333333333333333,
              "#9c179e"
             ],
             [
              0.4444444444444444,
              "#bd3786"
             ],
             [
              0.5555555555555556,
              "#d8576b"
             ],
             [
              0.6666666666666666,
              "#ed7953"
             ],
             [
              0.7777777777777778,
              "#fb9f3a"
             ],
             [
              0.8888888888888888,
              "#fdca26"
             ],
             [
              1,
              "#f0f921"
             ]
            ],
            "type": "contour"
           }
          ],
          "contourcarpet": [
           {
            "colorbar": {
             "outlinewidth": 0,
             "ticks": ""
            },
            "type": "contourcarpet"
           }
          ],
          "heatmap": [
           {
            "colorbar": {
             "outlinewidth": 0,
             "ticks": ""
            },
            "colorscale": [
             [
              0,
              "#0d0887"
             ],
             [
              0.1111111111111111,
              "#46039f"
             ],
             [
              0.2222222222222222,
              "#7201a8"
             ],
             [
              0.3333333333333333,
              "#9c179e"
             ],
             [
              0.4444444444444444,
              "#bd3786"
             ],
             [
              0.5555555555555556,
              "#d8576b"
             ],
             [
              0.6666666666666666,
              "#ed7953"
             ],
             [
              0.7777777777777778,
              "#fb9f3a"
             ],
             [
              0.8888888888888888,
              "#fdca26"
             ],
             [
              1,
              "#f0f921"
             ]
            ],
            "type": "heatmap"
           }
          ],
          "heatmapgl": [
           {
            "colorbar": {
             "outlinewidth": 0,
             "ticks": ""
            },
            "colorscale": [
             [
              0,
              "#0d0887"
             ],
             [
              0.1111111111111111,
              "#46039f"
             ],
             [
              0.2222222222222222,
              "#7201a8"
             ],
             [
              0.3333333333333333,
              "#9c179e"
             ],
             [
              0.4444444444444444,
              "#bd3786"
             ],
             [
              0.5555555555555556,
              "#d8576b"
             ],
             [
              0.6666666666666666,
              "#ed7953"
             ],
             [
              0.7777777777777778,
              "#fb9f3a"
             ],
             [
              0.8888888888888888,
              "#fdca26"
             ],
             [
              1,
              "#f0f921"
             ]
            ],
            "type": "heatmapgl"
           }
          ],
          "histogram": [
           {
            "marker": {
             "colorbar": {
              "outlinewidth": 0,
              "ticks": ""
             }
            },
            "type": "histogram"
           }
          ],
          "histogram2d": [
           {
            "colorbar": {
             "outlinewidth": 0,
             "ticks": ""
            },
            "colorscale": [
             [
              0,
              "#0d0887"
             ],
             [
              0.1111111111111111,
              "#46039f"
             ],
             [
              0.2222222222222222,
              "#7201a8"
             ],
             [
              0.3333333333333333,
              "#9c179e"
             ],
             [
              0.4444444444444444,
              "#bd3786"
             ],
             [
              0.5555555555555556,
              "#d8576b"
             ],
             [
              0.6666666666666666,
              "#ed7953"
             ],
             [
              0.7777777777777778,
              "#fb9f3a"
             ],
             [
              0.8888888888888888,
              "#fdca26"
             ],
             [
              1,
              "#f0f921"
             ]
            ],
            "type": "histogram2d"
           }
          ],
          "histogram2dcontour": [
           {
            "colorbar": {
             "outlinewidth": 0,
             "ticks": ""
            },
            "colorscale": [
             [
              0,
              "#0d0887"
             ],
             [
              0.1111111111111111,
              "#46039f"
             ],
             [
              0.2222222222222222,
              "#7201a8"
             ],
             [
              0.3333333333333333,
              "#9c179e"
             ],
             [
              0.4444444444444444,
              "#bd3786"
             ],
             [
              0.5555555555555556,
              "#d8576b"
             ],
             [
              0.6666666666666666,
              "#ed7953"
             ],
             [
              0.7777777777777778,
              "#fb9f3a"
             ],
             [
              0.8888888888888888,
              "#fdca26"
             ],
             [
              1,
              "#f0f921"
             ]
            ],
            "type": "histogram2dcontour"
           }
          ],
          "mesh3d": [
           {
            "colorbar": {
             "outlinewidth": 0,
             "ticks": ""
            },
            "type": "mesh3d"
           }
          ],
          "parcoords": [
           {
            "line": {
             "colorbar": {
              "outlinewidth": 0,
              "ticks": ""
             }
            },
            "type": "parcoords"
           }
          ],
          "pie": [
           {
            "automargin": true,
            "type": "pie"
           }
          ],
          "scatter": [
           {
            "marker": {
             "colorbar": {
              "outlinewidth": 0,
              "ticks": ""
             }
            },
            "type": "scatter"
           }
          ],
          "scatter3d": [
           {
            "line": {
             "colorbar": {
              "outlinewidth": 0,
              "ticks": ""
             }
            },
            "marker": {
             "colorbar": {
              "outlinewidth": 0,
              "ticks": ""
             }
            },
            "type": "scatter3d"
           }
          ],
          "scattercarpet": [
           {
            "marker": {
             "colorbar": {
              "outlinewidth": 0,
              "ticks": ""
             }
            },
            "type": "scattercarpet"
           }
          ],
          "scattergeo": [
           {
            "marker": {
             "colorbar": {
              "outlinewidth": 0,
              "ticks": ""
             }
            },
            "type": "scattergeo"
           }
          ],
          "scattergl": [
           {
            "marker": {
             "colorbar": {
              "outlinewidth": 0,
              "ticks": ""
             }
            },
            "type": "scattergl"
           }
          ],
          "scattermapbox": [
           {
            "marker": {
             "colorbar": {
              "outlinewidth": 0,
              "ticks": ""
             }
            },
            "type": "scattermapbox"
           }
          ],
          "scatterpolar": [
           {
            "marker": {
             "colorbar": {
              "outlinewidth": 0,
              "ticks": ""
             }
            },
            "type": "scatterpolar"
           }
          ],
          "scatterpolargl": [
           {
            "marker": {
             "colorbar": {
              "outlinewidth": 0,
              "ticks": ""
             }
            },
            "type": "scatterpolargl"
           }
          ],
          "scatterternary": [
           {
            "marker": {
             "colorbar": {
              "outlinewidth": 0,
              "ticks": ""
             }
            },
            "type": "scatterternary"
           }
          ],
          "surface": [
           {
            "colorbar": {
             "outlinewidth": 0,
             "ticks": ""
            },
            "colorscale": [
             [
              0,
              "#0d0887"
             ],
             [
              0.1111111111111111,
              "#46039f"
             ],
             [
              0.2222222222222222,
              "#7201a8"
             ],
             [
              0.3333333333333333,
              "#9c179e"
             ],
             [
              0.4444444444444444,
              "#bd3786"
             ],
             [
              0.5555555555555556,
              "#d8576b"
             ],
             [
              0.6666666666666666,
              "#ed7953"
             ],
             [
              0.7777777777777778,
              "#fb9f3a"
             ],
             [
              0.8888888888888888,
              "#fdca26"
             ],
             [
              1,
              "#f0f921"
             ]
            ],
            "type": "surface"
           }
          ],
          "table": [
           {
            "cells": {
             "fill": {
              "color": "#EBF0F8"
             },
             "line": {
              "color": "white"
             }
            },
            "header": {
             "fill": {
              "color": "#C8D4E3"
             },
             "line": {
              "color": "white"
             }
            },
            "type": "table"
           }
          ]
         },
         "layout": {
          "annotationdefaults": {
           "arrowcolor": "#2a3f5f",
           "arrowhead": 0,
           "arrowwidth": 1
          },
          "autotypenumbers": "strict",
          "coloraxis": {
           "colorbar": {
            "outlinewidth": 0,
            "ticks": ""
           }
          },
          "colorscale": {
           "diverging": [
            [
             0,
             "#8e0152"
            ],
            [
             0.1,
             "#c51b7d"
            ],
            [
             0.2,
             "#de77ae"
            ],
            [
             0.3,
             "#f1b6da"
            ],
            [
             0.4,
             "#fde0ef"
            ],
            [
             0.5,
             "#f7f7f7"
            ],
            [
             0.6,
             "#e6f5d0"
            ],
            [
             0.7,
             "#b8e186"
            ],
            [
             0.8,
             "#7fbc41"
            ],
            [
             0.9,
             "#4d9221"
            ],
            [
             1,
             "#276419"
            ]
           ],
           "sequential": [
            [
             0,
             "#0d0887"
            ],
            [
             0.1111111111111111,
             "#46039f"
            ],
            [
             0.2222222222222222,
             "#7201a8"
            ],
            [
             0.3333333333333333,
             "#9c179e"
            ],
            [
             0.4444444444444444,
             "#bd3786"
            ],
            [
             0.5555555555555556,
             "#d8576b"
            ],
            [
             0.6666666666666666,
             "#ed7953"
            ],
            [
             0.7777777777777778,
             "#fb9f3a"
            ],
            [
             0.8888888888888888,
             "#fdca26"
            ],
            [
             1,
             "#f0f921"
            ]
           ],
           "sequentialminus": [
            [
             0,
             "#0d0887"
            ],
            [
             0.1111111111111111,
             "#46039f"
            ],
            [
             0.2222222222222222,
             "#7201a8"
            ],
            [
             0.3333333333333333,
             "#9c179e"
            ],
            [
             0.4444444444444444,
             "#bd3786"
            ],
            [
             0.5555555555555556,
             "#d8576b"
            ],
            [
             0.6666666666666666,
             "#ed7953"
            ],
            [
             0.7777777777777778,
             "#fb9f3a"
            ],
            [
             0.8888888888888888,
             "#fdca26"
            ],
            [
             1,
             "#f0f921"
            ]
           ]
          },
          "colorway": [
           "#636efa",
           "#EF553B",
           "#00cc96",
           "#ab63fa",
           "#FFA15A",
           "#19d3f3",
           "#FF6692",
           "#B6E880",
           "#FF97FF",
           "#FECB52"
          ],
          "font": {
           "color": "#2a3f5f"
          },
          "geo": {
           "bgcolor": "white",
           "lakecolor": "white",
           "landcolor": "#E5ECF6",
           "showlakes": true,
           "showland": true,
           "subunitcolor": "white"
          },
          "hoverlabel": {
           "align": "left"
          },
          "hovermode": "closest",
          "mapbox": {
           "style": "light"
          },
          "paper_bgcolor": "white",
          "plot_bgcolor": "#E5ECF6",
          "polar": {
           "angularaxis": {
            "gridcolor": "white",
            "linecolor": "white",
            "ticks": ""
           },
           "bgcolor": "#E5ECF6",
           "radialaxis": {
            "gridcolor": "white",
            "linecolor": "white",
            "ticks": ""
           }
          },
          "scene": {
           "xaxis": {
            "backgroundcolor": "#E5ECF6",
            "gridcolor": "white",
            "gridwidth": 2,
            "linecolor": "white",
            "showbackground": true,
            "ticks": "",
            "zerolinecolor": "white"
           },
           "yaxis": {
            "backgroundcolor": "#E5ECF6",
            "gridcolor": "white",
            "gridwidth": 2,
            "linecolor": "white",
            "showbackground": true,
            "ticks": "",
            "zerolinecolor": "white"
           },
           "zaxis": {
            "backgroundcolor": "#E5ECF6",
            "gridcolor": "white",
            "gridwidth": 2,
            "linecolor": "white",
            "showbackground": true,
            "ticks": "",
            "zerolinecolor": "white"
           }
          },
          "shapedefaults": {
           "line": {
            "color": "#2a3f5f"
           }
          },
          "ternary": {
           "aaxis": {
            "gridcolor": "white",
            "linecolor": "white",
            "ticks": ""
           },
           "baxis": {
            "gridcolor": "white",
            "linecolor": "white",
            "ticks": ""
           },
           "bgcolor": "#E5ECF6",
           "caxis": {
            "gridcolor": "white",
            "linecolor": "white",
            "ticks": ""
           }
          },
          "title": {
           "x": 0.05
          },
          "xaxis": {
           "automargin": true,
           "gridcolor": "white",
           "linecolor": "white",
           "ticks": "",
           "title": {
            "standoff": 15
           },
           "zerolinecolor": "white",
           "zerolinewidth": 2
          },
          "yaxis": {
           "automargin": true,
           "gridcolor": "white",
           "linecolor": "white",
           "ticks": "",
           "title": {
            "standoff": 15
           },
           "zerolinecolor": "white",
           "zerolinewidth": 2
          }
         }
        },
        "title": {
         "text": "3D plot of the embeddings (projected with the PCA)"
        }
       }
      },
      "text/html": [
       "<div>                            <div id=\"47124d56-2234-4341-8c6b-2c9cc352418c\" class=\"plotly-graph-div\" style=\"height:525px; width:100%;\"></div>            <script type=\"text/javascript\">                require([\"plotly\"], function(Plotly) {                    window.PLOTLYENV=window.PLOTLYENV || {};                                    if (document.getElementById(\"47124d56-2234-4341-8c6b-2c9cc352418c\")) {                    Plotly.newPlot(                        \"47124d56-2234-4341-8c6b-2c9cc352418c\",                        [{\"marker\": {\"color\": \"#e6194b\", \"size\": 4}, \"mode\": \"markers\", \"name\": \"butterfly\", \"type\": \"scatter3d\", \"x\": [-1.3922138214111328, -1.433207631111145, -1.3922138214111328, -1.433207631111145, -0.24429285526275635, -1.433207631111145, 0.3311147689819336, 0.029809845611453056, 0.3311147689819336, 0.2812080383300781, 0.2812080383300781, -1.3922138214111328, -1.433207631111145, 0.029809845611453056, 0.2812080383300781, -1.8392746448516846, -0.8974252939224243, -1.7574180364608765, -1.7574180364608765, -1.8392746448516846, -1.7574180364608765, -1.7574180364608765, -0.8974252939224243, -0.8974252939224243, -1.7574180364608765, -0.8974252939224243, -0.8974252939224243, -1.7574180364608765, -0.8974252939224243, -1.7075313329696655, -1.2478749752044678, -1.7075313329696655, -1.2478749752044678, -1.8392746448516846], \"y\": [4.5145463943481445, 4.005286693572998, 4.5145463943481445, 4.005286693572998, 3.1464426517486572, 4.005286693572998, 1.2538371086120605, 4.583713531494141, 1.2538371086120605, 2.4310364723205566, 2.4310364723205566, 4.5145463943481445, 4.005286693572998, 4.583713531494141, 2.4310364723205566, 3.501755952835083, 3.3136379718780518, 4.796516418457031, 4.796516418457031, 3.501755952835083, 4.796516418457031, 4.796516418457031, 3.3136379718780518, 3.3136379718780518, 4.796516418457031, 3.3136379718780518, 3.3136379718780518, 4.796516418457031, 3.3136379718780518, 4.431153297424316, 5.5423903465271, 4.431153297424316, 5.5423903465271, 3.501755952835083], \"z\": [0.24421249330043793, 0.7932721376419067, 0.24421249330043793, 0.7932721376419067, 0.23359619081020355, 0.7932721376419067, -1.0666017532348633, 0.7836208939552307, -1.0666017532348633, 0.37170425057411194, 0.37170425057411194, 0.24421249330043793, 0.7932721376419067, 0.7836208939552307, 0.37170425057411194, 0.31714922189712524, -0.5463647246360779, 0.06811577081680298, 0.06811577081680298, 0.31714922189712524, 0.06811577081680298, 0.06811577081680298, -0.5463647246360779, -0.5463647246360779, 0.06811577081680298, -0.5463647246360779, -0.5463647246360779, 0.06811577081680298, -0.5463647246360779, -0.10621336102485657, -0.63966304063797, -0.10621336102485657, -0.63966304063797, 0.31714922189712524]}, {\"marker\": {\"color\": \"#3cb44b\", \"size\": 4}, \"mode\": \"markers\", \"name\": \"candle\", \"type\": \"scatter3d\", \"x\": [3.3413567543029785, 2.4188194274902344, 2.94227933883667, 2.829721689224243, 2.588301181793213, 2.4188194274902344, 2.94227933883667, 2.94227933883667, 3.3413567543029785, 2.94227933883667, 2.4188194274902344, 1.5854061841964722, 3.664917469024658, 3.664917469024658, -0.09900995343923569, -0.09900995343923569, 1.5854061841964722, 1.5854061841964722, 1.5854061841964722, 2.9855997562408447, -0.09900995343923569], \"y\": [-0.021736204624176025, -0.09522417187690735, -0.38976970314979553, 0.5341061949729919, 0.3241700232028961, -0.09522417187690735, -0.38976970314979553, -0.38976970314979553, -0.021736204624176025, -0.38976970314979553, -0.09522417187690735, 0.8094029426574707, -0.35507673025131226, -0.35507673025131226, -0.09079144895076752, -0.09079144895076752, 0.8094029426574707, 0.8094029426574707, 0.8094029426574707, 0.7609228491783142, -0.09079144895076752], \"z\": [1.9579468965530396, 1.9337726831436157, 1.4713088274002075, 1.2699899673461914, 1.5646517276763916, 1.9337726831436157, 1.4713088274002075, 1.4713088274002075, 1.9579468965530396, 1.4713088274002075, 1.9337726831436157, 0.9553197622299194, 1.7210930585861206, 1.7210930585861206, 1.3662587404251099, 1.3662587404251099, 0.9553197622299194, 0.9553197622299194, 0.9553197622299194, 2.578538656234741, 1.3662587404251099]}, {\"marker\": {\"color\": \"#ffe119\", \"size\": 4}, \"mode\": \"markers\", \"name\": \"church\", \"type\": \"scatter3d\", \"x\": [3.596547842025757, 3.596547842025757, 2.074331760406494, 2.6417529582977295, 2.9584474563598633, 2.6417529582977295, 3.596547842025757, 2.9380013942718506, 3.596547842025757, 2.9380013942718506, 2.074331760406494, 3.596547842025757, 3.596547842025757, 2.466860294342041, 2.466860294342041, 1.7286561727523804, 3.170295000076294, 1.7286561727523804, 3.170295000076294, 1.7286561727523804, 1.9282519817352295, 1.9282519817352295, 3.170295000076294], \"y\": [-1.7892131805419922, -1.7892131805419922, -2.356865882873535, -1.2329810857772827, -2.062844753265381, -1.2329810857772827, -1.7892131805419922, -1.557631015777588, -1.7892131805419922, -1.557631015777588, -2.356865882873535, -1.7892131805419922, -1.7892131805419922, -2.3638100624084473, -2.3638100624084473, -1.6610442399978638, -2.5650196075439453, -1.6610442399978638, -2.5650196075439453, -1.6610442399978638, -2.6972224712371826, -2.6972224712371826, -2.5650196075439453], \"z\": [2.0806777477264404, 2.0806777477264404, 1.506113052368164, 2.71596097946167, 1.726352572441101, 2.71596097946167, 2.0806777477264404, 2.1515285968780518, 2.0806777477264404, 2.1515285968780518, 1.506113052368164, 2.0806777477264404, 2.0806777477264404, 2.0148496627807617, 2.0148496627807617, 2.4037349224090576, 1.724483609199524, 2.4037349224090576, 1.724483609199524, 2.4037349224090576, 1.6975862979888916, 1.6975862979888916, 1.724483609199524]}, {\"marker\": {\"color\": \"#4363d8\", \"size\": 4}, \"mode\": \"markers\", \"name\": \"cup\", \"type\": \"scatter3d\", \"x\": [3.926748752593994, 3.14643931388855, 1.5046874284744263, 4.370834827423096, 1.5046874284744263, 3.7748372554779053, 1.5046874284744263, 2.8410232067108154, 2.8410232067108154, 3.926748752593994, 3.926748752593994, 3.9555890560150146, 2.90120267868042, 2.90120267868042, 3.9555890560150146, 4.420091152191162, 4.420091152191162, 3.9555890560150146, 2.90120267868042, 4.420091152191162, 4.420091152191162, 4.083465099334717, 2.90120267868042], \"y\": [1.556879997253418, 0.0006642701337113976, 1.9336047172546387, 1.6440973281860352, 1.9336047172546387, 2.1068739891052246, 1.9336047172546387, 1.4773914813995361, 1.4773914813995361, 1.556879997253418, 1.556879997253418, 1.7975023984909058, 2.2445433139801025, 2.2445433139801025, 1.7975023984909058, 1.5238157510757446, 1.5238157510757446, 1.7975023984909058, 2.2445433139801025, 1.5238157510757446, 1.5238157510757446, 1.1702165603637695, 2.2445433139801025], \"z\": [1.3411952257156372, 1.2174404859542847, -0.8993011116981506, 1.1935333013534546, -0.8993011116981506, 0.12969082593917847, -0.8993011116981506, 0.2131025344133377, 0.2131025344133377, 1.3411952257156372, 1.3411952257156372, 0.07472658902406693, -0.051302358508110046, -0.051302358508110046, 0.07472658902406693, -0.8514193296432495, -0.8514193296432495, 0.07472658902406693, -0.051302358508110046, -0.8514193296432495, -0.8514193296432495, 0.23108495771884918, -0.051302358508110046]}, {\"marker\": {\"color\": \"#f58231\", \"size\": 4}, \"mode\": \"markers\", \"name\": \"door\", \"type\": \"scatter3d\", \"x\": [5.6496477127075195, 5.26544713973999, 5.084928512573242, 5.6496477127075195, 3.8625855445861816, 5.26544713973999, 2.6382627487182617, 5.084928512573242, 2.6382627487182617, 3.8625855445861816, 3.944044828414917, 5.084928512573242, 5.262272357940674, 5.262272357940674, 5.26544713973999, 5.6496477127075195, 5.262272357940674, 6.4516496658325195, 8.90224838256836, 8.90224838256836, 7.422056198120117, 7.422056198120117, 9.400349617004395, 7.422056198120117, 7.422056198120117, 6.4516496658325195, 8.90224838256836, 6.4516496658325195, 7.422056198120117, 6.47200345993042], \"y\": [-1.1613894701004028, -1.2733557224273682, -1.5623369216918945, -1.1613894701004028, -2.170137882232666, -1.2733557224273682, -1.8205112218856812, -1.5623369216918945, -1.8205112218856812, -2.170137882232666, -1.5318264961242676, -1.5623369216918945, -1.7418948411941528, -1.7418948411941528, -1.2733557224273682, -1.1613894701004028, -1.7418948411941528, -2.279226779937744, -3.6001126766204834, -3.6001126766204834, -2.769582748413086, -2.769582748413086, -3.4857871532440186, -2.769582748413086, -2.769582748413086, -2.279226779937744, -3.6001126766204834, -2.279226779937744, -2.769582748413086, -2.6338930130004883], \"z\": [2.3629374504089355, 2.27199125289917, 2.773946762084961, 2.3629374504089355, 0.5577479004859924, 2.27199125289917, 1.754482626914978, 2.773946762084961, 1.754482626914978, 0.5577479004859924, 1.5577597618103027, 2.773946762084961, 3.079599380493164, 3.079599380493164, 2.27199125289917, 2.3629374504089355, 3.079599380493164, 1.7795525789260864, 2.692730188369751, 2.692730188369751, 2.4711215496063232, 2.4711215496063232, 2.4132816791534424, 2.4711215496063232, 2.4711215496063232, 1.7795525789260864, 2.692730188369751, 1.7795525789260864, 2.4711215496063232, 1.2055418491363525]}, {\"marker\": {\"color\": \"#911eb4\", \"size\": 4}, \"mode\": \"markers\", \"name\": \"hat\", \"type\": \"scatter3d\", \"x\": [1.3180376291275024, 0.9566157460212708, 0.9566157460212708, 1.3706042766571045, 1.3180376291275024, 1.7262824773788452, 0.9566157460212708, -0.2863394021987915, 0.9566157460212708, 0.09589600563049316, -3.449676513671875, 0.09589600563049316, -0.5475992560386658, 2.253980875015259, 2.253980875015259, -3.449676513671875, -3.449676513671875, -3.449676513671875, -0.5475992560386658], \"y\": [-1.2116445302963257, 1.0347931385040283, 1.0347931385040283, 1.1415984630584717, -1.2116445302963257, -1.6147631406784058, 1.0347931385040283, 0.43942779302597046, 1.0347931385040283, -2.1007089614868164, -2.5302023887634277, -2.1007089614868164, -0.7046741247177124, -1.9994233846664429, -1.9994233846664429, -2.5302023887634277, -2.5302023887634277, -2.5302023887634277, -0.7046741247177124], \"z\": [-2.2172975540161133, -0.9695106744766235, -0.9695106744766235, -1.735266089439392, -2.2172975540161133, -1.2596505880355835, -0.9695106744766235, -2.749791145324707, -0.9695106744766235, 0.36092615127563477, 0.1444186419248581, 0.36092615127563477, -1.4651271104812622, -0.6536624431610107, -0.6536624431610107, 0.1444186419248581, 0.1444186419248581, 0.1444186419248581, -1.4651271104812622]}, {\"marker\": {\"color\": \"#46f0f0\", \"size\": 4}, \"mode\": \"markers\", \"name\": \"hedgehog\", \"type\": \"scatter3d\", \"x\": [-1.5402698516845703, -2.1404809951782227, -2.007066249847412, -1.5402698516845703, -3.2635293006896973, -3.2635293006896973, -1.3059202432632446, -2.8948285579681396, -2.007066249847412, -2.5575437545776367, -2.8948285579681396, -1.3059202432632446, -1.8442639112472534, -1.3059202432632446, -2.641521453857422, -2.641521453857422, -2.641521453857422, -3.0836234092712402, -3.290311574935913, -2.641521453857422, -2.641521453857422], \"y\": [2.740863561630249, 0.9208054542541504, 3.09110426902771, 2.740863561630249, 1.610751748085022, 1.610751748085022, 2.284712553024292, 1.293993353843689, 3.09110426902771, 2.733182907104492, 1.293993353843689, 2.284712553024292, 1.1144033670425415, 2.284712553024292, 0.9123638272285461, 0.9123638272285461, 0.9123638272285461, 2.2431480884552, 1.8909755945205688, 0.9123638272285461, 0.9123638272285461], \"z\": [3.738330841064453, 2.362855911254883, 3.417382001876831, 3.738330841064453, 2.072314977645874, 2.072314977645874, 4.185455799102783, 2.288597345352173, 3.417382001876831, 4.003870487213135, 2.288597345352173, 4.185455799102783, 3.18084454536438, 4.185455799102783, 2.117072582244873, 2.117072582244873, 2.117072582244873, 3.214318037033081, 3.525434732437134, 2.117072582244873, 2.117072582244873]}, {\"marker\": {\"color\": \"#f032e6\", \"size\": 4}, \"mode\": \"markers\", \"name\": \"helicopter\", \"type\": \"scatter3d\", \"x\": [0.116717629134655, -2.124842643737793, -0.553826630115509, -0.49697351455688477, 0.116717629134655, -2.124842643737793, 0.1402980387210846, -0.553826630115509, -0.4694502055644989, -1.5639609098434448, -1.1364023685455322, -0.029233120381832123, -1.5639609098434448, -0.029233120381832123, -1.5639609098434448, -1.7331974506378174, -0.029233120381832123, -1.7331974506378174], \"y\": [-1.3228310346603394, -0.03183959051966667, 2.350065231323242, 0.0038466753903776407, -1.3228310346603394, -0.03183959051966667, -1.629989504814148, 2.350065231323242, -0.26221296191215515, -0.40922027826309204, 0.41113460063934326, -1.2126741409301758, -0.40922027826309204, -1.2126741409301758, -0.40922027826309204, 0.03375903517007828, -1.2126741409301758, 0.03375903517007828], \"z\": [-0.4326726496219635, 0.012103183194994926, 1.3890109062194824, -1.2162572145462036, -0.4326726496219635, 0.012103183194994926, 0.4147663116455078, 1.3890109062194824, 0.012918640859425068, -0.6705599427223206, -0.10551854968070984, -0.6484235525131226, -0.6705599427223206, -0.6484235525131226, -0.6705599427223206, -1.3760579824447632, -0.6484235525131226, -1.3760579824447632]}, {\"marker\": {\"color\": \"#bcf60c\", \"size\": 4}, \"mode\": \"markers\", \"name\": \"horse\", \"type\": \"scatter3d\", \"x\": [-5.314877986907959, -0.6407150030136108, -3.155014753341675, -3.560600996017456, -0.6407150030136108, -0.4009268879890442, -3.560600996017456, -4.777493476867676, -3.155014753341675, -5.314877986907959, -3.560600996017456, -4.777493476867676, -4.777493476867676, -3.845338821411133, -4.777493476867676, -3.845338821411133, -5.049290657043457, -4.777493476867676, -3.5154144763946533, -3.5154144763946533, -2.9794833660125732, -4.477049827575684, -3.5154144763946533, -3.5154144763946533, -4.13826322555542, -4.477049827575684, -3.5154144763946533, -2.4794921875, -3.8112752437591553, -4.13826322555542, -3.8112752437591553, -3.7111847400665283, -4.740597724914551, -3.8112752437591553, -3.5154144763946533, -4.740597724914551, -4.477049827575684, -3.7111847400665283, -4.477049827575684, -4.13826322555542], \"y\": [-2.7695400714874268, -1.7112776041030884, -3.2180016040802, -2.272428035736084, -1.7112776041030884, -2.0207855701446533, -2.272428035736084, -3.803042411804199, -3.2180016040802, -2.7695400714874268, -2.272428035736084, -3.803042411804199, -3.803042411804199, -3.477708339691162, -3.803042411804199, -3.477708339691162, -1.796573281288147, -3.803042411804199, -0.34270358085632324, -0.34270358085632324, -3.376495599746704, -2.9165897369384766, -0.34270358085632324, -0.34270358085632324, -2.4132468700408936, -2.9165897369384766, -0.34270358085632324, -2.4322354793548584, -2.8068692684173584, -2.4132468700408936, -2.8068692684173584, -1.7836869955062866, -2.9694371223449707, -2.8068692684173584, -0.34270358085632324, -2.9694371223449707, -2.9165897369384766, -1.7836869955062866, -2.9165897369384766, -2.4132468700408936], \"z\": [1.1887344121932983, -0.17573687434196472, 0.6820789575576782, 0.27836593985557556, -0.17573687434196472, 0.05469673126935959, 0.27836593985557556, 2.3010008335113525, 0.6820789575576782, 1.1887344121932983, 0.27836593985557556, 2.3010008335113525, 2.3010008335113525, 1.1586897373199463, 2.3010008335113525, 1.1586897373199463, 1.0353443622589111, 2.3010008335113525, -0.5971983671188354, -0.5971983671188354, 0.015416787937283516, 1.247259497642517, -0.5971983671188354, -0.5971983671188354, 0.2773332893848419, 1.247259497642517, -0.5971983671188354, -1.1109899282455444, 0.34710583090782166, 0.2773332893848419, 0.34710583090782166, 1.6145552396774292, -0.3959367573261261, 0.34710583090782166, -0.5971983671188354, -0.3959367573261261, 1.247259497642517, 1.6145552396774292, 1.247259497642517, 0.2773332893848419]}, {\"marker\": {\"color\": \"#fabebe\", \"size\": 4}, \"mode\": \"markers\", \"name\": \"pineapple\", \"type\": \"scatter3d\", \"x\": [1.4683198928833008, 0.23608911037445068, 1.4683198928833008, -0.248937726020813, -0.5694243311882019, -0.4182194173336029, 0.23608911037445068, -0.4182194173336029, -0.552560031414032, -0.4182194173336029, 0.23608911037445068, -0.4182194173336029, -0.5377354025840759, -0.5377354025840759, 0.31566816568374634, 0.7046363353729248, 0.7046363353729248, 0.31566816568374634, 0.31566816568374634, 0.31566816568374634], \"y\": [3.7219507694244385, 2.492621421813965, 3.7219507694244385, 2.7787399291992188, 2.9142463207244873, 1.8760298490524292, 2.492621421813965, 1.8760298490524292, 2.792184829711914, 1.8760298490524292, 2.492621421813965, 1.8760298490524292, 3.650012254714966, 3.650012254714966, 2.7773396968841553, 5.407647609710693, 5.407647609710693, 2.7773396968841553, 2.7773396968841553, 2.7773396968841553], \"z\": [3.884228229522705, 3.481956958770752, 3.884228229522705, 2.1417665481567383, 3.7595887184143066, 2.253791570663452, 3.481956958770752, 2.253791570663452, 3.5950767993927, 2.253791570663452, 3.481956958770752, 2.253791570663452, 1.805294394493103, 1.805294394493103, 2.329455852508545, 6.689390182495117, 6.689390182495117, 2.329455852508545, 2.329455852508545, 2.329455852508545]}, {\"marker\": {\"color\": \"#008080\", \"size\": 4}, \"mode\": \"markers\", \"name\": \"rifle\", \"type\": \"scatter3d\", \"x\": [0.015366923995316029, 0.059231217950582504, 0.015366923995316029, -0.5972068309783936, 0.11461085081100464, -0.23304171860218048, 0.4948310852050781, 0.23654066026210785, -0.5972068309783936, -0.5662977695465088, -0.5972068309783936, -0.5662977695465088, 0.059231217950582504, 0.4948310852050781, -0.23304171860218048, -0.5972068309783936, 0.4948310852050781, 0.11461085081100464, -0.28027209639549255, -0.5406526327133179, -0.28027209639549255, 1.8028359413146973, -0.28027209639549255, -0.28027209639549255, -0.5406526327133179, 1.8028359413146973, -0.28027209639549255, -0.5406526327133179, 1.8028359413146973, -0.035167794674634933, 1.8028359413146973], \"y\": [-3.0856997966766357, -2.9975199699401855, -3.0856997966766357, -1.562166452407837, -2.508427619934082, -1.913557529449463, -3.028841972351074, -2.7012035846710205, -1.562166452407837, -0.7920294404029846, -1.562166452407837, -0.7920294404029846, -2.9975199699401855, -3.028841972351074, -1.913557529449463, -1.562166452407837, -3.028841972351074, -2.508427619934082, -3.7922067642211914, -3.6442956924438477, -3.7922067642211914, 0.23641861975193024, -3.7922067642211914, -3.7922067642211914, -3.6442956924438477, 0.23641861975193024, -3.7922067642211914, -3.6442956924438477, 0.23641861975193024, -2.0658516883850098, 0.23641861975193024], \"z\": [-1.3702682256698608, -0.8832516670227051, -1.3702682256698608, -1.2819284200668335, -1.5800646543502808, -2.8673360347747803, -0.1645863801240921, -0.4573805630207062, -1.2819284200668335, -0.7228601574897766, -1.2819284200668335, -0.7228601574897766, -0.8832516670227051, -0.1645863801240921, -2.8673360347747803, -1.2819284200668335, -0.1645863801240921, -1.5800646543502808, -2.1085875034332275, -2.4289183616638184, -2.1085875034332275, 1.1121482849121094, -2.1085875034332275, -2.1085875034332275, -2.4289183616638184, 1.1121482849121094, -2.1085875034332275, -2.4289183616638184, 1.1121482849121094, -2.7766380310058594, 1.1121482849121094]}, {\"marker\": {\"color\": \"#e6beff\", \"size\": 4}, \"mode\": \"markers\", \"name\": \"shark\", \"type\": \"scatter3d\", \"x\": [-2.1783392429351807, -2.7722902297973633, -2.1783392429351807, -2.7722902297973633, -2.238018751144409, -2.7034480571746826, -2.1783392429351807, -2.7722902297973633, -1.2886313199996948, -1.2886313199996948, -2.7034480571746826, -1.4149630069732666, -1.4149630069732666, -2.1783392429351807, -1.4149630069732666, -1.4149630069732666, -3.391892910003662, -3.297495126724243, -3.297495126724243, -3.297495126724243, -3.391892910003662, -3.297495126724243, -3.391892910003662, -2.1699233055114746, -3.297495126724243, -3.297495126724243, -3.297495126724243, -3.391892910003662], \"y\": [2.044180154800415, -0.27857401967048645, 2.044180154800415, -0.27857401967048645, 0.19801940023899078, 0.5088156461715698, 2.044180154800415, -0.27857401967048645, -0.6797749400138855, -0.6797749400138855, 0.5088156461715698, 0.4099375009536743, 0.4099375009536743, 2.044180154800415, 0.4099375009536743, 0.4099375009536743, -0.477578729391098, 0.3852890133857727, 0.3852890133857727, 0.3852890133857727, -0.477578729391098, 0.3852890133857727, -0.477578729391098, 1.4978593587875366, 0.3852890133857727, 0.3852890133857727, 0.3852890133857727, -0.477578729391098], \"z\": [-0.7917640209197998, -2.2490503787994385, -0.7917640209197998, -2.2490503787994385, -2.414454698562622, -1.9047572612762451, -0.7917640209197998, -2.2490503787994385, -1.9962269067764282, -1.9962269067764282, -1.9047572612762451, -2.4184675216674805, -2.4184675216674805, -0.7917640209197998, -2.4184675216674805, -2.4184675216674805, -2.8692691326141357, -2.3970043659210205, -2.3970043659210205, -2.3970043659210205, -2.8692691326141357, -2.3970043659210205, -2.8692691326141357, -2.5220797061920166, -2.3970043659210205, -2.3970043659210205, -2.3970043659210205, -2.8692691326141357]}, {\"marker\": {\"color\": \"#9a6324\", \"size\": 4}, \"mode\": \"markers\", \"name\": \"snail\", \"type\": \"scatter3d\", \"x\": [0.18965770304203033, 0.18965770304203033, -0.976952850818634, -0.976952850818634, 2.53784441947937, 1.6336833238601685, 1.2805163860321045, 1.2805163860321045, 1.2372037172317505, 2.3854727745056152, 1.7393221855163574, 1.2805163860321045, 1.2805163860321045, 2.3854727745056152, 1.7393221855163574, 1.7393221855163574, 1.2372037172317505, 1.2372037172317505, 2.3854727745056152, 1.2805163860321045, 1.2372037172317505, 2.3854727745056152, 1.2372037172317505], \"y\": [3.7116010189056396, 3.7116010189056396, 3.525179862976074, 3.525179862976074, 4.609152793884277, 3.5256147384643555, 4.174925804138184, 4.174925804138184, 3.504671335220337, 4.98976993560791, 3.333019971847534, 4.174925804138184, 4.174925804138184, 4.98976993560791, 3.333019971847534, 3.333019971847534, 3.504671335220337, 3.504671335220337, 4.98976993560791, 4.174925804138184, 3.504671335220337, 4.98976993560791, 3.504671335220337], \"z\": [-2.9021360874176025, -2.9021360874176025, -1.5174328088760376, -1.5174328088760376, -3.3307406902313232, -3.3092775344848633, -3.022213935852051, -3.022213935852051, -1.7110564708709717, -4.4203290939331055, -2.794504165649414, -3.022213935852051, -3.022213935852051, -4.4203290939331055, -2.794504165649414, -2.794504165649414, -1.7110564708709717, -1.7110564708709717, -4.4203290939331055, -3.022213935852051, -1.7110564708709717, -4.4203290939331055, -1.7110564708709717]}, {\"marker\": {\"color\": \"#fffac8\", \"size\": 4}, \"mode\": \"markers\", \"name\": \"snake\", \"type\": \"scatter3d\", \"x\": [-1.394161343574524, 0.21381144225597382, -1.394161343574524, -0.05686522275209427, 0.21381144225597382, 0.06719927489757538, 0.06719927489757538, 0.21381144225597382, 0.06719927489757538, -0.4479779005050659, -0.7284421920776367, -1.1010953187942505, -0.7284421920776367, -0.4479779005050659, -1.5767395496368408, -0.7284421920776367, -1.008367657661438, -1.5767395496368408, -0.4479779005050659, -0.4479779005050659, -1.5767395496368408, -1.008367657661438, -0.7284421920776367, -0.7284421920776367, -0.4479779005050659, -1.5767395496368408, -1.1010953187942505, -0.8956899046897888], \"y\": [0.24772381782531738, 1.0956372022628784, 0.24772381782531738, -0.8133177757263184, 1.0956372022628784, 1.007526159286499, 1.007526159286499, 1.0956372022628784, 1.007526159286499, -0.3902260959148407, 1.7483432292938232, 0.23936882615089417, 1.7483432292938232, -0.3902260959148407, 1.7155373096466064, 1.7483432292938232, -0.07134617865085602, 1.7155373096466064, -0.3902260959148407, -0.3902260959148407, 1.7155373096466064, -0.07134617865085602, 1.7483432292938232, 1.7483432292938232, -0.3902260959148407, 1.7155373096466064, 0.23936882615089417, 0.6175006628036499], \"z\": [-3.919609308242798, -4.323899745941162, -3.919609308242798, -4.311848163604736, -4.323899745941162, -4.056612014770508, -4.056612014770508, -4.323899745941162, -4.056612014770508, 0.21877431869506836, -2.2130985260009766, -4.650590896606445, -2.2130985260009766, 0.21877431869506836, 0.9121012091636658, -2.2130985260009766, -5.238226890563965, 0.9121012091636658, 0.21877431869506836, 0.21877431869506836, 0.9121012091636658, -5.238226890563965, -2.2130985260009766, -2.2130985260009766, 0.21877431869506836, 0.9121012091636658, -4.650590896606445, -6.296419620513916]}, {\"marker\": {\"color\": \"#800000\", \"size\": 4}, \"mode\": \"markers\", \"name\": \"teapot\", \"type\": \"scatter3d\", \"x\": [2.710496187210083, 2.710496187210083, 3.2540924549102783, 2.095900297164917, 0.8393591046333313, -0.2059406340122223, 2.710496187210083, 2.710496187210083, 2.095900297164917, -0.2059406340122223, 0.10028493404388428, 1.1447677612304688, 0.10028493404388428, 0.10028493404388428, 0.10028493404388428, -0.17733924090862274, 2.863239049911499, -0.17733924090862274, 0.10028493404388428, 0.10028493404388428, 2.863239049911499, 2.863239049911499, 1.1447677612304688], \"y\": [2.486093044281006, 2.486093044281006, 2.1767313480377197, 1.7079352140426636, 1.7783347368240356, 0.8060131072998047, 2.486093044281006, 2.486093044281006, 1.7079352140426636, 0.8060131072998047, -0.3769841492176056, 1.1154301166534424, -0.3769841492176056, -0.3769841492176056, -0.3769841492176056, -2.5182347297668457, 2.605116844177246, -2.5182347297668457, -0.3769841492176056, -0.3769841492176056, 2.605116844177246, 2.605116844177246, 1.1154301166534424], \"z\": [-0.07170351594686508, -0.07170351594686508, -0.29270902276039124, -0.3314305543899536, -0.9027703404426575, -2.143217086791992, -0.07170351594686508, -0.07170351594686508, -0.3314305543899536, -2.143217086791992, -1.9023405313491821, -2.6994431018829346, -1.9023405313491821, -1.9023405313491821, -1.9023405313491821, -0.012342664413154125, 0.5241098999977112, -0.012342664413154125, -1.9023405313491821, -1.9023405313491821, 0.5241098999977112, 0.5241098999977112, -2.6994431018829346]}, {\"marker\": {\"color\": \"#aaffc3\", \"size\": 4}, \"mode\": \"markers\", \"name\": \"teddy_bear\", \"type\": \"scatter3d\", \"x\": [-2.445474624633789, -0.9610748291015625, -0.09124067425727844, -0.6959588527679443, -0.6959588527679443, -0.09124067425727844, 0.3913402259349823, -0.24905972182750702, -1.210707187652588, -0.8701852560043335, 0.13354040682315826, -0.09904361516237259, -0.8701852560043335, -0.09904361516237259, 0.9994637370109558, -0.8701852560043335, -0.8701852560043335, -0.8701852560043335], \"y\": [1.5231685638427734, 1.2678755521774292, 0.5512387752532959, 2.0508804321289062, 2.0508804321289062, 0.5512387752532959, -0.1157056912779808, 0.23630933463573456, -0.10308420658111572, 1.7746704816818237, 1.3058974742889404, 0.9169424176216125, 1.7746704816818237, 0.9169424176216125, 0.5745382308959961, 1.7746704816818237, 1.7746704816818237, 1.7746704816818237], \"z\": [2.9797286987304688, 0.5763148665428162, 0.9303964376449585, 0.6676007509231567, 0.6676007509231567, 0.9303964376449585, 1.7121704816818237, 0.2740100026130676, 2.4485580921173096, 1.1989400386810303, 1.7103599309921265, 1.987990140914917, 1.1989400386810303, 1.987990140914917, 1.2680855989456177, 1.1989400386810303, 1.1989400386810303, 1.1989400386810303]}, {\"marker\": {\"color\": \"#808000\", \"size\": 4}, \"mode\": \"markers\", \"name\": \"tiger\", \"type\": \"scatter3d\", \"x\": [-3.7379610538482666, -3.0299763679504395, -3.0299763679504395, -4.101757049560547, -4.101757049560547, -1.9926588535308838, -4.101757049560547, -1.9926588535308838, -3.7379610538482666, -3.0299763679504395, -4.101757049560547, -2.6373565196990967, -4.475390911102295, -4.475390911102295, -4.224230766296387, -4.064676761627197, -4.064676761627197, -4.064676761627197, -4.064676761627197, -4.344858169555664, -3.5629405975341797, -3.54055118560791, -3.54055118560791, -3.5629405975341797, -4.344858169555664, -4.224230766296387, -3.54055118560791, -3.5629405975341797], \"y\": [-2.132943868637085, 0.6543067693710327, 0.6543067693710327, 0.4675232172012329, 0.4675232172012329, -3.7575433254241943, 0.4675232172012329, -3.7575433254241943, -2.132943868637085, 0.6543067693710327, 0.4675232172012329, 0.570677638053894, -2.844587802886963, -2.844587802886963, -0.9050679206848145, -0.4131813049316406, -0.4131813049316406, -0.4131813049316406, -0.4131813049316406, -1.4782270193099976, -0.651914119720459, -0.7489299774169922, -0.7489299774169922, -0.651914119720459, -1.4782270193099976, -0.9050679206848145, -0.7489299774169922, -0.651914119720459], \"z\": [2.445183753967285, 0.7209832668304443, 0.7209832668304443, 2.599839210510254, 2.599839210510254, 2.566774368286133, 2.599839210510254, 2.566774368286133, 2.445183753967285, 0.7209832668304443, 2.599839210510254, 1.7004876136779785, 3.3757269382476807, 3.3757269382476807, 1.9927829504013062, 1.659385323524475, 1.659385323524475, 1.659385323524475, 1.659385323524475, 2.921992063522339, 2.607311487197876, 2.431234359741211, 2.431234359741211, 2.607311487197876, 2.921992063522339, 1.9927829504013062, 2.431234359741211, 2.607311487197876]}, {\"marker\": {\"color\": \"#ffd8b1\", \"size\": 4}, \"mode\": \"markers\", \"name\": \"umbrella\", \"type\": \"scatter3d\", \"x\": [0.3118986487388611, 1.3180437088012695, 0.3118986487388611, 1.1187710762023926, 1.3180437088012695, 1.3180437088012695, 1.3180437088012695, 1.4539446830749512, 1.1187710762023926, 2.266082763671875, 2.266082763671875, -1.592741847038269, 2.5954482555389404, 2.266082763671875, 2.266082763671875, 1.2701741456985474, 0.7481668591499329, 2.2852818965911865, 2.2852818965911865, 2.2852818965911865, 1.5375500917434692, 1.5375500917434692, 1.5375500917434692, 2.159687042236328, 1.2701741456985474, 0.7481668591499329, 2.2852818965911865, 1.5375500917434692], \"y\": [-0.41469794511795044, 1.4417617321014404, -0.41469794511795044, -0.7530549764633179, 1.4417617321014404, 1.4417617321014404, 1.4417617321014404, 1.148629069328308, -0.7530549764633179, -0.3757328689098358, -0.3757328689098358, 0.8097931742668152, 0.13338853418827057, -0.3757328689098358, -0.3757328689098358, -1.8140443563461304, -2.2654457092285156, -1.0203336477279663, -1.0203336477279663, -1.0203336477279663, -0.88181471824646, -0.88181471824646, -0.88181471824646, -3.0767035484313965, -1.8140443563461304, -2.2654457092285156, -1.0203336477279663, -0.88181471824646], \"z\": [-0.6172090172767639, -1.6248329877853394, -0.6172090172767639, -0.578511118888855, -1.6248329877853394, -1.6248329877853394, -1.6248329877853394, -1.4519879817962646, -0.578511118888855, -0.46963417530059814, -0.46963417530059814, 0.6905975937843323, -0.6680243015289307, -0.46963417530059814, -0.46963417530059814, -1.038407564163208, -1.6085586547851562, -1.629949927330017, -1.629949927330017, -1.629949927330017, -0.47343140840530396, -0.47343140840530396, -0.47343140840530396, -0.8914691805839539, -1.038407564163208, -1.6085586547851562, -1.629949927330017, -0.47343140840530396]}, {\"marker\": {\"color\": \"#000075\", \"size\": 4}, \"mode\": \"markers\", \"name\": \"violin\", \"type\": \"scatter3d\", \"x\": [1.0158089399337769, 1.2406930923461914, 1.2406930923461914, 1.2457038164138794, 1.0662987232208252, 1.0430351495742798, 1.2457038164138794, 1.0430351495742798, 1.3491315841674805, 1.2406930923461914, 1.3491315841674805, 1.3079708814620972, 1.2406930923461914, 1.2406930923461914, 1.2030454874038696, 0.8300779461860657, 1.0116900205612183, 0.39583635330200195, 1.0116900205612183, 0.39583635330200195, 0.39583635330200195, 1.0116900205612183, 1.0116900205612183, 0.8300779461860657, 0.39583635330200195, 0.39583635330200195, 1.0116900205612183, 0.8300779461860657, 1.3301117420196533, 0.8300779461860657], \"y\": [-1.0912152528762817, -2.755701780319214, -2.755701780319214, -3.041013479232788, -2.156411647796631, -2.7445919513702393, -3.041013479232788, -2.7445919513702393, -1.8903125524520874, -2.755701780319214, -1.8903125524520874, -1.3530333042144775, -2.755701780319214, -2.755701780319214, -2.0292396545410156, -2.5995898246765137, -2.042239189147949, -1.9311386346817017, -2.042239189147949, -1.9311386346817017, -1.9311386346817017, -2.042239189147949, -2.042239189147949, -2.5995898246765137, -1.9311386346817017, -1.9311386346817017, -2.042239189147949, -2.5995898246765137, -2.2813241481781006, -2.5995898246765137], \"z\": [-2.2923848628997803, -3.770270347595215, -3.770270347595215, -3.4926071166992188, -1.8641847372055054, -2.7355048656463623, -3.4926071166992188, -2.7355048656463623, -4.082060813903809, -3.770270347595215, -4.082060813903809, -3.229757070541382, -3.770270347595215, -3.770270347595215, -4.530014514923096, -2.9348511695861816, -3.7008535861968994, -4.248158931732178, -3.7008535861968994, -4.248158931732178, -4.248158931732178, -3.7008535861968994, -3.7008535861968994, -2.9348511695861816, -4.248158931732178, -4.248158931732178, -3.7008535861968994, -2.9348511695861816, -2.9833860397338867, -2.9348511695861816]}, {\"marker\": {\"color\": \"#808080\", \"size\": 4}, \"mode\": \"markers\", \"name\": \"zebra\", \"type\": \"scatter3d\", \"x\": [-0.08011890202760696, -3.994800329208374, -0.08011890202760696, -3.994800329208374, -4.539031028747559, -3.4276692867279053, -0.08011890202760696, -3.994800329208374, -4.7716965675354, -4.7716965675354, -3.975217819213867, -4.138731956481934, -4.925309658050537, -4.925309658050537], \"y\": [-2.1481285095214844, 0.1579837203025818, -2.1481285095214844, 0.1579837203025818, -4.2165117263793945, 0.5835558176040649, -2.1481285095214844, 0.1579837203025818, -2.7456722259521484, -2.7456722259521484, -3.2518832683563232, -3.271996259689331, -2.567284345626831, -2.567284345626831], \"z\": [0.8388703465461731, 2.6409249305725098, 0.8388703465461731, 2.6409249305725098, 2.17401123046875, 3.52180814743042, 0.8388703465461731, 2.6409249305725098, 1.432359218597412, 1.432359218597412, 0.9805640578269958, 1.5720347166061401, 1.708168864250183, 1.708168864250183]}],                        {\"template\": {\"data\": {\"bar\": [{\"error_x\": {\"color\": \"#2a3f5f\"}, \"error_y\": {\"color\": \"#2a3f5f\"}, \"marker\": {\"line\": {\"color\": \"#E5ECF6\", \"width\": 0.5}}, \"type\": \"bar\"}], \"barpolar\": [{\"marker\": {\"line\": {\"color\": \"#E5ECF6\", \"width\": 0.5}}, \"type\": \"barpolar\"}], \"carpet\": [{\"aaxis\": {\"endlinecolor\": \"#2a3f5f\", \"gridcolor\": \"white\", \"linecolor\": \"white\", \"minorgridcolor\": \"white\", \"startlinecolor\": \"#2a3f5f\"}, \"baxis\": {\"endlinecolor\": \"#2a3f5f\", \"gridcolor\": \"white\", \"linecolor\": \"white\", \"minorgridcolor\": \"white\", \"startlinecolor\": \"#2a3f5f\"}, \"type\": \"carpet\"}], \"choropleth\": [{\"colorbar\": {\"outlinewidth\": 0, \"ticks\": \"\"}, \"type\": \"choropleth\"}], \"contour\": [{\"colorbar\": {\"outlinewidth\": 0, \"ticks\": \"\"}, \"colorscale\": [[0.0, \"#0d0887\"], [0.1111111111111111, \"#46039f\"], [0.2222222222222222, \"#7201a8\"], [0.3333333333333333, \"#9c179e\"], [0.4444444444444444, \"#bd3786\"], [0.5555555555555556, \"#d8576b\"], [0.6666666666666666, \"#ed7953\"], [0.7777777777777778, \"#fb9f3a\"], [0.8888888888888888, \"#fdca26\"], [1.0, \"#f0f921\"]], \"type\": \"contour\"}], \"contourcarpet\": [{\"colorbar\": {\"outlinewidth\": 0, \"ticks\": \"\"}, \"type\": \"contourcarpet\"}], \"heatmap\": [{\"colorbar\": {\"outlinewidth\": 0, \"ticks\": \"\"}, \"colorscale\": [[0.0, \"#0d0887\"], [0.1111111111111111, \"#46039f\"], [0.2222222222222222, \"#7201a8\"], [0.3333333333333333, \"#9c179e\"], [0.4444444444444444, \"#bd3786\"], [0.5555555555555556, \"#d8576b\"], [0.6666666666666666, \"#ed7953\"], [0.7777777777777778, \"#fb9f3a\"], [0.8888888888888888, \"#fdca26\"], [1.0, \"#f0f921\"]], \"type\": \"heatmap\"}], \"heatmapgl\": [{\"colorbar\": {\"outlinewidth\": 0, \"ticks\": \"\"}, \"colorscale\": [[0.0, \"#0d0887\"], [0.1111111111111111, \"#46039f\"], [0.2222222222222222, \"#7201a8\"], [0.3333333333333333, \"#9c179e\"], [0.4444444444444444, \"#bd3786\"], [0.5555555555555556, \"#d8576b\"], [0.6666666666666666, \"#ed7953\"], [0.7777777777777778, \"#fb9f3a\"], [0.8888888888888888, \"#fdca26\"], [1.0, \"#f0f921\"]], \"type\": \"heatmapgl\"}], \"histogram\": [{\"marker\": {\"colorbar\": {\"outlinewidth\": 0, \"ticks\": \"\"}}, \"type\": \"histogram\"}], \"histogram2d\": [{\"colorbar\": {\"outlinewidth\": 0, \"ticks\": \"\"}, \"colorscale\": [[0.0, \"#0d0887\"], [0.1111111111111111, \"#46039f\"], [0.2222222222222222, \"#7201a8\"], [0.3333333333333333, \"#9c179e\"], [0.4444444444444444, \"#bd3786\"], [0.5555555555555556, \"#d8576b\"], [0.6666666666666666, \"#ed7953\"], [0.7777777777777778, \"#fb9f3a\"], [0.8888888888888888, \"#fdca26\"], [1.0, \"#f0f921\"]], \"type\": \"histogram2d\"}], \"histogram2dcontour\": [{\"colorbar\": {\"outlinewidth\": 0, \"ticks\": \"\"}, \"colorscale\": [[0.0, \"#0d0887\"], [0.1111111111111111, \"#46039f\"], [0.2222222222222222, \"#7201a8\"], [0.3333333333333333, \"#9c179e\"], [0.4444444444444444, \"#bd3786\"], [0.5555555555555556, \"#d8576b\"], [0.6666666666666666, \"#ed7953\"], [0.7777777777777778, \"#fb9f3a\"], [0.8888888888888888, \"#fdca26\"], [1.0, \"#f0f921\"]], \"type\": \"histogram2dcontour\"}], \"mesh3d\": [{\"colorbar\": {\"outlinewidth\": 0, \"ticks\": \"\"}, \"type\": \"mesh3d\"}], \"parcoords\": [{\"line\": {\"colorbar\": {\"outlinewidth\": 0, \"ticks\": \"\"}}, \"type\": \"parcoords\"}], \"pie\": [{\"automargin\": true, \"type\": \"pie\"}], \"scatter\": [{\"marker\": {\"colorbar\": {\"outlinewidth\": 0, \"ticks\": \"\"}}, \"type\": \"scatter\"}], \"scatter3d\": [{\"line\": {\"colorbar\": {\"outlinewidth\": 0, \"ticks\": \"\"}}, \"marker\": {\"colorbar\": {\"outlinewidth\": 0, \"ticks\": \"\"}}, \"type\": \"scatter3d\"}], \"scattercarpet\": [{\"marker\": {\"colorbar\": {\"outlinewidth\": 0, \"ticks\": \"\"}}, \"type\": \"scattercarpet\"}], \"scattergeo\": [{\"marker\": {\"colorbar\": {\"outlinewidth\": 0, \"ticks\": \"\"}}, \"type\": \"scattergeo\"}], \"scattergl\": [{\"marker\": {\"colorbar\": {\"outlinewidth\": 0, \"ticks\": \"\"}}, \"type\": \"scattergl\"}], \"scattermapbox\": [{\"marker\": {\"colorbar\": {\"outlinewidth\": 0, \"ticks\": \"\"}}, \"type\": \"scattermapbox\"}], \"scatterpolar\": [{\"marker\": {\"colorbar\": {\"outlinewidth\": 0, \"ticks\": \"\"}}, \"type\": \"scatterpolar\"}], \"scatterpolargl\": [{\"marker\": {\"colorbar\": {\"outlinewidth\": 0, \"ticks\": \"\"}}, \"type\": \"scatterpolargl\"}], \"scatterternary\": [{\"marker\": {\"colorbar\": {\"outlinewidth\": 0, \"ticks\": \"\"}}, \"type\": \"scatterternary\"}], \"surface\": [{\"colorbar\": {\"outlinewidth\": 0, \"ticks\": \"\"}, \"colorscale\": [[0.0, \"#0d0887\"], [0.1111111111111111, \"#46039f\"], [0.2222222222222222, \"#7201a8\"], [0.3333333333333333, \"#9c179e\"], [0.4444444444444444, \"#bd3786\"], [0.5555555555555556, \"#d8576b\"], [0.6666666666666666, \"#ed7953\"], [0.7777777777777778, \"#fb9f3a\"], [0.8888888888888888, \"#fdca26\"], [1.0, \"#f0f921\"]], \"type\": \"surface\"}], \"table\": [{\"cells\": {\"fill\": {\"color\": \"#EBF0F8\"}, \"line\": {\"color\": \"white\"}}, \"header\": {\"fill\": {\"color\": \"#C8D4E3\"}, \"line\": {\"color\": \"white\"}}, \"type\": \"table\"}]}, \"layout\": {\"annotationdefaults\": {\"arrowcolor\": \"#2a3f5f\", \"arrowhead\": 0, \"arrowwidth\": 1}, \"autotypenumbers\": \"strict\", \"coloraxis\": {\"colorbar\": {\"outlinewidth\": 0, \"ticks\": \"\"}}, \"colorscale\": {\"diverging\": [[0, \"#8e0152\"], [0.1, \"#c51b7d\"], [0.2, \"#de77ae\"], [0.3, \"#f1b6da\"], [0.4, \"#fde0ef\"], [0.5, \"#f7f7f7\"], [0.6, \"#e6f5d0\"], [0.7, \"#b8e186\"], [0.8, \"#7fbc41\"], [0.9, \"#4d9221\"], [1, \"#276419\"]], \"sequential\": [[0.0, \"#0d0887\"], [0.1111111111111111, \"#46039f\"], [0.2222222222222222, \"#7201a8\"], [0.3333333333333333, \"#9c179e\"], [0.4444444444444444, \"#bd3786\"], [0.5555555555555556, \"#d8576b\"], [0.6666666666666666, \"#ed7953\"], [0.7777777777777778, \"#fb9f3a\"], [0.8888888888888888, \"#fdca26\"], [1.0, \"#f0f921\"]], \"sequentialminus\": [[0.0, \"#0d0887\"], [0.1111111111111111, \"#46039f\"], [0.2222222222222222, \"#7201a8\"], [0.3333333333333333, \"#9c179e\"], [0.4444444444444444, \"#bd3786\"], [0.5555555555555556, \"#d8576b\"], [0.6666666666666666, \"#ed7953\"], [0.7777777777777778, \"#fb9f3a\"], [0.8888888888888888, \"#fdca26\"], [1.0, \"#f0f921\"]]}, \"colorway\": [\"#636efa\", \"#EF553B\", \"#00cc96\", \"#ab63fa\", \"#FFA15A\", \"#19d3f3\", \"#FF6692\", \"#B6E880\", \"#FF97FF\", \"#FECB52\"], \"font\": {\"color\": \"#2a3f5f\"}, \"geo\": {\"bgcolor\": \"white\", \"lakecolor\": \"white\", \"landcolor\": \"#E5ECF6\", \"showlakes\": true, \"showland\": true, \"subunitcolor\": \"white\"}, \"hoverlabel\": {\"align\": \"left\"}, \"hovermode\": \"closest\", \"mapbox\": {\"style\": \"light\"}, \"paper_bgcolor\": \"white\", \"plot_bgcolor\": \"#E5ECF6\", \"polar\": {\"angularaxis\": {\"gridcolor\": \"white\", \"linecolor\": \"white\", \"ticks\": \"\"}, \"bgcolor\": \"#E5ECF6\", \"radialaxis\": {\"gridcolor\": \"white\", \"linecolor\": \"white\", \"ticks\": \"\"}}, \"scene\": {\"xaxis\": {\"backgroundcolor\": \"#E5ECF6\", \"gridcolor\": \"white\", \"gridwidth\": 2, \"linecolor\": \"white\", \"showbackground\": true, \"ticks\": \"\", \"zerolinecolor\": \"white\"}, \"yaxis\": {\"backgroundcolor\": \"#E5ECF6\", \"gridcolor\": \"white\", \"gridwidth\": 2, \"linecolor\": \"white\", \"showbackground\": true, \"ticks\": \"\", \"zerolinecolor\": \"white\"}, \"zaxis\": {\"backgroundcolor\": \"#E5ECF6\", \"gridcolor\": \"white\", \"gridwidth\": 2, \"linecolor\": \"white\", \"showbackground\": true, \"ticks\": \"\", \"zerolinecolor\": \"white\"}}, \"shapedefaults\": {\"line\": {\"color\": \"#2a3f5f\"}}, \"ternary\": {\"aaxis\": {\"gridcolor\": \"white\", \"linecolor\": \"white\", \"ticks\": \"\"}, \"baxis\": {\"gridcolor\": \"white\", \"linecolor\": \"white\", \"ticks\": \"\"}, \"bgcolor\": \"#E5ECF6\", \"caxis\": {\"gridcolor\": \"white\", \"linecolor\": \"white\", \"ticks\": \"\"}}, \"title\": {\"x\": 0.05}, \"xaxis\": {\"automargin\": true, \"gridcolor\": \"white\", \"linecolor\": \"white\", \"ticks\": \"\", \"title\": {\"standoff\": 15}, \"zerolinecolor\": \"white\", \"zerolinewidth\": 2}, \"yaxis\": {\"automargin\": true, \"gridcolor\": \"white\", \"linecolor\": \"white\", \"ticks\": \"\", \"title\": {\"standoff\": 15}, \"zerolinecolor\": \"white\", \"zerolinewidth\": 2}}}, \"title\": {\"text\": \"3D plot of the embeddings (projected with the PCA)\"}},                        {\"responsive\": true}                    ).then(function(){\n",
       "                            \n",
       "var gd = document.getElementById('47124d56-2234-4341-8c6b-2c9cc352418c');\n",
       "var x = new MutationObserver(function (mutations, observer) {{\n",
       "        var display = window.getComputedStyle(gd).display;\n",
       "        if (!display || display === 'none') {{\n",
       "            console.log([gd, 'removed!']);\n",
       "            Plotly.purge(gd);\n",
       "            observer.disconnect();\n",
       "        }}\n",
       "}});\n",
       "\n",
       "// Listen for the removal of the full notebook cells\n",
       "var notebookContainer = gd.closest('#notebook-container');\n",
       "if (notebookContainer) {{\n",
       "    x.observe(notebookContainer, {childList: true});\n",
       "}}\n",
       "\n",
       "// Listen for the clearing of the current output cell\n",
       "var outputEl = gd.closest('.output');\n",
       "if (outputEl) {{\n",
       "    x.observe(outputEl, {childList: true});\n",
       "}}\n",
       "\n",
       "                        })                };                });            </script>        </div>"
      ]
     },
     "metadata": {},
     "output_type": "display_data"
    }
   ],
   "source": [
    "'''Correction '''\n",
    "traces = []\n",
    "fig = go.Figure()\n",
    "for i, (category, coordinates) in enumerate(data.items()):\n",
    "    trace = go.Scatter3d(\n",
    "        x=coordinates['x'],\n",
    "        y=coordinates['y'],\n",
    "        z=coordinates['z'],\n",
    "        name=category,\n",
    "        mode='markers',\n",
    "        marker=dict(\n",
    "            size=4,\n",
    "            color=colors[i],\n",
    "            line=dict()\n",
    "        )\n",
    "    )\n",
    "    fig.add_trace(trace)\n",
    "fig.update_layout(title='3D plot of the embeddings (projected with the PCA)')    \n",
    "fig.show()"
   ]
  },
  {
   "cell_type": "markdown",
   "metadata": {},
   "source": [
    "## Dataset: return 5 random images and sketches of a category"
   ]
  },
  {
   "cell_type": "markdown",
   "metadata": {},
   "source": [
    "The api `/get_dataset_images` takes a category name as json and returns 5 random images and sketch belonging to the category sent as parameter. \n",
    "**TODO**: call the api, and plot the resulting sketches and images as in the figure below:"
   ]
  },
  {
   "cell_type": "markdown",
   "metadata": {},
   "source": [
    "<img src=\"images/hedgehog.png\">"
   ]
  },
  {
   "cell_type": "code",
   "execution_count": 20,
   "metadata": {},
   "outputs": [],
   "source": [
    "category = \"sea_turtle\"\n",
    "data = {\"category\": category}\n",
    "res = ... # Implement me!"
   ]
  },
  {
   "cell_type": "code",
   "execution_count": 22,
   "metadata": {},
   "outputs": [],
   "source": [
    "''' Correction '''\n",
    "res = requests.post(\"http://127.0.0.1:5000/get_dataset_images\", json=data).json()"
   ]
  },
  {
   "cell_type": "code",
   "execution_count": 106,
   "metadata": {},
   "outputs": [
    {
     "data": {
      "image/png": "[encoded data removed]",
      "text/plain": [
       "<Figure size 1440x720 with 10 Axes>"
      ]
     },
     "metadata": {
      "needs_background": "light"
     },
     "output_type": "display_data"
    }
   ],
   "source": [
    "images, sketches = [], []\n",
    "\n",
    "fig, axes = plt.subplots(2, 5, figsize=(20, 10))\n",
    "fig.suptitle(f'Dataset category: {category}', fontsize=20)\n",
    "for i in range(5):\n",
    "    # TODO\n",
    "    pass"
   ]
  },
  {
   "cell_type": "code",
   "execution_count": 23,
   "metadata": {},
   "outputs": [
    {
     "data": {
      "image/png": "[encoded data removed]",
      "text/plain": [
       "<Figure size 1440x720 with 10 Axes>"
      ]
     },
     "metadata": {
      "needs_background": "light"
     },
     "output_type": "display_data"
    }
   ],
   "source": [
    "''' Correction '''\n",
    "images, sketches = [], []\n",
    "\n",
    "fig, axes = plt.subplots(2, 5, figsize=(20, 10))\n",
    "fig.suptitle(f'Dataset category: {category}', fontsize=20)\n",
    "for i in range(5):\n",
    "    sketch = res[f'sketches_{i}_base64']\n",
    "    image = res[f'images_{i}_base64']\n",
    "    image = base64_to_array(image)\n",
    "    sketch = base64_to_array(sketch)\n",
    "    \n",
    "    axes[0, i].imshow(image)\n",
    "    axes[0, i].axis(\"off\");\n",
    "    axes[0, i].set_title('Image ' + str(i))\n",
    "    \n",
    "    axes[1, i].imshow(sketch)\n",
    "    axes[1, i].axis(\"off\");\n",
    "    axes[1, i].set_title('Sketch ' + str(i))"
   ]
  },
  {
   "cell_type": "code",
   "execution_count": null,
   "metadata": {},
   "outputs": [],
   "source": []
  }
 ],
 "metadata": {
  "kernelspec": {
   "display_name": "AMLD env",
   "language": "python",
   "name": "env"
  },
  "language_info": {
   "codemirror_mode": {
    "name": "ipython",
    "version": 3
   },
   "file_extension": ".py",
   "mimetype": "text/x-python",
   "name": "python",
   "nbconvert_exporter": "python",
   "pygments_lexer": "ipython3",
   "version": "3.7.9"
  }
 },
 "nbformat": 4,
 "nbformat_minor": 4
}
