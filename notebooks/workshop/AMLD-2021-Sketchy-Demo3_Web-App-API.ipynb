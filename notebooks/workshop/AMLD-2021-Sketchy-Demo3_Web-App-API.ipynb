{
 "cells": [
  {
   "cell_type": "markdown",
   "metadata": {},
   "source": [
    "# AMLD-2021-Sketchy: Web App APIs"
   ]
  },
  {
   "cell_type": "markdown",
   "metadata": {},
   "source": [
    "In this notebook, we reproduce the different API calls of the web app and code along similar functionnalitites."
   ]
  },
  {
   "cell_type": "code",
   "execution_count": 2,
   "metadata": {},
   "outputs": [
    {
     "ename": "ModuleNotFoundError",
     "evalue": "No module named 'plotly'",
     "output_type": "error",
     "traceback": [
      "\u001b[0;31m---------------------------------------------------------------------------\u001b[0m",
      "\u001b[0;31mModuleNotFoundError\u001b[0m                       Traceback (most recent call last)",
      "\u001b[0;32m<ipython-input-2-8bb1b4c234bf>\u001b[0m in \u001b[0;36m<module>\u001b[0;34m\u001b[0m\n\u001b[1;32m      8\u001b[0m \u001b[0;32mimport\u001b[0m \u001b[0mnumpy\u001b[0m \u001b[0;32mas\u001b[0m \u001b[0mnp\u001b[0m\u001b[0;34m\u001b[0m\u001b[0;34m\u001b[0m\u001b[0m\n\u001b[1;32m      9\u001b[0m \u001b[0;32mfrom\u001b[0m \u001b[0mPIL\u001b[0m \u001b[0;32mimport\u001b[0m \u001b[0mImage\u001b[0m\u001b[0;34m\u001b[0m\u001b[0;34m\u001b[0m\u001b[0m\n\u001b[0;32m---> 10\u001b[0;31m \u001b[0;32mimport\u001b[0m \u001b[0mplotly\u001b[0m\u001b[0;34m.\u001b[0m\u001b[0mgraph_objects\u001b[0m \u001b[0;32mas\u001b[0m \u001b[0mgo\u001b[0m\u001b[0;34m\u001b[0m\u001b[0;34m\u001b[0m\u001b[0m\n\u001b[0m",
      "\u001b[0;31mModuleNotFoundError\u001b[0m: No module named 'plotly'"
     ]
    }
   ],
   "source": [
    "import base64\n",
    "import io\n",
    "import json\n",
    "import requests\n",
    "\n",
    "from cairosvg import svg2png\n",
    "import matplotlib.pyplot as plt\n",
    "import numpy as np\n",
    "from PIL import Image\n",
    "import plotly.graph_objects as go"
   ]
  },
  {
   "cell_type": "code",
   "execution_count": null,
   "metadata": {},
   "outputs": [],
   "source": [
    "from src.api.utils import svg_to_png"
   ]
  },
  {
   "cell_type": "markdown",
   "metadata": {},
   "source": [
    "##  Load an svg string\n",
    "\n",
    "In the web app the user draws a sketch and then this sketch is sent as an svg string in base 64 to the back-end. Here, we directly load what the back end receives in `svg_string`."
   ]
  },
  {
   "cell_type": "code",
   "execution_count": 46,
   "metadata": {},
   "outputs": [],
   "source": [
    "svg_folder = 'svg/'\n",
    "svg_files = ['amld', 'apple', 'candle']\n",
    "path = svg_folder + svg_files[0] + '.json' # choose anz"
   ]
  },
  {
   "cell_type": "code",
   "execution_count": 47,
   "metadata": {},
   "outputs": [],
   "source": [
    "with open(path, 'r') as fp:\n",
    "    data = json.load(fp)"
   ]
  },
  {
   "cell_type": "code",
   "execution_count": 48,
   "metadata": {},
   "outputs": [],
   "source": [
    "svg_string = data['sketch']"
   ]
  },
  {
   "cell_type": "markdown",
   "metadata": {},
   "source": [
    "The function `base64_to_array` converts the base 64 encoded string of an image into a numpy array. "
   ]
  },
  {
   "cell_type": "code",
   "execution_count": 49,
   "metadata": {},
   "outputs": [],
   "source": [
    "def base64_to_array(base64_string):\n",
    "    '''\n",
    "    Converts a returned base 64 string of an image into a numpy array\n",
    "    Args: \n",
    "        - base64_string: base 64 encoding of the image\n",
    "    Return:\n",
    "        - numpy array of the image\n",
    "    '''\n",
    "    base64_string = base64_string.split(\"'\")[1]\n",
    "    image = base64.b64decode(base64_string)\n",
    "    image = Image.open(io.BytesIO(image))\n",
    "    return np.array(image)"
   ]
  },
  {
   "cell_type": "markdown",
   "metadata": {},
   "source": [
    "We can convert the string and then plot it."
   ]
  },
  {
   "cell_type": "code",
   "execution_count": 50,
   "metadata": {},
   "outputs": [
    {
     "data": {
      "image/png": "[encoded data removed]",
      "text/plain": [
       "<Figure size 432x288 with 1 Axes>"
      ]
     },
     "metadata": {
      "needs_background": "light"
     },
     "output_type": "display_data"
    }
   ],
   "source": [
    "sketch = svg_to_png(svg_string)\n",
    "plt.imshow(sketch);\n",
    "plt.title('Sketch received from back-end')\n",
    "plt.axis(\"off\");"
   ]
  },
  {
   "cell_type": "markdown",
   "metadata": {},
   "source": [
    "## List of APIs"
   ]
  },
  {
   "cell_type": "markdown",
   "metadata": {},
   "source": [
    "There are 4 possible api calls. /api_list list them:"
   ]
  },
  {
   "cell_type": "code",
   "execution_count": 51,
   "metadata": {},
   "outputs": [
    {
     "data": {
      "text/plain": [
       "[{'api-key': 'cmd: /api_list',\n",
       "  'description': 'Input: None. Return the list of available commands.'},\n",
       " {'api-key': 'cmd: /find_images',\n",
       "  'description': 'Input: an svg base 64 string of a sketch. Returns base 64 string of its closest images, the associated labels and the attention map'},\n",
       " {'api-key': 'cmd: /get_embeddings',\n",
       "  'description': 'Inputs: a dimension number (2 or 3) and optinally a sketch. Returns the projected points of the embeddings.'},\n",
       " {'api-key': 'cmd: /get_dataset_images',\n",
       "  'description': 'Input: a category name. Returns 5 random images and sketches of this category.'}]"
      ]
     },
     "execution_count": 51,
     "metadata": {},
     "output_type": "execute_result"
    }
   ],
   "source": [
    "res = requests.get(\"http://127.0.0.1:5000/api_list\")\n",
    "res.json()['available-apis']"
   ]
  },
  {
   "cell_type": "markdown",
   "metadata": {},
   "source": [
    "We will code here the functions equivalent to those of the web app."
   ]
  },
  {
   "cell_type": "markdown",
   "metadata": {},
   "source": [
    "## Inference: return closest images of sketch"
   ]
  },
  {
   "cell_type": "markdown",
   "metadata": {},
   "source": [
    "We send an svg drawing to the web app."
   ]
  },
  {
   "cell_type": "code",
   "execution_count": 52,
   "metadata": {},
   "outputs": [],
   "source": [
    "data = {\"sketch\": svg_string}\n",
    "res = requests.post(\"http://127.0.0.1:5000/find_images\", json=data).json()"
   ]
  },
  {
   "cell_type": "markdown",
   "metadata": {},
   "source": [
    "In the back-end, the svg is converted into a png and a white background is added. Then the inference function gets the 2 closest images and the associated attention map. These are all returned as a response from the api call."
   ]
  },
  {
   "cell_type": "code",
   "execution_count": 53,
   "metadata": {},
   "outputs": [],
   "source": [
    "images_base64 = res['images_base64']\n",
    "images_labels = res['images_label']\n",
    "attention = res['attention']"
   ]
  },
  {
   "cell_type": "code",
   "execution_count": 54,
   "metadata": {},
   "outputs": [],
   "source": [
    "image1 = base64_to_array(images_base64[0])\n",
    "image2 = base64_to_array(images_base64[1])\n",
    "attention = base64_to_array(attention)"
   ]
  },
  {
   "cell_type": "code",
   "execution_count": 1,
   "metadata": {},
   "outputs": [
    {
     "ename": "NameError",
     "evalue": "name 'plt' is not defined",
     "output_type": "error",
     "traceback": [
      "\u001b[0;31m---------------------------------------------------------------------------\u001b[0m",
      "\u001b[0;31mNameError\u001b[0m                                 Traceback (most recent call last)",
      "\u001b[0;32m<ipython-input-1-ca4d6ee98202>\u001b[0m in \u001b[0;36m<module>\u001b[0;34m\u001b[0m\n\u001b[0;32m----> 1\u001b[0;31m \u001b[0mfig\u001b[0m\u001b[0;34m,\u001b[0m \u001b[0maxes\u001b[0m \u001b[0;34m=\u001b[0m \u001b[0mplt\u001b[0m\u001b[0;34m.\u001b[0m\u001b[0msubplots\u001b[0m\u001b[0;34m(\u001b[0m\u001b[0;36m1\u001b[0m\u001b[0;34m,\u001b[0m \u001b[0;36m4\u001b[0m\u001b[0;34m,\u001b[0m \u001b[0mfigsize\u001b[0m\u001b[0;34m=\u001b[0m\u001b[0;34m(\u001b[0m\u001b[0;36m10\u001b[0m\u001b[0;34m,\u001b[0m \u001b[0;36m8\u001b[0m\u001b[0;34m)\u001b[0m\u001b[0;34m)\u001b[0m\u001b[0;34m\u001b[0m\u001b[0;34m\u001b[0m\u001b[0m\n\u001b[0m\u001b[1;32m      2\u001b[0m \u001b[0maxes\u001b[0m\u001b[0;34m[\u001b[0m\u001b[0;36m0\u001b[0m\u001b[0;34m]\u001b[0m\u001b[0;34m.\u001b[0m\u001b[0mset\u001b[0m\u001b[0;34m(\u001b[0m\u001b[0mtitle\u001b[0m\u001b[0;34m=\u001b[0m\u001b[0;34m'Sketch'\u001b[0m\u001b[0;34m)\u001b[0m\u001b[0;34m\u001b[0m\u001b[0;34m\u001b[0m\u001b[0m\n\u001b[1;32m      3\u001b[0m \u001b[0maxes\u001b[0m\u001b[0;34m[\u001b[0m\u001b[0;36m0\u001b[0m\u001b[0;34m]\u001b[0m\u001b[0;34m.\u001b[0m\u001b[0mimshow\u001b[0m\u001b[0;34m(\u001b[0m\u001b[0msketch\u001b[0m\u001b[0;34m)\u001b[0m\u001b[0;34m\u001b[0m\u001b[0;34m\u001b[0m\u001b[0m\n\u001b[1;32m      4\u001b[0m \u001b[0maxes\u001b[0m\u001b[0;34m[\u001b[0m\u001b[0;36m0\u001b[0m\u001b[0;34m]\u001b[0m\u001b[0;34m.\u001b[0m\u001b[0maxis\u001b[0m\u001b[0;34m(\u001b[0m\u001b[0;34m\"off\"\u001b[0m\u001b[0;34m)\u001b[0m\u001b[0;34m;\u001b[0m\u001b[0;34m\u001b[0m\u001b[0;34m\u001b[0m\u001b[0m\n\u001b[1;32m      5\u001b[0m \u001b[0;34m\u001b[0m\u001b[0m\n",
      "\u001b[0;31mNameError\u001b[0m: name 'plt' is not defined"
     ]
    }
   ],
   "source": [
    "fig, axes = plt.subplots(1, 4, figsize=(10, 8))\n",
    "axes[0].set(title='Sketch')\n",
    "axes[0].imshow(sketch)\n",
    "axes[0].axis(\"off\");\n",
    "\n",
    "axes[1].set(title=f'1st image: {images_labels[0]}')\n",
    "axes[1].imshow(image1)\n",
    "axes[1].axis(\"off\");\n",
    "\n",
    "axes[2].set(title=f'2nd image: {images_labels[1]}')\n",
    "axes[2].imshow(image2)\n",
    "axes[2].axis(\"off\");\n",
    "\n",
    "axes[3].set(title=f'Attention map')\n",
    "axes[3].imshow(attention)\n",
    "axes[3].axis(\"off\");\n",
    "plt.subplots_adjust(wspace=0.25, hspace=-0.35)"
   ]
  },
  {
   "cell_type": "markdown",
   "metadata": {},
   "source": [
    "## Embeddings: get 2D or 3D projection of the embeddings' PCA.\n",
    "\n",
    "The `/get_embedding` function returns the 2D or 3D PCA projection of a selected number of images embeddings.\n",
    "\n",
    "- It must receive the number of dimension `nb_dim` that is either 2 or 3 (for 2D or 3D).\n",
    "- If it receives an svg sketch in `sketch` then it also computes the PCA with this sketch and also return the sketch's projected position in the category \"My Custom Sketch\"."
   ]
  },
  {
   "cell_type": "markdown",
   "metadata": {},
   "source": [
    "We show here how to do the 2D plot without sending the custom sketch. "
   ]
  },
  {
   "cell_type": "code",
   "execution_count": 56,
   "metadata": {},
   "outputs": [],
   "source": [
    "data = {\"nb_dim\": 2}\n",
    "res = requests.post(\"http://127.0.0.1:5000/get_embeddings\", json=data).json()"
   ]
  },
  {
   "cell_type": "code",
   "execution_count": 57,
   "metadata": {},
   "outputs": [],
   "source": [
    "colors = [\"#e6194b\",\"#3cb44b\",\"#ffe119\",\"#4363d8\",\"#f58231\",\n",
    "          \"#911eb4\",\"#46f0f0\",\"#f032e6\",\"#bcf60c\",\"#fabebe\",\n",
    "          \"#008080\",\"#e6beff\",\"#9a6324\",\"#fffac8\",\"#800000\",\n",
    "          \"#aaffc3\",\"#808000\",\"#ffd8b1\",\"#000075\",\"#808080\",\"#000000\"]"
   ]
  },
  {
   "cell_type": "code",
   "execution_count": 58,
   "metadata": {},
   "outputs": [
    {
     "data": {
      "application/vnd.plotly.v1+json": {
       "config": {
        "plotlyServerURL": "https://plot.ly"
       },
       "data": [
        {
         "marker": {
          "color": "#e6194b"
         },
         "mode": "markers",
         "name": "butterfly",
         "type": "scatter",
         "x": [
          -0.7805257439613342,
          0.4424804449081421,
          0.17689819633960724,
          1.127944827079773,
          -1.018717885017395,
          -1.018717885017395,
          0.7155447602272034,
          -1.2443571090698242,
          -0.23965120315551758,
          -0.010758914053440094,
          0.3994574546813965,
          -0.05890045315027237,
          2.0655269622802734,
          -1.2016346454620361,
          0.8202036619186401,
          0.47608715295791626,
          0.9566731452941895,
          0.17470479011535645,
          0.7084850072860718,
          1.0814288854599,
          0.7391541600227356
         ],
         "y": [
          -0.7286877036094666,
          -0.8894233703613281,
          -2.0192530155181885,
          -1.930597186088562,
          -0.8230962157249451,
          -0.8230962157249451,
          -0.5069400668144226,
          1.0697996616363525,
          -0.9506950974464417,
          -1.4048271179199219,
          -2.4396188259124756,
          0.8582289814949036,
          -2.4298129081726074,
          -2.2315616607666016,
          -1.5370525121688843,
          -1.5017874240875244,
          -1.830998182296753,
          -2.08662486076355,
          -1.8716872930526733,
          -1.4185932874679565,
          -1.4944735765457153
         ]
        },
        {
         "marker": {
          "color": "#3cb44b"
         },
         "mode": "markers",
         "name": "candle",
         "type": "scatter",
         "x": [
          1.7434778213500977,
          2.494004964828491,
          2.713953733444214,
          3.467946767807007,
          4.373128414154053,
          2.713953733444214,
          3.286761522293091,
          5.232809066772461,
          4.473481178283691,
          4.090353965759277,
          3.166436195373535,
          2.713953733444214,
          4.905170440673828,
          2.230769395828247,
          4.899261951446533,
          3.579014301300049,
          2.674771308898926,
          4.613736629486084,
          2.1726579666137695,
          5.188996315002441,
          1.657198429107666,
          4.652118682861328,
          3.4264965057373047,
          3.2992606163024902,
          4.357949733734131,
          5.490853786468506,
          4.974313735961914,
          5.309340476989746
         ],
         "y": [
          0.5380281805992126,
          0.2122366726398468,
          3.0344016551971436,
          -1.2139997482299805,
          -1.2434487342834473,
          3.0344016551971436,
          2.3000810146331787,
          -1.3317285776138306,
          -2.1948940753936768,
          -0.7050133347511292,
          -1.1461193561553955,
          3.0344016551971436,
          -2.842282295227051,
          1.2208305597305298,
          -0.598662257194519,
          -0.4959387183189392,
          0.4548388123512268,
          -1.255399227142334,
          0.16137661039829254,
          -2.1282665729522705,
          -0.891734778881073,
          -2.059988498687744,
          -1.1686121225357056,
          -1.823909878730774,
          -1.8918118476867676,
          -1.8667014837265015,
          -1.3485723733901978,
          -1.9197081327438354
         ]
        },
        {
         "marker": {
          "color": "#ffe119"
         },
         "mode": "markers",
         "name": "church",
         "type": "scatter",
         "x": [
          0.02764098159968853,
          -0.8850537538528442,
          3.365561008453369,
          -1.1578212976455688,
          -1.1371630430221558,
          0.2224186211824417,
          0.058020614087581635,
          -1.872043490409851,
          0.7522923946380615,
          -1.872043490409851,
          0.7522923946380615,
          2.0324270725250244,
          -2.270235538482666,
          -0.9878901839256287,
          0.7747042179107666,
          -0.8850537538528442,
          -0.9878901839256287,
          -0.0760013684630394,
          -0.35872170329093933,
          -0.10739260166883469,
          -0.9616931080818176,
          -1.0728049278259277,
          0.08618782460689545,
          0.08618782460689545,
          -0.3277066648006439,
          0.355057954788208,
          -0.35872170329093933,
          0.6013236045837402,
          -0.05845952033996582,
          0.2702147960662842,
          -0.28400731086730957,
          0.6895821690559387,
          0.08625750243663788,
          -0.5267840027809143
         ],
         "y": [
          1.8378347158432007,
          2.3861382007598877,
          1.0467078685760498,
          2.1079537868499756,
          2.0853359699249268,
          2.048035144805908,
          2.337189197540283,
          3.463461399078369,
          2.2427406311035156,
          3.463461399078369,
          2.2427406311035156,
          0.7088057398796082,
          1.418463110923767,
          2.652007579803467,
          1.3439520597457886,
          2.3861382007598877,
          2.652007579803467,
          1.294370174407959,
          1.5502656698226929,
          2.743021249771118,
          1.9518749713897705,
          1.52773916721344,
          1.5180596113204956,
          1.5180596113204956,
          1.7126213312149048,
          0.9488479495048523,
          1.5502656698226929,
          1.3799551725387573,
          1.506612777709961,
          0.8695998191833496,
          1.498924732208252,
          1.0458147525787354,
          2.309652805328369,
          1.7343312501907349
         ]
        },
        {
         "marker": {
          "color": "#4363d8"
         },
         "mode": "markers",
         "name": "cup",
         "type": "scatter",
         "x": [
          4.690326690673828,
          6.90807580947876,
          5.661409378051758,
          4.690326690673828,
          5.994780540466309,
          5.661409378051758,
          5.54538106918335,
          6.814850330352783,
          5.633657455444336,
          4.336124897003174,
          7.234986782073975,
          3.2434253692626953,
          5.666176795959473,
          5.8101043701171875,
          6.141622066497803,
          3.8349807262420654,
          5.691099643707275,
          5.8101043701171875,
          6.244296073913574,
          4.050523281097412,
          6.703273773193359,
          5.9250946044921875,
          5.8211493492126465,
          6.741643905639648,
          5.342193126678467,
          7.295642375946045,
          3.9360880851745605
         ],
         "y": [
          -0.48611336946487427,
          -3.2180912494659424,
          -3.1916518211364746,
          -0.48611336946487427,
          -3.203209638595581,
          -3.1916518211364746,
          -4.14329719543457,
          -2.025482654571533,
          -2.2165656089782715,
          -1.5674976110458374,
          -3.300203561782837,
          -1.2944926023483276,
          -2.5500166416168213,
          -2.307375431060791,
          -1.852353811264038,
          0.6893394589424133,
          -3.454352378845215,
          -2.307375431060791,
          -3.460024356842041,
          -2.3067753314971924,
          -2.0086722373962402,
          -3.2285447120666504,
          -2.1749215126037598,
          -4.3057122230529785,
          -2.505929946899414,
          -3.645993947982788,
          -1.5200656652450562
         ]
        },
        {
         "marker": {
          "color": "#f58231"
         },
         "mode": "markers",
         "name": "door",
         "type": "scatter",
         "x": [
          -1.0445044040679932,
          -0.16096574068069458,
          -1.5358760356903076,
          1.2636247873306274,
          -0.7156375646591187,
          0.00835191085934639,
          -0.012072078883647919,
          -0.21401314437389374,
          -0.6682303547859192,
          -0.21401314437389374,
          1.7959471940994263,
          -0.20513862371444702,
          -0.3605928421020508,
          -1.2290674448013306,
          0.024085549637675285,
          -0.06094380095601082,
          -1.2653318643569946,
          -1.3581950664520264,
          -0.35490211844444275,
          -1.2290674448013306,
          -1.2782890796661377,
          -0.6763404607772827,
          -2.664137840270996,
          0.19534845650196075,
          -0.2665160298347473,
          -0.2769121527671814,
          -0.31986182928085327,
          -1.1788170337677002,
          0.4307366907596588,
          0.36569225788116455,
          -0.3867023289203644,
          1.7959471940994263
         ],
         "y": [
          0.5131356716156006,
          1.617722749710083,
          1.8287819623947144,
          3.1692848205566406,
          -0.10950665920972824,
          1.1568585634231567,
          0.7673107385635376,
          2.451619863510132,
          1.379888892173767,
          2.451619863510132,
          0.7372177243232727,
          -0.14402759075164795,
          0.4020377993583679,
          0.15211676061153412,
          0.6931861639022827,
          1.8701814413070679,
          1.5199286937713623,
          0.5354982614517212,
          1.343329906463623,
          0.15211676061153412,
          0.4569050073623657,
          0.3670352101325989,
          -1.949400782585144,
          0.19948045909404755,
          0.6273372769355774,
          1.4610484838485718,
          2.7833633422851562,
          0.5061500668525696,
          0.4380696415901184,
          1.126458764076233,
          1.8660963773727417,
          0.7372177243232727
         ]
        },
        {
         "marker": {
          "color": "#911eb4"
         },
         "mode": "markers",
         "name": "hat",
         "type": "scatter",
         "x": [
          3.6494576930999756,
          5.210084438323975,
          2.549318552017212,
          3.064908266067505,
          3.5262258052825928,
          1.4014259576797485,
          1.931882381439209,
          1.9109243154525757,
          2.949957847595215,
          2.7957632541656494,
          5.210084438323975,
          2.6316967010498047,
          0.5037289261817932,
          0.9539169073104858,
          3.095510721206665,
          0.9806445837020874,
          4.4806952476501465,
          1.0000884532928467,
          3.178941488265991,
          0.41414594650268555,
          1.921366572380066
         ],
         "y": [
          0.8490523099899292,
          -1.9091819524765015,
          -0.9232457876205444,
          -0.3172745406627655,
          1.100481390953064,
          0.8957385420799255,
          0.7690742611885071,
          1.2567259073257446,
          -1.4905601739883423,
          1.9869304895401,
          -1.9091819524765015,
          -0.3813263177871704,
          0.4674850404262543,
          -2.3068437576293945,
          -0.1501649171113968,
          -0.7080956101417542,
          0.9562458395957947,
          0.44198161363601685,
          -1.440705418586731,
          -0.6184824705123901,
          -0.172651007771492
         ]
        },
        {
         "marker": {
          "color": "#46f0f0"
         },
         "mode": "markers",
         "name": "hedgehog",
         "type": "scatter",
         "x": [
          -4.0409111976623535,
          -2.1542863845825195,
          -4.646760940551758,
          -5.099678993225098,
          -4.37118673324585,
          -4.134598731994629,
          -4.507487773895264,
          -3.8262369632720947,
          -5.078742027282715,
          -5.192596435546875,
          -4.071544647216797,
          -4.44710111618042,
          -4.288851261138916,
          -3.3437492847442627,
          -4.004594326019287,
          -5.057429313659668,
          -4.0890326499938965,
          -3.562222957611084,
          -3.1256930828094482,
          -3.636192560195923,
          -5.189037799835205,
          -4.498372554779053,
          -3.7610795497894287,
          -3.2139220237731934,
          -5.699851989746094,
          -4.914132595062256,
          -4.865957736968994,
          -2.561474561691284,
          -5.058355808258057
         ],
         "y": [
          -2.124913215637207,
          -3.1287930011749268,
          -3.494706392288208,
          -2.902284622192383,
          -3.601599931716919,
          -5.233140468597412,
          -3.8121769428253174,
          -2.9411253929138184,
          -4.468271732330322,
          -4.8232526779174805,
          -3.3093647956848145,
          -3.323848009109497,
          -4.216579914093018,
          -3.650252342224121,
          -2.603134870529175,
          -3.998897075653076,
          -3.141580104827881,
          -3.6771230697631836,
          -3.2156448364257812,
          -2.8579864501953125,
          -3.558565616607666,
          -4.35452127456665,
          -3.2915728092193604,
          -2.9832661151885986,
          -3.962069272994995,
          -3.7168121337890625,
          -3.7760612964630127,
          -1.5524137020111084,
          -3.4573452472686768
         ]
        },
        {
         "marker": {
          "color": "#f032e6"
         },
         "mode": "markers",
         "name": "helicopter",
         "type": "scatter",
         "x": [
          2.253852605819702,
          -1.066535234451294,
          0.17882730066776276,
          0.8467039465904236,
          0.2605428993701935,
          -0.6839593052864075,
          1.4901827573776245,
          1.418462872505188,
          0.8906713724136353,
          0.01757063716650009,
          -0.22296950221061707,
          -0.17515312135219574,
          -0.3661769926548004,
          -0.34115323424339294,
          -0.7200676798820496,
          -0.8684548735618591,
          -0.7557098269462585,
          -0.043495096266269684,
          -0.7607007026672363,
          -0.10384636372327805,
          -0.838106095790863,
          -0.5341351628303528
         ],
         "y": [
          2.6831741333007812,
          4.1818647384643555,
          5.786296367645264,
          2.443617105484009,
          0.9924566149711609,
          4.256608963012695,
          3.888761520385742,
          4.436925411224365,
          2.608698844909668,
          3.9676339626312256,
          1.391631841659546,
          3.960984945297241,
          3.510962724685669,
          3.4847402572631836,
          2.660451889038086,
          4.23750114440918,
          2.981400966644287,
          2.646209716796875,
          4.504978656768799,
          3.3178532123565674,
          2.911740779876709,
          3.2921574115753174
         ]
        },
        {
         "marker": {
          "color": "#bcf60c"
         },
         "mode": "markers",
         "name": "horse",
         "type": "scatter",
         "x": [
          -4.990548610687256,
          -5.672946453094482,
          -4.526503086090088,
          -3.801119327545166,
          -5.476436138153076,
          -5.100057125091553,
          -3.977205753326416,
          -4.976304531097412,
          -4.787367343902588,
          -4.4737348556518555,
          -4.39578104019165,
          -4.56005859375,
          -5.672946453094482,
          -4.472784519195557,
          -5.094796180725098,
          -4.747945308685303,
          -5.3980512619018555,
          -5.7802300453186035,
          -4.309484004974365,
          -5.631095886230469,
          -4.969232082366943,
          -4.027734756469727
         ],
         "y": [
          -0.49027812480926514,
          -1.0365580320358276,
          0.765990674495697,
          -1.3544468879699707,
          -0.3192574977874756,
          0.7460577487945557,
          0.11206112802028656,
          -0.5218084454536438,
          0.5215221047401428,
          2.1508429050445557,
          0.9145724773406982,
          -0.8355820775032043,
          -1.0365580320358276,
          1.5355807542800903,
          -0.05722508952021599,
          0.7570794820785522,
          -0.11193027347326279,
          1.4003372192382812,
          0.08260482549667358,
          1.1216486692428589,
          1.0578051805496216,
          -1.6734449863433838
         ]
        },
        {
         "marker": {
          "color": "#fabebe"
         },
         "mode": "markers",
         "name": "pineapple",
         "type": "scatter",
         "x": [
          1.2216558456420898,
          0.2979229986667633,
          0.25787121057510376,
          -1.570698618888855,
          0.14277346432209015,
          -0.02818390168249607,
          -0.9388279914855957,
          0.6104190945625305,
          -0.33928343653678894,
          0.475279837846756,
          -0.19223499298095703,
          1.1467326879501343,
          0.13609498739242554,
          -0.5490169525146484,
          0.4957294464111328,
          0.2831560969352722,
          0.07179808616638184,
          -0.21272866427898407,
          0.4046172797679901,
          0.44004330039024353,
          0.6034774780273438,
          -0.19223499298095703
         ],
         "y": [
          -5.493157386779785,
          -4.450142860412598,
          -5.986711502075195,
          -5.282429218292236,
          -7.730527400970459,
          -7.311290264129639,
          -4.748033046722412,
          -6.182631015777588,
          -7.776247978210449,
          -5.8174004554748535,
          -6.336010456085205,
          -4.855832576751709,
          -5.658776760101318,
          -4.001594066619873,
          -6.84583854675293,
          -6.1827311515808105,
          -5.16353702545166,
          -5.447878837585449,
          -5.839568614959717,
          -4.283456325531006,
          -5.583463668823242,
          -6.336010456085205
         ]
        },
        {
         "marker": {
          "color": "#008080"
         },
         "mode": "markers",
         "name": "rifle",
         "type": "scatter",
         "x": [
          0.9049829244613647,
          -0.11650269478559494,
          -0.2994818687438965,
          -0.6218701601028442,
          0.7636545300483704,
          0.21620407700538635,
          1.0391241312026978,
          -0.10569088906049728,
          0.31686729192733765,
          -0.6425695419311523,
          1.4184660911560059,
          0.6557944416999817,
          -0.6218701601028442,
          1.012412190437317,
          0.4987739622592926,
          -0.2994818687438965,
          1.5155607461929321,
          0.07001738995313644,
          0.805686891078949,
          0.6180220246315002,
          1.071593999862671,
          0.9371329545974731,
          0.606046736240387,
          0.9371329545974731,
          0.6115813851356506,
          -0.7321426272392273,
          0.3055601716041565,
          -0.9090394973754883,
          0.6940639019012451,
          0.7483950853347778,
          0.9168447256088257,
          0.876490592956543,
          0.5974498391151428,
          1.31550133228302
         ],
         "y": [
          5.152817726135254,
          6.714714527130127,
          6.212127208709717,
          6.503091812133789,
          6.14307165145874,
          5.362377643585205,
          5.757229328155518,
          7.35814905166626,
          8.222148895263672,
          7.425722122192383,
          6.139463424682617,
          8.093634605407715,
          6.503091812133789,
          6.33566951751709,
          4.124999523162842,
          6.212127208709717,
          7.770059585571289,
          5.432068347930908,
          5.30466890335083,
          7.657478332519531,
          3.921034336090088,
          7.0932936668396,
          4.054826259613037,
          7.0932936668396,
          5.974660396575928,
          3.50434947013855,
          5.141478538513184,
          3.320789337158203,
          7.287731647491455,
          6.2557373046875,
          7.098289489746094,
          6.632408142089844,
          3.9878737926483154,
          5.8851470947265625
         ]
        },
        {
         "marker": {
          "color": "#e6beff"
         },
         "mode": "markers",
         "name": "shark",
         "type": "scatter",
         "x": [
          -4.6278276443481445,
          -5.641506195068359,
          -2.737372398376465,
          -1.6169103384017944,
          -4.844363212585449,
          -3.882750988006592,
          -4.999975204467773,
          -2.8284857273101807,
          -4.844363212585449,
          -4.457554817199707,
          -4.88747501373291,
          -4.140690803527832,
          -3.5120978355407715,
          -4.255253791809082,
          -4.524519920349121,
          -4.429723262786865,
          -2.5173821449279785,
          -4.139672756195068,
          -4.517251968383789,
          -2.5173821449279785,
          -2.188891887664795,
          -4.524519920349121,
          -4.524582862854004,
          -4.019890785217285,
          -3.076345682144165
         ],
         "y": [
          -0.656595766544342,
          -2.8225467205047607,
          0.5139323472976685,
          0.4380776584148407,
          -0.017593655735254288,
          -0.049309223890304565,
          -1.2166436910629272,
          0.5852213501930237,
          -0.017593655735254288,
          0.559704601764679,
          -1.45069420337677,
          -0.8783965110778809,
          -0.8780419826507568,
          -1.24740731716156,
          -0.3328093886375427,
          -1.1971758604049683,
          -0.6687426567077637,
          -1.337202548980713,
          -0.8987420201301575,
          -0.6687426567077637,
          -0.09157782793045044,
          -0.3328093886375427,
          -1.4375005960464478,
          -0.07766295969486237,
          -0.6650288105010986
         ]
        },
        {
         "marker": {
          "color": "#9a6324"
         },
         "mode": "markers",
         "name": "snail",
         "type": "scatter",
         "x": [
          3.790236473083496,
          3.983264923095703,
          1.971235752105713,
          -0.4039362967014313,
          2.499589443206787,
          3.973119020462036,
          1.7836145162582397,
          1.195773959159851,
          3.211160898208618,
          1.4034172296524048,
          2.265303373336792,
          3.646876096725464,
          3.12307071685791,
          2.1265063285827637,
          1.982632040977478,
          1.4294792413711548,
          2.0351390838623047,
          1.5042303800582886,
          1.8414044380187988
         ],
         "y": [
          -3.2793009281158447,
          -2.318608283996582,
          -1.6634130477905273,
          0.1065947562456131,
          -3.065370798110962,
          -3.0394845008850098,
          -2.075894832611084,
          -2.8765885829925537,
          -2.156780958175659,
          -2.2274811267852783,
          -1.9227831363677979,
          -2.6258976459503174,
          -0.835903525352478,
          -1.5966520309448242,
          -1.6875102519989014,
          -2.202089786529541,
          -2.352207899093628,
          -2.672276258468628,
          -2.904500722885132
         ]
        },
        {
         "marker": {
          "color": "#fffac8"
         },
         "mode": "markers",
         "name": "snake",
         "type": "scatter",
         "x": [
          1.9900660514831543,
          3.4367754459381104,
          1.9900660514831543,
          1.7533122301101685,
          0.8252162933349609,
          1.2884893417358398,
          0.8252162933349609,
          1.7533122301101685,
          3.4367754459381104,
          -2.4695870876312256,
          0.34820449352264404,
          -1.2327581644058228,
          -0.6049589514732361,
          -1.2327581644058228,
          0.7399224042892456,
          0.009368693456053734
         ],
         "y": [
          -0.4097231328487396,
          -2.0338828563690186,
          -0.4097231328487396,
          -0.19206352531909943,
          0.1921781450510025,
          -0.25925180315971375,
          0.1921781450510025,
          -0.19206352531909943,
          -2.0338828563690186,
          -1.1411381959915161,
          0.4425530731678009,
          0.5037796497344971,
          -0.625578761100769,
          0.5037796497344971,
          -0.540056049823761,
          -1.069823980331421
         ]
        },
        {
         "marker": {
          "color": "#800000"
         },
         "mode": "markers",
         "name": "teapot",
         "type": "scatter",
         "x": [
          5.725199222564697,
          4.817703723907471,
          6.209850788116455,
          4.571855545043945,
          7.060946464538574,
          6.128992557525635,
          5.334641456604004,
          6.971041679382324,
          7.150959014892578,
          7.029964447021484,
          3.9029994010925293,
          2.9435741901397705,
          5.8860859870910645,
          7.497175693511963,
          6.669795036315918,
          8.92767333984375,
          7.250060558319092,
          6.273403644561768,
          2.611212730407715,
          7.310636043548584,
          6.902777194976807,
          5.265242576599121,
          5.6005988121032715,
          6.902777194976807,
          5.105842113494873,
          3.467916488647461
         ],
         "y": [
          -2.4801197052001953,
          -4.210674285888672,
          -2.817335367202759,
          -3.2640488147735596,
          -2.700685501098633,
          -1.1465786695480347,
          -1.386132836341858,
          -2.8907041549682617,
          -2.4585464000701904,
          -1.136529803276062,
          -1.0568466186523438,
          -1.7966604232788086,
          -3.313359498977661,
          -4.756446361541748,
          -3.4639170169830322,
          -4.852489948272705,
          -3.7458484172821045,
          -3.1275806427001953,
          -0.18137919902801514,
          -3.5485520362854004,
          -3.7403435707092285,
          -2.6195878982543945,
          -3.3064045906066895,
          -3.7403435707092285,
          -2.2410035133361816,
          -0.9351634383201599
         ]
        },
        {
         "marker": {
          "color": "#aaffc3"
         },
         "mode": "markers",
         "name": "teddy_bear",
         "type": "scatter",
         "x": [
          -0.017936542630195618,
          -1.1908000707626343,
          -2.145545482635498,
          -0.5611454248428345,
          -1.820900321006775,
          -1.4844586849212646,
          0.9617644548416138,
          1.0968966484069824,
          0.8095405101776123,
          -0.9944776296615601,
          -0.9591474533081055,
          -3.7285542488098145,
          -0.5543007254600525,
          -0.07641030848026276,
          1.1074496507644653,
          1.3453495502471924,
          1.3876808881759644,
          -0.671470582485199,
          0.21674226224422455,
          0.5554549098014832,
          0.5167563557624817
         ],
         "y": [
          -4.133132457733154,
          -3.336899995803833,
          -3.528261423110962,
          -5.117462158203125,
          -4.200708866119385,
          -4.1703901290893555,
          -3.4271178245544434,
          -2.649183750152588,
          -3.7176928520202637,
          -2.812556505203247,
          -4.760127544403076,
          -3.554051160812378,
          -5.030274868011475,
          -0.1723707616329193,
          -3.6937434673309326,
          -3.722803831100464,
          -3.6491241455078125,
          -3.7776002883911133,
          -3.1525039672851562,
          -3.5241315364837646,
          -3.8852994441986084
         ]
        },
        {
         "marker": {
          "color": "#808000"
         },
         "mode": "markers",
         "name": "tiger",
         "type": "scatter",
         "x": [
          -4.059754371643066,
          -5.263863563537598,
          -4.104401588439941,
          -5.872222900390625,
          -5.576782703399658,
          -4.906871795654297,
          -5.299755096435547,
          -3.6775169372558594,
          -4.219749927520752,
          -4.9379072189331055,
          -4.22462272644043,
          -6.128713607788086,
          -3.2626893520355225,
          -4.937043190002441,
          -2.595121383666992,
          -6.291319370269775,
          -5.290276527404785,
          -5.1486921310424805,
          -5.135336399078369,
          -5.110874176025391,
          -4.954329490661621,
          -5.485006809234619,
          -4.495762825012207,
          -4.924497604370117,
          -5.382380962371826
         ],
         "y": [
          -2.044313669204712,
          -2.7069318294525146,
          -2.166234016418457,
          -0.7330328822135925,
          -0.1830482929944992,
          -1.8279423713684082,
          -2.6058459281921387,
          0.4665832221508026,
          -1.2559994459152222,
          -3.242161989212036,
          -1.5778460502624512,
          -1.1448463201522827,
          -1.2615278959274292,
          -2.8943183422088623,
          -3.35325288772583,
          -0.11140698194503784,
          -1.7794395685195923,
          -1.5207717418670654,
          -1.7443634271621704,
          -1.8108464479446411,
          -1.6153812408447266,
          -1.1357125043869019,
          -1.503955602645874,
          -1.5013864040374756,
          -1.1714154481887817
         ]
        },
        {
         "marker": {
          "color": "#ffd8b1"
         },
         "mode": "markers",
         "name": "umbrella",
         "type": "scatter",
         "x": [
          0.24359031021595,
          -1.3975974321365356,
          -0.21508745849132538,
          0.5583658814430237,
          0.19973088800907135,
          0.3507354259490967,
          1.647935390472412,
          0.6675019264221191,
          0.26282909512519836,
          0.9594407081604004,
          1.1325652599334717,
          0.5594428777694702,
          1.2407387495040894,
          2.5555527210235596,
          0.47395050525665283,
          0.35881903767585754,
          -0.40506675839424133,
          1.038684368133545
         ],
         "y": [
          -0.30765900015830994,
          1.4189937114715576,
          2.835341691970825,
          2.660336971282959,
          0.735291063785553,
          0.7991155385971069,
          -0.7503374218940735,
          1.67035973072052,
          0.8853314518928528,
          1.4096415042877197,
          0.1107117086648941,
          1.1550580263137817,
          0.7417630553245544,
          2.2681896686553955,
          1.0223332643508911,
          2.71201229095459,
          1.1403201818466187,
          0.1771582067012787
         ]
        },
        {
         "marker": {
          "color": "#000075"
         },
         "mode": "markers",
         "name": "violin",
         "type": "scatter",
         "x": [
          3.337447166442871,
          1.408353567123413,
          3.062204122543335,
          4.109097003936768,
          2.0178773403167725,
          2.194444417953491,
          2.2937405109405518,
          0.7249425053596497,
          2.259035587310791,
          2.232492208480835,
          1.9786615371704102,
          1.1429004669189453,
          2.3762025833129883,
          2.2937405109405518,
          1.7717305421829224,
          2.8781814575195312,
          2.049934148788452,
          1.5857967138290405,
          1.8461896181106567,
          3.213822841644287,
          1.5219603776931763,
          1.5804470777511597,
          2.2987449169158936,
          2.087686538696289,
          1.9946118593215942,
          2.1109538078308105,
          2.020491600036621,
          1.6221436262130737,
          3.3123295307159424,
          2.453169345855713,
          2.3075480461120605,
          1.5609784126281738
         ],
         "y": [
          0.6046125292778015,
          4.954127311706543,
          1.7100036144256592,
          3.065777063369751,
          8.410412788391113,
          0.910823404788971,
          9.174322128295898,
          6.271519184112549,
          5.1123456954956055,
          4.893085479736328,
          7.69268274307251,
          6.1140456199646,
          6.565613269805908,
          9.174322128295898,
          4.978846549987793,
          1.9572197198867798,
          4.9799723625183105,
          3.649106025695801,
          6.68043851852417,
          3.827699661254883,
          5.3208208084106445,
          5.2848711013793945,
          6.473523139953613,
          6.541743278503418,
          5.387283802032471,
          6.330111026763916,
          5.782835006713867,
          6.33788537979126,
          9.454835891723633,
          8.435980796813965,
          7.542849540710449,
          5.519874095916748
         ]
        },
        {
         "marker": {
          "color": "#808080"
         },
         "mode": "markers",
         "name": "zebra",
         "type": "scatter",
         "x": [
          -5.721104621887207,
          -5.896452903747559,
          -4.783407211303711,
          -6.222843170166016,
          -5.896452903747559,
          -3.6436376571655273,
          -5.681880474090576,
          -5.876761436462402,
          -4.323764324188232,
          -5.965565204620361,
          -2.4525015354156494,
          -5.627553462982178,
          -4.846027851104736,
          -5.425498008728027,
          -5.852328777313232,
          -6.546307563781738,
          -5.990271091461182,
          -6.0537824630737305,
          -5.97821569442749,
          -7.172635555267334,
          -6.750977516174316,
          -5.8359375,
          -6.826893329620361,
          -6.832351207733154,
          -5.844220161437988,
          -5.261821269989014
         ],
         "y": [
          1.8474801778793335,
          -0.029160641133785248,
          -0.6251536011695862,
          0.904510498046875,
          -0.029160641133785248,
          -1.8586093187332153,
          0.05308157205581665,
          1.1530237197875977,
          -1.2914619445800781,
          0.09698634594678879,
          0.6654003262519836,
          1.1608525514602661,
          0.6806022524833679,
          2.1543452739715576,
          0.6741138100624084,
          1.0670921802520752,
          0.15793250501155853,
          0.4074259102344513,
          0.4927406311035156,
          0.5495103597640991,
          0.9701787233352661,
          1.1564056873321533,
          0.6322882175445557,
          0.18885771930217743,
          0.28650256991386414,
          0.1259710192680359
         ]
        }
       ],
       "layout": {
        "template": {
         "data": {
          "bar": [
           {
            "error_x": {
             "color": "#2a3f5f"
            },
            "error_y": {
             "color": "#2a3f5f"
            },
            "marker": {
             "line": {
              "color": "#E5ECF6",
              "width": 0.5
             }
            },
            "type": "bar"
           }
          ],
          "barpolar": [
           {
            "marker": {
             "line": {
              "color": "#E5ECF6",
              "width": 0.5
             }
            },
            "type": "barpolar"
           }
          ],
          "carpet": [
           {
            "aaxis": {
             "endlinecolor": "#2a3f5f",
             "gridcolor": "white",
             "linecolor": "white",
             "minorgridcolor": "white",
             "startlinecolor": "#2a3f5f"
            },
            "baxis": {
             "endlinecolor": "#2a3f5f",
             "gridcolor": "white",
             "linecolor": "white",
             "minorgridcolor": "white",
             "startlinecolor": "#2a3f5f"
            },
            "type": "carpet"
           }
          ],
          "choropleth": [
           {
            "colorbar": {
             "outlinewidth": 0,
             "ticks": ""
            },
            "type": "choropleth"
           }
          ],
          "contour": [
           {
            "colorbar": {
             "outlinewidth": 0,
             "ticks": ""
            },
            "colorscale": [
             [
              0,
              "#0d0887"
             ],
             [
              0.1111111111111111,
              "#46039f"
             ],
             [
              0.2222222222222222,
              "#7201a8"
             ],
             [
              0.3333333333333333,
              "#9c179e"
             ],
             [
              0.4444444444444444,
              "#bd3786"
             ],
             [
              0.5555555555555556,
              "#d8576b"
             ],
             [
              0.6666666666666666,
              "#ed7953"
             ],
             [
              0.7777777777777778,
              "#fb9f3a"
             ],
             [
              0.8888888888888888,
              "#fdca26"
             ],
             [
              1,
              "#f0f921"
             ]
            ],
            "type": "contour"
           }
          ],
          "contourcarpet": [
           {
            "colorbar": {
             "outlinewidth": 0,
             "ticks": ""
            },
            "type": "contourcarpet"
           }
          ],
          "heatmap": [
           {
            "colorbar": {
             "outlinewidth": 0,
             "ticks": ""
            },
            "colorscale": [
             [
              0,
              "#0d0887"
             ],
             [
              0.1111111111111111,
              "#46039f"
             ],
             [
              0.2222222222222222,
              "#7201a8"
             ],
             [
              0.3333333333333333,
              "#9c179e"
             ],
             [
              0.4444444444444444,
              "#bd3786"
             ],
             [
              0.5555555555555556,
              "#d8576b"
             ],
             [
              0.6666666666666666,
              "#ed7953"
             ],
             [
              0.7777777777777778,
              "#fb9f3a"
             ],
             [
              0.8888888888888888,
              "#fdca26"
             ],
             [
              1,
              "#f0f921"
             ]
            ],
            "type": "heatmap"
           }
          ],
          "heatmapgl": [
           {
            "colorbar": {
             "outlinewidth": 0,
             "ticks": ""
            },
            "colorscale": [
             [
              0,
              "#0d0887"
             ],
             [
              0.1111111111111111,
              "#46039f"
             ],
             [
              0.2222222222222222,
              "#7201a8"
             ],
             [
              0.3333333333333333,
              "#9c179e"
             ],
             [
              0.4444444444444444,
              "#bd3786"
             ],
             [
              0.5555555555555556,
              "#d8576b"
             ],
             [
              0.6666666666666666,
              "#ed7953"
             ],
             [
              0.7777777777777778,
              "#fb9f3a"
             ],
             [
              0.8888888888888888,
              "#fdca26"
             ],
             [
              1,
              "#f0f921"
             ]
            ],
            "type": "heatmapgl"
           }
          ],
          "histogram": [
           {
            "marker": {
             "colorbar": {
              "outlinewidth": 0,
              "ticks": ""
             }
            },
            "type": "histogram"
           }
          ],
          "histogram2d": [
           {
            "colorbar": {
             "outlinewidth": 0,
             "ticks": ""
            },
            "colorscale": [
             [
              0,
              "#0d0887"
             ],
             [
              0.1111111111111111,
              "#46039f"
             ],
             [
              0.2222222222222222,
              "#7201a8"
             ],
             [
              0.3333333333333333,
              "#9c179e"
             ],
             [
              0.4444444444444444,
              "#bd3786"
             ],
             [
              0.5555555555555556,
              "#d8576b"
             ],
             [
              0.6666666666666666,
              "#ed7953"
             ],
             [
              0.7777777777777778,
              "#fb9f3a"
             ],
             [
              0.8888888888888888,
              "#fdca26"
             ],
             [
              1,
              "#f0f921"
             ]
            ],
            "type": "histogram2d"
           }
          ],
          "histogram2dcontour": [
           {
            "colorbar": {
             "outlinewidth": 0,
             "ticks": ""
            },
            "colorscale": [
             [
              0,
              "#0d0887"
             ],
             [
              0.1111111111111111,
              "#46039f"
             ],
             [
              0.2222222222222222,
              "#7201a8"
             ],
             [
              0.3333333333333333,
              "#9c179e"
             ],
             [
              0.4444444444444444,
              "#bd3786"
             ],
             [
              0.5555555555555556,
              "#d8576b"
             ],
             [
              0.6666666666666666,
              "#ed7953"
             ],
             [
              0.7777777777777778,
              "#fb9f3a"
             ],
             [
              0.8888888888888888,
              "#fdca26"
             ],
             [
              1,
              "#f0f921"
             ]
            ],
            "type": "histogram2dcontour"
           }
          ],
          "mesh3d": [
           {
            "colorbar": {
             "outlinewidth": 0,
             "ticks": ""
            },
            "type": "mesh3d"
           }
          ],
          "parcoords": [
           {
            "line": {
             "colorbar": {
              "outlinewidth": 0,
              "ticks": ""
             }
            },
            "type": "parcoords"
           }
          ],
          "pie": [
           {
            "automargin": true,
            "type": "pie"
           }
          ],
          "scatter": [
           {
            "marker": {
             "colorbar": {
              "outlinewidth": 0,
              "ticks": ""
             }
            },
            "type": "scatter"
           }
          ],
          "scatter3d": [
           {
            "line": {
             "colorbar": {
              "outlinewidth": 0,
              "ticks": ""
             }
            },
            "marker": {
             "colorbar": {
              "outlinewidth": 0,
              "ticks": ""
             }
            },
            "type": "scatter3d"
           }
          ],
          "scattercarpet": [
           {
            "marker": {
             "colorbar": {
              "outlinewidth": 0,
              "ticks": ""
             }
            },
            "type": "scattercarpet"
           }
          ],
          "scattergeo": [
           {
            "marker": {
             "colorbar": {
              "outlinewidth": 0,
              "ticks": ""
             }
            },
            "type": "scattergeo"
           }
          ],
          "scattergl": [
           {
            "marker": {
             "colorbar": {
              "outlinewidth": 0,
              "ticks": ""
             }
            },
            "type": "scattergl"
           }
          ],
          "scattermapbox": [
           {
            "marker": {
             "colorbar": {
              "outlinewidth": 0,
              "ticks": ""
             }
            },
            "type": "scattermapbox"
           }
          ],
          "scatterpolar": [
           {
            "marker": {
             "colorbar": {
              "outlinewidth": 0,
              "ticks": ""
             }
            },
            "type": "scatterpolar"
           }
          ],
          "scatterpolargl": [
           {
            "marker": {
             "colorbar": {
              "outlinewidth": 0,
              "ticks": ""
             }
            },
            "type": "scatterpolargl"
           }
          ],
          "scatterternary": [
           {
            "marker": {
             "colorbar": {
              "outlinewidth": 0,
              "ticks": ""
             }
            },
            "type": "scatterternary"
           }
          ],
          "surface": [
           {
            "colorbar": {
             "outlinewidth": 0,
             "ticks": ""
            },
            "colorscale": [
             [
              0,
              "#0d0887"
             ],
             [
              0.1111111111111111,
              "#46039f"
             ],
             [
              0.2222222222222222,
              "#7201a8"
             ],
             [
              0.3333333333333333,
              "#9c179e"
             ],
             [
              0.4444444444444444,
              "#bd3786"
             ],
             [
              0.5555555555555556,
              "#d8576b"
             ],
             [
              0.6666666666666666,
              "#ed7953"
             ],
             [
              0.7777777777777778,
              "#fb9f3a"
             ],
             [
              0.8888888888888888,
              "#fdca26"
             ],
             [
              1,
              "#f0f921"
             ]
            ],
            "type": "surface"
           }
          ],
          "table": [
           {
            "cells": {
             "fill": {
              "color": "#EBF0F8"
             },
             "line": {
              "color": "white"
             }
            },
            "header": {
             "fill": {
              "color": "#C8D4E3"
             },
             "line": {
              "color": "white"
             }
            },
            "type": "table"
           }
          ]
         },
         "layout": {
          "annotationdefaults": {
           "arrowcolor": "#2a3f5f",
           "arrowhead": 0,
           "arrowwidth": 1
          },
          "autotypenumbers": "strict",
          "coloraxis": {
           "colorbar": {
            "outlinewidth": 0,
            "ticks": ""
           }
          },
          "colorscale": {
           "diverging": [
            [
             0,
             "#8e0152"
            ],
            [
             0.1,
             "#c51b7d"
            ],
            [
             0.2,
             "#de77ae"
            ],
            [
             0.3,
             "#f1b6da"
            ],
            [
             0.4,
             "#fde0ef"
            ],
            [
             0.5,
             "#f7f7f7"
            ],
            [
             0.6,
             "#e6f5d0"
            ],
            [
             0.7,
             "#b8e186"
            ],
            [
             0.8,
             "#7fbc41"
            ],
            [
             0.9,
             "#4d9221"
            ],
            [
             1,
             "#276419"
            ]
           ],
           "sequential": [
            [
             0,
             "#0d0887"
            ],
            [
             0.1111111111111111,
             "#46039f"
            ],
            [
             0.2222222222222222,
             "#7201a8"
            ],
            [
             0.3333333333333333,
             "#9c179e"
            ],
            [
             0.4444444444444444,
             "#bd3786"
            ],
            [
             0.5555555555555556,
             "#d8576b"
            ],
            [
             0.6666666666666666,
             "#ed7953"
            ],
            [
             0.7777777777777778,
             "#fb9f3a"
            ],
            [
             0.8888888888888888,
             "#fdca26"
            ],
            [
             1,
             "#f0f921"
            ]
           ],
           "sequentialminus": [
            [
             0,
             "#0d0887"
            ],
            [
             0.1111111111111111,
             "#46039f"
            ],
            [
             0.2222222222222222,
             "#7201a8"
            ],
            [
             0.3333333333333333,
             "#9c179e"
            ],
            [
             0.4444444444444444,
             "#bd3786"
            ],
            [
             0.5555555555555556,
             "#d8576b"
            ],
            [
             0.6666666666666666,
             "#ed7953"
            ],
            [
             0.7777777777777778,
             "#fb9f3a"
            ],
            [
             0.8888888888888888,
             "#fdca26"
            ],
            [
             1,
             "#f0f921"
            ]
           ]
          },
          "colorway": [
           "#636efa",
           "#EF553B",
           "#00cc96",
           "#ab63fa",
           "#FFA15A",
           "#19d3f3",
           "#FF6692",
           "#B6E880",
           "#FF97FF",
           "#FECB52"
          ],
          "font": {
           "color": "#2a3f5f"
          },
          "geo": {
           "bgcolor": "white",
           "lakecolor": "white",
           "landcolor": "#E5ECF6",
           "showlakes": true,
           "showland": true,
           "subunitcolor": "white"
          },
          "hoverlabel": {
           "align": "left"
          },
          "hovermode": "closest",
          "mapbox": {
           "style": "light"
          },
          "paper_bgcolor": "white",
          "plot_bgcolor": "#E5ECF6",
          "polar": {
           "angularaxis": {
            "gridcolor": "white",
            "linecolor": "white",
            "ticks": ""
           },
           "bgcolor": "#E5ECF6",
           "radialaxis": {
            "gridcolor": "white",
            "linecolor": "white",
            "ticks": ""
           }
          },
          "scene": {
           "xaxis": {
            "backgroundcolor": "#E5ECF6",
            "gridcolor": "white",
            "gridwidth": 2,
            "linecolor": "white",
            "showbackground": true,
            "ticks": "",
            "zerolinecolor": "white"
           },
           "yaxis": {
            "backgroundcolor": "#E5ECF6",
            "gridcolor": "white",
            "gridwidth": 2,
            "linecolor": "white",
            "showbackground": true,
            "ticks": "",
            "zerolinecolor": "white"
           },
           "zaxis": {
            "backgroundcolor": "#E5ECF6",
            "gridcolor": "white",
            "gridwidth": 2,
            "linecolor": "white",
            "showbackground": true,
            "ticks": "",
            "zerolinecolor": "white"
           }
          },
          "shapedefaults": {
           "line": {
            "color": "#2a3f5f"
           }
          },
          "ternary": {
           "aaxis": {
            "gridcolor": "white",
            "linecolor": "white",
            "ticks": ""
           },
           "baxis": {
            "gridcolor": "white",
            "linecolor": "white",
            "ticks": ""
           },
           "bgcolor": "#E5ECF6",
           "caxis": {
            "gridcolor": "white",
            "linecolor": "white",
            "ticks": ""
           }
          },
          "title": {
           "x": 0.05
          },
          "xaxis": {
           "automargin": true,
           "gridcolor": "white",
           "linecolor": "white",
           "ticks": "",
           "title": {
            "standoff": 15
           },
           "zerolinecolor": "white",
           "zerolinewidth": 2
          },
          "yaxis": {
           "automargin": true,
           "gridcolor": "white",
           "linecolor": "white",
           "ticks": "",
           "title": {
            "standoff": 15
           },
           "zerolinecolor": "white",
           "zerolinewidth": 2
          }
         }
        },
        "title": {
         "text": "2D plot of the embeddings (projected with the PCA)"
        }
       }
      },
      "text/html": [
       "<div>                            <div id=\"5fbf3654-c024-4ae3-8dfa-e49f951b1c28\" class=\"plotly-graph-div\" style=\"height:525px; width:100%;\"></div>            <script type=\"text/javascript\">                require([\"plotly\"], function(Plotly) {                    window.PLOTLYENV=window.PLOTLYENV || {};                                    if (document.getElementById(\"5fbf3654-c024-4ae3-8dfa-e49f951b1c28\")) {                    Plotly.newPlot(                        \"5fbf3654-c024-4ae3-8dfa-e49f951b1c28\",                        [{\"marker\": {\"color\": \"#e6194b\"}, \"mode\": \"markers\", \"name\": \"butterfly\", \"type\": \"scatter\", \"x\": [-0.7805257439613342, 0.4424804449081421, 0.17689819633960724, 1.127944827079773, -1.018717885017395, -1.018717885017395, 0.7155447602272034, -1.2443571090698242, -0.23965120315551758, -0.010758914053440094, 0.3994574546813965, -0.05890045315027237, 2.0655269622802734, -1.2016346454620361, 0.8202036619186401, 0.47608715295791626, 0.9566731452941895, 0.17470479011535645, 0.7084850072860718, 1.0814288854599, 0.7391541600227356], \"y\": [-0.7286877036094666, -0.8894233703613281, -2.0192530155181885, -1.930597186088562, -0.8230962157249451, -0.8230962157249451, -0.5069400668144226, 1.0697996616363525, -0.9506950974464417, -1.4048271179199219, -2.4396188259124756, 0.8582289814949036, -2.4298129081726074, -2.2315616607666016, -1.5370525121688843, -1.5017874240875244, -1.830998182296753, -2.08662486076355, -1.8716872930526733, -1.4185932874679565, -1.4944735765457153]}, {\"marker\": {\"color\": \"#3cb44b\"}, \"mode\": \"markers\", \"name\": \"candle\", \"type\": \"scatter\", \"x\": [1.7434778213500977, 2.494004964828491, 2.713953733444214, 3.467946767807007, 4.373128414154053, 2.713953733444214, 3.286761522293091, 5.232809066772461, 4.473481178283691, 4.090353965759277, 3.166436195373535, 2.713953733444214, 4.905170440673828, 2.230769395828247, 4.899261951446533, 3.579014301300049, 2.674771308898926, 4.613736629486084, 2.1726579666137695, 5.188996315002441, 1.657198429107666, 4.652118682861328, 3.4264965057373047, 3.2992606163024902, 4.357949733734131, 5.490853786468506, 4.974313735961914, 5.309340476989746], \"y\": [0.5380281805992126, 0.2122366726398468, 3.0344016551971436, -1.2139997482299805, -1.2434487342834473, 3.0344016551971436, 2.3000810146331787, -1.3317285776138306, -2.1948940753936768, -0.7050133347511292, -1.1461193561553955, 3.0344016551971436, -2.842282295227051, 1.2208305597305298, -0.598662257194519, -0.4959387183189392, 0.4548388123512268, -1.255399227142334, 0.16137661039829254, -2.1282665729522705, -0.891734778881073, -2.059988498687744, -1.1686121225357056, -1.823909878730774, -1.8918118476867676, -1.8667014837265015, -1.3485723733901978, -1.9197081327438354]}, {\"marker\": {\"color\": \"#ffe119\"}, \"mode\": \"markers\", \"name\": \"church\", \"type\": \"scatter\", \"x\": [0.02764098159968853, -0.8850537538528442, 3.365561008453369, -1.1578212976455688, -1.1371630430221558, 0.2224186211824417, 0.058020614087581635, -1.872043490409851, 0.7522923946380615, -1.872043490409851, 0.7522923946380615, 2.0324270725250244, -2.270235538482666, -0.9878901839256287, 0.7747042179107666, -0.8850537538528442, -0.9878901839256287, -0.0760013684630394, -0.35872170329093933, -0.10739260166883469, -0.9616931080818176, -1.0728049278259277, 0.08618782460689545, 0.08618782460689545, -0.3277066648006439, 0.355057954788208, -0.35872170329093933, 0.6013236045837402, -0.05845952033996582, 0.2702147960662842, -0.28400731086730957, 0.6895821690559387, 0.08625750243663788, -0.5267840027809143], \"y\": [1.8378347158432007, 2.3861382007598877, 1.0467078685760498, 2.1079537868499756, 2.0853359699249268, 2.048035144805908, 2.337189197540283, 3.463461399078369, 2.2427406311035156, 3.463461399078369, 2.2427406311035156, 0.7088057398796082, 1.418463110923767, 2.652007579803467, 1.3439520597457886, 2.3861382007598877, 2.652007579803467, 1.294370174407959, 1.5502656698226929, 2.743021249771118, 1.9518749713897705, 1.52773916721344, 1.5180596113204956, 1.5180596113204956, 1.7126213312149048, 0.9488479495048523, 1.5502656698226929, 1.3799551725387573, 1.506612777709961, 0.8695998191833496, 1.498924732208252, 1.0458147525787354, 2.309652805328369, 1.7343312501907349]}, {\"marker\": {\"color\": \"#4363d8\"}, \"mode\": \"markers\", \"name\": \"cup\", \"type\": \"scatter\", \"x\": [4.690326690673828, 6.90807580947876, 5.661409378051758, 4.690326690673828, 5.994780540466309, 5.661409378051758, 5.54538106918335, 6.814850330352783, 5.633657455444336, 4.336124897003174, 7.234986782073975, 3.2434253692626953, 5.666176795959473, 5.8101043701171875, 6.141622066497803, 3.8349807262420654, 5.691099643707275, 5.8101043701171875, 6.244296073913574, 4.050523281097412, 6.703273773193359, 5.9250946044921875, 5.8211493492126465, 6.741643905639648, 5.342193126678467, 7.295642375946045, 3.9360880851745605], \"y\": [-0.48611336946487427, -3.2180912494659424, -3.1916518211364746, -0.48611336946487427, -3.203209638595581, -3.1916518211364746, -4.14329719543457, -2.025482654571533, -2.2165656089782715, -1.5674976110458374, -3.300203561782837, -1.2944926023483276, -2.5500166416168213, -2.307375431060791, -1.852353811264038, 0.6893394589424133, -3.454352378845215, -2.307375431060791, -3.460024356842041, -2.3067753314971924, -2.0086722373962402, -3.2285447120666504, -2.1749215126037598, -4.3057122230529785, -2.505929946899414, -3.645993947982788, -1.5200656652450562]}, {\"marker\": {\"color\": \"#f58231\"}, \"mode\": \"markers\", \"name\": \"door\", \"type\": \"scatter\", \"x\": [-1.0445044040679932, -0.16096574068069458, -1.5358760356903076, 1.2636247873306274, -0.7156375646591187, 0.00835191085934639, -0.012072078883647919, -0.21401314437389374, -0.6682303547859192, -0.21401314437389374, 1.7959471940994263, -0.20513862371444702, -0.3605928421020508, -1.2290674448013306, 0.024085549637675285, -0.06094380095601082, -1.2653318643569946, -1.3581950664520264, -0.35490211844444275, -1.2290674448013306, -1.2782890796661377, -0.6763404607772827, -2.664137840270996, 0.19534845650196075, -0.2665160298347473, -0.2769121527671814, -0.31986182928085327, -1.1788170337677002, 0.4307366907596588, 0.36569225788116455, -0.3867023289203644, 1.7959471940994263], \"y\": [0.5131356716156006, 1.617722749710083, 1.8287819623947144, 3.1692848205566406, -0.10950665920972824, 1.1568585634231567, 0.7673107385635376, 2.451619863510132, 1.379888892173767, 2.451619863510132, 0.7372177243232727, -0.14402759075164795, 0.4020377993583679, 0.15211676061153412, 0.6931861639022827, 1.8701814413070679, 1.5199286937713623, 0.5354982614517212, 1.343329906463623, 0.15211676061153412, 0.4569050073623657, 0.3670352101325989, -1.949400782585144, 0.19948045909404755, 0.6273372769355774, 1.4610484838485718, 2.7833633422851562, 0.5061500668525696, 0.4380696415901184, 1.126458764076233, 1.8660963773727417, 0.7372177243232727]}, {\"marker\": {\"color\": \"#911eb4\"}, \"mode\": \"markers\", \"name\": \"hat\", \"type\": \"scatter\", \"x\": [3.6494576930999756, 5.210084438323975, 2.549318552017212, 3.064908266067505, 3.5262258052825928, 1.4014259576797485, 1.931882381439209, 1.9109243154525757, 2.949957847595215, 2.7957632541656494, 5.210084438323975, 2.6316967010498047, 0.5037289261817932, 0.9539169073104858, 3.095510721206665, 0.9806445837020874, 4.4806952476501465, 1.0000884532928467, 3.178941488265991, 0.41414594650268555, 1.921366572380066], \"y\": [0.8490523099899292, -1.9091819524765015, -0.9232457876205444, -0.3172745406627655, 1.100481390953064, 0.8957385420799255, 0.7690742611885071, 1.2567259073257446, -1.4905601739883423, 1.9869304895401, -1.9091819524765015, -0.3813263177871704, 0.4674850404262543, -2.3068437576293945, -0.1501649171113968, -0.7080956101417542, 0.9562458395957947, 0.44198161363601685, -1.440705418586731, -0.6184824705123901, -0.172651007771492]}, {\"marker\": {\"color\": \"#46f0f0\"}, \"mode\": \"markers\", \"name\": \"hedgehog\", \"type\": \"scatter\", \"x\": [-4.0409111976623535, -2.1542863845825195, -4.646760940551758, -5.099678993225098, -4.37118673324585, -4.134598731994629, -4.507487773895264, -3.8262369632720947, -5.078742027282715, -5.192596435546875, -4.071544647216797, -4.44710111618042, -4.288851261138916, -3.3437492847442627, -4.004594326019287, -5.057429313659668, -4.0890326499938965, -3.562222957611084, -3.1256930828094482, -3.636192560195923, -5.189037799835205, -4.498372554779053, -3.7610795497894287, -3.2139220237731934, -5.699851989746094, -4.914132595062256, -4.865957736968994, -2.561474561691284, -5.058355808258057], \"y\": [-2.124913215637207, -3.1287930011749268, -3.494706392288208, -2.902284622192383, -3.601599931716919, -5.233140468597412, -3.8121769428253174, -2.9411253929138184, -4.468271732330322, -4.8232526779174805, -3.3093647956848145, -3.323848009109497, -4.216579914093018, -3.650252342224121, -2.603134870529175, -3.998897075653076, -3.141580104827881, -3.6771230697631836, -3.2156448364257812, -2.8579864501953125, -3.558565616607666, -4.35452127456665, -3.2915728092193604, -2.9832661151885986, -3.962069272994995, -3.7168121337890625, -3.7760612964630127, -1.5524137020111084, -3.4573452472686768]}, {\"marker\": {\"color\": \"#f032e6\"}, \"mode\": \"markers\", \"name\": \"helicopter\", \"type\": \"scatter\", \"x\": [2.253852605819702, -1.066535234451294, 0.17882730066776276, 0.8467039465904236, 0.2605428993701935, -0.6839593052864075, 1.4901827573776245, 1.418462872505188, 0.8906713724136353, 0.01757063716650009, -0.22296950221061707, -0.17515312135219574, -0.3661769926548004, -0.34115323424339294, -0.7200676798820496, -0.8684548735618591, -0.7557098269462585, -0.043495096266269684, -0.7607007026672363, -0.10384636372327805, -0.838106095790863, -0.5341351628303528], \"y\": [2.6831741333007812, 4.1818647384643555, 5.786296367645264, 2.443617105484009, 0.9924566149711609, 4.256608963012695, 3.888761520385742, 4.436925411224365, 2.608698844909668, 3.9676339626312256, 1.391631841659546, 3.960984945297241, 3.510962724685669, 3.4847402572631836, 2.660451889038086, 4.23750114440918, 2.981400966644287, 2.646209716796875, 4.504978656768799, 3.3178532123565674, 2.911740779876709, 3.2921574115753174]}, {\"marker\": {\"color\": \"#bcf60c\"}, \"mode\": \"markers\", \"name\": \"horse\", \"type\": \"scatter\", \"x\": [-4.990548610687256, -5.672946453094482, -4.526503086090088, -3.801119327545166, -5.476436138153076, -5.100057125091553, -3.977205753326416, -4.976304531097412, -4.787367343902588, -4.4737348556518555, -4.39578104019165, -4.56005859375, -5.672946453094482, -4.472784519195557, -5.094796180725098, -4.747945308685303, -5.3980512619018555, -5.7802300453186035, -4.309484004974365, -5.631095886230469, -4.969232082366943, -4.027734756469727], \"y\": [-0.49027812480926514, -1.0365580320358276, 0.765990674495697, -1.3544468879699707, -0.3192574977874756, 0.7460577487945557, 0.11206112802028656, -0.5218084454536438, 0.5215221047401428, 2.1508429050445557, 0.9145724773406982, -0.8355820775032043, -1.0365580320358276, 1.5355807542800903, -0.05722508952021599, 0.7570794820785522, -0.11193027347326279, 1.4003372192382812, 0.08260482549667358, 1.1216486692428589, 1.0578051805496216, -1.6734449863433838]}, {\"marker\": {\"color\": \"#fabebe\"}, \"mode\": \"markers\", \"name\": \"pineapple\", \"type\": \"scatter\", \"x\": [1.2216558456420898, 0.2979229986667633, 0.25787121057510376, -1.570698618888855, 0.14277346432209015, -0.02818390168249607, -0.9388279914855957, 0.6104190945625305, -0.33928343653678894, 0.475279837846756, -0.19223499298095703, 1.1467326879501343, 0.13609498739242554, -0.5490169525146484, 0.4957294464111328, 0.2831560969352722, 0.07179808616638184, -0.21272866427898407, 0.4046172797679901, 0.44004330039024353, 0.6034774780273438, -0.19223499298095703], \"y\": [-5.493157386779785, -4.450142860412598, -5.986711502075195, -5.282429218292236, -7.730527400970459, -7.311290264129639, -4.748033046722412, -6.182631015777588, -7.776247978210449, -5.8174004554748535, -6.336010456085205, -4.855832576751709, -5.658776760101318, -4.001594066619873, -6.84583854675293, -6.1827311515808105, -5.16353702545166, -5.447878837585449, -5.839568614959717, -4.283456325531006, -5.583463668823242, -6.336010456085205]}, {\"marker\": {\"color\": \"#008080\"}, \"mode\": \"markers\", \"name\": \"rifle\", \"type\": \"scatter\", \"x\": [0.9049829244613647, -0.11650269478559494, -0.2994818687438965, -0.6218701601028442, 0.7636545300483704, 0.21620407700538635, 1.0391241312026978, -0.10569088906049728, 0.31686729192733765, -0.6425695419311523, 1.4184660911560059, 0.6557944416999817, -0.6218701601028442, 1.012412190437317, 0.4987739622592926, -0.2994818687438965, 1.5155607461929321, 0.07001738995313644, 0.805686891078949, 0.6180220246315002, 1.071593999862671, 0.9371329545974731, 0.606046736240387, 0.9371329545974731, 0.6115813851356506, -0.7321426272392273, 0.3055601716041565, -0.9090394973754883, 0.6940639019012451, 0.7483950853347778, 0.9168447256088257, 0.876490592956543, 0.5974498391151428, 1.31550133228302], \"y\": [5.152817726135254, 6.714714527130127, 6.212127208709717, 6.503091812133789, 6.14307165145874, 5.362377643585205, 5.757229328155518, 7.35814905166626, 8.222148895263672, 7.425722122192383, 6.139463424682617, 8.093634605407715, 6.503091812133789, 6.33566951751709, 4.124999523162842, 6.212127208709717, 7.770059585571289, 5.432068347930908, 5.30466890335083, 7.657478332519531, 3.921034336090088, 7.0932936668396, 4.054826259613037, 7.0932936668396, 5.974660396575928, 3.50434947013855, 5.141478538513184, 3.320789337158203, 7.287731647491455, 6.2557373046875, 7.098289489746094, 6.632408142089844, 3.9878737926483154, 5.8851470947265625]}, {\"marker\": {\"color\": \"#e6beff\"}, \"mode\": \"markers\", \"name\": \"shark\", \"type\": \"scatter\", \"x\": [-4.6278276443481445, -5.641506195068359, -2.737372398376465, -1.6169103384017944, -4.844363212585449, -3.882750988006592, -4.999975204467773, -2.8284857273101807, -4.844363212585449, -4.457554817199707, -4.88747501373291, -4.140690803527832, -3.5120978355407715, -4.255253791809082, -4.524519920349121, -4.429723262786865, -2.5173821449279785, -4.139672756195068, -4.517251968383789, -2.5173821449279785, -2.188891887664795, -4.524519920349121, -4.524582862854004, -4.019890785217285, -3.076345682144165], \"y\": [-0.656595766544342, -2.8225467205047607, 0.5139323472976685, 0.4380776584148407, -0.017593655735254288, -0.049309223890304565, -1.2166436910629272, 0.5852213501930237, -0.017593655735254288, 0.559704601764679, -1.45069420337677, -0.8783965110778809, -0.8780419826507568, -1.24740731716156, -0.3328093886375427, -1.1971758604049683, -0.6687426567077637, -1.337202548980713, -0.8987420201301575, -0.6687426567077637, -0.09157782793045044, -0.3328093886375427, -1.4375005960464478, -0.07766295969486237, -0.6650288105010986]}, {\"marker\": {\"color\": \"#9a6324\"}, \"mode\": \"markers\", \"name\": \"snail\", \"type\": \"scatter\", \"x\": [3.790236473083496, 3.983264923095703, 1.971235752105713, -0.4039362967014313, 2.499589443206787, 3.973119020462036, 1.7836145162582397, 1.195773959159851, 3.211160898208618, 1.4034172296524048, 2.265303373336792, 3.646876096725464, 3.12307071685791, 2.1265063285827637, 1.982632040977478, 1.4294792413711548, 2.0351390838623047, 1.5042303800582886, 1.8414044380187988], \"y\": [-3.2793009281158447, -2.318608283996582, -1.6634130477905273, 0.1065947562456131, -3.065370798110962, -3.0394845008850098, -2.075894832611084, -2.8765885829925537, -2.156780958175659, -2.2274811267852783, -1.9227831363677979, -2.6258976459503174, -0.835903525352478, -1.5966520309448242, -1.6875102519989014, -2.202089786529541, -2.352207899093628, -2.672276258468628, -2.904500722885132]}, {\"marker\": {\"color\": \"#fffac8\"}, \"mode\": \"markers\", \"name\": \"snake\", \"type\": \"scatter\", \"x\": [1.9900660514831543, 3.4367754459381104, 1.9900660514831543, 1.7533122301101685, 0.8252162933349609, 1.2884893417358398, 0.8252162933349609, 1.7533122301101685, 3.4367754459381104, -2.4695870876312256, 0.34820449352264404, -1.2327581644058228, -0.6049589514732361, -1.2327581644058228, 0.7399224042892456, 0.009368693456053734], \"y\": [-0.4097231328487396, -2.0338828563690186, -0.4097231328487396, -0.19206352531909943, 0.1921781450510025, -0.25925180315971375, 0.1921781450510025, -0.19206352531909943, -2.0338828563690186, -1.1411381959915161, 0.4425530731678009, 0.5037796497344971, -0.625578761100769, 0.5037796497344971, -0.540056049823761, -1.069823980331421]}, {\"marker\": {\"color\": \"#800000\"}, \"mode\": \"markers\", \"name\": \"teapot\", \"type\": \"scatter\", \"x\": [5.725199222564697, 4.817703723907471, 6.209850788116455, 4.571855545043945, 7.060946464538574, 6.128992557525635, 5.334641456604004, 6.971041679382324, 7.150959014892578, 7.029964447021484, 3.9029994010925293, 2.9435741901397705, 5.8860859870910645, 7.497175693511963, 6.669795036315918, 8.92767333984375, 7.250060558319092, 6.273403644561768, 2.611212730407715, 7.310636043548584, 6.902777194976807, 5.265242576599121, 5.6005988121032715, 6.902777194976807, 5.105842113494873, 3.467916488647461], \"y\": [-2.4801197052001953, -4.210674285888672, -2.817335367202759, -3.2640488147735596, -2.700685501098633, -1.1465786695480347, -1.386132836341858, -2.8907041549682617, -2.4585464000701904, -1.136529803276062, -1.0568466186523438, -1.7966604232788086, -3.313359498977661, -4.756446361541748, -3.4639170169830322, -4.852489948272705, -3.7458484172821045, -3.1275806427001953, -0.18137919902801514, -3.5485520362854004, -3.7403435707092285, -2.6195878982543945, -3.3064045906066895, -3.7403435707092285, -2.2410035133361816, -0.9351634383201599]}, {\"marker\": {\"color\": \"#aaffc3\"}, \"mode\": \"markers\", \"name\": \"teddy_bear\", \"type\": \"scatter\", \"x\": [-0.017936542630195618, -1.1908000707626343, -2.145545482635498, -0.5611454248428345, -1.820900321006775, -1.4844586849212646, 0.9617644548416138, 1.0968966484069824, 0.8095405101776123, -0.9944776296615601, -0.9591474533081055, -3.7285542488098145, -0.5543007254600525, -0.07641030848026276, 1.1074496507644653, 1.3453495502471924, 1.3876808881759644, -0.671470582485199, 0.21674226224422455, 0.5554549098014832, 0.5167563557624817], \"y\": [-4.133132457733154, -3.336899995803833, -3.528261423110962, -5.117462158203125, -4.200708866119385, -4.1703901290893555, -3.4271178245544434, -2.649183750152588, -3.7176928520202637, -2.812556505203247, -4.760127544403076, -3.554051160812378, -5.030274868011475, -0.1723707616329193, -3.6937434673309326, -3.722803831100464, -3.6491241455078125, -3.7776002883911133, -3.1525039672851562, -3.5241315364837646, -3.8852994441986084]}, {\"marker\": {\"color\": \"#808000\"}, \"mode\": \"markers\", \"name\": \"tiger\", \"type\": \"scatter\", \"x\": [-4.059754371643066, -5.263863563537598, -4.104401588439941, -5.872222900390625, -5.576782703399658, -4.906871795654297, -5.299755096435547, -3.6775169372558594, -4.219749927520752, -4.9379072189331055, -4.22462272644043, -6.128713607788086, -3.2626893520355225, -4.937043190002441, -2.595121383666992, -6.291319370269775, -5.290276527404785, -5.1486921310424805, -5.135336399078369, -5.110874176025391, -4.954329490661621, -5.485006809234619, -4.495762825012207, -4.924497604370117, -5.382380962371826], \"y\": [-2.044313669204712, -2.7069318294525146, -2.166234016418457, -0.7330328822135925, -0.1830482929944992, -1.8279423713684082, -2.6058459281921387, 0.4665832221508026, -1.2559994459152222, -3.242161989212036, -1.5778460502624512, -1.1448463201522827, -1.2615278959274292, -2.8943183422088623, -3.35325288772583, -0.11140698194503784, -1.7794395685195923, -1.5207717418670654, -1.7443634271621704, -1.8108464479446411, -1.6153812408447266, -1.1357125043869019, -1.503955602645874, -1.5013864040374756, -1.1714154481887817]}, {\"marker\": {\"color\": \"#ffd8b1\"}, \"mode\": \"markers\", \"name\": \"umbrella\", \"type\": \"scatter\", \"x\": [0.24359031021595, -1.3975974321365356, -0.21508745849132538, 0.5583658814430237, 0.19973088800907135, 0.3507354259490967, 1.647935390472412, 0.6675019264221191, 0.26282909512519836, 0.9594407081604004, 1.1325652599334717, 0.5594428777694702, 1.2407387495040894, 2.5555527210235596, 0.47395050525665283, 0.35881903767585754, -0.40506675839424133, 1.038684368133545], \"y\": [-0.30765900015830994, 1.4189937114715576, 2.835341691970825, 2.660336971282959, 0.735291063785553, 0.7991155385971069, -0.7503374218940735, 1.67035973072052, 0.8853314518928528, 1.4096415042877197, 0.1107117086648941, 1.1550580263137817, 0.7417630553245544, 2.2681896686553955, 1.0223332643508911, 2.71201229095459, 1.1403201818466187, 0.1771582067012787]}, {\"marker\": {\"color\": \"#000075\"}, \"mode\": \"markers\", \"name\": \"violin\", \"type\": \"scatter\", \"x\": [3.337447166442871, 1.408353567123413, 3.062204122543335, 4.109097003936768, 2.0178773403167725, 2.194444417953491, 2.2937405109405518, 0.7249425053596497, 2.259035587310791, 2.232492208480835, 1.9786615371704102, 1.1429004669189453, 2.3762025833129883, 2.2937405109405518, 1.7717305421829224, 2.8781814575195312, 2.049934148788452, 1.5857967138290405, 1.8461896181106567, 3.213822841644287, 1.5219603776931763, 1.5804470777511597, 2.2987449169158936, 2.087686538696289, 1.9946118593215942, 2.1109538078308105, 2.020491600036621, 1.6221436262130737, 3.3123295307159424, 2.453169345855713, 2.3075480461120605, 1.5609784126281738], \"y\": [0.6046125292778015, 4.954127311706543, 1.7100036144256592, 3.065777063369751, 8.410412788391113, 0.910823404788971, 9.174322128295898, 6.271519184112549, 5.1123456954956055, 4.893085479736328, 7.69268274307251, 6.1140456199646, 6.565613269805908, 9.174322128295898, 4.978846549987793, 1.9572197198867798, 4.9799723625183105, 3.649106025695801, 6.68043851852417, 3.827699661254883, 5.3208208084106445, 5.2848711013793945, 6.473523139953613, 6.541743278503418, 5.387283802032471, 6.330111026763916, 5.782835006713867, 6.33788537979126, 9.454835891723633, 8.435980796813965, 7.542849540710449, 5.519874095916748]}, {\"marker\": {\"color\": \"#808080\"}, \"mode\": \"markers\", \"name\": \"zebra\", \"type\": \"scatter\", \"x\": [-5.721104621887207, -5.896452903747559, -4.783407211303711, -6.222843170166016, -5.896452903747559, -3.6436376571655273, -5.681880474090576, -5.876761436462402, -4.323764324188232, -5.965565204620361, -2.4525015354156494, -5.627553462982178, -4.846027851104736, -5.425498008728027, -5.852328777313232, -6.546307563781738, -5.990271091461182, -6.0537824630737305, -5.97821569442749, -7.172635555267334, -6.750977516174316, -5.8359375, -6.826893329620361, -6.832351207733154, -5.844220161437988, -5.261821269989014], \"y\": [1.8474801778793335, -0.029160641133785248, -0.6251536011695862, 0.904510498046875, -0.029160641133785248, -1.8586093187332153, 0.05308157205581665, 1.1530237197875977, -1.2914619445800781, 0.09698634594678879, 0.6654003262519836, 1.1608525514602661, 0.6806022524833679, 2.1543452739715576, 0.6741138100624084, 1.0670921802520752, 0.15793250501155853, 0.4074259102344513, 0.4927406311035156, 0.5495103597640991, 0.9701787233352661, 1.1564056873321533, 0.6322882175445557, 0.18885771930217743, 0.28650256991386414, 0.1259710192680359]}],                        {\"template\": {\"data\": {\"bar\": [{\"error_x\": {\"color\": \"#2a3f5f\"}, \"error_y\": {\"color\": \"#2a3f5f\"}, \"marker\": {\"line\": {\"color\": \"#E5ECF6\", \"width\": 0.5}}, \"type\": \"bar\"}], \"barpolar\": [{\"marker\": {\"line\": {\"color\": \"#E5ECF6\", \"width\": 0.5}}, \"type\": \"barpolar\"}], \"carpet\": [{\"aaxis\": {\"endlinecolor\": \"#2a3f5f\", \"gridcolor\": \"white\", \"linecolor\": \"white\", \"minorgridcolor\": \"white\", \"startlinecolor\": \"#2a3f5f\"}, \"baxis\": {\"endlinecolor\": \"#2a3f5f\", \"gridcolor\": \"white\", \"linecolor\": \"white\", \"minorgridcolor\": \"white\", \"startlinecolor\": \"#2a3f5f\"}, \"type\": \"carpet\"}], \"choropleth\": [{\"colorbar\": {\"outlinewidth\": 0, \"ticks\": \"\"}, \"type\": \"choropleth\"}], \"contour\": [{\"colorbar\": {\"outlinewidth\": 0, \"ticks\": \"\"}, \"colorscale\": [[0.0, \"#0d0887\"], [0.1111111111111111, \"#46039f\"], [0.2222222222222222, \"#7201a8\"], [0.3333333333333333, \"#9c179e\"], [0.4444444444444444, \"#bd3786\"], [0.5555555555555556, \"#d8576b\"], [0.6666666666666666, \"#ed7953\"], [0.7777777777777778, \"#fb9f3a\"], [0.8888888888888888, \"#fdca26\"], [1.0, \"#f0f921\"]], \"type\": \"contour\"}], \"contourcarpet\": [{\"colorbar\": {\"outlinewidth\": 0, \"ticks\": \"\"}, \"type\": \"contourcarpet\"}], \"heatmap\": [{\"colorbar\": {\"outlinewidth\": 0, \"ticks\": \"\"}, \"colorscale\": [[0.0, \"#0d0887\"], [0.1111111111111111, \"#46039f\"], [0.2222222222222222, \"#7201a8\"], [0.3333333333333333, \"#9c179e\"], [0.4444444444444444, \"#bd3786\"], [0.5555555555555556, \"#d8576b\"], [0.6666666666666666, \"#ed7953\"], [0.7777777777777778, \"#fb9f3a\"], [0.8888888888888888, \"#fdca26\"], [1.0, \"#f0f921\"]], \"type\": \"heatmap\"}], \"heatmapgl\": [{\"colorbar\": {\"outlinewidth\": 0, \"ticks\": \"\"}, \"colorscale\": [[0.0, \"#0d0887\"], [0.1111111111111111, \"#46039f\"], [0.2222222222222222, \"#7201a8\"], [0.3333333333333333, \"#9c179e\"], [0.4444444444444444, \"#bd3786\"], [0.5555555555555556, \"#d8576b\"], [0.6666666666666666, \"#ed7953\"], [0.7777777777777778, \"#fb9f3a\"], [0.8888888888888888, \"#fdca26\"], [1.0, \"#f0f921\"]], \"type\": \"heatmapgl\"}], \"histogram\": [{\"marker\": {\"colorbar\": {\"outlinewidth\": 0, \"ticks\": \"\"}}, \"type\": \"histogram\"}], \"histogram2d\": [{\"colorbar\": {\"outlinewidth\": 0, \"ticks\": \"\"}, \"colorscale\": [[0.0, \"#0d0887\"], [0.1111111111111111, \"#46039f\"], [0.2222222222222222, \"#7201a8\"], [0.3333333333333333, \"#9c179e\"], [0.4444444444444444, \"#bd3786\"], [0.5555555555555556, \"#d8576b\"], [0.6666666666666666, \"#ed7953\"], [0.7777777777777778, \"#fb9f3a\"], [0.8888888888888888, \"#fdca26\"], [1.0, \"#f0f921\"]], \"type\": \"histogram2d\"}], \"histogram2dcontour\": [{\"colorbar\": {\"outlinewidth\": 0, \"ticks\": \"\"}, \"colorscale\": [[0.0, \"#0d0887\"], [0.1111111111111111, \"#46039f\"], [0.2222222222222222, \"#7201a8\"], [0.3333333333333333, \"#9c179e\"], [0.4444444444444444, \"#bd3786\"], [0.5555555555555556, \"#d8576b\"], [0.6666666666666666, \"#ed7953\"], [0.7777777777777778, \"#fb9f3a\"], [0.8888888888888888, \"#fdca26\"], [1.0, \"#f0f921\"]], \"type\": \"histogram2dcontour\"}], \"mesh3d\": [{\"colorbar\": {\"outlinewidth\": 0, \"ticks\": \"\"}, \"type\": \"mesh3d\"}], \"parcoords\": [{\"line\": {\"colorbar\": {\"outlinewidth\": 0, \"ticks\": \"\"}}, \"type\": \"parcoords\"}], \"pie\": [{\"automargin\": true, \"type\": \"pie\"}], \"scatter\": [{\"marker\": {\"colorbar\": {\"outlinewidth\": 0, \"ticks\": \"\"}}, \"type\": \"scatter\"}], \"scatter3d\": [{\"line\": {\"colorbar\": {\"outlinewidth\": 0, \"ticks\": \"\"}}, \"marker\": {\"colorbar\": {\"outlinewidth\": 0, \"ticks\": \"\"}}, \"type\": \"scatter3d\"}], \"scattercarpet\": [{\"marker\": {\"colorbar\": {\"outlinewidth\": 0, \"ticks\": \"\"}}, \"type\": \"scattercarpet\"}], \"scattergeo\": [{\"marker\": {\"colorbar\": {\"outlinewidth\": 0, \"ticks\": \"\"}}, \"type\": \"scattergeo\"}], \"scattergl\": [{\"marker\": {\"colorbar\": {\"outlinewidth\": 0, \"ticks\": \"\"}}, \"type\": \"scattergl\"}], \"scattermapbox\": [{\"marker\": {\"colorbar\": {\"outlinewidth\": 0, \"ticks\": \"\"}}, \"type\": \"scattermapbox\"}], \"scatterpolar\": [{\"marker\": {\"colorbar\": {\"outlinewidth\": 0, \"ticks\": \"\"}}, \"type\": \"scatterpolar\"}], \"scatterpolargl\": [{\"marker\": {\"colorbar\": {\"outlinewidth\": 0, \"ticks\": \"\"}}, \"type\": \"scatterpolargl\"}], \"scatterternary\": [{\"marker\": {\"colorbar\": {\"outlinewidth\": 0, \"ticks\": \"\"}}, \"type\": \"scatterternary\"}], \"surface\": [{\"colorbar\": {\"outlinewidth\": 0, \"ticks\": \"\"}, \"colorscale\": [[0.0, \"#0d0887\"], [0.1111111111111111, \"#46039f\"], [0.2222222222222222, \"#7201a8\"], [0.3333333333333333, \"#9c179e\"], [0.4444444444444444, \"#bd3786\"], [0.5555555555555556, \"#d8576b\"], [0.6666666666666666, \"#ed7953\"], [0.7777777777777778, \"#fb9f3a\"], [0.8888888888888888, \"#fdca26\"], [1.0, \"#f0f921\"]], \"type\": \"surface\"}], \"table\": [{\"cells\": {\"fill\": {\"color\": \"#EBF0F8\"}, \"line\": {\"color\": \"white\"}}, \"header\": {\"fill\": {\"color\": \"#C8D4E3\"}, \"line\": {\"color\": \"white\"}}, \"type\": \"table\"}]}, \"layout\": {\"annotationdefaults\": {\"arrowcolor\": \"#2a3f5f\", \"arrowhead\": 0, \"arrowwidth\": 1}, \"autotypenumbers\": \"strict\", \"coloraxis\": {\"colorbar\": {\"outlinewidth\": 0, \"ticks\": \"\"}}, \"colorscale\": {\"diverging\": [[0, \"#8e0152\"], [0.1, \"#c51b7d\"], [0.2, \"#de77ae\"], [0.3, \"#f1b6da\"], [0.4, \"#fde0ef\"], [0.5, \"#f7f7f7\"], [0.6, \"#e6f5d0\"], [0.7, \"#b8e186\"], [0.8, \"#7fbc41\"], [0.9, \"#4d9221\"], [1, \"#276419\"]], \"sequential\": [[0.0, \"#0d0887\"], [0.1111111111111111, \"#46039f\"], [0.2222222222222222, \"#7201a8\"], [0.3333333333333333, \"#9c179e\"], [0.4444444444444444, \"#bd3786\"], [0.5555555555555556, \"#d8576b\"], [0.6666666666666666, \"#ed7953\"], [0.7777777777777778, \"#fb9f3a\"], [0.8888888888888888, \"#fdca26\"], [1.0, \"#f0f921\"]], \"sequentialminus\": [[0.0, \"#0d0887\"], [0.1111111111111111, \"#46039f\"], [0.2222222222222222, \"#7201a8\"], [0.3333333333333333, \"#9c179e\"], [0.4444444444444444, \"#bd3786\"], [0.5555555555555556, \"#d8576b\"], [0.6666666666666666, \"#ed7953\"], [0.7777777777777778, \"#fb9f3a\"], [0.8888888888888888, \"#fdca26\"], [1.0, \"#f0f921\"]]}, \"colorway\": [\"#636efa\", \"#EF553B\", \"#00cc96\", \"#ab63fa\", \"#FFA15A\", \"#19d3f3\", \"#FF6692\", \"#B6E880\", \"#FF97FF\", \"#FECB52\"], \"font\": {\"color\": \"#2a3f5f\"}, \"geo\": {\"bgcolor\": \"white\", \"lakecolor\": \"white\", \"landcolor\": \"#E5ECF6\", \"showlakes\": true, \"showland\": true, \"subunitcolor\": \"white\"}, \"hoverlabel\": {\"align\": \"left\"}, \"hovermode\": \"closest\", \"mapbox\": {\"style\": \"light\"}, \"paper_bgcolor\": \"white\", \"plot_bgcolor\": \"#E5ECF6\", \"polar\": {\"angularaxis\": {\"gridcolor\": \"white\", \"linecolor\": \"white\", \"ticks\": \"\"}, \"bgcolor\": \"#E5ECF6\", \"radialaxis\": {\"gridcolor\": \"white\", \"linecolor\": \"white\", \"ticks\": \"\"}}, \"scene\": {\"xaxis\": {\"backgroundcolor\": \"#E5ECF6\", \"gridcolor\": \"white\", \"gridwidth\": 2, \"linecolor\": \"white\", \"showbackground\": true, \"ticks\": \"\", \"zerolinecolor\": \"white\"}, \"yaxis\": {\"backgroundcolor\": \"#E5ECF6\", \"gridcolor\": \"white\", \"gridwidth\": 2, \"linecolor\": \"white\", \"showbackground\": true, \"ticks\": \"\", \"zerolinecolor\": \"white\"}, \"zaxis\": {\"backgroundcolor\": \"#E5ECF6\", \"gridcolor\": \"white\", \"gridwidth\": 2, \"linecolor\": \"white\", \"showbackground\": true, \"ticks\": \"\", \"zerolinecolor\": \"white\"}}, \"shapedefaults\": {\"line\": {\"color\": \"#2a3f5f\"}}, \"ternary\": {\"aaxis\": {\"gridcolor\": \"white\", \"linecolor\": \"white\", \"ticks\": \"\"}, \"baxis\": {\"gridcolor\": \"white\", \"linecolor\": \"white\", \"ticks\": \"\"}, \"bgcolor\": \"#E5ECF6\", \"caxis\": {\"gridcolor\": \"white\", \"linecolor\": \"white\", \"ticks\": \"\"}}, \"title\": {\"x\": 0.05}, \"xaxis\": {\"automargin\": true, \"gridcolor\": \"white\", \"linecolor\": \"white\", \"ticks\": \"\", \"title\": {\"standoff\": 15}, \"zerolinecolor\": \"white\", \"zerolinewidth\": 2}, \"yaxis\": {\"automargin\": true, \"gridcolor\": \"white\", \"linecolor\": \"white\", \"ticks\": \"\", \"title\": {\"standoff\": 15}, \"zerolinecolor\": \"white\", \"zerolinewidth\": 2}}}, \"title\": {\"text\": \"2D plot of the embeddings (projected with the PCA)\"}},                        {\"responsive\": true}                    ).then(function(){\n",
       "                            \n",
       "var gd = document.getElementById('5fbf3654-c024-4ae3-8dfa-e49f951b1c28');\n",
       "var x = new MutationObserver(function (mutations, observer) {{\n",
       "        var display = window.getComputedStyle(gd).display;\n",
       "        if (!display || display === 'none') {{\n",
       "            console.log([gd, 'removed!']);\n",
       "            Plotly.purge(gd);\n",
       "            observer.disconnect();\n",
       "        }}\n",
       "}});\n",
       "\n",
       "// Listen for the removal of the full notebook cells\n",
       "var notebookContainer = gd.closest('#notebook-container');\n",
       "if (notebookContainer) {{\n",
       "    x.observe(notebookContainer, {childList: true});\n",
       "}}\n",
       "\n",
       "// Listen for the clearing of the current output cell\n",
       "var outputEl = gd.closest('.output');\n",
       "if (outputEl) {{\n",
       "    x.observe(outputEl, {childList: true});\n",
       "}}\n",
       "\n",
       "                        })                };                });            </script>        </div>"
      ]
     },
     "metadata": {},
     "output_type": "display_data"
    }
   ],
   "source": [
    "traces = []\n",
    "fig = go.Figure()\n",
    "for i, (category, coordinates) in enumerate(res.items()):\n",
    "    trace = go.Scatter(\n",
    "        x=coordinates['x'],\n",
    "        y=coordinates['y'],\n",
    "        name=category,\n",
    "        mode='markers',\n",
    "        marker_color=colors[i]\n",
    "    )\n",
    "    fig.add_trace(trace)\n",
    "    fig.update_layout(title='2D plot of the embeddings (projected with the PCA)')\n",
    "    \n",
    "fig.show()"
   ]
  },
  {
   "cell_type": "markdown",
   "metadata": {},
   "source": [
    "**TODO**: You can now code the 3D plot with the custom sketch. You can make the Custom Sketch easier to find by customising it."
   ]
  },
  {
   "cell_type": "code",
   "execution_count": 59,
   "metadata": {},
   "outputs": [],
   "source": [
    "data = ... # Implement me!\n",
    "res = ... # Implement me!"
   ]
  },
  {
   "cell_type": "code",
   "execution_count": 60,
   "metadata": {},
   "outputs": [
    {
     "data": {
      "application/vnd.plotly.v1+json": {
       "config": {
        "plotlyServerURL": "https://plot.ly"
       },
       "data": [],
       "layout": {
        "template": {
         "data": {
          "bar": [
           {
            "error_x": {
             "color": "#2a3f5f"
            },
            "error_y": {
             "color": "#2a3f5f"
            },
            "marker": {
             "line": {
              "color": "#E5ECF6",
              "width": 0.5
             }
            },
            "type": "bar"
           }
          ],
          "barpolar": [
           {
            "marker": {
             "line": {
              "color": "#E5ECF6",
              "width": 0.5
             }
            },
            "type": "barpolar"
           }
          ],
          "carpet": [
           {
            "aaxis": {
             "endlinecolor": "#2a3f5f",
             "gridcolor": "white",
             "linecolor": "white",
             "minorgridcolor": "white",
             "startlinecolor": "#2a3f5f"
            },
            "baxis": {
             "endlinecolor": "#2a3f5f",
             "gridcolor": "white",
             "linecolor": "white",
             "minorgridcolor": "white",
             "startlinecolor": "#2a3f5f"
            },
            "type": "carpet"
           }
          ],
          "choropleth": [
           {
            "colorbar": {
             "outlinewidth": 0,
             "ticks": ""
            },
            "type": "choropleth"
           }
          ],
          "contour": [
           {
            "colorbar": {
             "outlinewidth": 0,
             "ticks": ""
            },
            "colorscale": [
             [
              0,
              "#0d0887"
             ],
             [
              0.1111111111111111,
              "#46039f"
             ],
             [
              0.2222222222222222,
              "#7201a8"
             ],
             [
              0.3333333333333333,
              "#9c179e"
             ],
             [
              0.4444444444444444,
              "#bd3786"
             ],
             [
              0.5555555555555556,
              "#d8576b"
             ],
             [
              0.6666666666666666,
              "#ed7953"
             ],
             [
              0.7777777777777778,
              "#fb9f3a"
             ],
             [
              0.8888888888888888,
              "#fdca26"
             ],
             [
              1,
              "#f0f921"
             ]
            ],
            "type": "contour"
           }
          ],
          "contourcarpet": [
           {
            "colorbar": {
             "outlinewidth": 0,
             "ticks": ""
            },
            "type": "contourcarpet"
           }
          ],
          "heatmap": [
           {
            "colorbar": {
             "outlinewidth": 0,
             "ticks": ""
            },
            "colorscale": [
             [
              0,
              "#0d0887"
             ],
             [
              0.1111111111111111,
              "#46039f"
             ],
             [
              0.2222222222222222,
              "#7201a8"
             ],
             [
              0.3333333333333333,
              "#9c179e"
             ],
             [
              0.4444444444444444,
              "#bd3786"
             ],
             [
              0.5555555555555556,
              "#d8576b"
             ],
             [
              0.6666666666666666,
              "#ed7953"
             ],
             [
              0.7777777777777778,
              "#fb9f3a"
             ],
             [
              0.8888888888888888,
              "#fdca26"
             ],
             [
              1,
              "#f0f921"
             ]
            ],
            "type": "heatmap"
           }
          ],
          "heatmapgl": [
           {
            "colorbar": {
             "outlinewidth": 0,
             "ticks": ""
            },
            "colorscale": [
             [
              0,
              "#0d0887"
             ],
             [
              0.1111111111111111,
              "#46039f"
             ],
             [
              0.2222222222222222,
              "#7201a8"
             ],
             [
              0.3333333333333333,
              "#9c179e"
             ],
             [
              0.4444444444444444,
              "#bd3786"
             ],
             [
              0.5555555555555556,
              "#d8576b"
             ],
             [
              0.6666666666666666,
              "#ed7953"
             ],
             [
              0.7777777777777778,
              "#fb9f3a"
             ],
             [
              0.8888888888888888,
              "#fdca26"
             ],
             [
              1,
              "#f0f921"
             ]
            ],
            "type": "heatmapgl"
           }
          ],
          "histogram": [
           {
            "marker": {
             "colorbar": {
              "outlinewidth": 0,
              "ticks": ""
             }
            },
            "type": "histogram"
           }
          ],
          "histogram2d": [
           {
            "colorbar": {
             "outlinewidth": 0,
             "ticks": ""
            },
            "colorscale": [
             [
              0,
              "#0d0887"
             ],
             [
              0.1111111111111111,
              "#46039f"
             ],
             [
              0.2222222222222222,
              "#7201a8"
             ],
             [
              0.3333333333333333,
              "#9c179e"
             ],
             [
              0.4444444444444444,
              "#bd3786"
             ],
             [
              0.5555555555555556,
              "#d8576b"
             ],
             [
              0.6666666666666666,
              "#ed7953"
             ],
             [
              0.7777777777777778,
              "#fb9f3a"
             ],
             [
              0.8888888888888888,
              "#fdca26"
             ],
             [
              1,
              "#f0f921"
             ]
            ],
            "type": "histogram2d"
           }
          ],
          "histogram2dcontour": [
           {
            "colorbar": {
             "outlinewidth": 0,
             "ticks": ""
            },
            "colorscale": [
             [
              0,
              "#0d0887"
             ],
             [
              0.1111111111111111,
              "#46039f"
             ],
             [
              0.2222222222222222,
              "#7201a8"
             ],
             [
              0.3333333333333333,
              "#9c179e"
             ],
             [
              0.4444444444444444,
              "#bd3786"
             ],
             [
              0.5555555555555556,
              "#d8576b"
             ],
             [
              0.6666666666666666,
              "#ed7953"
             ],
             [
              0.7777777777777778,
              "#fb9f3a"
             ],
             [
              0.8888888888888888,
              "#fdca26"
             ],
             [
              1,
              "#f0f921"
             ]
            ],
            "type": "histogram2dcontour"
           }
          ],
          "mesh3d": [
           {
            "colorbar": {
             "outlinewidth": 0,
             "ticks": ""
            },
            "type": "mesh3d"
           }
          ],
          "parcoords": [
           {
            "line": {
             "colorbar": {
              "outlinewidth": 0,
              "ticks": ""
             }
            },
            "type": "parcoords"
           }
          ],
          "pie": [
           {
            "automargin": true,
            "type": "pie"
           }
          ],
          "scatter": [
           {
            "marker": {
             "colorbar": {
              "outlinewidth": 0,
              "ticks": ""
             }
            },
            "type": "scatter"
           }
          ],
          "scatter3d": [
           {
            "line": {
             "colorbar": {
              "outlinewidth": 0,
              "ticks": ""
             }
            },
            "marker": {
             "colorbar": {
              "outlinewidth": 0,
              "ticks": ""
             }
            },
            "type": "scatter3d"
           }
          ],
          "scattercarpet": [
           {
            "marker": {
             "colorbar": {
              "outlinewidth": 0,
              "ticks": ""
             }
            },
            "type": "scattercarpet"
           }
          ],
          "scattergeo": [
           {
            "marker": {
             "colorbar": {
              "outlinewidth": 0,
              "ticks": ""
             }
            },
            "type": "scattergeo"
           }
          ],
          "scattergl": [
           {
            "marker": {
             "colorbar": {
              "outlinewidth": 0,
              "ticks": ""
             }
            },
            "type": "scattergl"
           }
          ],
          "scattermapbox": [
           {
            "marker": {
             "colorbar": {
              "outlinewidth": 0,
              "ticks": ""
             }
            },
            "type": "scattermapbox"
           }
          ],
          "scatterpolar": [
           {
            "marker": {
             "colorbar": {
              "outlinewidth": 0,
              "ticks": ""
             }
            },
            "type": "scatterpolar"
           }
          ],
          "scatterpolargl": [
           {
            "marker": {
             "colorbar": {
              "outlinewidth": 0,
              "ticks": ""
             }
            },
            "type": "scatterpolargl"
           }
          ],
          "scatterternary": [
           {
            "marker": {
             "colorbar": {
              "outlinewidth": 0,
              "ticks": ""
             }
            },
            "type": "scatterternary"
           }
          ],
          "surface": [
           {
            "colorbar": {
             "outlinewidth": 0,
             "ticks": ""
            },
            "colorscale": [
             [
              0,
              "#0d0887"
             ],
             [
              0.1111111111111111,
              "#46039f"
             ],
             [
              0.2222222222222222,
              "#7201a8"
             ],
             [
              0.3333333333333333,
              "#9c179e"
             ],
             [
              0.4444444444444444,
              "#bd3786"
             ],
             [
              0.5555555555555556,
              "#d8576b"
             ],
             [
              0.6666666666666666,
              "#ed7953"
             ],
             [
              0.7777777777777778,
              "#fb9f3a"
             ],
             [
              0.8888888888888888,
              "#fdca26"
             ],
             [
              1,
              "#f0f921"
             ]
            ],
            "type": "surface"
           }
          ],
          "table": [
           {
            "cells": {
             "fill": {
              "color": "#EBF0F8"
             },
             "line": {
              "color": "white"
             }
            },
            "header": {
             "fill": {
              "color": "#C8D4E3"
             },
             "line": {
              "color": "white"
             }
            },
            "type": "table"
           }
          ]
         },
         "layout": {
          "annotationdefaults": {
           "arrowcolor": "#2a3f5f",
           "arrowhead": 0,
           "arrowwidth": 1
          },
          "autotypenumbers": "strict",
          "coloraxis": {
           "colorbar": {
            "outlinewidth": 0,
            "ticks": ""
           }
          },
          "colorscale": {
           "diverging": [
            [
             0,
             "#8e0152"
            ],
            [
             0.1,
             "#c51b7d"
            ],
            [
             0.2,
             "#de77ae"
            ],
            [
             0.3,
             "#f1b6da"
            ],
            [
             0.4,
             "#fde0ef"
            ],
            [
             0.5,
             "#f7f7f7"
            ],
            [
             0.6,
             "#e6f5d0"
            ],
            [
             0.7,
             "#b8e186"
            ],
            [
             0.8,
             "#7fbc41"
            ],
            [
             0.9,
             "#4d9221"
            ],
            [
             1,
             "#276419"
            ]
           ],
           "sequential": [
            [
             0,
             "#0d0887"
            ],
            [
             0.1111111111111111,
             "#46039f"
            ],
            [
             0.2222222222222222,
             "#7201a8"
            ],
            [
             0.3333333333333333,
             "#9c179e"
            ],
            [
             0.4444444444444444,
             "#bd3786"
            ],
            [
             0.5555555555555556,
             "#d8576b"
            ],
            [
             0.6666666666666666,
             "#ed7953"
            ],
            [
             0.7777777777777778,
             "#fb9f3a"
            ],
            [
             0.8888888888888888,
             "#fdca26"
            ],
            [
             1,
             "#f0f921"
            ]
           ],
           "sequentialminus": [
            [
             0,
             "#0d0887"
            ],
            [
             0.1111111111111111,
             "#46039f"
            ],
            [
             0.2222222222222222,
             "#7201a8"
            ],
            [
             0.3333333333333333,
             "#9c179e"
            ],
            [
             0.4444444444444444,
             "#bd3786"
            ],
            [
             0.5555555555555556,
             "#d8576b"
            ],
            [
             0.6666666666666666,
             "#ed7953"
            ],
            [
             0.7777777777777778,
             "#fb9f3a"
            ],
            [
             0.8888888888888888,
             "#fdca26"
            ],
            [
             1,
             "#f0f921"
            ]
           ]
          },
          "colorway": [
           "#636efa",
           "#EF553B",
           "#00cc96",
           "#ab63fa",
           "#FFA15A",
           "#19d3f3",
           "#FF6692",
           "#B6E880",
           "#FF97FF",
           "#FECB52"
          ],
          "font": {
           "color": "#2a3f5f"
          },
          "geo": {
           "bgcolor": "white",
           "lakecolor": "white",
           "landcolor": "#E5ECF6",
           "showlakes": true,
           "showland": true,
           "subunitcolor": "white"
          },
          "hoverlabel": {
           "align": "left"
          },
          "hovermode": "closest",
          "mapbox": {
           "style": "light"
          },
          "paper_bgcolor": "white",
          "plot_bgcolor": "#E5ECF6",
          "polar": {
           "angularaxis": {
            "gridcolor": "white",
            "linecolor": "white",
            "ticks": ""
           },
           "bgcolor": "#E5ECF6",
           "radialaxis": {
            "gridcolor": "white",
            "linecolor": "white",
            "ticks": ""
           }
          },
          "scene": {
           "xaxis": {
            "backgroundcolor": "#E5ECF6",
            "gridcolor": "white",
            "gridwidth": 2,
            "linecolor": "white",
            "showbackground": true,
            "ticks": "",
            "zerolinecolor": "white"
           },
           "yaxis": {
            "backgroundcolor": "#E5ECF6",
            "gridcolor": "white",
            "gridwidth": 2,
            "linecolor": "white",
            "showbackground": true,
            "ticks": "",
            "zerolinecolor": "white"
           },
           "zaxis": {
            "backgroundcolor": "#E5ECF6",
            "gridcolor": "white",
            "gridwidth": 2,
            "linecolor": "white",
            "showbackground": true,
            "ticks": "",
            "zerolinecolor": "white"
           }
          },
          "shapedefaults": {
           "line": {
            "color": "#2a3f5f"
           }
          },
          "ternary": {
           "aaxis": {
            "gridcolor": "white",
            "linecolor": "white",
            "ticks": ""
           },
           "baxis": {
            "gridcolor": "white",
            "linecolor": "white",
            "ticks": ""
           },
           "bgcolor": "#E5ECF6",
           "caxis": {
            "gridcolor": "white",
            "linecolor": "white",
            "ticks": ""
           }
          },
          "title": {
           "x": 0.05
          },
          "xaxis": {
           "automargin": true,
           "gridcolor": "white",
           "linecolor": "white",
           "ticks": "",
           "title": {
            "standoff": 15
           },
           "zerolinecolor": "white",
           "zerolinewidth": 2
          },
          "yaxis": {
           "automargin": true,
           "gridcolor": "white",
           "linecolor": "white",
           "ticks": "",
           "title": {
            "standoff": 15
           },
           "zerolinecolor": "white",
           "zerolinewidth": 2
          }
         }
        },
        "title": {
         "text": "3D plot of the embeddings (projected with the PCA)"
        }
       }
      },
      "text/html": [
       "<div>                            <div id=\"84033ac9-f819-466d-b5f3-0e58fbe6bdbd\" class=\"plotly-graph-div\" style=\"height:525px; width:100%;\"></div>            <script type=\"text/javascript\">                require([\"plotly\"], function(Plotly) {                    window.PLOTLYENV=window.PLOTLYENV || {};                                    if (document.getElementById(\"84033ac9-f819-466d-b5f3-0e58fbe6bdbd\")) {                    Plotly.newPlot(                        \"84033ac9-f819-466d-b5f3-0e58fbe6bdbd\",                        [],                        {\"template\": {\"data\": {\"bar\": [{\"error_x\": {\"color\": \"#2a3f5f\"}, \"error_y\": {\"color\": \"#2a3f5f\"}, \"marker\": {\"line\": {\"color\": \"#E5ECF6\", \"width\": 0.5}}, \"type\": \"bar\"}], \"barpolar\": [{\"marker\": {\"line\": {\"color\": \"#E5ECF6\", \"width\": 0.5}}, \"type\": \"barpolar\"}], \"carpet\": [{\"aaxis\": {\"endlinecolor\": \"#2a3f5f\", \"gridcolor\": \"white\", \"linecolor\": \"white\", \"minorgridcolor\": \"white\", \"startlinecolor\": \"#2a3f5f\"}, \"baxis\": {\"endlinecolor\": \"#2a3f5f\", \"gridcolor\": \"white\", \"linecolor\": \"white\", \"minorgridcolor\": \"white\", \"startlinecolor\": \"#2a3f5f\"}, \"type\": \"carpet\"}], \"choropleth\": [{\"colorbar\": {\"outlinewidth\": 0, \"ticks\": \"\"}, \"type\": \"choropleth\"}], \"contour\": [{\"colorbar\": {\"outlinewidth\": 0, \"ticks\": \"\"}, \"colorscale\": [[0.0, \"#0d0887\"], [0.1111111111111111, \"#46039f\"], [0.2222222222222222, \"#7201a8\"], [0.3333333333333333, \"#9c179e\"], [0.4444444444444444, \"#bd3786\"], [0.5555555555555556, \"#d8576b\"], [0.6666666666666666, \"#ed7953\"], [0.7777777777777778, \"#fb9f3a\"], [0.8888888888888888, \"#fdca26\"], [1.0, \"#f0f921\"]], \"type\": \"contour\"}], \"contourcarpet\": [{\"colorbar\": {\"outlinewidth\": 0, \"ticks\": \"\"}, \"type\": \"contourcarpet\"}], \"heatmap\": [{\"colorbar\": {\"outlinewidth\": 0, \"ticks\": \"\"}, \"colorscale\": [[0.0, \"#0d0887\"], [0.1111111111111111, \"#46039f\"], [0.2222222222222222, \"#7201a8\"], [0.3333333333333333, \"#9c179e\"], [0.4444444444444444, \"#bd3786\"], [0.5555555555555556, \"#d8576b\"], [0.6666666666666666, \"#ed7953\"], [0.7777777777777778, \"#fb9f3a\"], [0.8888888888888888, \"#fdca26\"], [1.0, \"#f0f921\"]], \"type\": \"heatmap\"}], \"heatmapgl\": [{\"colorbar\": {\"outlinewidth\": 0, \"ticks\": \"\"}, \"colorscale\": [[0.0, \"#0d0887\"], [0.1111111111111111, \"#46039f\"], [0.2222222222222222, \"#7201a8\"], [0.3333333333333333, \"#9c179e\"], [0.4444444444444444, \"#bd3786\"], [0.5555555555555556, \"#d8576b\"], [0.6666666666666666, \"#ed7953\"], [0.7777777777777778, \"#fb9f3a\"], [0.8888888888888888, \"#fdca26\"], [1.0, \"#f0f921\"]], \"type\": \"heatmapgl\"}], \"histogram\": [{\"marker\": {\"colorbar\": {\"outlinewidth\": 0, \"ticks\": \"\"}}, \"type\": \"histogram\"}], \"histogram2d\": [{\"colorbar\": {\"outlinewidth\": 0, \"ticks\": \"\"}, \"colorscale\": [[0.0, \"#0d0887\"], [0.1111111111111111, \"#46039f\"], [0.2222222222222222, \"#7201a8\"], [0.3333333333333333, \"#9c179e\"], [0.4444444444444444, \"#bd3786\"], [0.5555555555555556, \"#d8576b\"], [0.6666666666666666, \"#ed7953\"], [0.7777777777777778, \"#fb9f3a\"], [0.8888888888888888, \"#fdca26\"], [1.0, \"#f0f921\"]], \"type\": \"histogram2d\"}], \"histogram2dcontour\": [{\"colorbar\": {\"outlinewidth\": 0, \"ticks\": \"\"}, \"colorscale\": [[0.0, \"#0d0887\"], [0.1111111111111111, \"#46039f\"], [0.2222222222222222, \"#7201a8\"], [0.3333333333333333, \"#9c179e\"], [0.4444444444444444, \"#bd3786\"], [0.5555555555555556, \"#d8576b\"], [0.6666666666666666, \"#ed7953\"], [0.7777777777777778, \"#fb9f3a\"], [0.8888888888888888, \"#fdca26\"], [1.0, \"#f0f921\"]], \"type\": \"histogram2dcontour\"}], \"mesh3d\": [{\"colorbar\": {\"outlinewidth\": 0, \"ticks\": \"\"}, \"type\": \"mesh3d\"}], \"parcoords\": [{\"line\": {\"colorbar\": {\"outlinewidth\": 0, \"ticks\": \"\"}}, \"type\": \"parcoords\"}], \"pie\": [{\"automargin\": true, \"type\": \"pie\"}], \"scatter\": [{\"marker\": {\"colorbar\": {\"outlinewidth\": 0, \"ticks\": \"\"}}, \"type\": \"scatter\"}], \"scatter3d\": [{\"line\": {\"colorbar\": {\"outlinewidth\": 0, \"ticks\": \"\"}}, \"marker\": {\"colorbar\": {\"outlinewidth\": 0, \"ticks\": \"\"}}, \"type\": \"scatter3d\"}], \"scattercarpet\": [{\"marker\": {\"colorbar\": {\"outlinewidth\": 0, \"ticks\": \"\"}}, \"type\": \"scattercarpet\"}], \"scattergeo\": [{\"marker\": {\"colorbar\": {\"outlinewidth\": 0, \"ticks\": \"\"}}, \"type\": \"scattergeo\"}], \"scattergl\": [{\"marker\": {\"colorbar\": {\"outlinewidth\": 0, \"ticks\": \"\"}}, \"type\": \"scattergl\"}], \"scattermapbox\": [{\"marker\": {\"colorbar\": {\"outlinewidth\": 0, \"ticks\": \"\"}}, \"type\": \"scattermapbox\"}], \"scatterpolar\": [{\"marker\": {\"colorbar\": {\"outlinewidth\": 0, \"ticks\": \"\"}}, \"type\": \"scatterpolar\"}], \"scatterpolargl\": [{\"marker\": {\"colorbar\": {\"outlinewidth\": 0, \"ticks\": \"\"}}, \"type\": \"scatterpolargl\"}], \"scatterternary\": [{\"marker\": {\"colorbar\": {\"outlinewidth\": 0, \"ticks\": \"\"}}, \"type\": \"scatterternary\"}], \"surface\": [{\"colorbar\": {\"outlinewidth\": 0, \"ticks\": \"\"}, \"colorscale\": [[0.0, \"#0d0887\"], [0.1111111111111111, \"#46039f\"], [0.2222222222222222, \"#7201a8\"], [0.3333333333333333, \"#9c179e\"], [0.4444444444444444, \"#bd3786\"], [0.5555555555555556, \"#d8576b\"], [0.6666666666666666, \"#ed7953\"], [0.7777777777777778, \"#fb9f3a\"], [0.8888888888888888, \"#fdca26\"], [1.0, \"#f0f921\"]], \"type\": \"surface\"}], \"table\": [{\"cells\": {\"fill\": {\"color\": \"#EBF0F8\"}, \"line\": {\"color\": \"white\"}}, \"header\": {\"fill\": {\"color\": \"#C8D4E3\"}, \"line\": {\"color\": \"white\"}}, \"type\": \"table\"}]}, \"layout\": {\"annotationdefaults\": {\"arrowcolor\": \"#2a3f5f\", \"arrowhead\": 0, \"arrowwidth\": 1}, \"autotypenumbers\": \"strict\", \"coloraxis\": {\"colorbar\": {\"outlinewidth\": 0, \"ticks\": \"\"}}, \"colorscale\": {\"diverging\": [[0, \"#8e0152\"], [0.1, \"#c51b7d\"], [0.2, \"#de77ae\"], [0.3, \"#f1b6da\"], [0.4, \"#fde0ef\"], [0.5, \"#f7f7f7\"], [0.6, \"#e6f5d0\"], [0.7, \"#b8e186\"], [0.8, \"#7fbc41\"], [0.9, \"#4d9221\"], [1, \"#276419\"]], \"sequential\": [[0.0, \"#0d0887\"], [0.1111111111111111, \"#46039f\"], [0.2222222222222222, \"#7201a8\"], [0.3333333333333333, \"#9c179e\"], [0.4444444444444444, \"#bd3786\"], [0.5555555555555556, \"#d8576b\"], [0.6666666666666666, \"#ed7953\"], [0.7777777777777778, \"#fb9f3a\"], [0.8888888888888888, \"#fdca26\"], [1.0, \"#f0f921\"]], \"sequentialminus\": [[0.0, \"#0d0887\"], [0.1111111111111111, \"#46039f\"], [0.2222222222222222, \"#7201a8\"], [0.3333333333333333, \"#9c179e\"], [0.4444444444444444, \"#bd3786\"], [0.5555555555555556, \"#d8576b\"], [0.6666666666666666, \"#ed7953\"], [0.7777777777777778, \"#fb9f3a\"], [0.8888888888888888, \"#fdca26\"], [1.0, \"#f0f921\"]]}, \"colorway\": [\"#636efa\", \"#EF553B\", \"#00cc96\", \"#ab63fa\", \"#FFA15A\", \"#19d3f3\", \"#FF6692\", \"#B6E880\", \"#FF97FF\", \"#FECB52\"], \"font\": {\"color\": \"#2a3f5f\"}, \"geo\": {\"bgcolor\": \"white\", \"lakecolor\": \"white\", \"landcolor\": \"#E5ECF6\", \"showlakes\": true, \"showland\": true, \"subunitcolor\": \"white\"}, \"hoverlabel\": {\"align\": \"left\"}, \"hovermode\": \"closest\", \"mapbox\": {\"style\": \"light\"}, \"paper_bgcolor\": \"white\", \"plot_bgcolor\": \"#E5ECF6\", \"polar\": {\"angularaxis\": {\"gridcolor\": \"white\", \"linecolor\": \"white\", \"ticks\": \"\"}, \"bgcolor\": \"#E5ECF6\", \"radialaxis\": {\"gridcolor\": \"white\", \"linecolor\": \"white\", \"ticks\": \"\"}}, \"scene\": {\"xaxis\": {\"backgroundcolor\": \"#E5ECF6\", \"gridcolor\": \"white\", \"gridwidth\": 2, \"linecolor\": \"white\", \"showbackground\": true, \"ticks\": \"\", \"zerolinecolor\": \"white\"}, \"yaxis\": {\"backgroundcolor\": \"#E5ECF6\", \"gridcolor\": \"white\", \"gridwidth\": 2, \"linecolor\": \"white\", \"showbackground\": true, \"ticks\": \"\", \"zerolinecolor\": \"white\"}, \"zaxis\": {\"backgroundcolor\": \"#E5ECF6\", \"gridcolor\": \"white\", \"gridwidth\": 2, \"linecolor\": \"white\", \"showbackground\": true, \"ticks\": \"\", \"zerolinecolor\": \"white\"}}, \"shapedefaults\": {\"line\": {\"color\": \"#2a3f5f\"}}, \"ternary\": {\"aaxis\": {\"gridcolor\": \"white\", \"linecolor\": \"white\", \"ticks\": \"\"}, \"baxis\": {\"gridcolor\": \"white\", \"linecolor\": \"white\", \"ticks\": \"\"}, \"bgcolor\": \"#E5ECF6\", \"caxis\": {\"gridcolor\": \"white\", \"linecolor\": \"white\", \"ticks\": \"\"}}, \"title\": {\"x\": 0.05}, \"xaxis\": {\"automargin\": true, \"gridcolor\": \"white\", \"linecolor\": \"white\", \"ticks\": \"\", \"title\": {\"standoff\": 15}, \"zerolinecolor\": \"white\", \"zerolinewidth\": 2}, \"yaxis\": {\"automargin\": true, \"gridcolor\": \"white\", \"linecolor\": \"white\", \"ticks\": \"\", \"title\": {\"standoff\": 15}, \"zerolinecolor\": \"white\", \"zerolinewidth\": 2}}}, \"title\": {\"text\": \"3D plot of the embeddings (projected with the PCA)\"}},                        {\"responsive\": true}                    ).then(function(){\n",
       "                            \n",
       "var gd = document.getElementById('84033ac9-f819-466d-b5f3-0e58fbe6bdbd');\n",
       "var x = new MutationObserver(function (mutations, observer) {{\n",
       "        var display = window.getComputedStyle(gd).display;\n",
       "        if (!display || display === 'none') {{\n",
       "            console.log([gd, 'removed!']);\n",
       "            Plotly.purge(gd);\n",
       "            observer.disconnect();\n",
       "        }}\n",
       "}});\n",
       "\n",
       "// Listen for the removal of the full notebook cells\n",
       "var notebookContainer = gd.closest('#notebook-container');\n",
       "if (notebookContainer) {{\n",
       "    x.observe(notebookContainer, {childList: true});\n",
       "}}\n",
       "\n",
       "// Listen for the clearing of the current output cell\n",
       "var outputEl = gd.closest('.output');\n",
       "if (outputEl) {{\n",
       "    x.observe(outputEl, {childList: true});\n",
       "}}\n",
       "\n",
       "                        })                };                });            </script>        </div>"
      ]
     },
     "metadata": {},
     "output_type": "display_data"
    }
   ],
   "source": [
    "traces = []\n",
    "fig = go.Figure()\n",
    "# Implement me!\n",
    "fig.update_layout(title='3D plot of the embeddings (projected with the PCA)')\n",
    "fig.show()"
   ]
  },
  {
   "cell_type": "code",
   "execution_count": 61,
   "metadata": {},
   "outputs": [],
   "source": [
    "'''Correction '''\n",
    "data = {\"nb_dim\": 3, \"sketch\": svg_string}\n",
    "res = requests.post(\"http://127.0.0.1:5000/get_embeddings\", json=data).json()"
   ]
  },
  {
   "cell_type": "code",
   "execution_count": 62,
   "metadata": {},
   "outputs": [
    {
     "data": {
      "application/vnd.plotly.v1+json": {
       "config": {
        "plotlyServerURL": "https://plot.ly"
       },
       "data": [
        {
         "marker": {
          "color": "#e6194b",
          "line": {
           "color": "#000000",
           "width": 2
          },
          "size": 8
         },
         "mode": "markers",
         "name": "My Custom Sketch",
         "type": "scatter3d",
         "x": [
          -1.4218288660049438
         ],
         "y": [
          1.8866530656814575
         ],
         "z": [
          3.086408853530884
         ]
        },
        {
         "marker": {
          "color": "#3cb44b",
          "size": 4
         },
         "mode": "markers",
         "name": "butterfly",
         "type": "scatter3d",
         "x": [
          -0.7696425914764404,
          0.4605315029621124,
          0.19331827759742737,
          1.1452480554580688,
          -1.0042781829833984,
          -1.0042781829833984,
          0.723024308681488,
          -1.2324845790863037,
          -0.22690260410308838,
          0.0017034083139151335,
          0.4198562204837799,
          -0.053621262311935425,
          2.081016778945923,
          -1.18166184425354,
          0.837705671787262,
          0.49378833174705505,
          0.9721531867980957,
          0.19563741981983185,
          0.7298017740249634,
          1.0983654260635376,
          0.7559481859207153
         ],
         "y": [
          -0.7501598596572876,
          -0.923413097858429,
          -2.0449514389038086,
          -1.9564933776855469,
          -0.8548380732536316,
          -0.8548380732536316,
          -0.521139919757843,
          1.0258973836898804,
          -0.9750885963439941,
          -1.4227497577667236,
          -2.464055061340332,
          0.8313425779342651,
          -2.4346909523010254,
          -2.2633655071258545,
          -1.5639327764511108,
          -1.5288517475128174,
          -1.8453418016433716,
          -2.1174402236938477,
          -1.904536247253418,
          -1.442969560623169,
          -1.5184727907180786
         ],
         "z": [
          -2.6588921546936035,
          -5.109084129333496,
          -5.024385929107666,
          -5.7524213790893555,
          -3.9991202354431152,
          -3.9991202354431152,
          -3.7132818698883057,
          -5.120904922485352,
          -3.6852598190307617,
          -3.171996831893921,
          -3.8484742641448975,
          -5.162404537200928,
          -1.9536504745483398,
          -3.8742294311523438,
          -4.780677795410156,
          -4.133112907409668,
          -2.2431225776672363,
          -4.559182643890381,
          -5.405193328857422,
          -4.3310227394104,
          -3.8920209407806396
         ]
        },
        {
         "marker": {
          "color": "#ffe119",
          "size": 4
         },
         "mode": "markers",
         "name": "candle",
         "type": "scatter3d",
         "x": [
          1.7326381206512451,
          2.490412712097168,
          2.703307628631592,
          3.4692840576171875,
          4.37299919128418,
          2.703307628631592,
          3.282362699508667,
          5.237688064575195,
          4.476897239685059,
          4.091041564941406,
          3.165717840194702,
          2.703307628631592,
          4.919181823730469,
          2.2095232009887695,
          4.900244235992432,
          3.5725350379943848,
          2.677262544631958,
          4.615114688873291,
          2.1736655235290527,
          5.190084934234619,
          1.6632664203643799,
          4.6621198654174805,
          3.432809829711914,
          3.305598735809326,
          4.364893436431885,
          5.491044998168945,
          4.972262382507324,
          5.310511112213135
         ],
         "y": [
          0.5673180222511292,
          0.23236817121505737,
          3.043635845184326,
          -1.1858748197555542,
          -1.2091174125671387,
          3.043635845184326,
          2.307605743408203,
          -1.300693392753601,
          -2.159289598464966,
          -0.6776841878890991,
          -1.1144882440567017,
          3.043635845184326,
          -2.8223066329956055,
          1.2666736841201782,
          -0.5713393092155457,
          -0.4583088159561157,
          0.4626074433326721,
          -1.2238763570785522,
          0.1698232740163803,
          -2.0827953815460205,
          -0.885368824005127,
          -2.039958953857422,
          -1.1539558172225952,
          -1.807020664215088,
          -1.8670051097869873,
          -1.8218272924423218,
          -1.3041889667510986,
          -1.8759642839431763
         ],
         "z": [
          2.6572844982147217,
          1.674269437789917,
          0.026361029595136642,
          2.6098320484161377,
          2.7730817794799805,
          0.026361029595136642,
          0.3848305940628052,
          2.9469382762908936,
          2.9771549701690674,
          2.3064534664154053,
          3.2338485717773438,
          0.026361029595136642,
          1.262757658958435,
          3.535785675048828,
          1.8409109115600586,
          3.1813716888427734,
          1.1939653158187866,
          2.4164395332336426,
          0.5983315706253052,
          4.141294479370117,
          1.0053106546401978,
          1.3049750328063965,
          0.9306297302246094,
          0.5132762789726257,
          1.932502269744873,
          3.615086317062378,
          4.045289993286133,
          3.901256561279297
         ]
        },
        {
         "marker": {
          "color": "#4363d8",
          "size": 4
         },
         "mode": "markers",
         "name": "church",
         "type": "scatter3d",
         "x": [
          -0.008305972442030907,
          -0.914467990398407,
          3.3580501079559326,
          -1.1934373378753662,
          -1.1788864135742188,
          0.19048109650611877,
          0.029566440731287003,
          -1.913516640663147,
          0.731300950050354,
          -1.913516640663147,
          0.731300950050354,
          2.0181100368499756,
          -2.3011016845703125,
          -1.0298799276351929,
          0.7522410750389099,
          -0.914467990398407,
          -1.0298799276351929,
          -0.10029247403144836,
          -0.38944655656814575,
          -0.13649295270442963,
          -0.9981947541236877,
          -1.1068023443222046,
          0.053311917930841446,
          0.053311917930841446,
          -0.36003321409225464,
          0.33524444699287415,
          -0.38944655656814575,
          0.5759714841842651,
          -0.08402091264724731,
          0.24216191470623016,
          -0.3105257749557495,
          0.6614968776702881,
          0.050107069313526154,
          -0.561905026435852
         ],
         "y": [
          1.903530240058899,
          2.4307448863983154,
          1.0736591815948486,
          2.1665871143341064,
          2.1560332775115967,
          2.104483127593994,
          2.3831629753112793,
          3.5197153091430664,
          2.276588201522827,
          3.5197153091430664,
          2.276588201522827,
          0.7469279766082764,
          1.4681514501571655,
          2.7188050746917725,
          1.3880817890167236,
          2.4307448863983154,
          2.7188050746917725,
          1.3408154249191284,
          1.6076631546020508,
          2.7874584197998047,
          2.0168395042419434,
          1.591378092765808,
          1.5828875303268433,
          1.5828875303268433,
          1.7728333473205566,
          0.9901084303855896,
          1.6076631546020508,
          1.4317574501037598,
          1.556524634361267,
          0.9306744933128357,
          1.5475220680236816,
          1.1070762872695923,
          2.3748326301574707,
          1.8004872798919678
         ],
         "z": [
          6.427213668823242,
          5.069513320922852,
          2.53985857963562,
          6.310600757598877,
          7.026372909545898,
          5.820953845977783,
          4.920406818389893,
          6.282537937164307,
          3.576014518737793,
          6.282537937164307,
          3.576014518737793,
          3.663331985473633,
          5.974325656890869,
          6.611598014831543,
          4.385202407836914,
          5.069513320922852,
          6.611598014831543,
          5.313750267028809,
          6.292324542999268,
          4.988602638244629,
          7.406458854675293,
          7.4608564376831055,
          6.9545488357543945,
          6.9545488357543945,
          6.710930347442627,
          4.5099077224731445,
          6.292324542999268,
          5.635008335113525,
          6.176150321960449,
          6.612790107727051,
          5.540430545806885,
          6.591947555541992,
          7.206268787384033,
          7.59193229675293
         ]
        },
        {
         "marker": {
          "color": "#f58231",
          "size": 4
         },
         "mode": "markers",
         "name": "cup",
         "type": "scatter3d",
         "x": [
          4.686000347137451,
          6.924657344818115,
          5.67717170715332,
          4.686000347137451,
          6.0132155418396,
          5.67717170715332,
          5.567712783813477,
          6.822836399078369,
          5.64722204208374,
          4.340925216674805,
          7.253305912017822,
          3.2524333000183105,
          5.6806745529174805,
          5.824936389923096,
          6.1477556228637695,
          3.8243584632873535,
          5.702787399291992,
          5.824936389923096,
          6.2582011222839355,
          4.063581943511963,
          6.712728977203369,
          5.934365272521973,
          5.830281734466553,
          6.755109786987305,
          5.351919174194336,
          7.306565761566162,
          3.9467806816101074
         ],
         "y": [
          -0.45062485337257385,
          -3.193686008453369,
          -3.1735358238220215,
          -0.45062485337257385,
          -3.1869561672210693,
          -3.1735358238220215,
          -4.128393173217773,
          -1.9951887130737305,
          -2.20147442817688,
          -1.5411237478256226,
          -3.277266502380371,
          -1.285925030708313,
          -2.5366604328155518,
          -2.2924461364746094,
          -1.8219703435897827,
          0.7251046299934387,
          -3.4233274459838867,
          -2.2924461364746094,
          -3.430042028427124,
          -2.294461250305176,
          -1.9788213968276978,
          -3.1899821758270264,
          -2.1467792987823486,
          -4.263908386230469,
          -2.479942798614502,
          -3.6042394638061523,
          -1.5133699178695679
         ],
         "z": [
          2.3124213218688965,
          1.0383481979370117,
          0.018836241215467453,
          2.3124213218688965,
          0.49569839239120483,
          0.018836241215467453,
          0.6603559851646423,
          1.215415596961975,
          0.050524480640888214,
          2.2228524684906006,
          0.8119277954101562,
          0.5531355142593384,
          -0.8546958565711975,
          0.3552256226539612,
          1.4370185136795044,
          2.647481679916382,
          1.5148770809173584,
          0.3552256226539612,
          1.7893171310424805,
          0.7217175960540771,
          1.7144907712936401,
          3.1069414615631104,
          1.788430094718933,
          3.0498785972595215,
          1.2929062843322754,
          2.4500057697296143,
          -0.7808250188827515
         ]
        },
        {
         "marker": {
          "color": "#911eb4",
          "size": 4
         },
         "mode": "markers",
         "name": "door",
         "type": "scatter3d",
         "x": [
          -1.0643233060836792,
          -0.1794743537902832,
          -1.5637999773025513,
          1.2423664331436157,
          -0.7236906886100769,
          -0.011198899708688259,
          -0.03208869323134422,
          -0.24374862015247345,
          -0.6843445897102356,
          -0.24374862015247345,
          1.78306245803833,
          -0.21877439320087433,
          -0.37947648763656616,
          -1.2437771558761597,
          0.0025606469716876745,
          -0.08268742263317108,
          -1.2836710214614868,
          -1.3704556226730347,
          -0.3754735291004181,
          -1.2437771558761597,
          -1.2966703176498413,
          -0.6939717531204224,
          -2.6579599380493164,
          0.18469390273094177,
          -0.27992627024650574,
          -0.29397571086883545,
          -0.33594706654548645,
          -1.19725501537323,
          0.4125841557979584,
          0.34885528683662415,
          -0.4061540365219116,
          1.78306245803833
         ],
         "y": [
          0.5526415705680847,
          1.6471110582351685,
          1.8726317882537842,
          3.1957263946533203,
          -0.08696495741605759,
          1.193486213684082,
          0.8092668652534485,
          2.4976401329040527,
          1.4052114486694336,
          2.4976401329040527,
          0.7728719711303711,
          -0.10814537853002548,
          0.44492268562316895,
          0.18486276268959045,
          0.7410090565681458,
          1.9072680473327637,
          1.5479416847229004,
          0.5589268207550049,
          1.3815876245498657,
          0.18486276268959045,
          0.49537983536720276,
          0.40756601095199585,
          -1.9498478174209595,
          0.22744016349315643,
          0.65654057264328,
          1.4922066926956177,
          2.7979695796966553,
          0.5446324348449707,
          0.4843708872795105,
          1.1621848344802856,
          1.8975915908813477,
          0.7728719711303711
         ],
         "z": [
          4.9103803634643555,
          3.5048351287841797,
          5.45428466796875,
          2.56428599357605,
          3.7498743534088135,
          4.170322418212891,
          4.71830415725708,
          4.870613098144531,
          3.407759666442871,
          4.870613098144531,
          4.09416389465332,
          4.580260276794434,
          5.528526782989502,
          5.002769947052002,
          5.829455852508545,
          4.806325912475586,
          4.165367603302002,
          4.138833045959473,
          4.976778030395508,
          5.002769947052002,
          5.686972618103027,
          5.77169942855835,
          2.388676404953003,
          3.7241616249084473,
          4.185649394989014,
          4.5651092529296875,
          2.4740750789642334,
          5.678827285766602,
          6.069942474365234,
          4.825806140899658,
          4.501853942871094,
          4.09416389465332
         ]
        },
        {
         "marker": {
          "color": "#46f0f0",
          "size": 4
         },
         "mode": "markers",
         "name": "hat",
         "type": "scatter3d",
         "x": [
          3.6547746658325195,
          5.221588134765625,
          2.5560643672943115,
          3.0721168518066406,
          3.5275471210479736,
          1.4057539701461792,
          1.9362385272979736,
          1.9057023525238037,
          2.958313226699829,
          2.7825567722320557,
          5.221588134765625,
          2.6389694213867188,
          0.5042983889579773,
          0.966145932674408,
          3.093909978866577,
          0.9905179738998413,
          4.47813081741333,
          1.0012216567993164,
          3.186326026916504,
          0.41875141859054565,
          1.9294439554214478
         ],
         "y": [
          0.846477746963501,
          -1.8922494649887085,
          -0.9217156171798706,
          -0.3170336186885834,
          1.104533076286316,
          0.883675754070282,
          0.7593672871589661,
          1.260305643081665,
          -1.485579013824463,
          2.011986017227173,
          -1.8922494649887085,
          -0.38212406635284424,
          0.466138631105423,
          -2.3041677474975586,
          -0.12814752757549286,
          -0.7177658677101135,
          0.9746955037117004,
          0.44268539547920227,
          -1.4272546768188477,
          -0.6200619339942932,
          -0.18044547736644745
         ],
         "z": [
          -1.6291567087173462,
          0.6305142045021057,
          -1.8360997438430786,
          -1.4013832807540894,
          -0.8110495805740356,
          -2.4087443351745605,
          -2.3497977256774902,
          -2.022728681564331,
          -1.3596323728561401,
          1.3560866117477417,
          0.6305142045021057,
          -1.0401079654693604,
          0.002071141032502055,
          0.9364046454429626,
          1.777635097503662,
          -1.1689332723617554,
          0.5104958415031433,
          0.24717719852924347,
          0.8236292600631714,
          -0.11120888590812683,
          -1.504737377166748
         ]
        },
        {
         "marker": {
          "color": "#f032e6",
          "size": 4
         },
         "mode": "markers",
         "name": "hedgehog",
         "type": "scatter3d",
         "x": [
          -4.024794101715088,
          -2.138744592666626,
          -4.624391555786133,
          -5.084308624267578,
          -4.348247528076172,
          -4.1029229164123535,
          -4.484653472900391,
          -3.8060317039489746,
          -5.049781799316406,
          -5.164309024810791,
          -4.048573970794678,
          -4.42265510559082,
          -4.263477802276611,
          -3.3188037872314453,
          -3.98386287689209,
          -5.0293755531311035,
          -4.066787242889404,
          -3.5369749069213867,
          -3.108215570449829,
          -3.617244005203247,
          -5.166098117828369,
          -4.471880912780762,
          -3.7406864166259766,
          -3.1996703147888184,
          -5.6761040687561035,
          -4.88896369934082,
          -4.843494415283203,
          -2.5461623668670654,
          -5.037484169006348
         ],
         "y": [
          -2.1543662548065186,
          -3.143489122390747,
          -3.523634910583496,
          -2.9295530319213867,
          -3.637026309967041,
          -5.269682884216309,
          -3.8440849781036377,
          -2.972132444381714,
          -4.512480735778809,
          -4.8629655838012695,
          -3.3450114727020264,
          -3.3648834228515625,
          -4.251991271972656,
          -3.6848015785217285,
          -2.642821788787842,
          -4.044045448303223,
          -3.1789886951446533,
          -3.7144768238067627,
          -3.236619472503662,
          -2.8877105712890625,
          -3.5977485179901123,
          -4.39185905456543,
          -3.322774648666382,
          -2.998927354812622,
          -4.001891136169434,
          -3.7581067085266113,
          -3.8105359077453613,
          -1.5816280841827393,
          -3.492030143737793
         ],
         "z": [
          -0.6211478114128113,
          -0.6574690937995911,
          0.9530524015426636,
          -0.5441129207611084,
          -1.8972500562667847,
          -1.3198601007461548,
          -0.8279903531074524,
          -1.0619361400604248,
          -2.6792030334472656,
          -2.0704753398895264,
          -1.6637502908706665,
          -2.2792062759399414,
          -2.0411219596862793,
          -2.0690805912017822,
          -2.859917640686035,
          -2.388547897338867,
          -2.417062997817993,
          -2.4873268604278564,
          -0.7045719027519226,
          -1.4349228143692017,
          -2.006495952606201,
          -2.13779878616333,
          -1.9839367866516113,
          0.06703291088342667,
          -1.9741157293319702,
          -2.1978018283843994,
          -1.5488439798355103,
          -1.8699612617492676,
          -1.4355040788650513
         ]
        },
        {
         "marker": {
          "color": "#bcf60c",
          "size": 4
         },
         "mode": "markers",
         "name": "helicopter",
         "type": "scatter3d",
         "x": [
          2.2522730827331543,
          -1.0845706462860107,
          0.16124485433101654,
          0.8394595384597778,
          0.2630009055137634,
          -0.7030050158500671,
          1.484102725982666,
          1.4066115617752075,
          0.8877488970756531,
          0.008621313609182835,
          -0.22492706775665283,
          -0.18670961260795593,
          -0.375836044549942,
          -0.3521013855934143,
          -0.7249791026115417,
          -0.8797492384910583,
          -0.7630090117454529,
          -0.04707308113574982,
          -0.7751120924949646,
          -0.11351250857114792,
          -0.8463652729988098,
          -0.5417277216911316
         ],
         "y": [
          2.670520305633545,
          4.180202007293701,
          5.775089740753174,
          2.441779375076294,
          0.975902795791626,
          4.257563591003418,
          3.8728764057159424,
          4.428900241851807,
          2.5976319313049316,
          3.952209234237671,
          1.3816906213760376,
          3.9520344734191895,
          3.4990830421447754,
          3.4774510860443115,
          2.6436073780059814,
          4.222157955169678,
          2.967179298400879,
          2.628756523132324,
          4.493491172790527,
          3.309936285018921,
          2.8997886180877686,
          3.275810480117798
         ],
         "z": [
          -2.7913658618927,
          -0.7497189044952393,
          -1.9542078971862793,
          -1.32594895362854,
          -3.4996447563171387,
          -0.534414529800415,
          -3.043384075164795,
          -1.9272550344467163,
          -1.6966997385025024,
          -2.1529769897460938,
          -1.7389030456542969,
          -1.1710902452468872,
          -1.9565621614456177,
          -0.9916664361953735,
          -2.4115242958068848,
          -1.7407066822052002,
          -2.1290676593780518,
          -2.9349074363708496,
          -1.7699813842773438,
          -1.252221703529358,
          -1.9035558700561523,
          -2.4930498600006104
         ]
        },
        {
         "marker": {
          "color": "#fabebe",
          "size": 4
         },
         "mode": "markers",
         "name": "horse",
         "type": "scatter3d",
         "x": [
          -4.989617347717285,
          -5.67447566986084,
          -4.531311511993408,
          -3.7923593521118164,
          -5.475729942321777,
          -5.106560707092285,
          -3.9763364791870117,
          -4.970746040344238,
          -4.794251441955566,
          -4.481727600097656,
          -4.399168491363525,
          -4.553511142730713,
          -5.67447566986084,
          -4.480212688446045,
          -5.095898628234863,
          -4.754840850830078,
          -5.397743225097656,
          -5.7904462814331055,
          -4.3097243309021,
          -5.634693145751953,
          -4.971105575561523,
          -4.025647163391113
         ],
         "y": [
          -0.5043529272079468,
          -1.0429564714431763,
          0.7558401823043823,
          -1.3746006488800049,
          -0.3385142385959625,
          0.7364439368247986,
          0.09612447768449783,
          -0.5444536209106445,
          0.5161619782447815,
          2.1349711418151855,
          0.899838387966156,
          -0.8565513491630554,
          -1.0429564714431763,
          1.5240583419799805,
          -0.07296480983495712,
          0.7497718334197998,
          -0.13008642196655273,
          1.3903244733810425,
          0.06741080433130264,
          1.1004279851913452,
          1.0343900918960571,
          -1.6744260787963867
         ],
         "z": [
          1.4451549053192139,
          2.6102235317230225,
          1.8795801401138306,
          0.07388455420732498,
          0.5847013592720032,
          1.9795523881912231,
          0.8128475546836853,
          1.0939252376556396,
          2.24680233001709,
          1.1800850629806519,
          1.2004178762435913,
          0.9347525238990784,
          2.6102235317230225,
          1.5935407876968384,
          1.013355016708374,
          2.112283945083618,
          1.188459873199463,
          2.267490863800049,
          0.8748369216918945,
          1.0630583763122559,
          0.19159026443958282,
          2.6150832176208496
         ]
        },
        {
         "marker": {
          "color": "#008080",
          "size": 4
         },
         "mode": "markers",
         "name": "pineapple",
         "type": "scatter3d",
         "x": [
          1.2504746913909912,
          0.3259238004684448,
          0.2909051179885864,
          -1.5413014888763428,
          0.18174804747104645,
          0.00936563964933157,
          -0.9186215996742249,
          0.6435620784759521,
          -0.2981313467025757,
          0.507499635219574,
          -0.15919595956802368,
          1.1739712953567505,
          0.16780491173267365,
          -0.5264205932617188,
          0.5330100059509277,
          0.31720399856567383,
          0.10094281286001205,
          -0.18191449344158173,
          0.43747493624687195,
          0.4655592739582062,
          0.6324363946914673,
          -0.15919595956802368
         ],
         "y": [
          -5.499547004699707,
          -4.471869468688965,
          -6.002355575561523,
          -5.305154800415039,
          -7.742343425750732,
          -7.32543420791626,
          -4.750677108764648,
          -6.195627212524414,
          -7.7928972244262695,
          -5.829777717590332,
          -6.349548816680908,
          -4.866107940673828,
          -5.675020694732666,
          -4.019371509552002,
          -6.862138271331787,
          -6.19938325881958,
          -5.179172515869141,
          -5.466584205627441,
          -5.855976104736328,
          -4.297736167907715,
          -5.592416286468506,
          -6.349548816680908
         ],
         "z": [
          -0.6238206028938293,
          -3.029200553894043,
          -1.2994780540466309,
          -1.6230690479278564,
          -0.2733270823955536,
          -0.8250800371170044,
          0.6237873435020447,
          -1.208505392074585,
          -0.27675727009773254,
          -0.455039918422699,
          -0.7860033512115479,
          -1.3656014204025269,
          -1.354349970817566,
          -2.299351692199707,
          -1.4810922145843506,
          -1.5577932596206665,
          -1.3298403024673462,
          -1.7273348569869995,
          -1.5566680431365967,
          -1.349026083946228,
          -0.8235857486724854,
          -0.7860033512115479
         ]
        },
        {
         "marker": {
          "color": "#e6beff",
          "size": 4
         },
         "mode": "markers",
         "name": "rifle",
         "type": "scatter3d",
         "x": [
          0.8932238817214966,
          -0.13594581186771393,
          -0.31556710600852966,
          -0.6369335055351257,
          0.7495883107185364,
          0.20301592350006104,
          1.0331121683120728,
          -0.12405179440975189,
          0.2926775813102722,
          -0.6622724533081055,
          1.405195951461792,
          0.6379299759864807,
          -0.6369335055351257,
          0.9981723427772522,
          0.4927305579185486,
          -0.31556710600852966,
          1.5018951892852783,
          0.06356128305196762,
          0.7885113954544067,
          0.5982374548912048,
          1.0622591972351074,
          0.9162668585777283,
          0.5947688221931458,
          0.9162668585777283,
          0.5959614515304565,
          -0.7465865015983582,
          0.29506558179855347,
          -0.9193556308746338,
          0.6734731197357178,
          0.7315411567687988,
          0.8941894173622131,
          0.85922771692276,
          0.5899404287338257,
          1.2965461015701294
         ],
         "y": [
          5.140132904052734,
          6.702152252197266,
          6.193994045257568,
          6.4803643226623535,
          6.125197410583496,
          5.348288059234619,
          5.727323055267334,
          7.3358845710754395,
          8.205604553222656,
          7.40299129486084,
          6.121380805969238,
          8.067509651184082,
          6.4803643226623535,
          6.317827224731445,
          4.105832576751709,
          6.193994045257568,
          7.742162227630615,
          5.400584697723389,
          5.303481578826904,
          7.63895845413208,
          3.9167561531066895,
          7.084622859954834,
          4.050281047821045,
          7.084622859954834,
          5.961897373199463,
          3.5077755451202393,
          5.12189245223999,
          3.3140032291412354,
          7.275737285614014,
          6.245084285736084,
          7.093072414398193,
          6.619355201721191,
          3.9761180877685547,
          5.885125637054443
         ],
         "z": [
          -0.8810272216796875,
          -0.2504110038280487,
          -1.0427833795547485,
          -0.9129638671875,
          -1.373428225517273,
          -0.6012674570083618,
          -2.4226112365722656,
          -1.5587577819824219,
          -1.4961333274841309,
          -1.6637485027313232,
          -2.1969733238220215,
          -1.9732394218444824,
          -0.9129638671875,
          -1.3701690435409546,
          -1.6328012943267822,
          -1.0427833795547485,
          -2.0720887184143066,
          -2.695289373397827,
          0.5725070834159851,
          -1.2671518325805664,
          0.15305262804031372,
          -0.20593662559986115,
          0.04967944696545601,
          -0.20593662559986115,
          -0.8688362240791321,
          1.901725172996521,
          -1.6986384391784668,
          0.46307334303855896,
          -0.47005581855773926,
          -0.21936553716659546,
          -0.06556326895952225,
          -0.6852573752403259,
          -0.3017796576023102,
          0.4854016602039337
         ]
        },
        {
         "marker": {
          "color": "#9a6324",
          "size": 4
         },
         "mode": "markers",
         "name": "shark",
         "type": "scatter3d",
         "x": [
          -4.616146564483643,
          -5.6202192306518555,
          -2.73280930519104,
          -1.6108793020248413,
          -4.837767124176025,
          -3.8756675720214844,
          -4.9865922927856445,
          -2.8314363956451416,
          -4.837767124176025,
          -4.4538750648498535,
          -4.870696067810059,
          -4.128376007080078,
          -3.4982922077178955,
          -4.238597393035889,
          -4.512495517730713,
          -4.413052082061768,
          -2.5072546005249023,
          -4.122499465942383,
          -4.5037665367126465,
          -2.5072546005249023,
          -2.183326005935669,
          -4.512495517730713,
          -4.507380485534668,
          -4.008937358856201,
          -3.065403699874878
         ],
         "y": [
          -0.6999607086181641,
          -2.86867356300354,
          0.4852859377861023,
          0.4119868576526642,
          -0.05743218958377838,
          -0.08360389620065689,
          -1.2577972412109375,
          0.5765960216522217,
          -0.05743218958377838,
          0.5247448086738586,
          -1.4994151592254639,
          -0.9179220795631409,
          -0.918488085269928,
          -1.2939975261688232,
          -0.37865108251571655,
          -1.2440241575241089,
          -0.6967441439628601,
          -1.3806562423706055,
          -0.9427362680435181,
          -0.6967441439628601,
          -0.1114477813243866,
          -0.37865108251571655,
          -1.4827574491500854,
          -0.12031885981559753,
          -0.7000406384468079
         ],
         "z": [
          -4.291533470153809,
          -3.098134994506836,
          -2.9985039234161377,
          -2.981868267059326,
          -4.137776851654053,
          -3.46677565574646,
          -3.2183358669281006,
          0.2451445460319519,
          -4.137776851654053,
          -3.115947961807251,
          -4.697482585906982,
          -3.634375810623169,
          -4.1812615394592285,
          -4.469544410705566,
          -4.409856796264648,
          -4.207554340362549,
          -2.6137702465057373,
          -3.368199348449707,
          -4.1958699226379395,
          -2.6137702465057373,
          -1.3433163166046143,
          -4.409856796264648,
          -3.6640548706054688,
          -4.024527072906494,
          -3.7876689434051514
         ]
        },
        {
         "marker": {
          "color": "#fffac8",
          "size": 4
         },
         "mode": "markers",
         "name": "snail",
         "type": "scatter3d",
         "x": [
          3.8222436904907227,
          4.010416030883789,
          1.9946211576461792,
          -0.4017705023288727,
          2.531961679458618,
          4.009515285491943,
          1.8160747289657593,
          1.2202742099761963,
          3.2368030548095703,
          1.4230417013168335,
          2.2894155979156494,
          3.676339864730835,
          3.144550085067749,
          2.1484813690185547,
          2.000697135925293,
          1.4562296867370605,
          2.0615737438201904,
          1.5247186422348022,
          1.864314317703247
         ],
         "y": [
          -3.3103108406066895,
          -2.345299005508423,
          -1.6957210302352905,
          0.09592192620038986,
          -3.1045382022857666,
          -3.080202102661133,
          -2.1249427795410156,
          -2.905799388885498,
          -2.184023141860962,
          -2.2454261779785156,
          -1.9528429508209229,
          -2.6575777530670166,
          -0.867076575756073,
          -1.6259734630584717,
          -1.7063486576080322,
          -2.2398459911346436,
          -2.3848626613616943,
          -2.6915907859802246,
          -2.9258666038513184
         ],
         "z": [
          -6.063638210296631,
          -5.380199909210205,
          -5.131555557250977,
          -2.3318169116973877,
          -6.520960807800293,
          -6.890874862670898,
          -6.67919397354126,
          -5.2003374099731445,
          -5.220733642578125,
          -2.789891004562378,
          -5.054468631744385,
          -6.074031352996826,
          -5.612508773803711,
          -4.959702014923096,
          -3.32426381111145,
          -5.713658332824707,
          -5.313716888427734,
          -3.791624069213867,
          -4.0967888832092285
         ]
        },
        {
         "marker": {
          "color": "#800000",
          "size": 4
         },
         "mode": "markers",
         "name": "snake",
         "type": "scatter3d",
         "x": [
          2.0084927082061768,
          3.4543659687042236,
          2.0084927082061768,
          1.7696515321731567,
          0.837440550327301,
          1.3048945665359497,
          0.837440550327301,
          1.7696515321731567,
          3.4543659687042236,
          -2.458954095840454,
          0.35939815640449524,
          -1.2232590913772583,
          -0.5865777134895325,
          -1.2232590913772583,
          0.7546981573104858,
          0.028633084148168564
         ],
         "y": [
          -0.440844863653183,
          -2.0417656898498535,
          -0.440844863653183,
          -0.22301055490970612,
          0.1637641191482544,
          -0.29182782769203186,
          0.1637641191482544,
          -0.22301055490970612,
          -2.0417656898498535,
          -1.1642202138900757,
          0.4129692018032074,
          0.47060030698776245,
          -0.6649478673934937,
          0.47060030698776245,
          -0.5681001543998718,
          -1.1063578128814697
         ],
         "z": [
          -4.5351481437683105,
          -2.430997848510742,
          -4.5351481437683105,
          -4.777336120605469,
          -3.9403631687164307,
          -4.75486421585083,
          -3.9403631687164307,
          -4.777336120605469,
          -2.430997848510742,
          -1.2633839845657349,
          -3.9126315116882324,
          -3.537367582321167,
          -4.390592575073242,
          -3.537367582321167,
          -4.037724018096924,
          -4.700132369995117
         ]
        },
        {
         "marker": {
          "color": "#aaffc3",
          "size": 4
         },
         "mode": "markers",
         "name": "teapot",
         "type": "scatter3d",
         "x": [
          5.73574161529541,
          4.844723701477051,
          6.221959590911865,
          4.588366508483887,
          7.0707688331604,
          6.131915092468262,
          5.355388641357422,
          6.988708019256592,
          7.160310745239258,
          7.032810688018799,
          3.9131696224212646,
          2.956806182861328,
          5.8993377685546875,
          7.516061782836914,
          6.679748058319092,
          8.942422866821289,
          7.261417865753174,
          6.283222198486328,
          2.6131622791290283,
          7.321792125701904,
          6.914656639099121,
          5.277353286743164,
          5.611720561981201,
          6.914656639099121,
          5.119208335876465,
          3.473984718322754
         ],
         "y": [
          -2.456698417663574,
          -4.214184761047363,
          -2.7934319972991943,
          -3.251166343688965,
          -2.667337417602539,
          -1.1154735088348389,
          -1.3975141048431396,
          -2.872950553894043,
          -2.4257452487945557,
          -1.1032078266143799,
          -1.050600528717041,
          -1.7953115701675415,
          -3.2852604389190674,
          -4.722935199737549,
          -3.423142671585083,
          -4.8029279708862305,
          -3.7056806087493896,
          -3.0917203426361084,
          -0.17057961225509644,
          -3.50885272026062,
          -3.7016494274139404,
          -2.595484972000122,
          -3.2742679119110107,
          -3.7016494274139404,
          -2.226444959640503,
          -0.9214404225349426
         ],
         "z": [
          0.226612851023674,
          -2.657317638397217,
          -0.07858283817768097,
          -0.29581233859062195,
          1.2548041343688965,
          1.1652218103408813,
          -3.391922950744629,
          -0.18460550904273987,
          1.2588313817977905,
          0.8567885160446167,
          -0.26951712369918823,
          -0.5345138311386108,
          1.3858437538146973,
          1.0208700895309448,
          2.634314775466919,
          2.084458589553833,
          1.852696418762207,
          2.064404249191284,
          0.6739398837089539,
          1.885955810546875,
          1.9754644632339478,
          1.572991132736206,
          2.1121840476989746,
          1.9754644632339478,
          0.20180392265319824,
          1.0332139730453491
         ]
        },
        {
         "marker": {
          "color": "#808000",
          "size": 4
         },
         "mode": "markers",
         "name": "teddy_bear",
         "type": "scatter3d",
         "x": [
          0.0055763088166713715,
          -1.1741443872451782,
          -2.126413345336914,
          -0.5373231172561646,
          -1.7966439723968506,
          -1.4626333713531494,
          0.9840686917304993,
          1.099862813949585,
          0.8267428278923035,
          -0.9824093580245972,
          -0.9357615113258362,
          -3.7071075439453125,
          -0.5303758382797241,
          -0.06868331879377365,
          1.1232855319976807,
          1.3641990423202515,
          1.403264045715332,
          -0.6520726680755615,
          0.23072968423366547,
          0.5720546841621399,
          0.534580647945404
         ],
         "y": [
          -4.1403350830078125,
          -3.3408753871917725,
          -3.5415713787078857,
          -5.119783878326416,
          -4.215802192687988,
          -4.177837371826172,
          -3.434983253479004,
          -2.625685453414917,
          -3.71330189704895,
          -2.812161922454834,
          -4.767810344696045,
          -3.576176404953003,
          -5.032722473144531,
          -0.18234534561634064,
          -3.6853199005126953,
          -3.7184882164001465,
          -3.638627290725708,
          -3.7822318077087402,
          -3.14634108543396,
          -3.519589424133301,
          -3.880317449569702
         ],
         "z": [
          1.203201174736023,
          2.0055992603302,
          1.0326950550079346,
          1.5983000993728638,
          1.2773449420928955,
          2.163148880004883,
          0.46905532479286194,
          2.042085647583008,
          1.4692299365997314,
          1.6386314630508423,
          0.7491273880004883,
          1.385064959526062,
          1.8979629278182983,
          0.556255578994751,
          1.8356266021728516,
          1.5639909505844116,
          2.0196056365966797,
          1.6017169952392578,
          2.4068539142608643,
          2.0825650691986084,
          2.1397454738616943
         ]
        },
        {
         "marker": {
          "color": "#ffd8b1",
          "size": 4
         },
         "mode": "markers",
         "name": "tiger",
         "type": "scatter3d",
         "x": [
          -4.050856113433838,
          -5.247844696044922,
          -4.091285705566406,
          -5.86419153213501,
          -5.572566032409668,
          -4.9056010246276855,
          -5.288654327392578,
          -3.6749141216278076,
          -4.208402633666992,
          -4.919433116912842,
          -4.21938943862915,
          -6.119424343109131,
          -3.2584102153778076,
          -4.9200639724731445,
          -2.5756146907806396,
          -6.286639213562012,
          -5.277360916137695,
          -5.140460014343262,
          -5.124067783355713,
          -5.10090446472168,
          -4.943386077880859,
          -5.475975513458252,
          -4.488196849822998,
          -4.915337562561035,
          -5.373542785644531
         ],
         "y": [
          -2.055314540863037,
          -2.7313244342803955,
          -2.1863162517547607,
          -0.7597571015357971,
          -0.21111835539340973,
          -1.8253918886184692,
          -2.6188981533050537,
          0.4477802515029907,
          -1.276546835899353,
          -3.264976978302002,
          -1.583183765411377,
          -1.1709784269332886,
          -1.2641510963439941,
          -2.9195799827575684,
          -3.3655433654785156,
          -0.13744495809078217,
          -1.804874062538147,
          -1.5386147499084473,
          -1.7659626007080078,
          -1.8291504383087158,
          -1.6369794607162476,
          -1.1592882871627808,
          -1.5172791481018066,
          -1.5191481113433838,
          -1.1943961381912231
         ],
         "z": [
          2.3989510536193848,
          1.7404707670211792,
          1.1473017930984497,
          1.721539855003357,
          -0.02986958622932434,
          4.435559272766113,
          3.258391857147217,
          1.0545306205749512,
          2.2207610607147217,
          1.7931476831436157,
          3.390428304672241,
          2.0753777027130127,
          3.2346622943878174,
          1.0702269077301025,
          2.46296763420105,
          2.175224781036377,
          1.7872185707092285,
          2.1746127605438232,
          2.0534517765045166,
          2.289945363998413,
          1.9006152153015137,
          2.0281074047088623,
          2.4917197227478027,
          2.4801011085510254,
          1.9260348081588745
         ]
        },
        {
         "marker": {
          "color": "#000075",
          "size": 4
         },
         "mode": "markers",
         "name": "umbrella",
         "type": "scatter3d",
         "x": [
          0.24589300155639648,
          -1.3996158838272095,
          -0.22246012091636658,
          0.550332248210907,
          0.20105509459972382,
          0.35045725107192993,
          1.6509374380111694,
          0.6633890867233276,
          0.26180773973464966,
          0.9577406644821167,
          1.1323018074035645,
          0.5523571968078613,
          1.2376151084899902,
          2.5503780841827393,
          0.46534839272499084,
          0.352417916059494,
          -0.40947845578193665,
          1.0387682914733887
         ],
         "y": [
          -0.30632326006889343,
          1.4021910429000854,
          2.8232693672180176,
          2.6592960357666016,
          0.7277064919471741,
          0.796367883682251,
          -0.7442343235015869,
          1.6687408685684204,
          0.88295978307724,
          1.40436851978302,
          0.11571221053600311,
          1.1643717288970947,
          0.7484371662139893,
          2.270960807800293,
          1.0377256870269775,
          2.708317279815674,
          1.1375494003295898,
          0.18364080786705017
         ],
         "z": [
          0.00406257389113307,
          -2.7178666591644287,
          -2.258661985397339,
          -0.46616846323013306,
          -1.2366260290145874,
          -0.502791702747345,
          -0.7405421733856201,
          -0.7796819806098938,
          -0.4889563024044037,
          -1.7098150253295898,
          -0.3687252700328827,
          0.41676023602485657,
          0.0147487111389637,
          -0.6256886720657349,
          1.665312647819519,
          0.27328017354011536,
          -0.9401054382324219,
          0.7900245189666748
         ]
        },
        {
         "marker": {
          "color": "#808080",
          "size": 4
         },
         "mode": "markers",
         "name": "violin",
         "type": "scatter3d",
         "x": [
          3.347496271133423,
          1.4037822484970093,
          3.0707786083221436,
          4.111245155334473,
          2.0070853233337402,
          2.2008087635040283,
          2.2799580097198486,
          0.7181904911994934,
          2.2532503604888916,
          2.230363130569458,
          1.9676190614700317,
          1.1339341402053833,
          2.371783494949341,
          2.2799580097198486,
          1.7693930864334106,
          2.869506359100342,
          2.0414624214172363,
          1.5814577341079712,
          1.8373944759368896,
          3.207531452178955,
          1.5172556638717651,
          1.5717840194702148,
          2.2896318435668945,
          2.078794240951538,
          1.9843143224716187,
          2.100738763809204,
          2.011441946029663,
          1.6129399538040161,
          3.2967751026153564,
          2.438197374343872,
          2.2950899600982666,
          1.5514148473739624
         ],
         "y": [
          0.5901643633842468,
          4.929237365722656,
          1.6856348514556885,
          3.049546957015991,
          8.370612144470215,
          0.8989222645759583,
          9.135971069335938,
          6.233911991119385,
          5.092700958251953,
          4.864850044250488,
          7.6602559089660645,
          6.086627006530762,
          6.528748512268066,
          9.135971069335938,
          4.949103832244873,
          1.9735307693481445,
          4.966695785522461,
          3.6348276138305664,
          6.649926662445068,
          3.824246406555176,
          5.290240287780762,
          5.266265392303467,
          6.446468353271484,
          6.514949798583984,
          5.373240947723389,
          6.307404041290283,
          5.762255668640137,
          6.31102991104126,
          9.419526100158691,
          8.405323028564453,
          7.5155110359191895,
          5.501468181610107
         ],
         "z": [
          -2.7406647205352783,
          -2.209893226623535,
          -4.404982089996338,
          -3.3539793491363525,
          -3.849640130996704,
          -1.7303434610366821,
          -3.5643310546875,
          -4.057443141937256,
          -1.9345160722732544,
          -3.1248581409454346,
          -2.9069321155548096,
          -2.5744826793670654,
          -3.8837313652038574,
          -3.5643310546875,
          -3.22786283493042,
          0.9758740067481995,
          -0.9933081269264221,
          -1.4098796844482422,
          -3.1076858043670654,
          -0.7529128789901733,
          -3.4544458389282227,
          -1.728190302848816,
          -3.1251680850982666,
          -2.539875030517578,
          -1.396077275276184,
          -2.3563685417175293,
          -2.014132261276245,
          -2.516512155532837,
          -4.219624996185303,
          -3.379390239715576,
          -2.6475627422332764,
          -1.5329139232635498
         ]
        },
        {
         "marker": {
          "color": "#000000",
          "size": 4
         },
         "mode": "markers",
         "name": "zebra",
         "type": "scatter3d",
         "x": [
          -5.726954936981201,
          -5.894146919250488,
          -4.774817943572998,
          -6.218951225280762,
          -5.894146919250488,
          -3.6324214935302734,
          -5.673617839813232,
          -5.876346588134766,
          -4.311343669891357,
          -5.96123743057251,
          -2.44862961769104,
          -5.626584053039551,
          -4.843812942504883,
          -5.424617767333984,
          -5.85095739364624,
          -6.546449661254883,
          -5.984687805175781,
          -6.051829814910889,
          -5.975971698760986,
          -7.169974327087402,
          -6.750270843505859,
          -5.835576057434082,
          -6.823673248291016,
          -6.829386234283447,
          -5.843286037445068,
          -5.257931232452393
         ],
         "y": [
          1.8261252641677856,
          -0.05729987844824791,
          -0.6555989384651184,
          0.8673134446144104,
          -0.05729987844824791,
          -1.877526879310608,
          0.02058163844048977,
          1.1213045120239258,
          -1.3217360973358154,
          0.06674563139677048,
          0.6415627598762512,
          1.129313588142395,
          0.6508473753929138,
          2.114975929260254,
          0.6452581286430359,
          1.034449577331543,
          0.12181904166936874,
          0.37983453273773193,
          0.4630272388458252,
          0.5139163732528687,
          0.9361433982849121,
          1.1251170635223389,
          0.5960160493850708,
          0.15682698786258698,
          0.26118004322052,
          0.09722147136926651
         ],
         "z": [
          1.4902076721191406,
          -0.1847432553768158,
          -0.725598156452179,
          0.02811223641037941,
          -0.1847432553768158,
          0.6554761528968811,
          1.3884916305541992,
          0.08171079307794571,
          -0.42761796712875366,
          0.40099236369132996,
          -1.129138708114624,
          0.09233064949512482,
          -0.8656929731369019,
          -0.7177941203117371,
          0.5566296577453613,
          0.1907857209444046,
          -0.7937814593315125,
          0.9169819951057434,
          0.5839788317680359,
          0.48386451601982117,
          0.3459632098674774,
          0.27091607451438904,
          0.26810064911842346,
          0.6354014277458191,
          0.6937330961227417,
          -0.19986876845359802
         ]
        }
       ],
       "layout": {
        "template": {
         "data": {
          "bar": [
           {
            "error_x": {
             "color": "#2a3f5f"
            },
            "error_y": {
             "color": "#2a3f5f"
            },
            "marker": {
             "line": {
              "color": "#E5ECF6",
              "width": 0.5
             }
            },
            "type": "bar"
           }
          ],
          "barpolar": [
           {
            "marker": {
             "line": {
              "color": "#E5ECF6",
              "width": 0.5
             }
            },
            "type": "barpolar"
           }
          ],
          "carpet": [
           {
            "aaxis": {
             "endlinecolor": "#2a3f5f",
             "gridcolor": "white",
             "linecolor": "white",
             "minorgridcolor": "white",
             "startlinecolor": "#2a3f5f"
            },
            "baxis": {
             "endlinecolor": "#2a3f5f",
             "gridcolor": "white",
             "linecolor": "white",
             "minorgridcolor": "white",
             "startlinecolor": "#2a3f5f"
            },
            "type": "carpet"
           }
          ],
          "choropleth": [
           {
            "colorbar": {
             "outlinewidth": 0,
             "ticks": ""
            },
            "type": "choropleth"
           }
          ],
          "contour": [
           {
            "colorbar": {
             "outlinewidth": 0,
             "ticks": ""
            },
            "colorscale": [
             [
              0,
              "#0d0887"
             ],
             [
              0.1111111111111111,
              "#46039f"
             ],
             [
              0.2222222222222222,
              "#7201a8"
             ],
             [
              0.3333333333333333,
              "#9c179e"
             ],
             [
              0.4444444444444444,
              "#bd3786"
             ],
             [
              0.5555555555555556,
              "#d8576b"
             ],
             [
              0.6666666666666666,
              "#ed7953"
             ],
             [
              0.7777777777777778,
              "#fb9f3a"
             ],
             [
              0.8888888888888888,
              "#fdca26"
             ],
             [
              1,
              "#f0f921"
             ]
            ],
            "type": "contour"
           }
          ],
          "contourcarpet": [
           {
            "colorbar": {
             "outlinewidth": 0,
             "ticks": ""
            },
            "type": "contourcarpet"
           }
          ],
          "heatmap": [
           {
            "colorbar": {
             "outlinewidth": 0,
             "ticks": ""
            },
            "colorscale": [
             [
              0,
              "#0d0887"
             ],
             [
              0.1111111111111111,
              "#46039f"
             ],
             [
              0.2222222222222222,
              "#7201a8"
             ],
             [
              0.3333333333333333,
              "#9c179e"
             ],
             [
              0.4444444444444444,
              "#bd3786"
             ],
             [
              0.5555555555555556,
              "#d8576b"
             ],
             [
              0.6666666666666666,
              "#ed7953"
             ],
             [
              0.7777777777777778,
              "#fb9f3a"
             ],
             [
              0.8888888888888888,
              "#fdca26"
             ],
             [
              1,
              "#f0f921"
             ]
            ],
            "type": "heatmap"
           }
          ],
          "heatmapgl": [
           {
            "colorbar": {
             "outlinewidth": 0,
             "ticks": ""
            },
            "colorscale": [
             [
              0,
              "#0d0887"
             ],
             [
              0.1111111111111111,
              "#46039f"
             ],
             [
              0.2222222222222222,
              "#7201a8"
             ],
             [
              0.3333333333333333,
              "#9c179e"
             ],
             [
              0.4444444444444444,
              "#bd3786"
             ],
             [
              0.5555555555555556,
              "#d8576b"
             ],
             [
              0.6666666666666666,
              "#ed7953"
             ],
             [
              0.7777777777777778,
              "#fb9f3a"
             ],
             [
              0.8888888888888888,
              "#fdca26"
             ],
             [
              1,
              "#f0f921"
             ]
            ],
            "type": "heatmapgl"
           }
          ],
          "histogram": [
           {
            "marker": {
             "colorbar": {
              "outlinewidth": 0,
              "ticks": ""
             }
            },
            "type": "histogram"
           }
          ],
          "histogram2d": [
           {
            "colorbar": {
             "outlinewidth": 0,
             "ticks": ""
            },
            "colorscale": [
             [
              0,
              "#0d0887"
             ],
             [
              0.1111111111111111,
              "#46039f"
             ],
             [
              0.2222222222222222,
              "#7201a8"
             ],
             [
              0.3333333333333333,
              "#9c179e"
             ],
             [
              0.4444444444444444,
              "#bd3786"
             ],
             [
              0.5555555555555556,
              "#d8576b"
             ],
             [
              0.6666666666666666,
              "#ed7953"
             ],
             [
              0.7777777777777778,
              "#fb9f3a"
             ],
             [
              0.8888888888888888,
              "#fdca26"
             ],
             [
              1,
              "#f0f921"
             ]
            ],
            "type": "histogram2d"
           }
          ],
          "histogram2dcontour": [
           {
            "colorbar": {
             "outlinewidth": 0,
             "ticks": ""
            },
            "colorscale": [
             [
              0,
              "#0d0887"
             ],
             [
              0.1111111111111111,
              "#46039f"
             ],
             [
              0.2222222222222222,
              "#7201a8"
             ],
             [
              0.3333333333333333,
              "#9c179e"
             ],
             [
              0.4444444444444444,
              "#bd3786"
             ],
             [
              0.5555555555555556,
              "#d8576b"
             ],
             [
              0.6666666666666666,
              "#ed7953"
             ],
             [
              0.7777777777777778,
              "#fb9f3a"
             ],
             [
              0.8888888888888888,
              "#fdca26"
             ],
             [
              1,
              "#f0f921"
             ]
            ],
            "type": "histogram2dcontour"
           }
          ],
          "mesh3d": [
           {
            "colorbar": {
             "outlinewidth": 0,
             "ticks": ""
            },
            "type": "mesh3d"
           }
          ],
          "parcoords": [
           {
            "line": {
             "colorbar": {
              "outlinewidth": 0,
              "ticks": ""
             }
            },
            "type": "parcoords"
           }
          ],
          "pie": [
           {
            "automargin": true,
            "type": "pie"
           }
          ],
          "scatter": [
           {
            "marker": {
             "colorbar": {
              "outlinewidth": 0,
              "ticks": ""
             }
            },
            "type": "scatter"
           }
          ],
          "scatter3d": [
           {
            "line": {
             "colorbar": {
              "outlinewidth": 0,
              "ticks": ""
             }
            },
            "marker": {
             "colorbar": {
              "outlinewidth": 0,
              "ticks": ""
             }
            },
            "type": "scatter3d"
           }
          ],
          "scattercarpet": [
           {
            "marker": {
             "colorbar": {
              "outlinewidth": 0,
              "ticks": ""
             }
            },
            "type": "scattercarpet"
           }
          ],
          "scattergeo": [
           {
            "marker": {
             "colorbar": {
              "outlinewidth": 0,
              "ticks": ""
             }
            },
            "type": "scattergeo"
           }
          ],
          "scattergl": [
           {
            "marker": {
             "colorbar": {
              "outlinewidth": 0,
              "ticks": ""
             }
            },
            "type": "scattergl"
           }
          ],
          "scattermapbox": [
           {
            "marker": {
             "colorbar": {
              "outlinewidth": 0,
              "ticks": ""
             }
            },
            "type": "scattermapbox"
           }
          ],
          "scatterpolar": [
           {
            "marker": {
             "colorbar": {
              "outlinewidth": 0,
              "ticks": ""
             }
            },
            "type": "scatterpolar"
           }
          ],
          "scatterpolargl": [
           {
            "marker": {
             "colorbar": {
              "outlinewidth": 0,
              "ticks": ""
             }
            },
            "type": "scatterpolargl"
           }
          ],
          "scatterternary": [
           {
            "marker": {
             "colorbar": {
              "outlinewidth": 0,
              "ticks": ""
             }
            },
            "type": "scatterternary"
           }
          ],
          "surface": [
           {
            "colorbar": {
             "outlinewidth": 0,
             "ticks": ""
            },
            "colorscale": [
             [
              0,
              "#0d0887"
             ],
             [
              0.1111111111111111,
              "#46039f"
             ],
             [
              0.2222222222222222,
              "#7201a8"
             ],
             [
              0.3333333333333333,
              "#9c179e"
             ],
             [
              0.4444444444444444,
              "#bd3786"
             ],
             [
              0.5555555555555556,
              "#d8576b"
             ],
             [
              0.6666666666666666,
              "#ed7953"
             ],
             [
              0.7777777777777778,
              "#fb9f3a"
             ],
             [
              0.8888888888888888,
              "#fdca26"
             ],
             [
              1,
              "#f0f921"
             ]
            ],
            "type": "surface"
           }
          ],
          "table": [
           {
            "cells": {
             "fill": {
              "color": "#EBF0F8"
             },
             "line": {
              "color": "white"
             }
            },
            "header": {
             "fill": {
              "color": "#C8D4E3"
             },
             "line": {
              "color": "white"
             }
            },
            "type": "table"
           }
          ]
         },
         "layout": {
          "annotationdefaults": {
           "arrowcolor": "#2a3f5f",
           "arrowhead": 0,
           "arrowwidth": 1
          },
          "autotypenumbers": "strict",
          "coloraxis": {
           "colorbar": {
            "outlinewidth": 0,
            "ticks": ""
           }
          },
          "colorscale": {
           "diverging": [
            [
             0,
             "#8e0152"
            ],
            [
             0.1,
             "#c51b7d"
            ],
            [
             0.2,
             "#de77ae"
            ],
            [
             0.3,
             "#f1b6da"
            ],
            [
             0.4,
             "#fde0ef"
            ],
            [
             0.5,
             "#f7f7f7"
            ],
            [
             0.6,
             "#e6f5d0"
            ],
            [
             0.7,
             "#b8e186"
            ],
            [
             0.8,
             "#7fbc41"
            ],
            [
             0.9,
             "#4d9221"
            ],
            [
             1,
             "#276419"
            ]
           ],
           "sequential": [
            [
             0,
             "#0d0887"
            ],
            [
             0.1111111111111111,
             "#46039f"
            ],
            [
             0.2222222222222222,
             "#7201a8"
            ],
            [
             0.3333333333333333,
             "#9c179e"
            ],
            [
             0.4444444444444444,
             "#bd3786"
            ],
            [
             0.5555555555555556,
             "#d8576b"
            ],
            [
             0.6666666666666666,
             "#ed7953"
            ],
            [
             0.7777777777777778,
             "#fb9f3a"
            ],
            [
             0.8888888888888888,
             "#fdca26"
            ],
            [
             1,
             "#f0f921"
            ]
           ],
           "sequentialminus": [
            [
             0,
             "#0d0887"
            ],
            [
             0.1111111111111111,
             "#46039f"
            ],
            [
             0.2222222222222222,
             "#7201a8"
            ],
            [
             0.3333333333333333,
             "#9c179e"
            ],
            [
             0.4444444444444444,
             "#bd3786"
            ],
            [
             0.5555555555555556,
             "#d8576b"
            ],
            [
             0.6666666666666666,
             "#ed7953"
            ],
            [
             0.7777777777777778,
             "#fb9f3a"
            ],
            [
             0.8888888888888888,
             "#fdca26"
            ],
            [
             1,
             "#f0f921"
            ]
           ]
          },
          "colorway": [
           "#636efa",
           "#EF553B",
           "#00cc96",
           "#ab63fa",
           "#FFA15A",
           "#19d3f3",
           "#FF6692",
           "#B6E880",
           "#FF97FF",
           "#FECB52"
          ],
          "font": {
           "color": "#2a3f5f"
          },
          "geo": {
           "bgcolor": "white",
           "lakecolor": "white",
           "landcolor": "#E5ECF6",
           "showlakes": true,
           "showland": true,
           "subunitcolor": "white"
          },
          "hoverlabel": {
           "align": "left"
          },
          "hovermode": "closest",
          "mapbox": {
           "style": "light"
          },
          "paper_bgcolor": "white",
          "plot_bgcolor": "#E5ECF6",
          "polar": {
           "angularaxis": {
            "gridcolor": "white",
            "linecolor": "white",
            "ticks": ""
           },
           "bgcolor": "#E5ECF6",
           "radialaxis": {
            "gridcolor": "white",
            "linecolor": "white",
            "ticks": ""
           }
          },
          "scene": {
           "xaxis": {
            "backgroundcolor": "#E5ECF6",
            "gridcolor": "white",
            "gridwidth": 2,
            "linecolor": "white",
            "showbackground": true,
            "ticks": "",
            "zerolinecolor": "white"
           },
           "yaxis": {
            "backgroundcolor": "#E5ECF6",
            "gridcolor": "white",
            "gridwidth": 2,
            "linecolor": "white",
            "showbackground": true,
            "ticks": "",
            "zerolinecolor": "white"
           },
           "zaxis": {
            "backgroundcolor": "#E5ECF6",
            "gridcolor": "white",
            "gridwidth": 2,
            "linecolor": "white",
            "showbackground": true,
            "ticks": "",
            "zerolinecolor": "white"
           }
          },
          "shapedefaults": {
           "line": {
            "color": "#2a3f5f"
           }
          },
          "ternary": {
           "aaxis": {
            "gridcolor": "white",
            "linecolor": "white",
            "ticks": ""
           },
           "baxis": {
            "gridcolor": "white",
            "linecolor": "white",
            "ticks": ""
           },
           "bgcolor": "#E5ECF6",
           "caxis": {
            "gridcolor": "white",
            "linecolor": "white",
            "ticks": ""
           }
          },
          "title": {
           "x": 0.05
          },
          "xaxis": {
           "automargin": true,
           "gridcolor": "white",
           "linecolor": "white",
           "ticks": "",
           "title": {
            "standoff": 15
           },
           "zerolinecolor": "white",
           "zerolinewidth": 2
          },
          "yaxis": {
           "automargin": true,
           "gridcolor": "white",
           "linecolor": "white",
           "ticks": "",
           "title": {
            "standoff": 15
           },
           "zerolinecolor": "white",
           "zerolinewidth": 2
          }
         }
        },
        "title": {
         "text": "3D plot of the embeddings (projected with the PCA)"
        }
       }
      },
      "text/html": [
       "<div>                            <div id=\"94717866-9ee2-4b56-86bf-1caafbd631bd\" class=\"plotly-graph-div\" style=\"height:525px; width:100%;\"></div>            <script type=\"text/javascript\">                require([\"plotly\"], function(Plotly) {                    window.PLOTLYENV=window.PLOTLYENV || {};                                    if (document.getElementById(\"94717866-9ee2-4b56-86bf-1caafbd631bd\")) {                    Plotly.newPlot(                        \"94717866-9ee2-4b56-86bf-1caafbd631bd\",                        [{\"marker\": {\"color\": \"#e6194b\", \"line\": {\"color\": \"#000000\", \"width\": 2}, \"size\": 8}, \"mode\": \"markers\", \"name\": \"My Custom Sketch\", \"type\": \"scatter3d\", \"x\": [-1.4218288660049438], \"y\": [1.8866530656814575], \"z\": [3.086408853530884]}, {\"marker\": {\"color\": \"#3cb44b\", \"size\": 4}, \"mode\": \"markers\", \"name\": \"butterfly\", \"type\": \"scatter3d\", \"x\": [-0.7696425914764404, 0.4605315029621124, 0.19331827759742737, 1.1452480554580688, -1.0042781829833984, -1.0042781829833984, 0.723024308681488, -1.2324845790863037, -0.22690260410308838, 0.0017034083139151335, 0.4198562204837799, -0.053621262311935425, 2.081016778945923, -1.18166184425354, 0.837705671787262, 0.49378833174705505, 0.9721531867980957, 0.19563741981983185, 0.7298017740249634, 1.0983654260635376, 0.7559481859207153], \"y\": [-0.7501598596572876, -0.923413097858429, -2.0449514389038086, -1.9564933776855469, -0.8548380732536316, -0.8548380732536316, -0.521139919757843, 1.0258973836898804, -0.9750885963439941, -1.4227497577667236, -2.464055061340332, 0.8313425779342651, -2.4346909523010254, -2.2633655071258545, -1.5639327764511108, -1.5288517475128174, -1.8453418016433716, -2.1174402236938477, -1.904536247253418, -1.442969560623169, -1.5184727907180786], \"z\": [-2.6588921546936035, -5.109084129333496, -5.024385929107666, -5.7524213790893555, -3.9991202354431152, -3.9991202354431152, -3.7132818698883057, -5.120904922485352, -3.6852598190307617, -3.171996831893921, -3.8484742641448975, -5.162404537200928, -1.9536504745483398, -3.8742294311523438, -4.780677795410156, -4.133112907409668, -2.2431225776672363, -4.559182643890381, -5.405193328857422, -4.3310227394104, -3.8920209407806396]}, {\"marker\": {\"color\": \"#ffe119\", \"size\": 4}, \"mode\": \"markers\", \"name\": \"candle\", \"type\": \"scatter3d\", \"x\": [1.7326381206512451, 2.490412712097168, 2.703307628631592, 3.4692840576171875, 4.37299919128418, 2.703307628631592, 3.282362699508667, 5.237688064575195, 4.476897239685059, 4.091041564941406, 3.165717840194702, 2.703307628631592, 4.919181823730469, 2.2095232009887695, 4.900244235992432, 3.5725350379943848, 2.677262544631958, 4.615114688873291, 2.1736655235290527, 5.190084934234619, 1.6632664203643799, 4.6621198654174805, 3.432809829711914, 3.305598735809326, 4.364893436431885, 5.491044998168945, 4.972262382507324, 5.310511112213135], \"y\": [0.5673180222511292, 0.23236817121505737, 3.043635845184326, -1.1858748197555542, -1.2091174125671387, 3.043635845184326, 2.307605743408203, -1.300693392753601, -2.159289598464966, -0.6776841878890991, -1.1144882440567017, 3.043635845184326, -2.8223066329956055, 1.2666736841201782, -0.5713393092155457, -0.4583088159561157, 0.4626074433326721, -1.2238763570785522, 0.1698232740163803, -2.0827953815460205, -0.885368824005127, -2.039958953857422, -1.1539558172225952, -1.807020664215088, -1.8670051097869873, -1.8218272924423218, -1.3041889667510986, -1.8759642839431763], \"z\": [2.6572844982147217, 1.674269437789917, 0.026361029595136642, 2.6098320484161377, 2.7730817794799805, 0.026361029595136642, 0.3848305940628052, 2.9469382762908936, 2.9771549701690674, 2.3064534664154053, 3.2338485717773438, 0.026361029595136642, 1.262757658958435, 3.535785675048828, 1.8409109115600586, 3.1813716888427734, 1.1939653158187866, 2.4164395332336426, 0.5983315706253052, 4.141294479370117, 1.0053106546401978, 1.3049750328063965, 0.9306297302246094, 0.5132762789726257, 1.932502269744873, 3.615086317062378, 4.045289993286133, 3.901256561279297]}, {\"marker\": {\"color\": \"#4363d8\", \"size\": 4}, \"mode\": \"markers\", \"name\": \"church\", \"type\": \"scatter3d\", \"x\": [-0.008305972442030907, -0.914467990398407, 3.3580501079559326, -1.1934373378753662, -1.1788864135742188, 0.19048109650611877, 0.029566440731287003, -1.913516640663147, 0.731300950050354, -1.913516640663147, 0.731300950050354, 2.0181100368499756, -2.3011016845703125, -1.0298799276351929, 0.7522410750389099, -0.914467990398407, -1.0298799276351929, -0.10029247403144836, -0.38944655656814575, -0.13649295270442963, -0.9981947541236877, -1.1068023443222046, 0.053311917930841446, 0.053311917930841446, -0.36003321409225464, 0.33524444699287415, -0.38944655656814575, 0.5759714841842651, -0.08402091264724731, 0.24216191470623016, -0.3105257749557495, 0.6614968776702881, 0.050107069313526154, -0.561905026435852], \"y\": [1.903530240058899, 2.4307448863983154, 1.0736591815948486, 2.1665871143341064, 2.1560332775115967, 2.104483127593994, 2.3831629753112793, 3.5197153091430664, 2.276588201522827, 3.5197153091430664, 2.276588201522827, 0.7469279766082764, 1.4681514501571655, 2.7188050746917725, 1.3880817890167236, 2.4307448863983154, 2.7188050746917725, 1.3408154249191284, 1.6076631546020508, 2.7874584197998047, 2.0168395042419434, 1.591378092765808, 1.5828875303268433, 1.5828875303268433, 1.7728333473205566, 0.9901084303855896, 1.6076631546020508, 1.4317574501037598, 1.556524634361267, 0.9306744933128357, 1.5475220680236816, 1.1070762872695923, 2.3748326301574707, 1.8004872798919678], \"z\": [6.427213668823242, 5.069513320922852, 2.53985857963562, 6.310600757598877, 7.026372909545898, 5.820953845977783, 4.920406818389893, 6.282537937164307, 3.576014518737793, 6.282537937164307, 3.576014518737793, 3.663331985473633, 5.974325656890869, 6.611598014831543, 4.385202407836914, 5.069513320922852, 6.611598014831543, 5.313750267028809, 6.292324542999268, 4.988602638244629, 7.406458854675293, 7.4608564376831055, 6.9545488357543945, 6.9545488357543945, 6.710930347442627, 4.5099077224731445, 6.292324542999268, 5.635008335113525, 6.176150321960449, 6.612790107727051, 5.540430545806885, 6.591947555541992, 7.206268787384033, 7.59193229675293]}, {\"marker\": {\"color\": \"#f58231\", \"size\": 4}, \"mode\": \"markers\", \"name\": \"cup\", \"type\": \"scatter3d\", \"x\": [4.686000347137451, 6.924657344818115, 5.67717170715332, 4.686000347137451, 6.0132155418396, 5.67717170715332, 5.567712783813477, 6.822836399078369, 5.64722204208374, 4.340925216674805, 7.253305912017822, 3.2524333000183105, 5.6806745529174805, 5.824936389923096, 6.1477556228637695, 3.8243584632873535, 5.702787399291992, 5.824936389923096, 6.2582011222839355, 4.063581943511963, 6.712728977203369, 5.934365272521973, 5.830281734466553, 6.755109786987305, 5.351919174194336, 7.306565761566162, 3.9467806816101074], \"y\": [-0.45062485337257385, -3.193686008453369, -3.1735358238220215, -0.45062485337257385, -3.1869561672210693, -3.1735358238220215, -4.128393173217773, -1.9951887130737305, -2.20147442817688, -1.5411237478256226, -3.277266502380371, -1.285925030708313, -2.5366604328155518, -2.2924461364746094, -1.8219703435897827, 0.7251046299934387, -3.4233274459838867, -2.2924461364746094, -3.430042028427124, -2.294461250305176, -1.9788213968276978, -3.1899821758270264, -2.1467792987823486, -4.263908386230469, -2.479942798614502, -3.6042394638061523, -1.5133699178695679], \"z\": [2.3124213218688965, 1.0383481979370117, 0.018836241215467453, 2.3124213218688965, 0.49569839239120483, 0.018836241215467453, 0.6603559851646423, 1.215415596961975, 0.050524480640888214, 2.2228524684906006, 0.8119277954101562, 0.5531355142593384, -0.8546958565711975, 0.3552256226539612, 1.4370185136795044, 2.647481679916382, 1.5148770809173584, 0.3552256226539612, 1.7893171310424805, 0.7217175960540771, 1.7144907712936401, 3.1069414615631104, 1.788430094718933, 3.0498785972595215, 1.2929062843322754, 2.4500057697296143, -0.7808250188827515]}, {\"marker\": {\"color\": \"#911eb4\", \"size\": 4}, \"mode\": \"markers\", \"name\": \"door\", \"type\": \"scatter3d\", \"x\": [-1.0643233060836792, -0.1794743537902832, -1.5637999773025513, 1.2423664331436157, -0.7236906886100769, -0.011198899708688259, -0.03208869323134422, -0.24374862015247345, -0.6843445897102356, -0.24374862015247345, 1.78306245803833, -0.21877439320087433, -0.37947648763656616, -1.2437771558761597, 0.0025606469716876745, -0.08268742263317108, -1.2836710214614868, -1.3704556226730347, -0.3754735291004181, -1.2437771558761597, -1.2966703176498413, -0.6939717531204224, -2.6579599380493164, 0.18469390273094177, -0.27992627024650574, -0.29397571086883545, -0.33594706654548645, -1.19725501537323, 0.4125841557979584, 0.34885528683662415, -0.4061540365219116, 1.78306245803833], \"y\": [0.5526415705680847, 1.6471110582351685, 1.8726317882537842, 3.1957263946533203, -0.08696495741605759, 1.193486213684082, 0.8092668652534485, 2.4976401329040527, 1.4052114486694336, 2.4976401329040527, 0.7728719711303711, -0.10814537853002548, 0.44492268562316895, 0.18486276268959045, 0.7410090565681458, 1.9072680473327637, 1.5479416847229004, 0.5589268207550049, 1.3815876245498657, 0.18486276268959045, 0.49537983536720276, 0.40756601095199585, -1.9498478174209595, 0.22744016349315643, 0.65654057264328, 1.4922066926956177, 2.7979695796966553, 0.5446324348449707, 0.4843708872795105, 1.1621848344802856, 1.8975915908813477, 0.7728719711303711], \"z\": [4.9103803634643555, 3.5048351287841797, 5.45428466796875, 2.56428599357605, 3.7498743534088135, 4.170322418212891, 4.71830415725708, 4.870613098144531, 3.407759666442871, 4.870613098144531, 4.09416389465332, 4.580260276794434, 5.528526782989502, 5.002769947052002, 5.829455852508545, 4.806325912475586, 4.165367603302002, 4.138833045959473, 4.976778030395508, 5.002769947052002, 5.686972618103027, 5.77169942855835, 2.388676404953003, 3.7241616249084473, 4.185649394989014, 4.5651092529296875, 2.4740750789642334, 5.678827285766602, 6.069942474365234, 4.825806140899658, 4.501853942871094, 4.09416389465332]}, {\"marker\": {\"color\": \"#46f0f0\", \"size\": 4}, \"mode\": \"markers\", \"name\": \"hat\", \"type\": \"scatter3d\", \"x\": [3.6547746658325195, 5.221588134765625, 2.5560643672943115, 3.0721168518066406, 3.5275471210479736, 1.4057539701461792, 1.9362385272979736, 1.9057023525238037, 2.958313226699829, 2.7825567722320557, 5.221588134765625, 2.6389694213867188, 0.5042983889579773, 0.966145932674408, 3.093909978866577, 0.9905179738998413, 4.47813081741333, 1.0012216567993164, 3.186326026916504, 0.41875141859054565, 1.9294439554214478], \"y\": [0.846477746963501, -1.8922494649887085, -0.9217156171798706, -0.3170336186885834, 1.104533076286316, 0.883675754070282, 0.7593672871589661, 1.260305643081665, -1.485579013824463, 2.011986017227173, -1.8922494649887085, -0.38212406635284424, 0.466138631105423, -2.3041677474975586, -0.12814752757549286, -0.7177658677101135, 0.9746955037117004, 0.44268539547920227, -1.4272546768188477, -0.6200619339942932, -0.18044547736644745], \"z\": [-1.6291567087173462, 0.6305142045021057, -1.8360997438430786, -1.4013832807540894, -0.8110495805740356, -2.4087443351745605, -2.3497977256774902, -2.022728681564331, -1.3596323728561401, 1.3560866117477417, 0.6305142045021057, -1.0401079654693604, 0.002071141032502055, 0.9364046454429626, 1.777635097503662, -1.1689332723617554, 0.5104958415031433, 0.24717719852924347, 0.8236292600631714, -0.11120888590812683, -1.504737377166748]}, {\"marker\": {\"color\": \"#f032e6\", \"size\": 4}, \"mode\": \"markers\", \"name\": \"hedgehog\", \"type\": \"scatter3d\", \"x\": [-4.024794101715088, -2.138744592666626, -4.624391555786133, -5.084308624267578, -4.348247528076172, -4.1029229164123535, -4.484653472900391, -3.8060317039489746, -5.049781799316406, -5.164309024810791, -4.048573970794678, -4.42265510559082, -4.263477802276611, -3.3188037872314453, -3.98386287689209, -5.0293755531311035, -4.066787242889404, -3.5369749069213867, -3.108215570449829, -3.617244005203247, -5.166098117828369, -4.471880912780762, -3.7406864166259766, -3.1996703147888184, -5.6761040687561035, -4.88896369934082, -4.843494415283203, -2.5461623668670654, -5.037484169006348], \"y\": [-2.1543662548065186, -3.143489122390747, -3.523634910583496, -2.9295530319213867, -3.637026309967041, -5.269682884216309, -3.8440849781036377, -2.972132444381714, -4.512480735778809, -4.8629655838012695, -3.3450114727020264, -3.3648834228515625, -4.251991271972656, -3.6848015785217285, -2.642821788787842, -4.044045448303223, -3.1789886951446533, -3.7144768238067627, -3.236619472503662, -2.8877105712890625, -3.5977485179901123, -4.39185905456543, -3.322774648666382, -2.998927354812622, -4.001891136169434, -3.7581067085266113, -3.8105359077453613, -1.5816280841827393, -3.492030143737793], \"z\": [-0.6211478114128113, -0.6574690937995911, 0.9530524015426636, -0.5441129207611084, -1.8972500562667847, -1.3198601007461548, -0.8279903531074524, -1.0619361400604248, -2.6792030334472656, -2.0704753398895264, -1.6637502908706665, -2.2792062759399414, -2.0411219596862793, -2.0690805912017822, -2.859917640686035, -2.388547897338867, -2.417062997817993, -2.4873268604278564, -0.7045719027519226, -1.4349228143692017, -2.006495952606201, -2.13779878616333, -1.9839367866516113, 0.06703291088342667, -1.9741157293319702, -2.1978018283843994, -1.5488439798355103, -1.8699612617492676, -1.4355040788650513]}, {\"marker\": {\"color\": \"#bcf60c\", \"size\": 4}, \"mode\": \"markers\", \"name\": \"helicopter\", \"type\": \"scatter3d\", \"x\": [2.2522730827331543, -1.0845706462860107, 0.16124485433101654, 0.8394595384597778, 0.2630009055137634, -0.7030050158500671, 1.484102725982666, 1.4066115617752075, 0.8877488970756531, 0.008621313609182835, -0.22492706775665283, -0.18670961260795593, -0.375836044549942, -0.3521013855934143, -0.7249791026115417, -0.8797492384910583, -0.7630090117454529, -0.04707308113574982, -0.7751120924949646, -0.11351250857114792, -0.8463652729988098, -0.5417277216911316], \"y\": [2.670520305633545, 4.180202007293701, 5.775089740753174, 2.441779375076294, 0.975902795791626, 4.257563591003418, 3.8728764057159424, 4.428900241851807, 2.5976319313049316, 3.952209234237671, 1.3816906213760376, 3.9520344734191895, 3.4990830421447754, 3.4774510860443115, 2.6436073780059814, 4.222157955169678, 2.967179298400879, 2.628756523132324, 4.493491172790527, 3.309936285018921, 2.8997886180877686, 3.275810480117798], \"z\": [-2.7913658618927, -0.7497189044952393, -1.9542078971862793, -1.32594895362854, -3.4996447563171387, -0.534414529800415, -3.043384075164795, -1.9272550344467163, -1.6966997385025024, -2.1529769897460938, -1.7389030456542969, -1.1710902452468872, -1.9565621614456177, -0.9916664361953735, -2.4115242958068848, -1.7407066822052002, -2.1290676593780518, -2.9349074363708496, -1.7699813842773438, -1.252221703529358, -1.9035558700561523, -2.4930498600006104]}, {\"marker\": {\"color\": \"#fabebe\", \"size\": 4}, \"mode\": \"markers\", \"name\": \"horse\", \"type\": \"scatter3d\", \"x\": [-4.989617347717285, -5.67447566986084, -4.531311511993408, -3.7923593521118164, -5.475729942321777, -5.106560707092285, -3.9763364791870117, -4.970746040344238, -4.794251441955566, -4.481727600097656, -4.399168491363525, -4.553511142730713, -5.67447566986084, -4.480212688446045, -5.095898628234863, -4.754840850830078, -5.397743225097656, -5.7904462814331055, -4.3097243309021, -5.634693145751953, -4.971105575561523, -4.025647163391113], \"y\": [-0.5043529272079468, -1.0429564714431763, 0.7558401823043823, -1.3746006488800049, -0.3385142385959625, 0.7364439368247986, 0.09612447768449783, -0.5444536209106445, 0.5161619782447815, 2.1349711418151855, 0.899838387966156, -0.8565513491630554, -1.0429564714431763, 1.5240583419799805, -0.07296480983495712, 0.7497718334197998, -0.13008642196655273, 1.3903244733810425, 0.06741080433130264, 1.1004279851913452, 1.0343900918960571, -1.6744260787963867], \"z\": [1.4451549053192139, 2.6102235317230225, 1.8795801401138306, 0.07388455420732498, 0.5847013592720032, 1.9795523881912231, 0.8128475546836853, 1.0939252376556396, 2.24680233001709, 1.1800850629806519, 1.2004178762435913, 0.9347525238990784, 2.6102235317230225, 1.5935407876968384, 1.013355016708374, 2.112283945083618, 1.188459873199463, 2.267490863800049, 0.8748369216918945, 1.0630583763122559, 0.19159026443958282, 2.6150832176208496]}, {\"marker\": {\"color\": \"#008080\", \"size\": 4}, \"mode\": \"markers\", \"name\": \"pineapple\", \"type\": \"scatter3d\", \"x\": [1.2504746913909912, 0.3259238004684448, 0.2909051179885864, -1.5413014888763428, 0.18174804747104645, 0.00936563964933157, -0.9186215996742249, 0.6435620784759521, -0.2981313467025757, 0.507499635219574, -0.15919595956802368, 1.1739712953567505, 0.16780491173267365, -0.5264205932617188, 0.5330100059509277, 0.31720399856567383, 0.10094281286001205, -0.18191449344158173, 0.43747493624687195, 0.4655592739582062, 0.6324363946914673, -0.15919595956802368], \"y\": [-5.499547004699707, -4.471869468688965, -6.002355575561523, -5.305154800415039, -7.742343425750732, -7.32543420791626, -4.750677108764648, -6.195627212524414, -7.7928972244262695, -5.829777717590332, -6.349548816680908, -4.866107940673828, -5.675020694732666, -4.019371509552002, -6.862138271331787, -6.19938325881958, -5.179172515869141, -5.466584205627441, -5.855976104736328, -4.297736167907715, -5.592416286468506, -6.349548816680908], \"z\": [-0.6238206028938293, -3.029200553894043, -1.2994780540466309, -1.6230690479278564, -0.2733270823955536, -0.8250800371170044, 0.6237873435020447, -1.208505392074585, -0.27675727009773254, -0.455039918422699, -0.7860033512115479, -1.3656014204025269, -1.354349970817566, -2.299351692199707, -1.4810922145843506, -1.5577932596206665, -1.3298403024673462, -1.7273348569869995, -1.5566680431365967, -1.349026083946228, -0.8235857486724854, -0.7860033512115479]}, {\"marker\": {\"color\": \"#e6beff\", \"size\": 4}, \"mode\": \"markers\", \"name\": \"rifle\", \"type\": \"scatter3d\", \"x\": [0.8932238817214966, -0.13594581186771393, -0.31556710600852966, -0.6369335055351257, 0.7495883107185364, 0.20301592350006104, 1.0331121683120728, -0.12405179440975189, 0.2926775813102722, -0.6622724533081055, 1.405195951461792, 0.6379299759864807, -0.6369335055351257, 0.9981723427772522, 0.4927305579185486, -0.31556710600852966, 1.5018951892852783, 0.06356128305196762, 0.7885113954544067, 0.5982374548912048, 1.0622591972351074, 0.9162668585777283, 0.5947688221931458, 0.9162668585777283, 0.5959614515304565, -0.7465865015983582, 0.29506558179855347, -0.9193556308746338, 0.6734731197357178, 0.7315411567687988, 0.8941894173622131, 0.85922771692276, 0.5899404287338257, 1.2965461015701294], \"y\": [5.140132904052734, 6.702152252197266, 6.193994045257568, 6.4803643226623535, 6.125197410583496, 5.348288059234619, 5.727323055267334, 7.3358845710754395, 8.205604553222656, 7.40299129486084, 6.121380805969238, 8.067509651184082, 6.4803643226623535, 6.317827224731445, 4.105832576751709, 6.193994045257568, 7.742162227630615, 5.400584697723389, 5.303481578826904, 7.63895845413208, 3.9167561531066895, 7.084622859954834, 4.050281047821045, 7.084622859954834, 5.961897373199463, 3.5077755451202393, 5.12189245223999, 3.3140032291412354, 7.275737285614014, 6.245084285736084, 7.093072414398193, 6.619355201721191, 3.9761180877685547, 5.885125637054443], \"z\": [-0.8810272216796875, -0.2504110038280487, -1.0427833795547485, -0.9129638671875, -1.373428225517273, -0.6012674570083618, -2.4226112365722656, -1.5587577819824219, -1.4961333274841309, -1.6637485027313232, -2.1969733238220215, -1.9732394218444824, -0.9129638671875, -1.3701690435409546, -1.6328012943267822, -1.0427833795547485, -2.0720887184143066, -2.695289373397827, 0.5725070834159851, -1.2671518325805664, 0.15305262804031372, -0.20593662559986115, 0.04967944696545601, -0.20593662559986115, -0.8688362240791321, 1.901725172996521, -1.6986384391784668, 0.46307334303855896, -0.47005581855773926, -0.21936553716659546, -0.06556326895952225, -0.6852573752403259, -0.3017796576023102, 0.4854016602039337]}, {\"marker\": {\"color\": \"#9a6324\", \"size\": 4}, \"mode\": \"markers\", \"name\": \"shark\", \"type\": \"scatter3d\", \"x\": [-4.616146564483643, -5.6202192306518555, -2.73280930519104, -1.6108793020248413, -4.837767124176025, -3.8756675720214844, -4.9865922927856445, -2.8314363956451416, -4.837767124176025, -4.4538750648498535, -4.870696067810059, -4.128376007080078, -3.4982922077178955, -4.238597393035889, -4.512495517730713, -4.413052082061768, -2.5072546005249023, -4.122499465942383, -4.5037665367126465, -2.5072546005249023, -2.183326005935669, -4.512495517730713, -4.507380485534668, -4.008937358856201, -3.065403699874878], \"y\": [-0.6999607086181641, -2.86867356300354, 0.4852859377861023, 0.4119868576526642, -0.05743218958377838, -0.08360389620065689, -1.2577972412109375, 0.5765960216522217, -0.05743218958377838, 0.5247448086738586, -1.4994151592254639, -0.9179220795631409, -0.918488085269928, -1.2939975261688232, -0.37865108251571655, -1.2440241575241089, -0.6967441439628601, -1.3806562423706055, -0.9427362680435181, -0.6967441439628601, -0.1114477813243866, -0.37865108251571655, -1.4827574491500854, -0.12031885981559753, -0.7000406384468079], \"z\": [-4.291533470153809, -3.098134994506836, -2.9985039234161377, -2.981868267059326, -4.137776851654053, -3.46677565574646, -3.2183358669281006, 0.2451445460319519, -4.137776851654053, -3.115947961807251, -4.697482585906982, -3.634375810623169, -4.1812615394592285, -4.469544410705566, -4.409856796264648, -4.207554340362549, -2.6137702465057373, -3.368199348449707, -4.1958699226379395, -2.6137702465057373, -1.3433163166046143, -4.409856796264648, -3.6640548706054688, -4.024527072906494, -3.7876689434051514]}, {\"marker\": {\"color\": \"#fffac8\", \"size\": 4}, \"mode\": \"markers\", \"name\": \"snail\", \"type\": \"scatter3d\", \"x\": [3.8222436904907227, 4.010416030883789, 1.9946211576461792, -0.4017705023288727, 2.531961679458618, 4.009515285491943, 1.8160747289657593, 1.2202742099761963, 3.2368030548095703, 1.4230417013168335, 2.2894155979156494, 3.676339864730835, 3.144550085067749, 2.1484813690185547, 2.000697135925293, 1.4562296867370605, 2.0615737438201904, 1.5247186422348022, 1.864314317703247], \"y\": [-3.3103108406066895, -2.345299005508423, -1.6957210302352905, 0.09592192620038986, -3.1045382022857666, -3.080202102661133, -2.1249427795410156, -2.905799388885498, -2.184023141860962, -2.2454261779785156, -1.9528429508209229, -2.6575777530670166, -0.867076575756073, -1.6259734630584717, -1.7063486576080322, -2.2398459911346436, -2.3848626613616943, -2.6915907859802246, -2.9258666038513184], \"z\": [-6.063638210296631, -5.380199909210205, -5.131555557250977, -2.3318169116973877, -6.520960807800293, -6.890874862670898, -6.67919397354126, -5.2003374099731445, -5.220733642578125, -2.789891004562378, -5.054468631744385, -6.074031352996826, -5.612508773803711, -4.959702014923096, -3.32426381111145, -5.713658332824707, -5.313716888427734, -3.791624069213867, -4.0967888832092285]}, {\"marker\": {\"color\": \"#800000\", \"size\": 4}, \"mode\": \"markers\", \"name\": \"snake\", \"type\": \"scatter3d\", \"x\": [2.0084927082061768, 3.4543659687042236, 2.0084927082061768, 1.7696515321731567, 0.837440550327301, 1.3048945665359497, 0.837440550327301, 1.7696515321731567, 3.4543659687042236, -2.458954095840454, 0.35939815640449524, -1.2232590913772583, -0.5865777134895325, -1.2232590913772583, 0.7546981573104858, 0.028633084148168564], \"y\": [-0.440844863653183, -2.0417656898498535, -0.440844863653183, -0.22301055490970612, 0.1637641191482544, -0.29182782769203186, 0.1637641191482544, -0.22301055490970612, -2.0417656898498535, -1.1642202138900757, 0.4129692018032074, 0.47060030698776245, -0.6649478673934937, 0.47060030698776245, -0.5681001543998718, -1.1063578128814697], \"z\": [-4.5351481437683105, -2.430997848510742, -4.5351481437683105, -4.777336120605469, -3.9403631687164307, -4.75486421585083, -3.9403631687164307, -4.777336120605469, -2.430997848510742, -1.2633839845657349, -3.9126315116882324, -3.537367582321167, -4.390592575073242, -3.537367582321167, -4.037724018096924, -4.700132369995117]}, {\"marker\": {\"color\": \"#aaffc3\", \"size\": 4}, \"mode\": \"markers\", \"name\": \"teapot\", \"type\": \"scatter3d\", \"x\": [5.73574161529541, 4.844723701477051, 6.221959590911865, 4.588366508483887, 7.0707688331604, 6.131915092468262, 5.355388641357422, 6.988708019256592, 7.160310745239258, 7.032810688018799, 3.9131696224212646, 2.956806182861328, 5.8993377685546875, 7.516061782836914, 6.679748058319092, 8.942422866821289, 7.261417865753174, 6.283222198486328, 2.6131622791290283, 7.321792125701904, 6.914656639099121, 5.277353286743164, 5.611720561981201, 6.914656639099121, 5.119208335876465, 3.473984718322754], \"y\": [-2.456698417663574, -4.214184761047363, -2.7934319972991943, -3.251166343688965, -2.667337417602539, -1.1154735088348389, -1.3975141048431396, -2.872950553894043, -2.4257452487945557, -1.1032078266143799, -1.050600528717041, -1.7953115701675415, -3.2852604389190674, -4.722935199737549, -3.423142671585083, -4.8029279708862305, -3.7056806087493896, -3.0917203426361084, -0.17057961225509644, -3.50885272026062, -3.7016494274139404, -2.595484972000122, -3.2742679119110107, -3.7016494274139404, -2.226444959640503, -0.9214404225349426], \"z\": [0.226612851023674, -2.657317638397217, -0.07858283817768097, -0.29581233859062195, 1.2548041343688965, 1.1652218103408813, -3.391922950744629, -0.18460550904273987, 1.2588313817977905, 0.8567885160446167, -0.26951712369918823, -0.5345138311386108, 1.3858437538146973, 1.0208700895309448, 2.634314775466919, 2.084458589553833, 1.852696418762207, 2.064404249191284, 0.6739398837089539, 1.885955810546875, 1.9754644632339478, 1.572991132736206, 2.1121840476989746, 1.9754644632339478, 0.20180392265319824, 1.0332139730453491]}, {\"marker\": {\"color\": \"#808000\", \"size\": 4}, \"mode\": \"markers\", \"name\": \"teddy_bear\", \"type\": \"scatter3d\", \"x\": [0.0055763088166713715, -1.1741443872451782, -2.126413345336914, -0.5373231172561646, -1.7966439723968506, -1.4626333713531494, 0.9840686917304993, 1.099862813949585, 0.8267428278923035, -0.9824093580245972, -0.9357615113258362, -3.7071075439453125, -0.5303758382797241, -0.06868331879377365, 1.1232855319976807, 1.3641990423202515, 1.403264045715332, -0.6520726680755615, 0.23072968423366547, 0.5720546841621399, 0.534580647945404], \"y\": [-4.1403350830078125, -3.3408753871917725, -3.5415713787078857, -5.119783878326416, -4.215802192687988, -4.177837371826172, -3.434983253479004, -2.625685453414917, -3.71330189704895, -2.812161922454834, -4.767810344696045, -3.576176404953003, -5.032722473144531, -0.18234534561634064, -3.6853199005126953, -3.7184882164001465, -3.638627290725708, -3.7822318077087402, -3.14634108543396, -3.519589424133301, -3.880317449569702], \"z\": [1.203201174736023, 2.0055992603302, 1.0326950550079346, 1.5983000993728638, 1.2773449420928955, 2.163148880004883, 0.46905532479286194, 2.042085647583008, 1.4692299365997314, 1.6386314630508423, 0.7491273880004883, 1.385064959526062, 1.8979629278182983, 0.556255578994751, 1.8356266021728516, 1.5639909505844116, 2.0196056365966797, 1.6017169952392578, 2.4068539142608643, 2.0825650691986084, 2.1397454738616943]}, {\"marker\": {\"color\": \"#ffd8b1\", \"size\": 4}, \"mode\": \"markers\", \"name\": \"tiger\", \"type\": \"scatter3d\", \"x\": [-4.050856113433838, -5.247844696044922, -4.091285705566406, -5.86419153213501, -5.572566032409668, -4.9056010246276855, -5.288654327392578, -3.6749141216278076, -4.208402633666992, -4.919433116912842, -4.21938943862915, -6.119424343109131, -3.2584102153778076, -4.9200639724731445, -2.5756146907806396, -6.286639213562012, -5.277360916137695, -5.140460014343262, -5.124067783355713, -5.10090446472168, -4.943386077880859, -5.475975513458252, -4.488196849822998, -4.915337562561035, -5.373542785644531], \"y\": [-2.055314540863037, -2.7313244342803955, -2.1863162517547607, -0.7597571015357971, -0.21111835539340973, -1.8253918886184692, -2.6188981533050537, 0.4477802515029907, -1.276546835899353, -3.264976978302002, -1.583183765411377, -1.1709784269332886, -1.2641510963439941, -2.9195799827575684, -3.3655433654785156, -0.13744495809078217, -1.804874062538147, -1.5386147499084473, -1.7659626007080078, -1.8291504383087158, -1.6369794607162476, -1.1592882871627808, -1.5172791481018066, -1.5191481113433838, -1.1943961381912231], \"z\": [2.3989510536193848, 1.7404707670211792, 1.1473017930984497, 1.721539855003357, -0.02986958622932434, 4.435559272766113, 3.258391857147217, 1.0545306205749512, 2.2207610607147217, 1.7931476831436157, 3.390428304672241, 2.0753777027130127, 3.2346622943878174, 1.0702269077301025, 2.46296763420105, 2.175224781036377, 1.7872185707092285, 2.1746127605438232, 2.0534517765045166, 2.289945363998413, 1.9006152153015137, 2.0281074047088623, 2.4917197227478027, 2.4801011085510254, 1.9260348081588745]}, {\"marker\": {\"color\": \"#000075\", \"size\": 4}, \"mode\": \"markers\", \"name\": \"umbrella\", \"type\": \"scatter3d\", \"x\": [0.24589300155639648, -1.3996158838272095, -0.22246012091636658, 0.550332248210907, 0.20105509459972382, 0.35045725107192993, 1.6509374380111694, 0.6633890867233276, 0.26180773973464966, 0.9577406644821167, 1.1323018074035645, 0.5523571968078613, 1.2376151084899902, 2.5503780841827393, 0.46534839272499084, 0.352417916059494, -0.40947845578193665, 1.0387682914733887], \"y\": [-0.30632326006889343, 1.4021910429000854, 2.8232693672180176, 2.6592960357666016, 0.7277064919471741, 0.796367883682251, -0.7442343235015869, 1.6687408685684204, 0.88295978307724, 1.40436851978302, 0.11571221053600311, 1.1643717288970947, 0.7484371662139893, 2.270960807800293, 1.0377256870269775, 2.708317279815674, 1.1375494003295898, 0.18364080786705017], \"z\": [0.00406257389113307, -2.7178666591644287, -2.258661985397339, -0.46616846323013306, -1.2366260290145874, -0.502791702747345, -0.7405421733856201, -0.7796819806098938, -0.4889563024044037, -1.7098150253295898, -0.3687252700328827, 0.41676023602485657, 0.0147487111389637, -0.6256886720657349, 1.665312647819519, 0.27328017354011536, -0.9401054382324219, 0.7900245189666748]}, {\"marker\": {\"color\": \"#808080\", \"size\": 4}, \"mode\": \"markers\", \"name\": \"violin\", \"type\": \"scatter3d\", \"x\": [3.347496271133423, 1.4037822484970093, 3.0707786083221436, 4.111245155334473, 2.0070853233337402, 2.2008087635040283, 2.2799580097198486, 0.7181904911994934, 2.2532503604888916, 2.230363130569458, 1.9676190614700317, 1.1339341402053833, 2.371783494949341, 2.2799580097198486, 1.7693930864334106, 2.869506359100342, 2.0414624214172363, 1.5814577341079712, 1.8373944759368896, 3.207531452178955, 1.5172556638717651, 1.5717840194702148, 2.2896318435668945, 2.078794240951538, 1.9843143224716187, 2.100738763809204, 2.011441946029663, 1.6129399538040161, 3.2967751026153564, 2.438197374343872, 2.2950899600982666, 1.5514148473739624], \"y\": [0.5901643633842468, 4.929237365722656, 1.6856348514556885, 3.049546957015991, 8.370612144470215, 0.8989222645759583, 9.135971069335938, 6.233911991119385, 5.092700958251953, 4.864850044250488, 7.6602559089660645, 6.086627006530762, 6.528748512268066, 9.135971069335938, 4.949103832244873, 1.9735307693481445, 4.966695785522461, 3.6348276138305664, 6.649926662445068, 3.824246406555176, 5.290240287780762, 5.266265392303467, 6.446468353271484, 6.514949798583984, 5.373240947723389, 6.307404041290283, 5.762255668640137, 6.31102991104126, 9.419526100158691, 8.405323028564453, 7.5155110359191895, 5.501468181610107], \"z\": [-2.7406647205352783, -2.209893226623535, -4.404982089996338, -3.3539793491363525, -3.849640130996704, -1.7303434610366821, -3.5643310546875, -4.057443141937256, -1.9345160722732544, -3.1248581409454346, -2.9069321155548096, -2.5744826793670654, -3.8837313652038574, -3.5643310546875, -3.22786283493042, 0.9758740067481995, -0.9933081269264221, -1.4098796844482422, -3.1076858043670654, -0.7529128789901733, -3.4544458389282227, -1.728190302848816, -3.1251680850982666, -2.539875030517578, -1.396077275276184, -2.3563685417175293, -2.014132261276245, -2.516512155532837, -4.219624996185303, -3.379390239715576, -2.6475627422332764, -1.5329139232635498]}, {\"marker\": {\"color\": \"#000000\", \"size\": 4}, \"mode\": \"markers\", \"name\": \"zebra\", \"type\": \"scatter3d\", \"x\": [-5.726954936981201, -5.894146919250488, -4.774817943572998, -6.218951225280762, -5.894146919250488, -3.6324214935302734, -5.673617839813232, -5.876346588134766, -4.311343669891357, -5.96123743057251, -2.44862961769104, -5.626584053039551, -4.843812942504883, -5.424617767333984, -5.85095739364624, -6.546449661254883, -5.984687805175781, -6.051829814910889, -5.975971698760986, -7.169974327087402, -6.750270843505859, -5.835576057434082, -6.823673248291016, -6.829386234283447, -5.843286037445068, -5.257931232452393], \"y\": [1.8261252641677856, -0.05729987844824791, -0.6555989384651184, 0.8673134446144104, -0.05729987844824791, -1.877526879310608, 0.02058163844048977, 1.1213045120239258, -1.3217360973358154, 0.06674563139677048, 0.6415627598762512, 1.129313588142395, 0.6508473753929138, 2.114975929260254, 0.6452581286430359, 1.034449577331543, 0.12181904166936874, 0.37983453273773193, 0.4630272388458252, 0.5139163732528687, 0.9361433982849121, 1.1251170635223389, 0.5960160493850708, 0.15682698786258698, 0.26118004322052, 0.09722147136926651], \"z\": [1.4902076721191406, -0.1847432553768158, -0.725598156452179, 0.02811223641037941, -0.1847432553768158, 0.6554761528968811, 1.3884916305541992, 0.08171079307794571, -0.42761796712875366, 0.40099236369132996, -1.129138708114624, 0.09233064949512482, -0.8656929731369019, -0.7177941203117371, 0.5566296577453613, 0.1907857209444046, -0.7937814593315125, 0.9169819951057434, 0.5839788317680359, 0.48386451601982117, 0.3459632098674774, 0.27091607451438904, 0.26810064911842346, 0.6354014277458191, 0.6937330961227417, -0.19986876845359802]}],                        {\"template\": {\"data\": {\"bar\": [{\"error_x\": {\"color\": \"#2a3f5f\"}, \"error_y\": {\"color\": \"#2a3f5f\"}, \"marker\": {\"line\": {\"color\": \"#E5ECF6\", \"width\": 0.5}}, \"type\": \"bar\"}], \"barpolar\": [{\"marker\": {\"line\": {\"color\": \"#E5ECF6\", \"width\": 0.5}}, \"type\": \"barpolar\"}], \"carpet\": [{\"aaxis\": {\"endlinecolor\": \"#2a3f5f\", \"gridcolor\": \"white\", \"linecolor\": \"white\", \"minorgridcolor\": \"white\", \"startlinecolor\": \"#2a3f5f\"}, \"baxis\": {\"endlinecolor\": \"#2a3f5f\", \"gridcolor\": \"white\", \"linecolor\": \"white\", \"minorgridcolor\": \"white\", \"startlinecolor\": \"#2a3f5f\"}, \"type\": \"carpet\"}], \"choropleth\": [{\"colorbar\": {\"outlinewidth\": 0, \"ticks\": \"\"}, \"type\": \"choropleth\"}], \"contour\": [{\"colorbar\": {\"outlinewidth\": 0, \"ticks\": \"\"}, \"colorscale\": [[0.0, \"#0d0887\"], [0.1111111111111111, \"#46039f\"], [0.2222222222222222, \"#7201a8\"], [0.3333333333333333, \"#9c179e\"], [0.4444444444444444, \"#bd3786\"], [0.5555555555555556, \"#d8576b\"], [0.6666666666666666, \"#ed7953\"], [0.7777777777777778, \"#fb9f3a\"], [0.8888888888888888, \"#fdca26\"], [1.0, \"#f0f921\"]], \"type\": \"contour\"}], \"contourcarpet\": [{\"colorbar\": {\"outlinewidth\": 0, \"ticks\": \"\"}, \"type\": \"contourcarpet\"}], \"heatmap\": [{\"colorbar\": {\"outlinewidth\": 0, \"ticks\": \"\"}, \"colorscale\": [[0.0, \"#0d0887\"], [0.1111111111111111, \"#46039f\"], [0.2222222222222222, \"#7201a8\"], [0.3333333333333333, \"#9c179e\"], [0.4444444444444444, \"#bd3786\"], [0.5555555555555556, \"#d8576b\"], [0.6666666666666666, \"#ed7953\"], [0.7777777777777778, \"#fb9f3a\"], [0.8888888888888888, \"#fdca26\"], [1.0, \"#f0f921\"]], \"type\": \"heatmap\"}], \"heatmapgl\": [{\"colorbar\": {\"outlinewidth\": 0, \"ticks\": \"\"}, \"colorscale\": [[0.0, \"#0d0887\"], [0.1111111111111111, \"#46039f\"], [0.2222222222222222, \"#7201a8\"], [0.3333333333333333, \"#9c179e\"], [0.4444444444444444, \"#bd3786\"], [0.5555555555555556, \"#d8576b\"], [0.6666666666666666, \"#ed7953\"], [0.7777777777777778, \"#fb9f3a\"], [0.8888888888888888, \"#fdca26\"], [1.0, \"#f0f921\"]], \"type\": \"heatmapgl\"}], \"histogram\": [{\"marker\": {\"colorbar\": {\"outlinewidth\": 0, \"ticks\": \"\"}}, \"type\": \"histogram\"}], \"histogram2d\": [{\"colorbar\": {\"outlinewidth\": 0, \"ticks\": \"\"}, \"colorscale\": [[0.0, \"#0d0887\"], [0.1111111111111111, \"#46039f\"], [0.2222222222222222, \"#7201a8\"], [0.3333333333333333, \"#9c179e\"], [0.4444444444444444, \"#bd3786\"], [0.5555555555555556, \"#d8576b\"], [0.6666666666666666, \"#ed7953\"], [0.7777777777777778, \"#fb9f3a\"], [0.8888888888888888, \"#fdca26\"], [1.0, \"#f0f921\"]], \"type\": \"histogram2d\"}], \"histogram2dcontour\": [{\"colorbar\": {\"outlinewidth\": 0, \"ticks\": \"\"}, \"colorscale\": [[0.0, \"#0d0887\"], [0.1111111111111111, \"#46039f\"], [0.2222222222222222, \"#7201a8\"], [0.3333333333333333, \"#9c179e\"], [0.4444444444444444, \"#bd3786\"], [0.5555555555555556, \"#d8576b\"], [0.6666666666666666, \"#ed7953\"], [0.7777777777777778, \"#fb9f3a\"], [0.8888888888888888, \"#fdca26\"], [1.0, \"#f0f921\"]], \"type\": \"histogram2dcontour\"}], \"mesh3d\": [{\"colorbar\": {\"outlinewidth\": 0, \"ticks\": \"\"}, \"type\": \"mesh3d\"}], \"parcoords\": [{\"line\": {\"colorbar\": {\"outlinewidth\": 0, \"ticks\": \"\"}}, \"type\": \"parcoords\"}], \"pie\": [{\"automargin\": true, \"type\": \"pie\"}], \"scatter\": [{\"marker\": {\"colorbar\": {\"outlinewidth\": 0, \"ticks\": \"\"}}, \"type\": \"scatter\"}], \"scatter3d\": [{\"line\": {\"colorbar\": {\"outlinewidth\": 0, \"ticks\": \"\"}}, \"marker\": {\"colorbar\": {\"outlinewidth\": 0, \"ticks\": \"\"}}, \"type\": \"scatter3d\"}], \"scattercarpet\": [{\"marker\": {\"colorbar\": {\"outlinewidth\": 0, \"ticks\": \"\"}}, \"type\": \"scattercarpet\"}], \"scattergeo\": [{\"marker\": {\"colorbar\": {\"outlinewidth\": 0, \"ticks\": \"\"}}, \"type\": \"scattergeo\"}], \"scattergl\": [{\"marker\": {\"colorbar\": {\"outlinewidth\": 0, \"ticks\": \"\"}}, \"type\": \"scattergl\"}], \"scattermapbox\": [{\"marker\": {\"colorbar\": {\"outlinewidth\": 0, \"ticks\": \"\"}}, \"type\": \"scattermapbox\"}], \"scatterpolar\": [{\"marker\": {\"colorbar\": {\"outlinewidth\": 0, \"ticks\": \"\"}}, \"type\": \"scatterpolar\"}], \"scatterpolargl\": [{\"marker\": {\"colorbar\": {\"outlinewidth\": 0, \"ticks\": \"\"}}, \"type\": \"scatterpolargl\"}], \"scatterternary\": [{\"marker\": {\"colorbar\": {\"outlinewidth\": 0, \"ticks\": \"\"}}, \"type\": \"scatterternary\"}], \"surface\": [{\"colorbar\": {\"outlinewidth\": 0, \"ticks\": \"\"}, \"colorscale\": [[0.0, \"#0d0887\"], [0.1111111111111111, \"#46039f\"], [0.2222222222222222, \"#7201a8\"], [0.3333333333333333, \"#9c179e\"], [0.4444444444444444, \"#bd3786\"], [0.5555555555555556, \"#d8576b\"], [0.6666666666666666, \"#ed7953\"], [0.7777777777777778, \"#fb9f3a\"], [0.8888888888888888, \"#fdca26\"], [1.0, \"#f0f921\"]], \"type\": \"surface\"}], \"table\": [{\"cells\": {\"fill\": {\"color\": \"#EBF0F8\"}, \"line\": {\"color\": \"white\"}}, \"header\": {\"fill\": {\"color\": \"#C8D4E3\"}, \"line\": {\"color\": \"white\"}}, \"type\": \"table\"}]}, \"layout\": {\"annotationdefaults\": {\"arrowcolor\": \"#2a3f5f\", \"arrowhead\": 0, \"arrowwidth\": 1}, \"autotypenumbers\": \"strict\", \"coloraxis\": {\"colorbar\": {\"outlinewidth\": 0, \"ticks\": \"\"}}, \"colorscale\": {\"diverging\": [[0, \"#8e0152\"], [0.1, \"#c51b7d\"], [0.2, \"#de77ae\"], [0.3, \"#f1b6da\"], [0.4, \"#fde0ef\"], [0.5, \"#f7f7f7\"], [0.6, \"#e6f5d0\"], [0.7, \"#b8e186\"], [0.8, \"#7fbc41\"], [0.9, \"#4d9221\"], [1, \"#276419\"]], \"sequential\": [[0.0, \"#0d0887\"], [0.1111111111111111, \"#46039f\"], [0.2222222222222222, \"#7201a8\"], [0.3333333333333333, \"#9c179e\"], [0.4444444444444444, \"#bd3786\"], [0.5555555555555556, \"#d8576b\"], [0.6666666666666666, \"#ed7953\"], [0.7777777777777778, \"#fb9f3a\"], [0.8888888888888888, \"#fdca26\"], [1.0, \"#f0f921\"]], \"sequentialminus\": [[0.0, \"#0d0887\"], [0.1111111111111111, \"#46039f\"], [0.2222222222222222, \"#7201a8\"], [0.3333333333333333, \"#9c179e\"], [0.4444444444444444, \"#bd3786\"], [0.5555555555555556, \"#d8576b\"], [0.6666666666666666, \"#ed7953\"], [0.7777777777777778, \"#fb9f3a\"], [0.8888888888888888, \"#fdca26\"], [1.0, \"#f0f921\"]]}, \"colorway\": [\"#636efa\", \"#EF553B\", \"#00cc96\", \"#ab63fa\", \"#FFA15A\", \"#19d3f3\", \"#FF6692\", \"#B6E880\", \"#FF97FF\", \"#FECB52\"], \"font\": {\"color\": \"#2a3f5f\"}, \"geo\": {\"bgcolor\": \"white\", \"lakecolor\": \"white\", \"landcolor\": \"#E5ECF6\", \"showlakes\": true, \"showland\": true, \"subunitcolor\": \"white\"}, \"hoverlabel\": {\"align\": \"left\"}, \"hovermode\": \"closest\", \"mapbox\": {\"style\": \"light\"}, \"paper_bgcolor\": \"white\", \"plot_bgcolor\": \"#E5ECF6\", \"polar\": {\"angularaxis\": {\"gridcolor\": \"white\", \"linecolor\": \"white\", \"ticks\": \"\"}, \"bgcolor\": \"#E5ECF6\", \"radialaxis\": {\"gridcolor\": \"white\", \"linecolor\": \"white\", \"ticks\": \"\"}}, \"scene\": {\"xaxis\": {\"backgroundcolor\": \"#E5ECF6\", \"gridcolor\": \"white\", \"gridwidth\": 2, \"linecolor\": \"white\", \"showbackground\": true, \"ticks\": \"\", \"zerolinecolor\": \"white\"}, \"yaxis\": {\"backgroundcolor\": \"#E5ECF6\", \"gridcolor\": \"white\", \"gridwidth\": 2, \"linecolor\": \"white\", \"showbackground\": true, \"ticks\": \"\", \"zerolinecolor\": \"white\"}, \"zaxis\": {\"backgroundcolor\": \"#E5ECF6\", \"gridcolor\": \"white\", \"gridwidth\": 2, \"linecolor\": \"white\", \"showbackground\": true, \"ticks\": \"\", \"zerolinecolor\": \"white\"}}, \"shapedefaults\": {\"line\": {\"color\": \"#2a3f5f\"}}, \"ternary\": {\"aaxis\": {\"gridcolor\": \"white\", \"linecolor\": \"white\", \"ticks\": \"\"}, \"baxis\": {\"gridcolor\": \"white\", \"linecolor\": \"white\", \"ticks\": \"\"}, \"bgcolor\": \"#E5ECF6\", \"caxis\": {\"gridcolor\": \"white\", \"linecolor\": \"white\", \"ticks\": \"\"}}, \"title\": {\"x\": 0.05}, \"xaxis\": {\"automargin\": true, \"gridcolor\": \"white\", \"linecolor\": \"white\", \"ticks\": \"\", \"title\": {\"standoff\": 15}, \"zerolinecolor\": \"white\", \"zerolinewidth\": 2}, \"yaxis\": {\"automargin\": true, \"gridcolor\": \"white\", \"linecolor\": \"white\", \"ticks\": \"\", \"title\": {\"standoff\": 15}, \"zerolinecolor\": \"white\", \"zerolinewidth\": 2}}}, \"title\": {\"text\": \"3D plot of the embeddings (projected with the PCA)\"}},                        {\"responsive\": true}                    ).then(function(){\n",
       "                            \n",
       "var gd = document.getElementById('94717866-9ee2-4b56-86bf-1caafbd631bd');\n",
       "var x = new MutationObserver(function (mutations, observer) {{\n",
       "        var display = window.getComputedStyle(gd).display;\n",
       "        if (!display || display === 'none') {{\n",
       "            console.log([gd, 'removed!']);\n",
       "            Plotly.purge(gd);\n",
       "            observer.disconnect();\n",
       "        }}\n",
       "}});\n",
       "\n",
       "// Listen for the removal of the full notebook cells\n",
       "var notebookContainer = gd.closest('#notebook-container');\n",
       "if (notebookContainer) {{\n",
       "    x.observe(notebookContainer, {childList: true});\n",
       "}}\n",
       "\n",
       "// Listen for the clearing of the current output cell\n",
       "var outputEl = gd.closest('.output');\n",
       "if (outputEl) {{\n",
       "    x.observe(outputEl, {childList: true});\n",
       "}}\n",
       "\n",
       "                        })                };                });            </script>        </div>"
      ]
     },
     "metadata": {},
     "output_type": "display_data"
    }
   ],
   "source": [
    "'''Correction '''\n",
    "traces = []\n",
    "fig = go.Figure()\n",
    "for i, (category, coordinates) in enumerate(res.items()):\n",
    "    if category == \"My Custom Sketch\":\n",
    "        marker_size=8\n",
    "        line = dict(\n",
    "            color=\"#000000\",\n",
    "            width=2\n",
    "        )\n",
    "    else:\n",
    "        marker_size=4\n",
    "        line=dict()\n",
    "    trace = go.Scatter3d(\n",
    "        x=coordinates['x'],\n",
    "        y=coordinates['y'],\n",
    "        z=coordinates['z'],\n",
    "        name=category,\n",
    "        mode='markers',\n",
    "        marker=dict(\n",
    "            size=marker_size,\n",
    "            color=colors[i],\n",
    "            line=line\n",
    "        )\n",
    "    )\n",
    "    fig.add_trace(trace)\n",
    "fig.update_layout(title='3D plot of the embeddings (projected with the PCA)')    \n",
    "fig.show()"
   ]
  },
  {
   "cell_type": "markdown",
   "metadata": {},
   "source": [
    "## Dataset: return 5 random images and sketches of a category"
   ]
  },
  {
   "cell_type": "markdown",
   "metadata": {},
   "source": [
    "The api `/get_dataset_images` takes a category name as json and returns 5 random images and sketch belonging to the category sent as parameter. \n",
    "**TODO**: call the api, and plot the resulting sketches and images as in the figure below:"
   ]
  },
  {
   "cell_type": "markdown",
   "metadata": {},
   "source": [
    "<img src=\"images/sea-turtle.png\">"
   ]
  },
  {
   "cell_type": "code",
   "execution_count": 63,
   "metadata": {},
   "outputs": [],
   "source": [
    "category = \"sea_turtle\"\n",
    "data = {\"category\": category}\n",
    "res = ... # Implement me!"
   ]
  },
  {
   "cell_type": "code",
   "execution_count": 64,
   "metadata": {},
   "outputs": [],
   "source": [
    "# Plot here"
   ]
  },
  {
   "cell_type": "code",
   "execution_count": 65,
   "metadata": {},
   "outputs": [],
   "source": [
    "''' Correction '''\n",
    "category = \"hedgehog\"\n",
    "data = {\"category\": category}\n",
    "res = requests.post(\"http://127.0.0.1:5000/get_dataset_images\", json=data).json()"
   ]
  },
  {
   "cell_type": "code",
   "execution_count": 66,
   "metadata": {},
   "outputs": [
    {
     "data": {
      "image/png": "[encoded data removed]",
      "text/plain": [
       "<Figure size 1440x720 with 10 Axes>"
      ]
     },
     "metadata": {
      "needs_background": "light"
     },
     "output_type": "display_data"
    }
   ],
   "source": [
    "''' Correction '''\n",
    "images, sketches = [], []\n",
    "\n",
    "fig, axes = plt.subplots(2, 5, figsize=(20, 10))\n",
    "fig.suptitle(f'Dataset category: {category}', fontsize=20)\n",
    "for i in range(5):\n",
    "    sketch = res[f'sketches_{i}_base64']\n",
    "    image = res[f'images_{i}_base64']\n",
    "    image = base64_to_array(image)\n",
    "    sketch = base64_to_array(sketch)\n",
    "    \n",
    "    axes[0, i].imshow(image)\n",
    "    axes[0, i].axis(\"off\");\n",
    "    axes[0, i].set_title('Image ' + str(i))\n",
    "    \n",
    "    axes[1, i].imshow(sketch)\n",
    "    axes[1, i].axis(\"off\");\n",
    "    axes[1, i].set_title('Sketch ' + str(i))"
   ]
  },
  {
   "cell_type": "code",
   "execution_count": null,
   "metadata": {},
   "outputs": [],
   "source": []
  }
 ],
 "metadata": {
  "kernelspec": {
   "display_name": "AMLD env",
   "language": "python",
   "name": "env"
  },
  "language_info": {
   "codemirror_mode": {
    "name": "ipython",
    "version": 3
   },
   "file_extension": ".py",
   "mimetype": "text/x-python",
   "name": "python",
   "nbconvert_exporter": "python",
   "pygments_lexer": "ipython3",
   "version": "3.7.9"
  }
 },
 "nbformat": 4,
 "nbformat_minor": 4
}
