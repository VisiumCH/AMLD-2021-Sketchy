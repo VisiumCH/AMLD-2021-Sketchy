{
 "cells": [
  {
   "cell_type": "markdown",
   "metadata": {},
   "source": [
    "# Web App"
   ]
  },
  {
   "cell_type": "markdown",
   "metadata": {},
   "source": [
    "In this notebook, we reproduce the different API calls of the web app and code along similar functionnalitites."
   ]
  },
  {
   "cell_type": "code",
   "execution_count": 1,
   "metadata": {},
   "outputs": [],
   "source": [
    "import base64\n",
    "import io\n",
    "import json\n",
    "import requests\n",
    "\n",
    "from cairosvg import svg2png\n",
    "import matplotlib.pyplot as plt\n",
    "import numpy as np\n",
    "from PIL import Image\n",
    "import plotly.graph_objects as go"
   ]
  },
  {
   "cell_type": "code",
   "execution_count": 2,
   "metadata": {},
   "outputs": [],
   "source": [
    "from src.api.utils import svg_to_png"
   ]
  },
  {
   "cell_type": "markdown",
   "metadata": {},
   "source": [
    "## trying"
   ]
  },
  {
   "cell_type": "code",
   "execution_count": 3,
   "metadata": {},
   "outputs": [
    {
     "name": "stdout",
     "output_type": "stream",
     "text": [
      "no display found. Using :0.0\n"
     ]
    },
    {
     "ename": "TclError",
     "evalue": "couldn't connect to display \":0.0\"",
     "output_type": "error",
     "traceback": [
      "\u001b[0;31m---------------------------------\u001b[0m",
      "\u001b[0;31mTclError\u001b[0mTraceback (most recent call last)",
      "\u001b[0;32m<ipython-input-3-ef35d6de88dd>\u001b[0m in \u001b[0;36m<module>\u001b[0;34m\u001b[0m\n\u001b[1;32m     26\u001b[0m     \u001b[0mdraw\u001b[0m\u001b[0;34m.\u001b[0m\u001b[0mline\u001b[0m\u001b[0;34m(\u001b[0m\u001b[0;34m[\u001b[0m\u001b[0mx1\u001b[0m\u001b[0;34m,\u001b[0m \u001b[0my1\u001b[0m\u001b[0;34m,\u001b[0m \u001b[0mx2\u001b[0m\u001b[0;34m,\u001b[0m \u001b[0my2\u001b[0m\u001b[0;34m]\u001b[0m\u001b[0;34m,\u001b[0m\u001b[0mfill\u001b[0m\u001b[0;34m=\u001b[0m\u001b[0;34m\"black\"\u001b[0m\u001b[0;34m,\u001b[0m\u001b[0mwidth\u001b[0m\u001b[0;34m=\u001b[0m\u001b[0;36m5\u001b[0m\u001b[0;34m)\u001b[0m\u001b[0;34m\u001b[0m\u001b[0;34m\u001b[0m\u001b[0m\n\u001b[1;32m     27\u001b[0m \u001b[0;34m\u001b[0m\u001b[0m\n\u001b[0;32m---> 28\u001b[0;31m \u001b[0mmaster\u001b[0m \u001b[0;34m=\u001b[0m \u001b[0mTk\u001b[0m\u001b[0;34m(\u001b[0m\u001b[0;34m)\u001b[0m\u001b[0;34m\u001b[0m\u001b[0;34m\u001b[0m\u001b[0m\n\u001b[0m\u001b[1;32m     29\u001b[0m \u001b[0;34m\u001b[0m\u001b[0m\n\u001b[1;32m     30\u001b[0m \u001b[0;31m# create a tkinter canvas to draw on\u001b[0m\u001b[0;34m\u001b[0m\u001b[0;34m\u001b[0m\u001b[0;34m\u001b[0m\u001b[0m\n",
      "\u001b[0;32m/opt/conda/lib/python3.7/tkinter/__init__.py\u001b[0m in \u001b[0;36m__init__\u001b[0;34m(self, screenName, baseName, className, useTk, sync, use)\u001b[0m\n\u001b[1;32m   2021\u001b[0m                 \u001b[0mbaseName\u001b[0m \u001b[0;34m=\u001b[0m \u001b[0mbaseName\u001b[0m \u001b[0;34m+\u001b[0m \u001b[0mext\u001b[0m\u001b[0;34m\u001b[0m\u001b[0;34m\u001b[0m\u001b[0m\n\u001b[1;32m   2022\u001b[0m         \u001b[0minteractive\u001b[0m \u001b[0;34m=\u001b[0m \u001b[0;36m0\u001b[0m\u001b[0;34m\u001b[0m\u001b[0;34m\u001b[0m\u001b[0m\n\u001b[0;32m-> 2023\u001b[0;31m         \u001b[0mself\u001b[0m\u001b[0;34m.\u001b[0m\u001b[0mtk\u001b[0m \u001b[0;34m=\u001b[0m \u001b[0m_tkinter\u001b[0m\u001b[0;34m.\u001b[0m\u001b[0mcreate\u001b[0m\u001b[0;34m(\u001b[0m\u001b[0mscreenName\u001b[0m\u001b[0;34m,\u001b[0m \u001b[0mbaseName\u001b[0m\u001b[0;34m,\u001b[0m \u001b[0mclassName\u001b[0m\u001b[0;34m,\u001b[0m \u001b[0minteractive\u001b[0m\u001b[0;34m,\u001b[0m \u001b[0mwantobjects\u001b[0m\u001b[0;34m,\u001b[0m \u001b[0museTk\u001b[0m\u001b[0;34m,\u001b[0m \u001b[0msync\u001b[0m\u001b[0;34m,\u001b[0m \u001b[0muse\u001b[0m\u001b[0;34m)\u001b[0m\u001b[0;34m\u001b[0m\u001b[0;34m\u001b[0m\u001b[0m\n\u001b[0m\u001b[1;32m   2024\u001b[0m         \u001b[0;32mif\u001b[0m \u001b[0museTk\u001b[0m\u001b[0;34m:\u001b[0m\u001b[0;34m\u001b[0m\u001b[0;34m\u001b[0m\u001b[0m\n\u001b[1;32m   2025\u001b[0m             \u001b[0mself\u001b[0m\u001b[0;34m.\u001b[0m\u001b[0m_loadtk\u001b[0m\u001b[0;34m(\u001b[0m\u001b[0;34m)\u001b[0m\u001b[0;34m\u001b[0m\u001b[0;34m\u001b[0m\u001b[0m\n",
      "\u001b[0;31mTclError\u001b[0m: couldn't connect to display \":0.0\""
     ]
    }
   ],
   "source": []
  },
  {
   "cell_type": "markdown",
   "metadata": {},
   "source": [
    "##  Load an svg string\n",
    "\n",
    "In the web app the user draws a sketch and then this sketch is sent as an svg string to the back-end. Here, we directly load an svg."
   ]
  },
  {
   "cell_type": "code",
   "execution_count": 198,
   "metadata": {},
   "outputs": [],
   "source": [
    "svg_folder = 'svg/'\n",
    "svg_files = ['amld', 'apple', 'candle']\n",
    "path = svg_folder + svg_files[0] + '.json' # choose anz"
   ]
  },
  {
   "cell_type": "code",
   "execution_count": 199,
   "metadata": {},
   "outputs": [],
   "source": [
    "with open(path, 'r') as fp:\n",
    "    data = json.load(fp)"
   ]
  },
  {
   "cell_type": "code",
   "execution_count": 200,
   "metadata": {},
   "outputs": [],
   "source": [
    "svg_string = data['sketch']"
   ]
  },
  {
   "cell_type": "markdown",
   "metadata": {},
   "source": [
    "## List of APIs"
   ]
  },
  {
   "cell_type": "markdown",
   "metadata": {},
   "source": [
    "There are 4 possible api calls. /api_list list them:"
   ]
  },
  {
   "cell_type": "code",
   "execution_count": 60,
   "metadata": {},
   "outputs": [
    {
     "data": {
      "text/plain": [
       "{'available-apis': [{'api-key': 'cmd: /api_list',\n",
       "   'description': 'return the list of available commands.'},\n",
       "  {'api-key': 'cmd: /find_images',\n",
       "   'description': 'receives a sketch and returns its closest images.'},\n",
       "  {'api-key': 'cmd: /get_embeddings',\n",
       "   'description': 'receives a dimension number (2D or 3D) and returns the PCA scattered points of the embeddings'},\n",
       "  {'api-key': 'cmd: /get_dataset_images',\n",
       "   'description': 'receives a category name and return 5 random images and sketches of this category.'}]}"
      ]
     },
     "execution_count": 60,
     "metadata": {},
     "output_type": "execute_result"
    }
   ],
   "source": [
    "res = requests.get(\"http://127.0.0.1:5000/api_list\")\n",
    "res.json()"
   ]
  },
  {
   "cell_type": "markdown",
   "metadata": {},
   "source": [
    "We will code here the functions equivalent to those of the web app."
   ]
  },
  {
   "cell_type": "markdown",
   "metadata": {},
   "source": [
    "## Inference: return closest images of sketch"
   ]
  },
  {
   "cell_type": "markdown",
   "metadata": {},
   "source": [
    "We send an svg drawing to the web app."
   ]
  },
  {
   "cell_type": "code",
   "execution_count": 215,
   "metadata": {},
   "outputs": [],
   "source": [
    "data = {\"sketch\": svg_string}\n",
    "res = requests.post(\"http://127.0.0.1:5000/find_images\", json=data).json()"
   ]
  },
  {
   "cell_type": "markdown",
   "metadata": {},
   "source": [
    "In the back-end, the svg is converted into a png and a white background is added. Then the inference function gets the 2 closest images and the associated attention map. These are all returned as a response from the api call."
   ]
  },
  {
   "cell_type": "code",
   "execution_count": 216,
   "metadata": {},
   "outputs": [],
   "source": [
    "images_base64 = res['images_base64']\n",
    "images_labels = res['images_label']\n",
    "attention = res['attention']"
   ]
  },
  {
   "cell_type": "code",
   "execution_count": 217,
   "metadata": {},
   "outputs": [],
   "source": [
    "def base64_to_array(base64_string):\n",
    "    '''\n",
    "    Converts a returned base 64 string of an image into a numpy array\n",
    "    Args: \n",
    "        - base64_string: base 64 encoding of the image\n",
    "    Return:\n",
    "        - numpy array of the image\n",
    "    '''\n",
    "    base64_string = base64_string.split(\"'\")[1]\n",
    "    image = base64.b64decode(base64_string)\n",
    "    image = Image.open(io.BytesIO(image))\n",
    "    return np.array(image)"
   ]
  },
  {
   "cell_type": "code",
   "execution_count": 218,
   "metadata": {},
   "outputs": [],
   "source": [
    "sketch = svg_to_png(data['sketch'])"
   ]
  },
  {
   "cell_type": "code",
   "execution_count": 219,
   "metadata": {},
   "outputs": [],
   "source": [
    "image1 = base64_to_array(images_base64[0])\n",
    "image2 = base64_to_array(images_base64[1])\n",
    "attention = base64_to_array(attention)"
   ]
  },
  {
   "cell_type": "code",
   "execution_count": 220,
   "metadata": {},
   "outputs": [
    {
     "data": {
      "image/png": "[encoded data removed]",
      "text/plain": [
       "<Figure size 720x576 with 4 Axes>"
      ]
     },
     "metadata": {
      "needs_background": "light"
     },
     "output_type": "display_data"
    }
   ],
   "source": [
    "fig, axes = plt.subplots(1, 4, figsize=(10, 8))\n",
    "axes[0].set(title='Sketch')\n",
    "axes[0].imshow(sketch)\n",
    "axes[0].axis(\"off\");\n",
    "\n",
    "axes[1].set(title=f'1st image: {images_labels[0]}')\n",
    "axes[1].imshow(image1)\n",
    "axes[1].axis(\"off\");\n",
    "\n",
    "axes[2].set(title=f'2nd image: {images_labels[1]}')\n",
    "axes[2].imshow(image2)\n",
    "axes[2].axis(\"off\");\n",
    "\n",
    "axes[3].set(title=f'Attention map')\n",
    "axes[3].imshow(attention)\n",
    "axes[3].axis(\"off\");\n",
    "plt.subplots_adjust(wspace=0.25, hspace=-0.35)"
   ]
  },
  {
   "cell_type": "markdown",
   "metadata": {},
   "source": [
    "## Embeddings: get 2D or 3D projection of the embeddings' PCA.\n",
    "\n",
    "The `/get_embedding` function returns the 2D or 3D PCA projection of a selected number of images embeddings.\n",
    "\n",
    "- It must receive the number of dimension `nb_dim` that is either 2 or 3.\n",
    "- If it receives an svg sketch in `sketch` then it also computes the PCA with this sketch and also return the sketch's projected position in the category \"My Custom Sketch\"."
   ]
  },
  {
   "cell_type": "markdown",
   "metadata": {},
   "source": [
    "We show here how to do the 2D plot without sending the custom sketch. "
   ]
  },
  {
   "cell_type": "code",
   "execution_count": 207,
   "metadata": {},
   "outputs": [],
   "source": [
    "data = {\"nb_dim\": 2}\n",
    "res = requests.post(\"http://127.0.0.1:5000/get_embeddings\", json=data).json()"
   ]
  },
  {
   "cell_type": "code",
   "execution_count": 208,
   "metadata": {},
   "outputs": [],
   "source": [
    "colors = [\"#e6194b\",\"#3cb44b\",\"#ffe119\",\"#4363d8\",\"#f58231\",\n",
    "          \"#911eb4\",\"#46f0f0\",\"#f032e6\",\"#bcf60c\",\"#fabebe\",\n",
    "          \"#008080\",\"#e6beff\",\"#9a6324\",\"#fffac8\",\"#800000\",\n",
    "          \"#aaffc3\",\"#808000\",\"#ffd8b1\",\"#000075\",\"#808080\",\"#000000\"]"
   ]
  },
  {
   "cell_type": "code",
   "execution_count": 209,
   "metadata": {},
   "outputs": [
    {
     "data": {
      "application/vnd.plotly.v1+json": {
       "config": {
        "plotlyServerURL": "https://plot.ly"
       },
       "data": [
        {
         "marker": {
          "color": "#e6194b"
         },
         "mode": "markers",
         "name": "butterfly",
         "type": "scatter",
         "x": [
          -0.7805257439613342,
          0.4424804449081421,
          0.17689819633960724,
          1.127944827079773,
          -1.018717885017395,
          -1.018717885017395,
          0.7155447602272034,
          -1.2443571090698242,
          -0.23965120315551758,
          -0.010758914053440094,
          0.3994574546813965,
          -0.05890045315027237,
          2.0655269622802734,
          -1.2016346454620361,
          0.8202036619186401,
          0.47608715295791626,
          0.9566731452941895,
          0.17470479011535645,
          0.7084850072860718,
          1.0814288854599,
          0.7391541600227356
         ],
         "y": [
          -0.7286877036094666,
          -0.8894233703613281,
          -2.0192530155181885,
          -1.930597186088562,
          -0.8230962157249451,
          -0.8230962157249451,
          -0.5069400668144226,
          1.0697996616363525,
          -0.9506950974464417,
          -1.4048271179199219,
          -2.4396188259124756,
          0.8582289814949036,
          -2.4298129081726074,
          -2.2315616607666016,
          -1.5370525121688843,
          -1.5017874240875244,
          -1.830998182296753,
          -2.08662486076355,
          -1.8716872930526733,
          -1.4185932874679565,
          -1.4944735765457153
         ]
        },
        {
         "marker": {
          "color": "#3cb44b"
         },
         "mode": "markers",
         "name": "candle",
         "type": "scatter",
         "x": [
          1.7434778213500977,
          2.494004964828491,
          2.713953733444214,
          3.467946767807007,
          4.373128414154053,
          2.713953733444214,
          3.286761522293091,
          5.232809066772461,
          4.473481178283691,
          4.090353965759277,
          3.166436195373535,
          2.713953733444214,
          4.905170440673828,
          2.230769395828247,
          4.899261951446533,
          3.579014301300049,
          2.674771308898926,
          4.613736629486084,
          2.1726579666137695,
          5.188996315002441,
          1.657198429107666,
          4.652118682861328,
          3.4264965057373047,
          3.2992606163024902,
          4.357949733734131,
          5.490853786468506,
          4.974313735961914,
          5.309340476989746
         ],
         "y": [
          0.5380281805992126,
          0.2122366726398468,
          3.0344016551971436,
          -1.2139997482299805,
          -1.2434487342834473,
          3.0344016551971436,
          2.3000810146331787,
          -1.3317285776138306,
          -2.1948940753936768,
          -0.7050133347511292,
          -1.1461193561553955,
          3.0344016551971436,
          -2.842282295227051,
          1.2208305597305298,
          -0.598662257194519,
          -0.4959387183189392,
          0.4548388123512268,
          -1.255399227142334,
          0.16137661039829254,
          -2.1282665729522705,
          -0.891734778881073,
          -2.059988498687744,
          -1.1686121225357056,
          -1.823909878730774,
          -1.8918118476867676,
          -1.8667014837265015,
          -1.3485723733901978,
          -1.9197081327438354
         ]
        },
        {
         "marker": {
          "color": "#ffe119"
         },
         "mode": "markers",
         "name": "church",
         "type": "scatter",
         "x": [
          0.02764098159968853,
          -0.8850537538528442,
          3.365561008453369,
          -1.1578212976455688,
          -1.1371630430221558,
          0.2224186211824417,
          0.058020614087581635,
          -1.872043490409851,
          0.7522923946380615,
          -1.872043490409851,
          0.7522923946380615,
          2.0324270725250244,
          -2.270235538482666,
          -0.9878901839256287,
          0.7747042179107666,
          -0.8850537538528442,
          -0.9878901839256287,
          -0.0760013684630394,
          -0.35872170329093933,
          -0.10739260166883469,
          -0.9616931080818176,
          -1.0728049278259277,
          0.08618782460689545,
          0.08618782460689545,
          -0.3277066648006439,
          0.355057954788208,
          -0.35872170329093933,
          0.6013236045837402,
          -0.05845952033996582,
          0.2702147960662842,
          -0.28400731086730957,
          0.6895821690559387,
          0.08625750243663788,
          -0.5267840027809143
         ],
         "y": [
          1.8378347158432007,
          2.3861382007598877,
          1.0467078685760498,
          2.1079537868499756,
          2.0853359699249268,
          2.048035144805908,
          2.337189197540283,
          3.463461399078369,
          2.2427406311035156,
          3.463461399078369,
          2.2427406311035156,
          0.7088057398796082,
          1.418463110923767,
          2.652007579803467,
          1.3439520597457886,
          2.3861382007598877,
          2.652007579803467,
          1.294370174407959,
          1.5502656698226929,
          2.743021249771118,
          1.9518749713897705,
          1.52773916721344,
          1.5180596113204956,
          1.5180596113204956,
          1.7126213312149048,
          0.9488479495048523,
          1.5502656698226929,
          1.3799551725387573,
          1.506612777709961,
          0.8695998191833496,
          1.498924732208252,
          1.0458147525787354,
          2.309652805328369,
          1.7343312501907349
         ]
        },
        {
         "marker": {
          "color": "#4363d8"
         },
         "mode": "markers",
         "name": "cup",
         "type": "scatter",
         "x": [
          4.690326690673828,
          6.90807580947876,
          5.661409378051758,
          4.690326690673828,
          5.994780540466309,
          5.661409378051758,
          5.54538106918335,
          6.814850330352783,
          5.633657455444336,
          4.336124897003174,
          7.234986782073975,
          3.2434253692626953,
          5.666176795959473,
          5.8101043701171875,
          6.141622066497803,
          3.8349807262420654,
          5.691099643707275,
          5.8101043701171875,
          6.244296073913574,
          4.050523281097412,
          6.703273773193359,
          5.9250946044921875,
          5.8211493492126465,
          6.741643905639648,
          5.342193126678467,
          7.295642375946045,
          3.9360880851745605
         ],
         "y": [
          -0.48611336946487427,
          -3.2180912494659424,
          -3.1916518211364746,
          -0.48611336946487427,
          -3.203209638595581,
          -3.1916518211364746,
          -4.14329719543457,
          -2.025482654571533,
          -2.2165656089782715,
          -1.5674976110458374,
          -3.300203561782837,
          -1.2944926023483276,
          -2.5500166416168213,
          -2.307375431060791,
          -1.852353811264038,
          0.6893394589424133,
          -3.454352378845215,
          -2.307375431060791,
          -3.460024356842041,
          -2.3067753314971924,
          -2.0086722373962402,
          -3.2285447120666504,
          -2.1749215126037598,
          -4.3057122230529785,
          -2.505929946899414,
          -3.645993947982788,
          -1.5200656652450562
         ]
        },
        {
         "marker": {
          "color": "#f58231"
         },
         "mode": "markers",
         "name": "door",
         "type": "scatter",
         "x": [
          -1.0445044040679932,
          -0.16096574068069458,
          -1.5358760356903076,
          1.2636247873306274,
          -0.7156375646591187,
          0.00835191085934639,
          -0.012072078883647919,
          -0.21401314437389374,
          -0.6682303547859192,
          -0.21401314437389374,
          1.7959471940994263,
          -0.20513862371444702,
          -0.3605928421020508,
          -1.2290674448013306,
          0.024085549637675285,
          -0.06094380095601082,
          -1.2653318643569946,
          -1.3581950664520264,
          -0.35490211844444275,
          -1.2290674448013306,
          -1.2782890796661377,
          -0.6763404607772827,
          -2.664137840270996,
          0.19534845650196075,
          -0.2665160298347473,
          -0.2769121527671814,
          -0.31986182928085327,
          -1.1788170337677002,
          0.4307366907596588,
          0.36569225788116455,
          -0.3867023289203644,
          1.7959471940994263
         ],
         "y": [
          0.5131356716156006,
          1.617722749710083,
          1.8287819623947144,
          3.1692848205566406,
          -0.10950665920972824,
          1.1568585634231567,
          0.7673107385635376,
          2.451619863510132,
          1.379888892173767,
          2.451619863510132,
          0.7372177243232727,
          -0.14402759075164795,
          0.4020377993583679,
          0.15211676061153412,
          0.6931861639022827,
          1.8701814413070679,
          1.5199286937713623,
          0.5354982614517212,
          1.343329906463623,
          0.15211676061153412,
          0.4569050073623657,
          0.3670352101325989,
          -1.949400782585144,
          0.19948045909404755,
          0.6273372769355774,
          1.4610484838485718,
          2.7833633422851562,
          0.5061500668525696,
          0.4380696415901184,
          1.126458764076233,
          1.8660963773727417,
          0.7372177243232727
         ]
        },
        {
         "marker": {
          "color": "#911eb4"
         },
         "mode": "markers",
         "name": "hat",
         "type": "scatter",
         "x": [
          3.6494576930999756,
          5.210084438323975,
          2.549318552017212,
          3.064908266067505,
          3.5262258052825928,
          1.4014259576797485,
          1.931882381439209,
          1.9109243154525757,
          2.949957847595215,
          2.7957632541656494,
          5.210084438323975,
          2.6316967010498047,
          0.5037289261817932,
          0.9539169073104858,
          3.095510721206665,
          0.9806445837020874,
          4.4806952476501465,
          1.0000884532928467,
          3.178941488265991,
          0.41414594650268555,
          1.921366572380066
         ],
         "y": [
          0.8490523099899292,
          -1.9091819524765015,
          -0.9232457876205444,
          -0.3172745406627655,
          1.100481390953064,
          0.8957385420799255,
          0.7690742611885071,
          1.2567259073257446,
          -1.4905601739883423,
          1.9869304895401,
          -1.9091819524765015,
          -0.3813263177871704,
          0.4674850404262543,
          -2.3068437576293945,
          -0.1501649171113968,
          -0.7080956101417542,
          0.9562458395957947,
          0.44198161363601685,
          -1.440705418586731,
          -0.6184824705123901,
          -0.172651007771492
         ]
        },
        {
         "marker": {
          "color": "#46f0f0"
         },
         "mode": "markers",
         "name": "hedgehog",
         "type": "scatter",
         "x": [
          -4.0409111976623535,
          -2.1542863845825195,
          -4.646760940551758,
          -5.099678993225098,
          -4.37118673324585,
          -4.134598731994629,
          -4.507487773895264,
          -3.8262369632720947,
          -5.078742027282715,
          -5.192596435546875,
          -4.071544647216797,
          -4.44710111618042,
          -4.288851261138916,
          -3.3437492847442627,
          -4.004594326019287,
          -5.057429313659668,
          -4.0890326499938965,
          -3.562222957611084,
          -3.1256930828094482,
          -3.636192560195923,
          -5.189037799835205,
          -4.498372554779053,
          -3.7610795497894287,
          -3.2139220237731934,
          -5.699851989746094,
          -4.914132595062256,
          -4.865957736968994,
          -2.561474561691284,
          -5.058355808258057
         ],
         "y": [
          -2.124913215637207,
          -3.1287930011749268,
          -3.494706392288208,
          -2.902284622192383,
          -3.601599931716919,
          -5.233140468597412,
          -3.8121769428253174,
          -2.9411253929138184,
          -4.468271732330322,
          -4.8232526779174805,
          -3.3093647956848145,
          -3.323848009109497,
          -4.216579914093018,
          -3.650252342224121,
          -2.603134870529175,
          -3.998897075653076,
          -3.141580104827881,
          -3.6771230697631836,
          -3.2156448364257812,
          -2.8579864501953125,
          -3.558565616607666,
          -4.35452127456665,
          -3.2915728092193604,
          -2.9832661151885986,
          -3.962069272994995,
          -3.7168121337890625,
          -3.7760612964630127,
          -1.5524137020111084,
          -3.4573452472686768
         ]
        },
        {
         "marker": {
          "color": "#f032e6"
         },
         "mode": "markers",
         "name": "helicopter",
         "type": "scatter",
         "x": [
          2.253852605819702,
          -1.066535234451294,
          0.17882730066776276,
          0.8467039465904236,
          0.2605428993701935,
          -0.6839593052864075,
          1.4901827573776245,
          1.418462872505188,
          0.8906713724136353,
          0.01757063716650009,
          -0.22296950221061707,
          -0.17515312135219574,
          -0.3661769926548004,
          -0.34115323424339294,
          -0.7200676798820496,
          -0.8684548735618591,
          -0.7557098269462585,
          -0.043495096266269684,
          -0.7607007026672363,
          -0.10384636372327805,
          -0.838106095790863,
          -0.5341351628303528
         ],
         "y": [
          2.6831741333007812,
          4.1818647384643555,
          5.786296367645264,
          2.443617105484009,
          0.9924566149711609,
          4.256608963012695,
          3.888761520385742,
          4.436925411224365,
          2.608698844909668,
          3.9676339626312256,
          1.391631841659546,
          3.960984945297241,
          3.510962724685669,
          3.4847402572631836,
          2.660451889038086,
          4.23750114440918,
          2.981400966644287,
          2.646209716796875,
          4.504978656768799,
          3.3178532123565674,
          2.911740779876709,
          3.2921574115753174
         ]
        },
        {
         "marker": {
          "color": "#bcf60c"
         },
         "mode": "markers",
         "name": "horse",
         "type": "scatter",
         "x": [
          -4.990548610687256,
          -5.672946453094482,
          -4.526503086090088,
          -3.801119327545166,
          -5.476436138153076,
          -5.100057125091553,
          -3.977205753326416,
          -4.976304531097412,
          -4.787367343902588,
          -4.4737348556518555,
          -4.39578104019165,
          -4.56005859375,
          -5.672946453094482,
          -4.472784519195557,
          -5.094796180725098,
          -4.747945308685303,
          -5.3980512619018555,
          -5.7802300453186035,
          -4.309484004974365,
          -5.631095886230469,
          -4.969232082366943,
          -4.027734756469727
         ],
         "y": [
          -0.49027812480926514,
          -1.0365580320358276,
          0.765990674495697,
          -1.3544468879699707,
          -0.3192574977874756,
          0.7460577487945557,
          0.11206112802028656,
          -0.5218084454536438,
          0.5215221047401428,
          2.1508429050445557,
          0.9145724773406982,
          -0.8355820775032043,
          -1.0365580320358276,
          1.5355807542800903,
          -0.05722508952021599,
          0.7570794820785522,
          -0.11193027347326279,
          1.4003372192382812,
          0.08260482549667358,
          1.1216486692428589,
          1.0578051805496216,
          -1.6734449863433838
         ]
        },
        {
         "marker": {
          "color": "#fabebe"
         },
         "mode": "markers",
         "name": "pineapple",
         "type": "scatter",
         "x": [
          1.2216558456420898,
          0.2979229986667633,
          0.25787121057510376,
          -1.570698618888855,
          0.14277346432209015,
          -0.02818390168249607,
          -0.9388279914855957,
          0.6104190945625305,
          -0.33928343653678894,
          0.475279837846756,
          -0.19223499298095703,
          1.1467326879501343,
          0.13609498739242554,
          -0.5490169525146484,
          0.4957294464111328,
          0.2831560969352722,
          0.07179808616638184,
          -0.21272866427898407,
          0.4046172797679901,
          0.44004330039024353,
          0.6034774780273438,
          -0.19223499298095703
         ],
         "y": [
          -5.493157386779785,
          -4.450142860412598,
          -5.986711502075195,
          -5.282429218292236,
          -7.730527400970459,
          -7.311290264129639,
          -4.748033046722412,
          -6.182631015777588,
          -7.776247978210449,
          -5.8174004554748535,
          -6.336010456085205,
          -4.855832576751709,
          -5.658776760101318,
          -4.001594066619873,
          -6.84583854675293,
          -6.1827311515808105,
          -5.16353702545166,
          -5.447878837585449,
          -5.839568614959717,
          -4.283456325531006,
          -5.583463668823242,
          -6.336010456085205
         ]
        },
        {
         "marker": {
          "color": "#008080"
         },
         "mode": "markers",
         "name": "rifle",
         "type": "scatter",
         "x": [
          0.9049829244613647,
          -0.11650269478559494,
          -0.2994818687438965,
          -0.6218701601028442,
          0.7636545300483704,
          0.21620407700538635,
          1.0391241312026978,
          -0.10569088906049728,
          0.31686729192733765,
          -0.6425695419311523,
          1.4184660911560059,
          0.6557944416999817,
          -0.6218701601028442,
          1.012412190437317,
          0.4987739622592926,
          -0.2994818687438965,
          1.5155607461929321,
          0.07001738995313644,
          0.805686891078949,
          0.6180220246315002,
          1.071593999862671,
          0.9371329545974731,
          0.606046736240387,
          0.9371329545974731,
          0.6115813851356506,
          -0.7321426272392273,
          0.3055601716041565,
          -0.9090394973754883,
          0.6940639019012451,
          0.7483950853347778,
          0.9168447256088257,
          0.876490592956543,
          0.5974498391151428,
          1.31550133228302
         ],
         "y": [
          5.152817726135254,
          6.714714527130127,
          6.212127208709717,
          6.503091812133789,
          6.14307165145874,
          5.362377643585205,
          5.757229328155518,
          7.35814905166626,
          8.222148895263672,
          7.425722122192383,
          6.139463424682617,
          8.093634605407715,
          6.503091812133789,
          6.33566951751709,
          4.124999523162842,
          6.212127208709717,
          7.770059585571289,
          5.432068347930908,
          5.30466890335083,
          7.657478332519531,
          3.921034336090088,
          7.0932936668396,
          4.054826259613037,
          7.0932936668396,
          5.974660396575928,
          3.50434947013855,
          5.141478538513184,
          3.320789337158203,
          7.287731647491455,
          6.2557373046875,
          7.098289489746094,
          6.632408142089844,
          3.9878737926483154,
          5.8851470947265625
         ]
        },
        {
         "marker": {
          "color": "#e6beff"
         },
         "mode": "markers",
         "name": "shark",
         "type": "scatter",
         "x": [
          -4.6278276443481445,
          -5.641506195068359,
          -2.737372398376465,
          -1.6169103384017944,
          -4.844363212585449,
          -3.882750988006592,
          -4.999975204467773,
          -2.8284857273101807,
          -4.844363212585449,
          -4.457554817199707,
          -4.88747501373291,
          -4.140690803527832,
          -3.5120978355407715,
          -4.255253791809082,
          -4.524519920349121,
          -4.429723262786865,
          -2.5173821449279785,
          -4.139672756195068,
          -4.517251968383789,
          -2.5173821449279785,
          -2.188891887664795,
          -4.524519920349121,
          -4.524582862854004,
          -4.019890785217285,
          -3.076345682144165
         ],
         "y": [
          -0.656595766544342,
          -2.8225467205047607,
          0.5139323472976685,
          0.4380776584148407,
          -0.017593655735254288,
          -0.049309223890304565,
          -1.2166436910629272,
          0.5852213501930237,
          -0.017593655735254288,
          0.559704601764679,
          -1.45069420337677,
          -0.8783965110778809,
          -0.8780419826507568,
          -1.24740731716156,
          -0.3328093886375427,
          -1.1971758604049683,
          -0.6687426567077637,
          -1.337202548980713,
          -0.8987420201301575,
          -0.6687426567077637,
          -0.09157782793045044,
          -0.3328093886375427,
          -1.4375005960464478,
          -0.07766295969486237,
          -0.6650288105010986
         ]
        },
        {
         "marker": {
          "color": "#9a6324"
         },
         "mode": "markers",
         "name": "snail",
         "type": "scatter",
         "x": [
          3.790236473083496,
          3.983264923095703,
          1.971235752105713,
          -0.4039362967014313,
          2.499589443206787,
          3.973119020462036,
          1.7836145162582397,
          1.195773959159851,
          3.211160898208618,
          1.4034172296524048,
          2.265303373336792,
          3.646876096725464,
          3.12307071685791,
          2.1265063285827637,
          1.982632040977478,
          1.4294792413711548,
          2.0351390838623047,
          1.5042303800582886,
          1.8414044380187988
         ],
         "y": [
          -3.2793009281158447,
          -2.318608283996582,
          -1.6634130477905273,
          0.1065947562456131,
          -3.065370798110962,
          -3.0394845008850098,
          -2.075894832611084,
          -2.8765885829925537,
          -2.156780958175659,
          -2.2274811267852783,
          -1.9227831363677979,
          -2.6258976459503174,
          -0.835903525352478,
          -1.5966520309448242,
          -1.6875102519989014,
          -2.202089786529541,
          -2.352207899093628,
          -2.672276258468628,
          -2.904500722885132
         ]
        },
        {
         "marker": {
          "color": "#fffac8"
         },
         "mode": "markers",
         "name": "snake",
         "type": "scatter",
         "x": [
          1.9900660514831543,
          3.4367754459381104,
          1.9900660514831543,
          1.7533122301101685,
          0.8252162933349609,
          1.2884893417358398,
          0.8252162933349609,
          1.7533122301101685,
          3.4367754459381104,
          -2.4695870876312256,
          0.34820449352264404,
          -1.2327581644058228,
          -0.6049589514732361,
          -1.2327581644058228,
          0.7399224042892456,
          0.009368693456053734
         ],
         "y": [
          -0.4097231328487396,
          -2.0338828563690186,
          -0.4097231328487396,
          -0.19206352531909943,
          0.1921781450510025,
          -0.25925180315971375,
          0.1921781450510025,
          -0.19206352531909943,
          -2.0338828563690186,
          -1.1411381959915161,
          0.4425530731678009,
          0.5037796497344971,
          -0.625578761100769,
          0.5037796497344971,
          -0.540056049823761,
          -1.069823980331421
         ]
        },
        {
         "marker": {
          "color": "#800000"
         },
         "mode": "markers",
         "name": "teapot",
         "type": "scatter",
         "x": [
          5.725199222564697,
          4.817703723907471,
          6.209850788116455,
          4.571855545043945,
          7.060946464538574,
          6.128992557525635,
          5.334641456604004,
          6.971041679382324,
          7.150959014892578,
          7.029964447021484,
          3.9029994010925293,
          2.9435741901397705,
          5.8860859870910645,
          7.497175693511963,
          6.669795036315918,
          8.92767333984375,
          7.250060558319092,
          6.273403644561768,
          2.611212730407715,
          7.310636043548584,
          6.902777194976807,
          5.265242576599121,
          5.6005988121032715,
          6.902777194976807,
          5.105842113494873,
          3.467916488647461
         ],
         "y": [
          -2.4801197052001953,
          -4.210674285888672,
          -2.817335367202759,
          -3.2640488147735596,
          -2.700685501098633,
          -1.1465786695480347,
          -1.386132836341858,
          -2.8907041549682617,
          -2.4585464000701904,
          -1.136529803276062,
          -1.0568466186523438,
          -1.7966604232788086,
          -3.313359498977661,
          -4.756446361541748,
          -3.4639170169830322,
          -4.852489948272705,
          -3.7458484172821045,
          -3.1275806427001953,
          -0.18137919902801514,
          -3.5485520362854004,
          -3.7403435707092285,
          -2.6195878982543945,
          -3.3064045906066895,
          -3.7403435707092285,
          -2.2410035133361816,
          -0.9351634383201599
         ]
        },
        {
         "marker": {
          "color": "#aaffc3"
         },
         "mode": "markers",
         "name": "teddy_bear",
         "type": "scatter",
         "x": [
          -0.017936542630195618,
          -1.1908000707626343,
          -2.145545482635498,
          -0.5611454248428345,
          -1.820900321006775,
          -1.4844586849212646,
          0.9617644548416138,
          1.0968966484069824,
          0.8095405101776123,
          -0.9944776296615601,
          -0.9591474533081055,
          -3.7285542488098145,
          -0.5543007254600525,
          -0.07641030848026276,
          1.1074496507644653,
          1.3453495502471924,
          1.3876808881759644,
          -0.671470582485199,
          0.21674226224422455,
          0.5554549098014832,
          0.5167563557624817
         ],
         "y": [
          -4.133132457733154,
          -3.336899995803833,
          -3.528261423110962,
          -5.117462158203125,
          -4.200708866119385,
          -4.1703901290893555,
          -3.4271178245544434,
          -2.649183750152588,
          -3.7176928520202637,
          -2.812556505203247,
          -4.760127544403076,
          -3.554051160812378,
          -5.030274868011475,
          -0.1723707616329193,
          -3.6937434673309326,
          -3.722803831100464,
          -3.6491241455078125,
          -3.7776002883911133,
          -3.1525039672851562,
          -3.5241315364837646,
          -3.8852994441986084
         ]
        },
        {
         "marker": {
          "color": "#808000"
         },
         "mode": "markers",
         "name": "tiger",
         "type": "scatter",
         "x": [
          -4.059754371643066,
          -5.263863563537598,
          -4.104401588439941,
          -5.872222900390625,
          -5.576782703399658,
          -4.906871795654297,
          -5.299755096435547,
          -3.6775169372558594,
          -4.219749927520752,
          -4.9379072189331055,
          -4.22462272644043,
          -6.128713607788086,
          -3.2626893520355225,
          -4.937043190002441,
          -2.595121383666992,
          -6.291319370269775,
          -5.290276527404785,
          -5.1486921310424805,
          -5.135336399078369,
          -5.110874176025391,
          -4.954329490661621,
          -5.485006809234619,
          -4.495762825012207,
          -4.924497604370117,
          -5.382380962371826
         ],
         "y": [
          -2.044313669204712,
          -2.7069318294525146,
          -2.166234016418457,
          -0.7330328822135925,
          -0.1830482929944992,
          -1.8279423713684082,
          -2.6058459281921387,
          0.4665832221508026,
          -1.2559994459152222,
          -3.242161989212036,
          -1.5778460502624512,
          -1.1448463201522827,
          -1.2615278959274292,
          -2.8943183422088623,
          -3.35325288772583,
          -0.11140698194503784,
          -1.7794395685195923,
          -1.5207717418670654,
          -1.7443634271621704,
          -1.8108464479446411,
          -1.6153812408447266,
          -1.1357125043869019,
          -1.503955602645874,
          -1.5013864040374756,
          -1.1714154481887817
         ]
        },
        {
         "marker": {
          "color": "#ffd8b1"
         },
         "mode": "markers",
         "name": "umbrella",
         "type": "scatter",
         "x": [
          0.24359031021595,
          -1.3975974321365356,
          -0.21508745849132538,
          0.5583658814430237,
          0.19973088800907135,
          0.3507354259490967,
          1.647935390472412,
          0.6675019264221191,
          0.26282909512519836,
          0.9594407081604004,
          1.1325652599334717,
          0.5594428777694702,
          1.2407387495040894,
          2.5555527210235596,
          0.47395050525665283,
          0.35881903767585754,
          -0.40506675839424133,
          1.038684368133545
         ],
         "y": [
          -0.30765900015830994,
          1.4189937114715576,
          2.835341691970825,
          2.660336971282959,
          0.735291063785553,
          0.7991155385971069,
          -0.7503374218940735,
          1.67035973072052,
          0.8853314518928528,
          1.4096415042877197,
          0.1107117086648941,
          1.1550580263137817,
          0.7417630553245544,
          2.2681896686553955,
          1.0223332643508911,
          2.71201229095459,
          1.1403201818466187,
          0.1771582067012787
         ]
        },
        {
         "marker": {
          "color": "#000075"
         },
         "mode": "markers",
         "name": "violin",
         "type": "scatter",
         "x": [
          3.337447166442871,
          1.408353567123413,
          3.062204122543335,
          4.109097003936768,
          2.0178773403167725,
          2.194444417953491,
          2.2937405109405518,
          0.7249425053596497,
          2.259035587310791,
          2.232492208480835,
          1.9786615371704102,
          1.1429004669189453,
          2.3762025833129883,
          2.2937405109405518,
          1.7717305421829224,
          2.8781814575195312,
          2.049934148788452,
          1.5857967138290405,
          1.8461896181106567,
          3.213822841644287,
          1.5219603776931763,
          1.5804470777511597,
          2.2987449169158936,
          2.087686538696289,
          1.9946118593215942,
          2.1109538078308105,
          2.020491600036621,
          1.6221436262130737,
          3.3123295307159424,
          2.453169345855713,
          2.3075480461120605,
          1.5609784126281738
         ],
         "y": [
          0.6046125292778015,
          4.954127311706543,
          1.7100036144256592,
          3.065777063369751,
          8.410412788391113,
          0.910823404788971,
          9.174322128295898,
          6.271519184112549,
          5.1123456954956055,
          4.893085479736328,
          7.69268274307251,
          6.1140456199646,
          6.565613269805908,
          9.174322128295898,
          4.978846549987793,
          1.9572197198867798,
          4.9799723625183105,
          3.649106025695801,
          6.68043851852417,
          3.827699661254883,
          5.3208208084106445,
          5.2848711013793945,
          6.473523139953613,
          6.541743278503418,
          5.387283802032471,
          6.330111026763916,
          5.782835006713867,
          6.33788537979126,
          9.454835891723633,
          8.435980796813965,
          7.542849540710449,
          5.519874095916748
         ]
        },
        {
         "marker": {
          "color": "#808080"
         },
         "mode": "markers",
         "name": "zebra",
         "type": "scatter",
         "x": [
          -5.721104621887207,
          -5.896452903747559,
          -4.783407211303711,
          -6.222843170166016,
          -5.896452903747559,
          -3.6436376571655273,
          -5.681880474090576,
          -5.876761436462402,
          -4.323764324188232,
          -5.965565204620361,
          -2.4525015354156494,
          -5.627553462982178,
          -4.846027851104736,
          -5.425498008728027,
          -5.852328777313232,
          -6.546307563781738,
          -5.990271091461182,
          -6.0537824630737305,
          -5.97821569442749,
          -7.172635555267334,
          -6.750977516174316,
          -5.8359375,
          -6.826893329620361,
          -6.832351207733154,
          -5.844220161437988,
          -5.261821269989014
         ],
         "y": [
          1.8474801778793335,
          -0.029160641133785248,
          -0.6251536011695862,
          0.904510498046875,
          -0.029160641133785248,
          -1.8586093187332153,
          0.05308157205581665,
          1.1530237197875977,
          -1.2914619445800781,
          0.09698634594678879,
          0.6654003262519836,
          1.1608525514602661,
          0.6806022524833679,
          2.1543452739715576,
          0.6741138100624084,
          1.0670921802520752,
          0.15793250501155853,
          0.4074259102344513,
          0.4927406311035156,
          0.5495103597640991,
          0.9701787233352661,
          1.1564056873321533,
          0.6322882175445557,
          0.18885771930217743,
          0.28650256991386414,
          0.1259710192680359
         ]
        }
       ],
       "layout": {
        "template": {
         "data": {
          "bar": [
           {
            "error_x": {
             "color": "#2a3f5f"
            },
            "error_y": {
             "color": "#2a3f5f"
            },
            "marker": {
             "line": {
              "color": "#E5ECF6",
              "width": 0.5
             }
            },
            "type": "bar"
           }
          ],
          "barpolar": [
           {
            "marker": {
             "line": {
              "color": "#E5ECF6",
              "width": 0.5
             }
            },
            "type": "barpolar"
           }
          ],
          "carpet": [
           {
            "aaxis": {
             "endlinecolor": "#2a3f5f",
             "gridcolor": "white",
             "linecolor": "white",
             "minorgridcolor": "white",
             "startlinecolor": "#2a3f5f"
            },
            "baxis": {
             "endlinecolor": "#2a3f5f",
             "gridcolor": "white",
             "linecolor": "white",
             "minorgridcolor": "white",
             "startlinecolor": "#2a3f5f"
            },
            "type": "carpet"
           }
          ],
          "choropleth": [
           {
            "colorbar": {
             "outlinewidth": 0,
             "ticks": ""
            },
            "type": "choropleth"
           }
          ],
          "contour": [
           {
            "colorbar": {
             "outlinewidth": 0,
             "ticks": ""
            },
            "colorscale": [
             [
              0,
              "#0d0887"
             ],
             [
              0.1111111111111111,
              "#46039f"
             ],
             [
              0.2222222222222222,
              "#7201a8"
             ],
             [
              0.3333333333333333,
              "#9c179e"
             ],
             [
              0.4444444444444444,
              "#bd3786"
             ],
             [
              0.5555555555555556,
              "#d8576b"
             ],
             [
              0.6666666666666666,
              "#ed7953"
             ],
             [
              0.7777777777777778,
              "#fb9f3a"
             ],
             [
              0.8888888888888888,
              "#fdca26"
             ],
             [
              1,
              "#f0f921"
             ]
            ],
            "type": "contour"
           }
          ],
          "contourcarpet": [
           {
            "colorbar": {
             "outlinewidth": 0,
             "ticks": ""
            },
            "type": "contourcarpet"
           }
          ],
          "heatmap": [
           {
            "colorbar": {
             "outlinewidth": 0,
             "ticks": ""
            },
            "colorscale": [
             [
              0,
              "#0d0887"
             ],
             [
              0.1111111111111111,
              "#46039f"
             ],
             [
              0.2222222222222222,
              "#7201a8"
             ],
             [
              0.3333333333333333,
              "#9c179e"
             ],
             [
              0.4444444444444444,
              "#bd3786"
             ],
             [
              0.5555555555555556,
              "#d8576b"
             ],
             [
              0.6666666666666666,
              "#ed7953"
             ],
             [
              0.7777777777777778,
              "#fb9f3a"
             ],
             [
              0.8888888888888888,
              "#fdca26"
             ],
             [
              1,
              "#f0f921"
             ]
            ],
            "type": "heatmap"
           }
          ],
          "heatmapgl": [
           {
            "colorbar": {
             "outlinewidth": 0,
             "ticks": ""
            },
            "colorscale": [
             [
              0,
              "#0d0887"
             ],
             [
              0.1111111111111111,
              "#46039f"
             ],
             [
              0.2222222222222222,
              "#7201a8"
             ],
             [
              0.3333333333333333,
              "#9c179e"
             ],
             [
              0.4444444444444444,
              "#bd3786"
             ],
             [
              0.5555555555555556,
              "#d8576b"
             ],
             [
              0.6666666666666666,
              "#ed7953"
             ],
             [
              0.7777777777777778,
              "#fb9f3a"
             ],
             [
              0.8888888888888888,
              "#fdca26"
             ],
             [
              1,
              "#f0f921"
             ]
            ],
            "type": "heatmapgl"
           }
          ],
          "histogram": [
           {
            "marker": {
             "colorbar": {
              "outlinewidth": 0,
              "ticks": ""
             }
            },
            "type": "histogram"
           }
          ],
          "histogram2d": [
           {
            "colorbar": {
             "outlinewidth": 0,
             "ticks": ""
            },
            "colorscale": [
             [
              0,
              "#0d0887"
             ],
             [
              0.1111111111111111,
              "#46039f"
             ],
             [
              0.2222222222222222,
              "#7201a8"
             ],
             [
              0.3333333333333333,
              "#9c179e"
             ],
             [
              0.4444444444444444,
              "#bd3786"
             ],
             [
              0.5555555555555556,
              "#d8576b"
             ],
             [
              0.6666666666666666,
              "#ed7953"
             ],
             [
              0.7777777777777778,
              "#fb9f3a"
             ],
             [
              0.8888888888888888,
              "#fdca26"
             ],
             [
              1,
              "#f0f921"
             ]
            ],
            "type": "histogram2d"
           }
          ],
          "histogram2dcontour": [
           {
            "colorbar": {
             "outlinewidth": 0,
             "ticks": ""
            },
            "colorscale": [
             [
              0,
              "#0d0887"
             ],
             [
              0.1111111111111111,
              "#46039f"
             ],
             [
              0.2222222222222222,
              "#7201a8"
             ],
             [
              0.3333333333333333,
              "#9c179e"
             ],
             [
              0.4444444444444444,
              "#bd3786"
             ],
             [
              0.5555555555555556,
              "#d8576b"
             ],
             [
              0.6666666666666666,
              "#ed7953"
             ],
             [
              0.7777777777777778,
              "#fb9f3a"
             ],
             [
              0.8888888888888888,
              "#fdca26"
             ],
             [
              1,
              "#f0f921"
             ]
            ],
            "type": "histogram2dcontour"
           }
          ],
          "mesh3d": [
           {
            "colorbar": {
             "outlinewidth": 0,
             "ticks": ""
            },
            "type": "mesh3d"
           }
          ],
          "parcoords": [
           {
            "line": {
             "colorbar": {
              "outlinewidth": 0,
              "ticks": ""
             }
            },
            "type": "parcoords"
           }
          ],
          "pie": [
           {
            "automargin": true,
            "type": "pie"
           }
          ],
          "scatter": [
           {
            "marker": {
             "colorbar": {
              "outlinewidth": 0,
              "ticks": ""
             }
            },
            "type": "scatter"
           }
          ],
          "scatter3d": [
           {
            "line": {
             "colorbar": {
              "outlinewidth": 0,
              "ticks": ""
             }
            },
            "marker": {
             "colorbar": {
              "outlinewidth": 0,
              "ticks": ""
             }
            },
            "type": "scatter3d"
           }
          ],
          "scattercarpet": [
           {
            "marker": {
             "colorbar": {
              "outlinewidth": 0,
              "ticks": ""
             }
            },
            "type": "scattercarpet"
           }
          ],
          "scattergeo": [
           {
            "marker": {
             "colorbar": {
              "outlinewidth": 0,
              "ticks": ""
             }
            },
            "type": "scattergeo"
           }
          ],
          "scattergl": [
           {
            "marker": {
             "colorbar": {
              "outlinewidth": 0,
              "ticks": ""
             }
            },
            "type": "scattergl"
           }
          ],
          "scattermapbox": [
           {
            "marker": {
             "colorbar": {
              "outlinewidth": 0,
              "ticks": ""
             }
            },
            "type": "scattermapbox"
           }
          ],
          "scatterpolar": [
           {
            "marker": {
             "colorbar": {
              "outlinewidth": 0,
              "ticks": ""
             }
            },
            "type": "scatterpolar"
           }
          ],
          "scatterpolargl": [
           {
            "marker": {
             "colorbar": {
              "outlinewidth": 0,
              "ticks": ""
             }
            },
            "type": "scatterpolargl"
           }
          ],
          "scatterternary": [
           {
            "marker": {
             "colorbar": {
              "outlinewidth": 0,
              "ticks": ""
             }
            },
            "type": "scatterternary"
           }
          ],
          "surface": [
           {
            "colorbar": {
             "outlinewidth": 0,
             "ticks": ""
            },
            "colorscale": [
             [
              0,
              "#0d0887"
             ],
             [
              0.1111111111111111,
              "#46039f"
             ],
             [
              0.2222222222222222,
              "#7201a8"
             ],
             [
              0.3333333333333333,
              "#9c179e"
             ],
             [
              0.4444444444444444,
              "#bd3786"
             ],
             [
              0.5555555555555556,
              "#d8576b"
             ],
             [
              0.6666666666666666,
              "#ed7953"
             ],
             [
              0.7777777777777778,
              "#fb9f3a"
             ],
             [
              0.8888888888888888,
              "#fdca26"
             ],
             [
              1,
              "#f0f921"
             ]
            ],
            "type": "surface"
           }
          ],
          "table": [
           {
            "cells": {
             "fill": {
              "color": "#EBF0F8"
             },
             "line": {
              "color": "white"
             }
            },
            "header": {
             "fill": {
              "color": "#C8D4E3"
             },
             "line": {
              "color": "white"
             }
            },
            "type": "table"
           }
          ]
         },
         "layout": {
          "annotationdefaults": {
           "arrowcolor": "#2a3f5f",
           "arrowhead": 0,
           "arrowwidth": 1
          },
          "autotypenumbers": "strict",
          "coloraxis": {
           "colorbar": {
            "outlinewidth": 0,
            "ticks": ""
           }
          },
          "colorscale": {
           "diverging": [
            [
             0,
             "#8e0152"
            ],
            [
             0.1,
             "#c51b7d"
            ],
            [
             0.2,
             "#de77ae"
            ],
            [
             0.3,
             "#f1b6da"
            ],
            [
             0.4,
             "#fde0ef"
            ],
            [
             0.5,
             "#f7f7f7"
            ],
            [
             0.6,
             "#e6f5d0"
            ],
            [
             0.7,
             "#b8e186"
            ],
            [
             0.8,
             "#7fbc41"
            ],
            [
             0.9,
             "#4d9221"
            ],
            [
             1,
             "#276419"
            ]
           ],
           "sequential": [
            [
             0,
             "#0d0887"
            ],
            [
             0.1111111111111111,
             "#46039f"
            ],
            [
             0.2222222222222222,
             "#7201a8"
            ],
            [
             0.3333333333333333,
             "#9c179e"
            ],
            [
             0.4444444444444444,
             "#bd3786"
            ],
            [
             0.5555555555555556,
             "#d8576b"
            ],
            [
             0.6666666666666666,
             "#ed7953"
            ],
            [
             0.7777777777777778,
             "#fb9f3a"
            ],
            [
             0.8888888888888888,
             "#fdca26"
            ],
            [
             1,
             "#f0f921"
            ]
           ],
           "sequentialminus": [
            [
             0,
             "#0d0887"
            ],
            [
             0.1111111111111111,
             "#46039f"
            ],
            [
             0.2222222222222222,
             "#7201a8"
            ],
            [
             0.3333333333333333,
             "#9c179e"
            ],
            [
             0.4444444444444444,
             "#bd3786"
            ],
            [
             0.5555555555555556,
             "#d8576b"
            ],
            [
             0.6666666666666666,
             "#ed7953"
            ],
            [
             0.7777777777777778,
             "#fb9f3a"
            ],
            [
             0.8888888888888888,
             "#fdca26"
            ],
            [
             1,
             "#f0f921"
            ]
           ]
          },
          "colorway": [
           "#636efa",
           "#EF553B",
           "#00cc96",
           "#ab63fa",
           "#FFA15A",
           "#19d3f3",
           "#FF6692",
           "#B6E880",
           "#FF97FF",
           "#FECB52"
          ],
          "font": {
           "color": "#2a3f5f"
          },
          "geo": {
           "bgcolor": "white",
           "lakecolor": "white",
           "landcolor": "#E5ECF6",
           "showlakes": true,
           "showland": true,
           "subunitcolor": "white"
          },
          "hoverlabel": {
           "align": "left"
          },
          "hovermode": "closest",
          "mapbox": {
           "style": "light"
          },
          "paper_bgcolor": "white",
          "plot_bgcolor": "#E5ECF6",
          "polar": {
           "angularaxis": {
            "gridcolor": "white",
            "linecolor": "white",
            "ticks": ""
           },
           "bgcolor": "#E5ECF6",
           "radialaxis": {
            "gridcolor": "white",
            "linecolor": "white",
            "ticks": ""
           }
          },
          "scene": {
           "xaxis": {
            "backgroundcolor": "#E5ECF6",
            "gridcolor": "white",
            "gridwidth": 2,
            "linecolor": "white",
            "showbackground": true,
            "ticks": "",
            "zerolinecolor": "white"
           },
           "yaxis": {
            "backgroundcolor": "#E5ECF6",
            "gridcolor": "white",
            "gridwidth": 2,
            "linecolor": "white",
            "showbackground": true,
            "ticks": "",
            "zerolinecolor": "white"
           },
           "zaxis": {
            "backgroundcolor": "#E5ECF6",
            "gridcolor": "white",
            "gridwidth": 2,
            "linecolor": "white",
            "showbackground": true,
            "ticks": "",
            "zerolinecolor": "white"
           }
          },
          "shapedefaults": {
           "line": {
            "color": "#2a3f5f"
           }
          },
          "ternary": {
           "aaxis": {
            "gridcolor": "white",
            "linecolor": "white",
            "ticks": ""
           },
           "baxis": {
            "gridcolor": "white",
            "linecolor": "white",
            "ticks": ""
           },
           "bgcolor": "#E5ECF6",
           "caxis": {
            "gridcolor": "white",
            "linecolor": "white",
            "ticks": ""
           }
          },
          "title": {
           "x": 0.05
          },
          "xaxis": {
           "automargin": true,
           "gridcolor": "white",
           "linecolor": "white",
           "ticks": "",
           "title": {
            "standoff": 15
           },
           "zerolinecolor": "white",
           "zerolinewidth": 2
          },
          "yaxis": {
           "automargin": true,
           "gridcolor": "white",
           "linecolor": "white",
           "ticks": "",
           "title": {
            "standoff": 15
           },
           "zerolinecolor": "white",
           "zerolinewidth": 2
          }
         }
        },
        "title": {
         "text": "2D plot of the embeddings (projected with the PCA)"
        }
       }
      },
      "text/html": [
       "<div>                            <div id=\"0cec5dd5-9f92-41ce-af89-6318cb373629\" class=\"plotly-graph-div\" style=\"height:525px; width:100%;\"></div>            <script type=\"text/javascript\">                require([\"plotly\"], function(Plotly) {                    window.PLOTLYENV=window.PLOTLYENV || {};                                    if (document.getElementById(\"0cec5dd5-9f92-41ce-af89-6318cb373629\")) {                    Plotly.newPlot(                        \"0cec5dd5-9f92-41ce-af89-6318cb373629\",                        [{\"marker\": {\"color\": \"#e6194b\"}, \"mode\": \"markers\", \"name\": \"butterfly\", \"type\": \"scatter\", \"x\": [-0.7805257439613342, 0.4424804449081421, 0.17689819633960724, 1.127944827079773, -1.018717885017395, -1.018717885017395, 0.7155447602272034, -1.2443571090698242, -0.23965120315551758, -0.010758914053440094, 0.3994574546813965, -0.05890045315027237, 2.0655269622802734, -1.2016346454620361, 0.8202036619186401, 0.47608715295791626, 0.9566731452941895, 0.17470479011535645, 0.7084850072860718, 1.0814288854599, 0.7391541600227356], \"y\": [-0.7286877036094666, -0.8894233703613281, -2.0192530155181885, -1.930597186088562, -0.8230962157249451, -0.8230962157249451, -0.5069400668144226, 1.0697996616363525, -0.9506950974464417, -1.4048271179199219, -2.4396188259124756, 0.8582289814949036, -2.4298129081726074, -2.2315616607666016, -1.5370525121688843, -1.5017874240875244, -1.830998182296753, -2.08662486076355, -1.8716872930526733, -1.4185932874679565, -1.4944735765457153]}, {\"marker\": {\"color\": \"#3cb44b\"}, \"mode\": \"markers\", \"name\": \"candle\", \"type\": \"scatter\", \"x\": [1.7434778213500977, 2.494004964828491, 2.713953733444214, 3.467946767807007, 4.373128414154053, 2.713953733444214, 3.286761522293091, 5.232809066772461, 4.473481178283691, 4.090353965759277, 3.166436195373535, 2.713953733444214, 4.905170440673828, 2.230769395828247, 4.899261951446533, 3.579014301300049, 2.674771308898926, 4.613736629486084, 2.1726579666137695, 5.188996315002441, 1.657198429107666, 4.652118682861328, 3.4264965057373047, 3.2992606163024902, 4.357949733734131, 5.490853786468506, 4.974313735961914, 5.309340476989746], \"y\": [0.5380281805992126, 0.2122366726398468, 3.0344016551971436, -1.2139997482299805, -1.2434487342834473, 3.0344016551971436, 2.3000810146331787, -1.3317285776138306, -2.1948940753936768, -0.7050133347511292, -1.1461193561553955, 3.0344016551971436, -2.842282295227051, 1.2208305597305298, -0.598662257194519, -0.4959387183189392, 0.4548388123512268, -1.255399227142334, 0.16137661039829254, -2.1282665729522705, -0.891734778881073, -2.059988498687744, -1.1686121225357056, -1.823909878730774, -1.8918118476867676, -1.8667014837265015, -1.3485723733901978, -1.9197081327438354]}, {\"marker\": {\"color\": \"#ffe119\"}, \"mode\": \"markers\", \"name\": \"church\", \"type\": \"scatter\", \"x\": [0.02764098159968853, -0.8850537538528442, 3.365561008453369, -1.1578212976455688, -1.1371630430221558, 0.2224186211824417, 0.058020614087581635, -1.872043490409851, 0.7522923946380615, -1.872043490409851, 0.7522923946380615, 2.0324270725250244, -2.270235538482666, -0.9878901839256287, 0.7747042179107666, -0.8850537538528442, -0.9878901839256287, -0.0760013684630394, -0.35872170329093933, -0.10739260166883469, -0.9616931080818176, -1.0728049278259277, 0.08618782460689545, 0.08618782460689545, -0.3277066648006439, 0.355057954788208, -0.35872170329093933, 0.6013236045837402, -0.05845952033996582, 0.2702147960662842, -0.28400731086730957, 0.6895821690559387, 0.08625750243663788, -0.5267840027809143], \"y\": [1.8378347158432007, 2.3861382007598877, 1.0467078685760498, 2.1079537868499756, 2.0853359699249268, 2.048035144805908, 2.337189197540283, 3.463461399078369, 2.2427406311035156, 3.463461399078369, 2.2427406311035156, 0.7088057398796082, 1.418463110923767, 2.652007579803467, 1.3439520597457886, 2.3861382007598877, 2.652007579803467, 1.294370174407959, 1.5502656698226929, 2.743021249771118, 1.9518749713897705, 1.52773916721344, 1.5180596113204956, 1.5180596113204956, 1.7126213312149048, 0.9488479495048523, 1.5502656698226929, 1.3799551725387573, 1.506612777709961, 0.8695998191833496, 1.498924732208252, 1.0458147525787354, 2.309652805328369, 1.7343312501907349]}, {\"marker\": {\"color\": \"#4363d8\"}, \"mode\": \"markers\", \"name\": \"cup\", \"type\": \"scatter\", \"x\": [4.690326690673828, 6.90807580947876, 5.661409378051758, 4.690326690673828, 5.994780540466309, 5.661409378051758, 5.54538106918335, 6.814850330352783, 5.633657455444336, 4.336124897003174, 7.234986782073975, 3.2434253692626953, 5.666176795959473, 5.8101043701171875, 6.141622066497803, 3.8349807262420654, 5.691099643707275, 5.8101043701171875, 6.244296073913574, 4.050523281097412, 6.703273773193359, 5.9250946044921875, 5.8211493492126465, 6.741643905639648, 5.342193126678467, 7.295642375946045, 3.9360880851745605], \"y\": [-0.48611336946487427, -3.2180912494659424, -3.1916518211364746, -0.48611336946487427, -3.203209638595581, -3.1916518211364746, -4.14329719543457, -2.025482654571533, -2.2165656089782715, -1.5674976110458374, -3.300203561782837, -1.2944926023483276, -2.5500166416168213, -2.307375431060791, -1.852353811264038, 0.6893394589424133, -3.454352378845215, -2.307375431060791, -3.460024356842041, -2.3067753314971924, -2.0086722373962402, -3.2285447120666504, -2.1749215126037598, -4.3057122230529785, -2.505929946899414, -3.645993947982788, -1.5200656652450562]}, {\"marker\": {\"color\": \"#f58231\"}, \"mode\": \"markers\", \"name\": \"door\", \"type\": \"scatter\", \"x\": [-1.0445044040679932, -0.16096574068069458, -1.5358760356903076, 1.2636247873306274, -0.7156375646591187, 0.00835191085934639, -0.012072078883647919, -0.21401314437389374, -0.6682303547859192, -0.21401314437389374, 1.7959471940994263, -0.20513862371444702, -0.3605928421020508, -1.2290674448013306, 0.024085549637675285, -0.06094380095601082, -1.2653318643569946, -1.3581950664520264, -0.35490211844444275, -1.2290674448013306, -1.2782890796661377, -0.6763404607772827, -2.664137840270996, 0.19534845650196075, -0.2665160298347473, -0.2769121527671814, -0.31986182928085327, -1.1788170337677002, 0.4307366907596588, 0.36569225788116455, -0.3867023289203644, 1.7959471940994263], \"y\": [0.5131356716156006, 1.617722749710083, 1.8287819623947144, 3.1692848205566406, -0.10950665920972824, 1.1568585634231567, 0.7673107385635376, 2.451619863510132, 1.379888892173767, 2.451619863510132, 0.7372177243232727, -0.14402759075164795, 0.4020377993583679, 0.15211676061153412, 0.6931861639022827, 1.8701814413070679, 1.5199286937713623, 0.5354982614517212, 1.343329906463623, 0.15211676061153412, 0.4569050073623657, 0.3670352101325989, -1.949400782585144, 0.19948045909404755, 0.6273372769355774, 1.4610484838485718, 2.7833633422851562, 0.5061500668525696, 0.4380696415901184, 1.126458764076233, 1.8660963773727417, 0.7372177243232727]}, {\"marker\": {\"color\": \"#911eb4\"}, \"mode\": \"markers\", \"name\": \"hat\", \"type\": \"scatter\", \"x\": [3.6494576930999756, 5.210084438323975, 2.549318552017212, 3.064908266067505, 3.5262258052825928, 1.4014259576797485, 1.931882381439209, 1.9109243154525757, 2.949957847595215, 2.7957632541656494, 5.210084438323975, 2.6316967010498047, 0.5037289261817932, 0.9539169073104858, 3.095510721206665, 0.9806445837020874, 4.4806952476501465, 1.0000884532928467, 3.178941488265991, 0.41414594650268555, 1.921366572380066], \"y\": [0.8490523099899292, -1.9091819524765015, -0.9232457876205444, -0.3172745406627655, 1.100481390953064, 0.8957385420799255, 0.7690742611885071, 1.2567259073257446, -1.4905601739883423, 1.9869304895401, -1.9091819524765015, -0.3813263177871704, 0.4674850404262543, -2.3068437576293945, -0.1501649171113968, -0.7080956101417542, 0.9562458395957947, 0.44198161363601685, -1.440705418586731, -0.6184824705123901, -0.172651007771492]}, {\"marker\": {\"color\": \"#46f0f0\"}, \"mode\": \"markers\", \"name\": \"hedgehog\", \"type\": \"scatter\", \"x\": [-4.0409111976623535, -2.1542863845825195, -4.646760940551758, -5.099678993225098, -4.37118673324585, -4.134598731994629, -4.507487773895264, -3.8262369632720947, -5.078742027282715, -5.192596435546875, -4.071544647216797, -4.44710111618042, -4.288851261138916, -3.3437492847442627, -4.004594326019287, -5.057429313659668, -4.0890326499938965, -3.562222957611084, -3.1256930828094482, -3.636192560195923, -5.189037799835205, -4.498372554779053, -3.7610795497894287, -3.2139220237731934, -5.699851989746094, -4.914132595062256, -4.865957736968994, -2.561474561691284, -5.058355808258057], \"y\": [-2.124913215637207, -3.1287930011749268, -3.494706392288208, -2.902284622192383, -3.601599931716919, -5.233140468597412, -3.8121769428253174, -2.9411253929138184, -4.468271732330322, -4.8232526779174805, -3.3093647956848145, -3.323848009109497, -4.216579914093018, -3.650252342224121, -2.603134870529175, -3.998897075653076, -3.141580104827881, -3.6771230697631836, -3.2156448364257812, -2.8579864501953125, -3.558565616607666, -4.35452127456665, -3.2915728092193604, -2.9832661151885986, -3.962069272994995, -3.7168121337890625, -3.7760612964630127, -1.5524137020111084, -3.4573452472686768]}, {\"marker\": {\"color\": \"#f032e6\"}, \"mode\": \"markers\", \"name\": \"helicopter\", \"type\": \"scatter\", \"x\": [2.253852605819702, -1.066535234451294, 0.17882730066776276, 0.8467039465904236, 0.2605428993701935, -0.6839593052864075, 1.4901827573776245, 1.418462872505188, 0.8906713724136353, 0.01757063716650009, -0.22296950221061707, -0.17515312135219574, -0.3661769926548004, -0.34115323424339294, -0.7200676798820496, -0.8684548735618591, -0.7557098269462585, -0.043495096266269684, -0.7607007026672363, -0.10384636372327805, -0.838106095790863, -0.5341351628303528], \"y\": [2.6831741333007812, 4.1818647384643555, 5.786296367645264, 2.443617105484009, 0.9924566149711609, 4.256608963012695, 3.888761520385742, 4.436925411224365, 2.608698844909668, 3.9676339626312256, 1.391631841659546, 3.960984945297241, 3.510962724685669, 3.4847402572631836, 2.660451889038086, 4.23750114440918, 2.981400966644287, 2.646209716796875, 4.504978656768799, 3.3178532123565674, 2.911740779876709, 3.2921574115753174]}, {\"marker\": {\"color\": \"#bcf60c\"}, \"mode\": \"markers\", \"name\": \"horse\", \"type\": \"scatter\", \"x\": [-4.990548610687256, -5.672946453094482, -4.526503086090088, -3.801119327545166, -5.476436138153076, -5.100057125091553, -3.977205753326416, -4.976304531097412, -4.787367343902588, -4.4737348556518555, -4.39578104019165, -4.56005859375, -5.672946453094482, -4.472784519195557, -5.094796180725098, -4.747945308685303, -5.3980512619018555, -5.7802300453186035, -4.309484004974365, -5.631095886230469, -4.969232082366943, -4.027734756469727], \"y\": [-0.49027812480926514, -1.0365580320358276, 0.765990674495697, -1.3544468879699707, -0.3192574977874756, 0.7460577487945557, 0.11206112802028656, -0.5218084454536438, 0.5215221047401428, 2.1508429050445557, 0.9145724773406982, -0.8355820775032043, -1.0365580320358276, 1.5355807542800903, -0.05722508952021599, 0.7570794820785522, -0.11193027347326279, 1.4003372192382812, 0.08260482549667358, 1.1216486692428589, 1.0578051805496216, -1.6734449863433838]}, {\"marker\": {\"color\": \"#fabebe\"}, \"mode\": \"markers\", \"name\": \"pineapple\", \"type\": \"scatter\", \"x\": [1.2216558456420898, 0.2979229986667633, 0.25787121057510376, -1.570698618888855, 0.14277346432209015, -0.02818390168249607, -0.9388279914855957, 0.6104190945625305, -0.33928343653678894, 0.475279837846756, -0.19223499298095703, 1.1467326879501343, 0.13609498739242554, -0.5490169525146484, 0.4957294464111328, 0.2831560969352722, 0.07179808616638184, -0.21272866427898407, 0.4046172797679901, 0.44004330039024353, 0.6034774780273438, -0.19223499298095703], \"y\": [-5.493157386779785, -4.450142860412598, -5.986711502075195, -5.282429218292236, -7.730527400970459, -7.311290264129639, -4.748033046722412, -6.182631015777588, -7.776247978210449, -5.8174004554748535, -6.336010456085205, -4.855832576751709, -5.658776760101318, -4.001594066619873, -6.84583854675293, -6.1827311515808105, -5.16353702545166, -5.447878837585449, -5.839568614959717, -4.283456325531006, -5.583463668823242, -6.336010456085205]}, {\"marker\": {\"color\": \"#008080\"}, \"mode\": \"markers\", \"name\": \"rifle\", \"type\": \"scatter\", \"x\": [0.9049829244613647, -0.11650269478559494, -0.2994818687438965, -0.6218701601028442, 0.7636545300483704, 0.21620407700538635, 1.0391241312026978, -0.10569088906049728, 0.31686729192733765, -0.6425695419311523, 1.4184660911560059, 0.6557944416999817, -0.6218701601028442, 1.012412190437317, 0.4987739622592926, -0.2994818687438965, 1.5155607461929321, 0.07001738995313644, 0.805686891078949, 0.6180220246315002, 1.071593999862671, 0.9371329545974731, 0.606046736240387, 0.9371329545974731, 0.6115813851356506, -0.7321426272392273, 0.3055601716041565, -0.9090394973754883, 0.6940639019012451, 0.7483950853347778, 0.9168447256088257, 0.876490592956543, 0.5974498391151428, 1.31550133228302], \"y\": [5.152817726135254, 6.714714527130127, 6.212127208709717, 6.503091812133789, 6.14307165145874, 5.362377643585205, 5.757229328155518, 7.35814905166626, 8.222148895263672, 7.425722122192383, 6.139463424682617, 8.093634605407715, 6.503091812133789, 6.33566951751709, 4.124999523162842, 6.212127208709717, 7.770059585571289, 5.432068347930908, 5.30466890335083, 7.657478332519531, 3.921034336090088, 7.0932936668396, 4.054826259613037, 7.0932936668396, 5.974660396575928, 3.50434947013855, 5.141478538513184, 3.320789337158203, 7.287731647491455, 6.2557373046875, 7.098289489746094, 6.632408142089844, 3.9878737926483154, 5.8851470947265625]}, {\"marker\": {\"color\": \"#e6beff\"}, \"mode\": \"markers\", \"name\": \"shark\", \"type\": \"scatter\", \"x\": [-4.6278276443481445, -5.641506195068359, -2.737372398376465, -1.6169103384017944, -4.844363212585449, -3.882750988006592, -4.999975204467773, -2.8284857273101807, -4.844363212585449, -4.457554817199707, -4.88747501373291, -4.140690803527832, -3.5120978355407715, -4.255253791809082, -4.524519920349121, -4.429723262786865, -2.5173821449279785, -4.139672756195068, -4.517251968383789, -2.5173821449279785, -2.188891887664795, -4.524519920349121, -4.524582862854004, -4.019890785217285, -3.076345682144165], \"y\": [-0.656595766544342, -2.8225467205047607, 0.5139323472976685, 0.4380776584148407, -0.017593655735254288, -0.049309223890304565, -1.2166436910629272, 0.5852213501930237, -0.017593655735254288, 0.559704601764679, -1.45069420337677, -0.8783965110778809, -0.8780419826507568, -1.24740731716156, -0.3328093886375427, -1.1971758604049683, -0.6687426567077637, -1.337202548980713, -0.8987420201301575, -0.6687426567077637, -0.09157782793045044, -0.3328093886375427, -1.4375005960464478, -0.07766295969486237, -0.6650288105010986]}, {\"marker\": {\"color\": \"#9a6324\"}, \"mode\": \"markers\", \"name\": \"snail\", \"type\": \"scatter\", \"x\": [3.790236473083496, 3.983264923095703, 1.971235752105713, -0.4039362967014313, 2.499589443206787, 3.973119020462036, 1.7836145162582397, 1.195773959159851, 3.211160898208618, 1.4034172296524048, 2.265303373336792, 3.646876096725464, 3.12307071685791, 2.1265063285827637, 1.982632040977478, 1.4294792413711548, 2.0351390838623047, 1.5042303800582886, 1.8414044380187988], \"y\": [-3.2793009281158447, -2.318608283996582, -1.6634130477905273, 0.1065947562456131, -3.065370798110962, -3.0394845008850098, -2.075894832611084, -2.8765885829925537, -2.156780958175659, -2.2274811267852783, -1.9227831363677979, -2.6258976459503174, -0.835903525352478, -1.5966520309448242, -1.6875102519989014, -2.202089786529541, -2.352207899093628, -2.672276258468628, -2.904500722885132]}, {\"marker\": {\"color\": \"#fffac8\"}, \"mode\": \"markers\", \"name\": \"snake\", \"type\": \"scatter\", \"x\": [1.9900660514831543, 3.4367754459381104, 1.9900660514831543, 1.7533122301101685, 0.8252162933349609, 1.2884893417358398, 0.8252162933349609, 1.7533122301101685, 3.4367754459381104, -2.4695870876312256, 0.34820449352264404, -1.2327581644058228, -0.6049589514732361, -1.2327581644058228, 0.7399224042892456, 0.009368693456053734], \"y\": [-0.4097231328487396, -2.0338828563690186, -0.4097231328487396, -0.19206352531909943, 0.1921781450510025, -0.25925180315971375, 0.1921781450510025, -0.19206352531909943, -2.0338828563690186, -1.1411381959915161, 0.4425530731678009, 0.5037796497344971, -0.625578761100769, 0.5037796497344971, -0.540056049823761, -1.069823980331421]}, {\"marker\": {\"color\": \"#800000\"}, \"mode\": \"markers\", \"name\": \"teapot\", \"type\": \"scatter\", \"x\": [5.725199222564697, 4.817703723907471, 6.209850788116455, 4.571855545043945, 7.060946464538574, 6.128992557525635, 5.334641456604004, 6.971041679382324, 7.150959014892578, 7.029964447021484, 3.9029994010925293, 2.9435741901397705, 5.8860859870910645, 7.497175693511963, 6.669795036315918, 8.92767333984375, 7.250060558319092, 6.273403644561768, 2.611212730407715, 7.310636043548584, 6.902777194976807, 5.265242576599121, 5.6005988121032715, 6.902777194976807, 5.105842113494873, 3.467916488647461], \"y\": [-2.4801197052001953, -4.210674285888672, -2.817335367202759, -3.2640488147735596, -2.700685501098633, -1.1465786695480347, -1.386132836341858, -2.8907041549682617, -2.4585464000701904, -1.136529803276062, -1.0568466186523438, -1.7966604232788086, -3.313359498977661, -4.756446361541748, -3.4639170169830322, -4.852489948272705, -3.7458484172821045, -3.1275806427001953, -0.18137919902801514, -3.5485520362854004, -3.7403435707092285, -2.6195878982543945, -3.3064045906066895, -3.7403435707092285, -2.2410035133361816, -0.9351634383201599]}, {\"marker\": {\"color\": \"#aaffc3\"}, \"mode\": \"markers\", \"name\": \"teddy_bear\", \"type\": \"scatter\", \"x\": [-0.017936542630195618, -1.1908000707626343, -2.145545482635498, -0.5611454248428345, -1.820900321006775, -1.4844586849212646, 0.9617644548416138, 1.0968966484069824, 0.8095405101776123, -0.9944776296615601, -0.9591474533081055, -3.7285542488098145, -0.5543007254600525, -0.07641030848026276, 1.1074496507644653, 1.3453495502471924, 1.3876808881759644, -0.671470582485199, 0.21674226224422455, 0.5554549098014832, 0.5167563557624817], \"y\": [-4.133132457733154, -3.336899995803833, -3.528261423110962, -5.117462158203125, -4.200708866119385, -4.1703901290893555, -3.4271178245544434, -2.649183750152588, -3.7176928520202637, -2.812556505203247, -4.760127544403076, -3.554051160812378, -5.030274868011475, -0.1723707616329193, -3.6937434673309326, -3.722803831100464, -3.6491241455078125, -3.7776002883911133, -3.1525039672851562, -3.5241315364837646, -3.8852994441986084]}, {\"marker\": {\"color\": \"#808000\"}, \"mode\": \"markers\", \"name\": \"tiger\", \"type\": \"scatter\", \"x\": [-4.059754371643066, -5.263863563537598, -4.104401588439941, -5.872222900390625, -5.576782703399658, -4.906871795654297, -5.299755096435547, -3.6775169372558594, -4.219749927520752, -4.9379072189331055, -4.22462272644043, -6.128713607788086, -3.2626893520355225, -4.937043190002441, -2.595121383666992, -6.291319370269775, -5.290276527404785, -5.1486921310424805, -5.135336399078369, -5.110874176025391, -4.954329490661621, -5.485006809234619, -4.495762825012207, -4.924497604370117, -5.382380962371826], \"y\": [-2.044313669204712, -2.7069318294525146, -2.166234016418457, -0.7330328822135925, -0.1830482929944992, -1.8279423713684082, -2.6058459281921387, 0.4665832221508026, -1.2559994459152222, -3.242161989212036, -1.5778460502624512, -1.1448463201522827, -1.2615278959274292, -2.8943183422088623, -3.35325288772583, -0.11140698194503784, -1.7794395685195923, -1.5207717418670654, -1.7443634271621704, -1.8108464479446411, -1.6153812408447266, -1.1357125043869019, -1.503955602645874, -1.5013864040374756, -1.1714154481887817]}, {\"marker\": {\"color\": \"#ffd8b1\"}, \"mode\": \"markers\", \"name\": \"umbrella\", \"type\": \"scatter\", \"x\": [0.24359031021595, -1.3975974321365356, -0.21508745849132538, 0.5583658814430237, 0.19973088800907135, 0.3507354259490967, 1.647935390472412, 0.6675019264221191, 0.26282909512519836, 0.9594407081604004, 1.1325652599334717, 0.5594428777694702, 1.2407387495040894, 2.5555527210235596, 0.47395050525665283, 0.35881903767585754, -0.40506675839424133, 1.038684368133545], \"y\": [-0.30765900015830994, 1.4189937114715576, 2.835341691970825, 2.660336971282959, 0.735291063785553, 0.7991155385971069, -0.7503374218940735, 1.67035973072052, 0.8853314518928528, 1.4096415042877197, 0.1107117086648941, 1.1550580263137817, 0.7417630553245544, 2.2681896686553955, 1.0223332643508911, 2.71201229095459, 1.1403201818466187, 0.1771582067012787]}, {\"marker\": {\"color\": \"#000075\"}, \"mode\": \"markers\", \"name\": \"violin\", \"type\": \"scatter\", \"x\": [3.337447166442871, 1.408353567123413, 3.062204122543335, 4.109097003936768, 2.0178773403167725, 2.194444417953491, 2.2937405109405518, 0.7249425053596497, 2.259035587310791, 2.232492208480835, 1.9786615371704102, 1.1429004669189453, 2.3762025833129883, 2.2937405109405518, 1.7717305421829224, 2.8781814575195312, 2.049934148788452, 1.5857967138290405, 1.8461896181106567, 3.213822841644287, 1.5219603776931763, 1.5804470777511597, 2.2987449169158936, 2.087686538696289, 1.9946118593215942, 2.1109538078308105, 2.020491600036621, 1.6221436262130737, 3.3123295307159424, 2.453169345855713, 2.3075480461120605, 1.5609784126281738], \"y\": [0.6046125292778015, 4.954127311706543, 1.7100036144256592, 3.065777063369751, 8.410412788391113, 0.910823404788971, 9.174322128295898, 6.271519184112549, 5.1123456954956055, 4.893085479736328, 7.69268274307251, 6.1140456199646, 6.565613269805908, 9.174322128295898, 4.978846549987793, 1.9572197198867798, 4.9799723625183105, 3.649106025695801, 6.68043851852417, 3.827699661254883, 5.3208208084106445, 5.2848711013793945, 6.473523139953613, 6.541743278503418, 5.387283802032471, 6.330111026763916, 5.782835006713867, 6.33788537979126, 9.454835891723633, 8.435980796813965, 7.542849540710449, 5.519874095916748]}, {\"marker\": {\"color\": \"#808080\"}, \"mode\": \"markers\", \"name\": \"zebra\", \"type\": \"scatter\", \"x\": [-5.721104621887207, -5.896452903747559, -4.783407211303711, -6.222843170166016, -5.896452903747559, -3.6436376571655273, -5.681880474090576, -5.876761436462402, -4.323764324188232, -5.965565204620361, -2.4525015354156494, -5.627553462982178, -4.846027851104736, -5.425498008728027, -5.852328777313232, -6.546307563781738, -5.990271091461182, -6.0537824630737305, -5.97821569442749, -7.172635555267334, -6.750977516174316, -5.8359375, -6.826893329620361, -6.832351207733154, -5.844220161437988, -5.261821269989014], \"y\": [1.8474801778793335, -0.029160641133785248, -0.6251536011695862, 0.904510498046875, -0.029160641133785248, -1.8586093187332153, 0.05308157205581665, 1.1530237197875977, -1.2914619445800781, 0.09698634594678879, 0.6654003262519836, 1.1608525514602661, 0.6806022524833679, 2.1543452739715576, 0.6741138100624084, 1.0670921802520752, 0.15793250501155853, 0.4074259102344513, 0.4927406311035156, 0.5495103597640991, 0.9701787233352661, 1.1564056873321533, 0.6322882175445557, 0.18885771930217743, 0.28650256991386414, 0.1259710192680359]}],                        {\"template\": {\"data\": {\"bar\": [{\"error_x\": {\"color\": \"#2a3f5f\"}, \"error_y\": {\"color\": \"#2a3f5f\"}, \"marker\": {\"line\": {\"color\": \"#E5ECF6\", \"width\": 0.5}}, \"type\": \"bar\"}], \"barpolar\": [{\"marker\": {\"line\": {\"color\": \"#E5ECF6\", \"width\": 0.5}}, \"type\": \"barpolar\"}], \"carpet\": [{\"aaxis\": {\"endlinecolor\": \"#2a3f5f\", \"gridcolor\": \"white\", \"linecolor\": \"white\", \"minorgridcolor\": \"white\", \"startlinecolor\": \"#2a3f5f\"}, \"baxis\": {\"endlinecolor\": \"#2a3f5f\", \"gridcolor\": \"white\", \"linecolor\": \"white\", \"minorgridcolor\": \"white\", \"startlinecolor\": \"#2a3f5f\"}, \"type\": \"carpet\"}], \"choropleth\": [{\"colorbar\": {\"outlinewidth\": 0, \"ticks\": \"\"}, \"type\": \"choropleth\"}], \"contour\": [{\"colorbar\": {\"outlinewidth\": 0, \"ticks\": \"\"}, \"colorscale\": [[0.0, \"#0d0887\"], [0.1111111111111111, \"#46039f\"], [0.2222222222222222, \"#7201a8\"], [0.3333333333333333, \"#9c179e\"], [0.4444444444444444, \"#bd3786\"], [0.5555555555555556, \"#d8576b\"], [0.6666666666666666, \"#ed7953\"], [0.7777777777777778, \"#fb9f3a\"], [0.8888888888888888, \"#fdca26\"], [1.0, \"#f0f921\"]], \"type\": \"contour\"}], \"contourcarpet\": [{\"colorbar\": {\"outlinewidth\": 0, \"ticks\": \"\"}, \"type\": \"contourcarpet\"}], \"heatmap\": [{\"colorbar\": {\"outlinewidth\": 0, \"ticks\": \"\"}, \"colorscale\": [[0.0, \"#0d0887\"], [0.1111111111111111, \"#46039f\"], [0.2222222222222222, \"#7201a8\"], [0.3333333333333333, \"#9c179e\"], [0.4444444444444444, \"#bd3786\"], [0.5555555555555556, \"#d8576b\"], [0.6666666666666666, \"#ed7953\"], [0.7777777777777778, \"#fb9f3a\"], [0.8888888888888888, \"#fdca26\"], [1.0, \"#f0f921\"]], \"type\": \"heatmap\"}], \"heatmapgl\": [{\"colorbar\": {\"outlinewidth\": 0, \"ticks\": \"\"}, \"colorscale\": [[0.0, \"#0d0887\"], [0.1111111111111111, \"#46039f\"], [0.2222222222222222, \"#7201a8\"], [0.3333333333333333, \"#9c179e\"], [0.4444444444444444, \"#bd3786\"], [0.5555555555555556, \"#d8576b\"], [0.6666666666666666, \"#ed7953\"], [0.7777777777777778, \"#fb9f3a\"], [0.8888888888888888, \"#fdca26\"], [1.0, \"#f0f921\"]], \"type\": \"heatmapgl\"}], \"histogram\": [{\"marker\": {\"colorbar\": {\"outlinewidth\": 0, \"ticks\": \"\"}}, \"type\": \"histogram\"}], \"histogram2d\": [{\"colorbar\": {\"outlinewidth\": 0, \"ticks\": \"\"}, \"colorscale\": [[0.0, \"#0d0887\"], [0.1111111111111111, \"#46039f\"], [0.2222222222222222, \"#7201a8\"], [0.3333333333333333, \"#9c179e\"], [0.4444444444444444, \"#bd3786\"], [0.5555555555555556, \"#d8576b\"], [0.6666666666666666, \"#ed7953\"], [0.7777777777777778, \"#fb9f3a\"], [0.8888888888888888, \"#fdca26\"], [1.0, \"#f0f921\"]], \"type\": \"histogram2d\"}], \"histogram2dcontour\": [{\"colorbar\": {\"outlinewidth\": 0, \"ticks\": \"\"}, \"colorscale\": [[0.0, \"#0d0887\"], [0.1111111111111111, \"#46039f\"], [0.2222222222222222, \"#7201a8\"], [0.3333333333333333, \"#9c179e\"], [0.4444444444444444, \"#bd3786\"], [0.5555555555555556, \"#d8576b\"], [0.6666666666666666, \"#ed7953\"], [0.7777777777777778, \"#fb9f3a\"], [0.8888888888888888, \"#fdca26\"], [1.0, \"#f0f921\"]], \"type\": \"histogram2dcontour\"}], \"mesh3d\": [{\"colorbar\": {\"outlinewidth\": 0, \"ticks\": \"\"}, \"type\": \"mesh3d\"}], \"parcoords\": [{\"line\": {\"colorbar\": {\"outlinewidth\": 0, \"ticks\": \"\"}}, \"type\": \"parcoords\"}], \"pie\": [{\"automargin\": true, \"type\": \"pie\"}], \"scatter\": [{\"marker\": {\"colorbar\": {\"outlinewidth\": 0, \"ticks\": \"\"}}, \"type\": \"scatter\"}], \"scatter3d\": [{\"line\": {\"colorbar\": {\"outlinewidth\": 0, \"ticks\": \"\"}}, \"marker\": {\"colorbar\": {\"outlinewidth\": 0, \"ticks\": \"\"}}, \"type\": \"scatter3d\"}], \"scattercarpet\": [{\"marker\": {\"colorbar\": {\"outlinewidth\": 0, \"ticks\": \"\"}}, \"type\": \"scattercarpet\"}], \"scattergeo\": [{\"marker\": {\"colorbar\": {\"outlinewidth\": 0, \"ticks\": \"\"}}, \"type\": \"scattergeo\"}], \"scattergl\": [{\"marker\": {\"colorbar\": {\"outlinewidth\": 0, \"ticks\": \"\"}}, \"type\": \"scattergl\"}], \"scattermapbox\": [{\"marker\": {\"colorbar\": {\"outlinewidth\": 0, \"ticks\": \"\"}}, \"type\": \"scattermapbox\"}], \"scatterpolar\": [{\"marker\": {\"colorbar\": {\"outlinewidth\": 0, \"ticks\": \"\"}}, \"type\": \"scatterpolar\"}], \"scatterpolargl\": [{\"marker\": {\"colorbar\": {\"outlinewidth\": 0, \"ticks\": \"\"}}, \"type\": \"scatterpolargl\"}], \"scatterternary\": [{\"marker\": {\"colorbar\": {\"outlinewidth\": 0, \"ticks\": \"\"}}, \"type\": \"scatterternary\"}], \"surface\": [{\"colorbar\": {\"outlinewidth\": 0, \"ticks\": \"\"}, \"colorscale\": [[0.0, \"#0d0887\"], [0.1111111111111111, \"#46039f\"], [0.2222222222222222, \"#7201a8\"], [0.3333333333333333, \"#9c179e\"], [0.4444444444444444, \"#bd3786\"], [0.5555555555555556, \"#d8576b\"], [0.6666666666666666, \"#ed7953\"], [0.7777777777777778, \"#fb9f3a\"], [0.8888888888888888, \"#fdca26\"], [1.0, \"#f0f921\"]], \"type\": \"surface\"}], \"table\": [{\"cells\": {\"fill\": {\"color\": \"#EBF0F8\"}, \"line\": {\"color\": \"white\"}}, \"header\": {\"fill\": {\"color\": \"#C8D4E3\"}, \"line\": {\"color\": \"white\"}}, \"type\": \"table\"}]}, \"layout\": {\"annotationdefaults\": {\"arrowcolor\": \"#2a3f5f\", \"arrowhead\": 0, \"arrowwidth\": 1}, \"autotypenumbers\": \"strict\", \"coloraxis\": {\"colorbar\": {\"outlinewidth\": 0, \"ticks\": \"\"}}, \"colorscale\": {\"diverging\": [[0, \"#8e0152\"], [0.1, \"#c51b7d\"], [0.2, \"#de77ae\"], [0.3, \"#f1b6da\"], [0.4, \"#fde0ef\"], [0.5, \"#f7f7f7\"], [0.6, \"#e6f5d0\"], [0.7, \"#b8e186\"], [0.8, \"#7fbc41\"], [0.9, \"#4d9221\"], [1, \"#276419\"]], \"sequential\": [[0.0, \"#0d0887\"], [0.1111111111111111, \"#46039f\"], [0.2222222222222222, \"#7201a8\"], [0.3333333333333333, \"#9c179e\"], [0.4444444444444444, \"#bd3786\"], [0.5555555555555556, \"#d8576b\"], [0.6666666666666666, \"#ed7953\"], [0.7777777777777778, \"#fb9f3a\"], [0.8888888888888888, \"#fdca26\"], [1.0, \"#f0f921\"]], \"sequentialminus\": [[0.0, \"#0d0887\"], [0.1111111111111111, \"#46039f\"], [0.2222222222222222, \"#7201a8\"], [0.3333333333333333, \"#9c179e\"], [0.4444444444444444, \"#bd3786\"], [0.5555555555555556, \"#d8576b\"], [0.6666666666666666, \"#ed7953\"], [0.7777777777777778, \"#fb9f3a\"], [0.8888888888888888, \"#fdca26\"], [1.0, \"#f0f921\"]]}, \"colorway\": [\"#636efa\", \"#EF553B\", \"#00cc96\", \"#ab63fa\", \"#FFA15A\", \"#19d3f3\", \"#FF6692\", \"#B6E880\", \"#FF97FF\", \"#FECB52\"], \"font\": {\"color\": \"#2a3f5f\"}, \"geo\": {\"bgcolor\": \"white\", \"lakecolor\": \"white\", \"landcolor\": \"#E5ECF6\", \"showlakes\": true, \"showland\": true, \"subunitcolor\": \"white\"}, \"hoverlabel\": {\"align\": \"left\"}, \"hovermode\": \"closest\", \"mapbox\": {\"style\": \"light\"}, \"paper_bgcolor\": \"white\", \"plot_bgcolor\": \"#E5ECF6\", \"polar\": {\"angularaxis\": {\"gridcolor\": \"white\", \"linecolor\": \"white\", \"ticks\": \"\"}, \"bgcolor\": \"#E5ECF6\", \"radialaxis\": {\"gridcolor\": \"white\", \"linecolor\": \"white\", \"ticks\": \"\"}}, \"scene\": {\"xaxis\": {\"backgroundcolor\": \"#E5ECF6\", \"gridcolor\": \"white\", \"gridwidth\": 2, \"linecolor\": \"white\", \"showbackground\": true, \"ticks\": \"\", \"zerolinecolor\": \"white\"}, \"yaxis\": {\"backgroundcolor\": \"#E5ECF6\", \"gridcolor\": \"white\", \"gridwidth\": 2, \"linecolor\": \"white\", \"showbackground\": true, \"ticks\": \"\", \"zerolinecolor\": \"white\"}, \"zaxis\": {\"backgroundcolor\": \"#E5ECF6\", \"gridcolor\": \"white\", \"gridwidth\": 2, \"linecolor\": \"white\", \"showbackground\": true, \"ticks\": \"\", \"zerolinecolor\": \"white\"}}, \"shapedefaults\": {\"line\": {\"color\": \"#2a3f5f\"}}, \"ternary\": {\"aaxis\": {\"gridcolor\": \"white\", \"linecolor\": \"white\", \"ticks\": \"\"}, \"baxis\": {\"gridcolor\": \"white\", \"linecolor\": \"white\", \"ticks\": \"\"}, \"bgcolor\": \"#E5ECF6\", \"caxis\": {\"gridcolor\": \"white\", \"linecolor\": \"white\", \"ticks\": \"\"}}, \"title\": {\"x\": 0.05}, \"xaxis\": {\"automargin\": true, \"gridcolor\": \"white\", \"linecolor\": \"white\", \"ticks\": \"\", \"title\": {\"standoff\": 15}, \"zerolinecolor\": \"white\", \"zerolinewidth\": 2}, \"yaxis\": {\"automargin\": true, \"gridcolor\": \"white\", \"linecolor\": \"white\", \"ticks\": \"\", \"title\": {\"standoff\": 15}, \"zerolinecolor\": \"white\", \"zerolinewidth\": 2}}}, \"title\": {\"text\": \"2D plot of the embeddings (projected with the PCA)\"}},                        {\"responsive\": true}                    ).then(function(){\n",
       "                            \n",
       "var gd = document.getElementById('0cec5dd5-9f92-41ce-af89-6318cb373629');\n",
       "var x = new MutationObserver(function (mutations, observer) {{\n",
       "        var display = window.getComputedStyle(gd).display;\n",
       "        if (!display || display === 'none') {{\n",
       "            console.log([gd, 'removed!']);\n",
       "            Plotly.purge(gd);\n",
       "            observer.disconnect();\n",
       "        }}\n",
       "}});\n",
       "\n",
       "// Listen for the removal of the full notebook cells\n",
       "var notebookContainer = gd.closest('#notebook-container');\n",
       "if (notebookContainer) {{\n",
       "    x.observe(notebookContainer, {childList: true});\n",
       "}}\n",
       "\n",
       "// Listen for the clearing of the current output cell\n",
       "var outputEl = gd.closest('.output');\n",
       "if (outputEl) {{\n",
       "    x.observe(outputEl, {childList: true});\n",
       "}}\n",
       "\n",
       "                        })                };                });            </script>        </div>"
      ]
     },
     "metadata": {},
     "output_type": "display_data"
    }
   ],
   "source": [
    "traces = []\n",
    "fig = go.Figure()\n",
    "for i, (category, coordinates) in enumerate(res.items()):\n",
    "    trace = go.Scatter(\n",
    "        x=coordinates['x'],\n",
    "        y=coordinates['y'],\n",
    "        name=category,\n",
    "        mode='markers',\n",
    "        marker_color=colors[i]\n",
    "    )\n",
    "    fig.add_trace(trace)\n",
    "    fig.update_layout(title='2D plot of the embeddings (projected with the PCA)')\n",
    "    \n",
    "fig.show()"
   ]
  },
  {
   "cell_type": "markdown",
   "metadata": {},
   "source": [
    "**TODO**: You can now code the 3D plot with the custom sketch. You can make the Custom Sketch larger than other points such that it is easier to find."
   ]
  },
  {
   "cell_type": "code",
   "execution_count": 211,
   "metadata": {},
   "outputs": [],
   "source": [
    "'''Correction '''\n",
    "data = {\"nb_dim\": 3, \"sketch\": svg_string}\n",
    "res = requests.post(\"http://127.0.0.1:5000/get_embeddings\", json=data).json()"
   ]
  },
  {
   "cell_type": "code",
   "execution_count": 212,
   "metadata": {},
   "outputs": [
    {
     "data": {
      "application/vnd.plotly.v1+json": {
       "config": {
        "plotlyServerURL": "https://plot.ly"
       },
       "data": [
        {
         "marker": {
          "color": "#e6194b",
          "size": 8
         },
         "mode": "markers",
         "name": "My Custom Sketch",
         "type": "scatter3d",
         "x": [
          -1.421826720237732
         ],
         "y": [
          1.8866368532180786
         ],
         "z": [
          3.0864174365997314
         ]
        },
        {
         "marker": {
          "color": "#3cb44b",
          "size": 4
         },
         "mode": "markers",
         "name": "butterfly",
         "type": "scatter3d",
         "x": [
          -0.7696430683135986,
          0.4605318605899811,
          0.19331732392311096,
          1.1452471017837524,
          -1.0042781829833984,
          -1.0042781829833984,
          0.7230244278907776,
          -1.2324827909469604,
          -0.22690318524837494,
          0.0017026717541739345,
          0.4198543131351471,
          -0.05361926555633545,
          2.0810139179229736,
          -1.1816638708114624,
          0.8377044796943665,
          0.4937871992588043,
          0.9721515774726868,
          0.19563572108745575,
          0.7298001050949097,
          1.0983647108078003,
          0.7559474110603333
         ],
         "y": [
          -0.7501497864723206,
          -0.9233900308609009,
          -2.044931173324585,
          -1.9564683437347412,
          -0.854819655418396,
          -0.854819655418396,
          -0.5211262702941895,
          1.0259222984313965,
          -0.9750736355781555,
          -1.4227381944656372,
          -2.4640402793884277,
          0.8313651084899902,
          -2.434687376022339,
          -2.2633490562438965,
          -1.5639127492904663,
          -1.5288349390029907,
          -1.8453333377838135,
          -2.117419719696045,
          -1.904513955116272,
          -1.44295334815979,
          -1.5184564590454102
         ],
         "z": [
          -2.6588988304138184,
          -5.109092712402344,
          -5.024402141571045,
          -5.752435684204102,
          -3.9991307258605957,
          -3.9991307258605957,
          -3.713287830352783,
          -5.120906829833984,
          -3.6852688789367676,
          -3.1720077991485596,
          -3.848489284515381,
          -5.162402153015137,
          -1.9536628723144531,
          -3.874243974685669,
          -4.780689239501953,
          -4.133124351501465,
          -2.243135690689087,
          -4.559198379516602,
          -5.405207633972168,
          -4.331035137176514,
          -3.892033338546753
         ]
        },
        {
         "marker": {
          "color": "#ffe119",
          "size": 4
         },
         "mode": "markers",
         "name": "candle",
         "type": "scatter3d",
         "x": [
          1.7326382398605347,
          2.490412473678589,
          2.703310251235962,
          3.4692811965942383,
          4.372997283935547,
          2.703310251235962,
          3.282365322113037,
          5.237685203552246,
          4.476894855499268,
          4.09104061126709,
          3.1657164096832275,
          2.703310251235962,
          4.919178485870361,
          2.209524154663086,
          4.900241851806641,
          3.5725340843200684,
          2.677262544631958,
          4.6151123046875,
          2.1736655235290527,
          5.19008207321167,
          1.663265347480774,
          4.662116050720215,
          3.4328083992004395,
          3.3055970668792725,
          4.3648905754089355,
          5.4910430908203125,
          4.972259998321533,
          5.310508728027344
         ],
         "y": [
          0.5673011541366577,
          0.2323559671640396,
          3.043633222579956,
          -1.1858941316604614,
          -1.2091363668441772,
          3.043633222579956,
          2.3076012134552,
          -1.3007147312164307,
          -2.159309148788452,
          -0.6777008771896362,
          -1.1145098209381104,
          3.043633222579956,
          -2.8223180770874023,
          1.2666525840759277,
          -0.5713532567024231,
          -0.458330899477005,
          0.462599515914917,
          -1.2238930463790894,
          0.16981802880764008,
          -2.082822561264038,
          -0.8853752613067627,
          -2.039968967437744,
          -1.1539651155471802,
          -1.8070273399353027,
          -1.867019772529602,
          -1.8218544721603394,
          -1.3042161464691162,
          -1.8759914636611938
         ],
         "z": [
          2.657285690307617,
          1.674269676208496,
          0.026374641805887222,
          2.609825611114502,
          2.773073434829712,
          0.026374641805887222,
          0.3848423957824707,
          2.946932792663574,
          2.9771463871002197,
          2.3064491748809814,
          3.23384165763855,
          0.026374641805887222,
          1.262744665145874,
          3.535792112350464,
          1.8409061431884766,
          3.181368589401245,
          1.1939677000045776,
          2.4164340496063232,
          0.5983319878578186,
          4.1412835121154785,
          1.0053073167800903,
          1.3049671649932861,
          0.9306236505508423,
          0.51326584815979,
          1.9324935674667358,
          3.6150758266448975,
          4.045283794403076,
          3.9012467861175537
         ]
        },
        {
         "marker": {
          "color": "#4363d8",
          "size": 4
         },
         "mode": "markers",
         "name": "church",
         "type": "scatter3d",
         "x": [
          -0.008305036462843418,
          -0.9144654870033264,
          3.3580520153045654,
          -1.1934360265731812,
          -1.178885817527771,
          0.19048231840133667,
          0.029568077996373177,
          -1.9135137796401978,
          0.7313027381896973,
          -1.9135137796401978,
          0.7313027381896973,
          2.0181095600128174,
          -2.3011014461517334,
          -1.0298786163330078,
          0.7522419095039368,
          -0.9144654870033264,
          -1.0298786163330078,
          -0.10029240697622299,
          -0.3894456923007965,
          -0.13649091124534607,
          -0.9981938004493713,
          -1.1068023443222046,
          0.053312793374061584,
          0.053312793374061584,
          -0.36003223061561584,
          0.3352448642253876,
          -0.3894456923007965,
          0.5759720802307129,
          -0.08402024954557419,
          0.24216187000274658,
          -0.31052500009536743,
          0.6614967584609985,
          0.05010850355029106,
          -0.5619045495986938
         ],
         "y": [
          1.9034923315048218,
          2.430716037750244,
          1.0736424922943115,
          2.166551113128662,
          2.1559929847717285,
          2.104449987411499,
          2.383136034011841,
          3.5196802616119385,
          2.276567220687866,
          3.5196802616119385,
          2.276567220687866,
          0.7469059228897095,
          1.4681187868118286,
          2.718769073486328,
          1.3880562782287598,
          2.430716037750244,
          2.718769073486328,
          1.3407865762710571,
          1.6076276302337646,
          2.7874317169189453,
          2.0167973041534424,
          1.5913364887237549,
          1.582848310470581,
          1.582848310470581,
          1.7727960348129272,
          0.9900820851325989,
          1.6076276302337646,
          1.4317251443862915,
          1.5564911365509033,
          0.9306362271308899,
          1.5474919080734253,
          1.1070382595062256,
          2.3747925758361816,
          1.800445556640625
         ],
         "z": [
          6.427221775054932,
          5.069526195526123,
          2.5398645401000977,
          6.310609340667725,
          7.026384353637695,
          5.820962905883789,
          4.920417308807373,
          6.282556056976318,
          3.5760252475738525,
          6.282556056976318,
          3.5760252475738525,
          3.663336992263794,
          5.974334716796875,
          6.611608982086182,
          4.385206699371338,
          5.069526195526123,
          6.611608982086182,
          5.313756465911865,
          6.292332649230957,
          4.988617420196533,
          7.406467437744141,
          7.460864543914795,
          6.954557418823242,
          6.954557418823242,
          6.710938930511475,
          4.50991153717041,
          6.292332649230957,
          5.635014057159424,
          6.1761603355407715,
          6.612794399261475,
          5.540438175201416,
          6.591952323913574,
          7.206276893615723,
          7.59194278717041
         ]
        },
        {
         "marker": {
          "color": "#f58231",
          "size": 4
         },
         "mode": "markers",
         "name": "cup",
         "type": "scatter3d",
         "x": [
          4.68599796295166,
          6.924652576446533,
          5.6771697998046875,
          4.68599796295166,
          6.013210296630859,
          5.6771697998046875,
          5.567708492279053,
          6.822833061218262,
          5.647218704223633,
          4.3409247398376465,
          7.2533040046691895,
          3.252431869506836,
          5.6806721687316895,
          5.8249359130859375,
          6.147753715515137,
          3.8243582248687744,
          5.702782154083252,
          5.8249359130859375,
          6.2581963539123535,
          4.063579559326172,
          6.712723255157471,
          5.934361934661865,
          5.830281734466553,
          6.755101680755615,
          5.351916313171387,
          7.306563377380371,
          3.9467790126800537
         ],
         "y": [
          -0.45063838362693787,
          -3.1936933994293213,
          -3.173537015914917,
          -0.45063838362693787,
          -3.1869606971740723,
          -3.173537015914917,
          -4.1283979415893555,
          -1.9951969385147095,
          -2.201476573944092,
          -1.5411373376846313,
          -3.2772746086120605,
          -1.2859294414520264,
          -2.5366575717926025,
          -2.2924489974975586,
          -1.8219794034957886,
          0.7250880002975464,
          -3.423337936401367,
          -2.2924489974975586,
          -3.4300551414489746,
          -2.294466495513916,
          -1.9788330793380737,
          -3.190000295639038,
          -2.146792411804199,
          -4.263928413391113,
          -2.4799530506134033,
          -3.604254961013794,
          -1.5133678913116455
         ],
         "z": [
          2.31242036819458,
          1.0383377075195312,
          0.018824340775609016,
          2.31242036819458,
          0.4956885874271393,
          0.018824340775609016,
          0.6603386402130127,
          1.2154093980789185,
          0.0505172535777092,
          2.2228474617004395,
          0.8119170069694519,
          0.5531298518180847,
          -0.8547049760818481,
          0.35521823167800903,
          1.437013030052185,
          2.6474862098693848,
          1.5148649215698242,
          0.35521823167800903,
          1.7893046140670776,
          0.7217082381248474,
          1.714484691619873,
          3.1069300174713135,
          1.788422703742981,
          3.0498623847961426,
          1.29289710521698,
          2.4499917030334473,
          -0.7808310985565186
         ]
        },
        {
         "marker": {
          "color": "#911eb4",
          "size": 4
         },
         "mode": "markers",
         "name": "door",
         "type": "scatter3d",
         "x": [
          -1.0643235445022583,
          -0.17947308719158173,
          -1.5637990236282349,
          1.2423697710037231,
          -0.7236914038658142,
          -0.011198501102626324,
          -0.03208871930837631,
          -0.243746817111969,
          -0.6843436360359192,
          -0.243746817111969,
          1.7830618619918823,
          -0.2187756896018982,
          -0.37947705388069153,
          -1.2437775135040283,
          0.00256025861017406,
          -0.08268626779317856,
          -1.2836695909500122,
          -1.3704564571380615,
          -0.375473290681839,
          -1.2437775135040283,
          -1.2966711521148682,
          -0.6939725279808044,
          -2.6579623222351074,
          0.18469339609146118,
          -0.27992627024650574,
          -0.293975293636322,
          -0.3359447121620178,
          -1.19725501537323,
          0.412583589553833,
          0.34885546565055847,
          -0.40615302324295044,
          1.7830618619918823
         ],
         "y": [
          0.5526146292686462,
          1.647092580795288,
          1.8726030588150024,
          3.1957125663757324,
          -0.08698642253875732,
          1.1934642791748047,
          0.8092396855354309,
          2.497612237930298,
          1.4051933288574219,
          2.497612237930298,
          0.7728498578071594,
          -0.10817060619592667,
          0.44489285349845886,
          0.18483643233776093,
          0.7409778833389282,
          1.9072433710098267,
          1.5479199886322021,
          0.5589057207107544,
          1.3815608024597168,
          0.18483643233776093,
          0.4953502118587494,
          0.4075360596179962,
          -1.9498580694198608,
          0.22742044925689697,
          0.6565184593200684,
          1.492182731628418,
          2.797959327697754,
          0.5446035265922546,
          0.4843379855155945,
          1.1621596813201904,
          1.8975677490234375,
          0.7728498578071594
         ],
         "z": [
          4.910386085510254,
          3.5048460960388184,
          5.454294204711914,
          2.5643014907836914,
          3.749873399734497,
          4.1703290939331055,
          4.718310832977295,
          4.870625019073486,
          3.4077680110931396,
          4.870625019073486,
          4.094170093536377,
          4.580259799957275,
          5.528530120849609,
          5.002772808074951,
          5.829461097717285,
          4.806336879730225,
          4.165377616882324,
          4.138838291168213,
          4.976785659790039,
          5.002772808074951,
          5.686976909637451,
          5.7717061042785645,
          2.3886682987213135,
          3.7241640090942383,
          4.185652732849121,
          4.565119743347168,
          2.474090814590454,
          5.678831577301025,
          6.069948196411133,
          4.825814723968506,
          4.501865863800049,
          4.094170093536377
         ]
        },
        {
         "marker": {
          "color": "#46f0f0",
          "size": 4
         },
         "mode": "markers",
         "name": "hat",
         "type": "scatter3d",
         "x": [
          3.6547763347625732,
          5.221585750579834,
          2.556063652038574,
          3.0721147060394287,
          3.5275487899780273,
          1.4057555198669434,
          1.936239242553711,
          1.9057059288024902,
          2.9583120346069336,
          2.7825589179992676,
          5.221585750579834,
          2.6389682292938232,
          0.5042989253997803,
          0.9661429524421692,
          3.093909502029419,
          0.9905175566673279,
          4.478131294250488,
          1.0012224912643433,
          3.186323881149292,
          0.41875067353248596,
          1.9294440746307373
         ],
         "y": [
          0.846483588218689,
          -1.8922549486160278,
          -0.9217092990875244,
          -0.31702831387519836,
          1.1045353412628174,
          0.8836868405342102,
          0.7593778371810913,
          1.2603141069412231,
          -1.48557448387146,
          2.011976718902588,
          -1.8922549486160278,
          -0.38212019205093384,
          0.46613919734954834,
          -2.3041727542877197,
          -0.1281585842370987,
          -0.7177599668502808,
          0.9746899604797363,
          0.4426848292350769,
          -1.4272613525390625,
          -0.6200607419013977,
          -0.1804383546113968
         ],
         "z": [
          -1.6291512250900269,
          0.6305084228515625,
          -1.8361040353775024,
          -1.4013844728469849,
          -0.8110436201095581,
          -2.4087393283843994,
          -2.3497936725616455,
          -2.02272367477417,
          -1.3596396446228027,
          1.356099009513855,
          0.6305084228515625,
          -1.040109395980835,
          0.002072908915579319,
          0.9363927841186523,
          1.7776358127593994,
          -1.1689363718032837,
          0.5104992985725403,
          0.2471846640110016,
          0.8236221671104431,
          -0.11121232807636261,
          -1.5047390460968018
         ]
        },
        {
         "marker": {
          "color": "#f032e6",
          "size": 4
         },
         "mode": "markers",
         "name": "hedgehog",
         "type": "scatter3d",
         "x": [
          -4.024796485900879,
          -2.138747215270996,
          -4.624395370483398,
          -5.084311008453369,
          -4.3482489585876465,
          -4.1029276847839355,
          -4.484657287597656,
          -3.8060343265533447,
          -5.049785614013672,
          -5.164312839508057,
          -4.048577308654785,
          -4.422657489776611,
          -4.263481616973877,
          -3.3188064098358154,
          -3.9838647842407227,
          -5.029378890991211,
          -4.0667901039123535,
          -3.536978006362915,
          -3.1082184314727783,
          -3.617245674133301,
          -5.166101455688477,
          -4.471885681152344,
          -3.740689516067505,
          -3.199673652648926,
          -5.676106929779053,
          -4.888967990875244,
          -4.843497276306152,
          -2.5461626052856445,
          -5.03748893737793
         ],
         "y": [
          -2.154362440109253,
          -3.1434857845306396,
          -3.5236358642578125,
          -2.929548740386963,
          -3.6370151042938232,
          -5.269677639007568,
          -3.8440780639648438,
          -2.972126007080078,
          -4.5124640464782715,
          -4.862954616546631,
          -3.345001697540283,
          -3.3648693561553955,
          -4.251982688903809,
          -3.6847915649414062,
          -2.6428062915802,
          -4.044031143188477,
          -3.1789772510528564,
          -3.7144627571105957,
          -3.236616373062134,
          -2.8877041339874268,
          -3.5977368354797363,
          -4.391849517822266,
          -3.3227643966674805,
          -2.998929977416992,
          -4.001880168914795,
          -3.758091449737549,
          -3.810527801513672,
          -1.5816190242767334,
          -3.492021322250366
         ],
         "z": [
          -0.6211565732955933,
          -0.6574823260307312,
          0.9530361294746399,
          -0.5441261529922485,
          -1.8972681760787964,
          -1.3198826313018799,
          -0.8280066847801208,
          -1.061950922012329,
          -2.67922306060791,
          -2.0704989433288574,
          -1.663766860961914,
          -2.2792232036590576,
          -2.041142463684082,
          -2.0691001415252686,
          -2.8599326610565186,
          -2.388568162918091,
          -2.4170782566070557,
          -2.4873452186584473,
          -0.7045880556106567,
          -1.4349370002746582,
          -2.0065128803253174,
          -2.1378204822540283,
          -1.983953833580017,
          0.06701785326004028,
          -1.9741357564926147,
          -2.1978201866149902,
          -1.5488625764846802,
          -1.8699699640274048,
          -1.4355204105377197
         ]
        },
        {
         "marker": {
          "color": "#bcf60c",
          "size": 4
         },
         "mode": "markers",
         "name": "helicopter",
         "type": "scatter3d",
         "x": [
          2.252276659011841,
          -1.084566354751587,
          0.16125139594078064,
          0.8394629955291748,
          0.26300284266471863,
          -0.7030003070831299,
          1.4841076135635376,
          1.4066169261932373,
          0.8877518773078918,
          0.008625687099993229,
          -0.22492533922195435,
          -0.18670500814914703,
          -0.37583184242248535,
          -0.35209745168685913,
          -0.7249756455421448,
          -0.8797443509101868,
          -0.7630053162574768,
          -0.047069624066352844,
          -0.7751069068908691,
          -0.11350884288549423,
          -0.8463615775108337,
          -0.5417241454124451
         ],
         "y": [
          2.670534372329712,
          4.180203914642334,
          5.775101661682129,
          2.441781759262085,
          0.9759179949760437,
          4.257565975189209,
          3.872889995574951,
          4.428907871246338,
          2.5976407527923584,
          3.9522228240966797,
          1.3816986083984375,
          3.952037811279297,
          3.499091863632202,
          3.4774558544158936,
          2.6436188220977783,
          4.222167015075684,
          2.9671900272369385,
          2.6287691593170166,
          4.493500709533691,
          3.3099422454833984,
          2.8997979164123535,
          3.275822162628174
         ],
         "z": [
          -2.791348934173584,
          -0.7496945261955261,
          -1.9541761875152588,
          -1.3259373903274536,
          -3.4996416568756104,
          -0.534390389919281,
          -3.043363332748413,
          -1.9272314310073853,
          -1.696682333946228,
          -2.152956247329712,
          -1.738896369934082,
          -1.1710697412490845,
          -1.9565439224243164,
          -0.9916492700576782,
          -2.4115123748779297,
          -1.7406858205795288,
          -2.1290524005889893,
          -2.9348950386047363,
          -1.7699596881866455,
          -1.252205491065979,
          -1.9035416841506958,
          -2.4930338859558105
         ]
        },
        {
         "marker": {
          "color": "#fabebe",
          "size": 4
         },
         "mode": "markers",
         "name": "horse",
         "type": "scatter3d",
         "x": [
          -4.989619255065918,
          -5.674478054046631,
          -4.53131103515625,
          -3.792360544204712,
          -5.4757304191589355,
          -5.1065592765808105,
          -3.9763364791870117,
          -4.970747947692871,
          -4.794250965118408,
          -4.481725692749023,
          -4.399168014526367,
          -4.553514003753662,
          -5.674478054046631,
          -4.480210781097412,
          -5.095900535583496,
          -4.754840850830078,
          -5.397744655609131,
          -5.790445327758789,
          -4.309723854064941,
          -5.634693622589111,
          -4.971104145050049,
          -4.0256500244140625
         ],
         "y": [
          -0.5043547749519348,
          -1.0429645776748657,
          0.7558363676071167,
          -1.3745969533920288,
          -0.3385116755962372,
          0.7364400029182434,
          0.09612560272216797,
          -0.544452428817749,
          0.5161564350128174,
          2.1349709033966064,
          0.8998386263847351,
          -0.8565501570701599,
          -1.0429645776748657,
          1.5240561962127686,
          -0.07296352088451385,
          0.7497679591178894,
          -0.13008646667003632,
          1.3903212547302246,
          0.06741169840097427,
          1.1004290580749512,
          1.034397006034851,
          -1.6744366884231567
         ],
         "z": [
          1.445151448249817,
          2.610217332839966,
          1.879582166671753,
          0.07387856394052505,
          0.5846965909004211,
          1.9795562028884888,
          0.8128475546836853,
          1.0939240455627441,
          2.246804714202881,
          1.1800949573516846,
          1.200422763824463,
          0.9347503185272217,
          2.610217332839966,
          1.5935473442077637,
          1.0133527517318726,
          2.1122865676879883,
          1.1884589195251465,
          2.2674965858459473,
          0.8748367428779602,
          1.0630638599395752,
          0.19159512221813202,
          2.61507511138916
         ]
        },
        {
         "marker": {
          "color": "#008080",
          "size": 4
         },
         "mode": "markers",
         "name": "pineapple",
         "type": "scatter3d",
         "x": [
          1.2504692077636719,
          0.32591956853866577,
          0.2908988893032074,
          -1.541306972503662,
          0.1817401647567749,
          0.009358590468764305,
          -0.9186269640922546,
          0.6435556411743164,
          -0.29813915491104126,
          0.507493793964386,
          -0.15920226275920868,
          1.1739673614501953,
          0.1677994728088379,
          -0.52642422914505,
          0.5330035090446472,
          0.3171979784965515,
          0.10093751549720764,
          -0.18192020058631897,
          0.437469482421875,
          0.4655550718307495,
          0.6324308514595032,
          -0.15920226275920868
         ],
         "y": [
          -5.499549865722656,
          -4.471860408782959,
          -6.002356052398682,
          -5.305150985717773,
          -7.7423481941223145,
          -7.325435161590576,
          -4.750685214996338,
          -6.195626735687256,
          -7.792900085449219,
          -5.829782009124756,
          -6.349552631378174,
          -4.866106986999512,
          -5.675020217895508,
          -4.019365310668945,
          -6.862138271331787,
          -6.19938325881958,
          -5.179169654846191,
          -5.466579437255859,
          -5.855973243713379,
          -4.297733783721924,
          -5.592416286468506,
          -6.349552631378174
         ],
         "z": [
          -0.6238487362861633,
          -3.029224395751953,
          -1.2995097637176514,
          -1.6230958700180054,
          -0.273364394903183,
          -0.8251152634620667,
          0.6237663626670837,
          -1.2085371017456055,
          -0.27679482102394104,
          -0.4550687372684479,
          -0.7860364317893982,
          -1.3656284809112549,
          -1.3543787002563477,
          -2.2993738651275635,
          -1.4811269044876099,
          -1.5578252077102661,
          -1.3298674821853638,
          -1.7273640632629395,
          -1.5566991567611694,
          -1.3490506410598755,
          -0.8236141204833984,
          -0.7860364317893982
         ]
        },
        {
         "marker": {
          "color": "#e6beff",
          "size": 4
         },
         "mode": "markers",
         "name": "rifle",
         "type": "scatter3d",
         "x": [
          0.8932294249534607,
          -0.13593916594982147,
          -0.31556063890457153,
          -0.6369269490242004,
          0.7495948672294617,
          0.20302145183086395,
          1.0331183671951294,
          -0.12404417246580124,
          0.29268619418144226,
          -0.662264883518219,
          1.4052027463912964,
          0.6379378437995911,
          -0.6369269490242004,
          0.9981779456138611,
          0.4927348494529724,
          -0.31556063890457153,
          1.5019031763076782,
          0.06356719881296158,
          0.788516640663147,
          0.5982450246810913,
          1.0622628927230835,
          0.9162741303443909,
          0.5947728157043457,
          0.9162741303443909,
          0.5959675908088684,
          -0.7465837001800537,
          0.2950708270072937,
          -0.9193523526191711,
          0.6734806895256042,
          0.7315474152565002,
          0.8941967487335205,
          0.8592343926429749,
          0.5899440050125122,
          1.2965507507324219
         ],
         "y": [
          5.140138626098633,
          6.702156066894531,
          6.194005966186523,
          6.480376243591309,
          6.125208854675293,
          5.348295211791992,
          5.727341175079346,
          7.335897445678711,
          8.205621719360352,
          7.403005123138428,
          6.12139368057251,
          8.067525863647461,
          6.480376243591309,
          6.317838191986084,
          4.105844497680664,
          6.194005966186523,
          7.7421746253967285,
          5.400601863861084,
          5.3034796714782715,
          7.638971328735352,
          3.9167559146881104,
          7.084628105163574,
          4.050284385681152,
          7.084628105163574,
          5.961904525756836,
          3.50776743888855,
          5.121905326843262,
          3.314004421234131,
          7.275739669799805,
          6.245089054107666,
          7.093074798583984,
          6.619360446929932,
          3.976123332977295,
          5.885122299194336
         ],
         "z": [
          -0.8810021281242371,
          -0.2503776550292969,
          -1.0427542924880981,
          -0.9129332304000854,
          -1.373397946357727,
          -0.6012420058250427,
          -2.4225847721099854,
          -1.5587213039398193,
          -1.4960925579071045,
          -1.6637132167816162,
          -2.1969425678253174,
          -1.9731993675231934,
          -0.9129332304000854,
          -1.3701391220092773,
          -1.6327801942825317,
          -1.0427542924880981,
          -2.0720484256744385,
          -2.6952648162841797,
          0.5725330710411072,
          -1.2671139240264893,
          0.15307356417179108,
          -0.20590101182460785,
          0.049699440598487854,
          -0.20590101182460785,
          -0.8688077926635742,
          1.9017442464828491,
          -1.698614478111267,
          0.4630909264087677,
          -0.47002026438713074,
          -0.21933530271053314,
          -0.06552796065807343,
          -0.6852254271507263,
          -0.3017602264881134,
          0.4854303002357483
         ]
        },
        {
         "marker": {
          "color": "#9a6324",
          "size": 4
         },
         "mode": "markers",
         "name": "shark",
         "type": "scatter3d",
         "x": [
          -4.61614465713501,
          -5.6202216148376465,
          -2.7328083515167236,
          -1.6108782291412354,
          -4.837766170501709,
          -3.875666856765747,
          -4.986593246459961,
          -2.8314361572265625,
          -4.837766170501709,
          -4.453873634338379,
          -4.870697498321533,
          -4.128377437591553,
          -3.498291254043579,
          -4.2385969161987305,
          -4.512495040893555,
          -4.413051605224609,
          -2.507253885269165,
          -4.122501850128174,
          -4.50376558303833,
          -2.507253885269165,
          -2.183326244354248,
          -4.512495040893555,
          -4.507380962371826,
          -4.008935451507568,
          -3.065403699874878
         ],
         "y": [
          -0.6999364495277405,
          -2.868655204772949,
          0.4853038191795349,
          0.4120052456855774,
          -0.0574079304933548,
          -0.08358369767665863,
          -1.2577778100967407,
          0.5765969753265381,
          -0.0574079304933548,
          0.5247647762298584,
          -1.4993890523910522,
          -0.917900025844574,
          -0.9184654355049133,
          -1.2939716577529907,
          -0.3786257803440094,
          -1.24399995803833,
          -0.6967288851737976,
          -1.3806359767913818,
          -0.9427123069763184,
          -0.6967288851737976,
          -0.11143926531076431,
          -0.3786257803440094,
          -1.4827351570129395,
          -0.12029598653316498,
          -0.7000191807746887
         ],
         "z": [
          -4.291543006896973,
          -3.0981502532958984,
          -2.9985053539276123,
          -2.9818673133850098,
          -4.137783527374268,
          -3.466780424118042,
          -3.218346357345581,
          0.24514563381671906,
          -4.137783527374268,
          -3.1159489154815674,
          -4.697494983673096,
          -3.6343839168548584,
          -4.181272506713867,
          -4.4695563316345215,
          -4.409862995147705,
          -4.207563400268555,
          -2.613776683807373,
          -3.3682117462158203,
          -4.1958794593811035,
          -2.613776683807373,
          -1.3433195352554321,
          -4.409862995147705,
          -3.664064884185791,
          -4.024533748626709,
          -3.7876763343811035
         ]
        },
        {
         "marker": {
          "color": "#fffac8",
          "size": 4
         },
         "mode": "markers",
         "name": "snail",
         "type": "scatter3d",
         "x": [
          3.8222408294677734,
          4.010415077209473,
          1.994620442390442,
          -0.4017701745033264,
          2.5319595336914062,
          4.009514331817627,
          1.816072702407837,
          1.2202726602554321,
          3.236802101135254,
          1.4230400323867798,
          2.2894155979156494,
          3.676339864730835,
          3.144550085067749,
          2.148479700088501,
          2.0006959438323975,
          1.4562280178070068,
          2.061572313308716,
          1.5247166156768799,
          1.864311933517456
         ],
         "y": [
          -3.3102822303771973,
          -2.345275402069092,
          -1.695696473121643,
          0.09593223035335541,
          -3.1045081615448,
          -3.080169200897217,
          -2.1249115467071533,
          -2.9057774543762207,
          -2.1839993000030518,
          -2.2454142570495605,
          -1.9528191089630127,
          -2.6575517654418945,
          -0.8670501112937927,
          -1.6259499788284302,
          -1.7063339948654175,
          -2.2398197650909424,
          -2.384838342666626,
          -2.6915762424468994,
          -2.925849437713623
         ],
         "z": [
          -6.063657283782959,
          -5.380213737487793,
          -5.131564140319824,
          -2.331820011138916,
          -6.520977020263672,
          -6.8908915519714355,
          -6.679206848144531,
          -5.200353145599365,
          -5.220747947692871,
          -2.7899041175842285,
          -5.0544819831848145,
          -6.074047088623047,
          -5.612520217895508,
          -4.959712028503418,
          -3.3242721557617188,
          -5.713672637939453,
          -5.3137288093566895,
          -3.7916388511657715,
          -4.096806049346924
         ]
        },
        {
         "marker": {
          "color": "#800000",
          "size": 4
         },
         "mode": "markers",
         "name": "snake",
         "type": "scatter3d",
         "x": [
          2.0084922313690186,
          3.4543657302856445,
          2.0084922313690186,
          1.7696527242660522,
          0.8374413847923279,
          1.3048949241638184,
          0.8374413847923279,
          1.7696527242660522,
          3.4543657302856445,
          -2.458955764770508,
          0.3593989610671997,
          -1.2232582569122314,
          -0.5865773558616638,
          -1.2232582569122314,
          0.7546982169151306,
          0.02863272652029991
         ],
         "y": [
          -0.4408209025859833,
          -2.0417559146881104,
          -0.4408209025859833,
          -0.2229849398136139,
          0.16378581523895264,
          -0.29180100560188293,
          0.16378581523895264,
          -0.2229849398136139,
          -2.0417559146881104,
          -1.1642110347747803,
          0.4129898250102997,
          0.4706217646598816,
          -0.6649237275123596,
          0.4706217646598816,
          -0.5680785775184631,
          -1.1063324213027954
         ],
         "z": [
          -4.535148620605469,
          -2.4310078620910645,
          -4.535148620605469,
          -4.777337551116943,
          -3.9403598308563232,
          -4.7548651695251465,
          -3.9403598308563232,
          -4.777337551116943,
          -2.4310078620910645,
          -1.263389229774475,
          -3.912630319595337,
          -3.5373661518096924,
          -4.390594959259033,
          -3.5373661518096924,
          -4.037727355957031,
          -4.700141429901123
         ]
        },
        {
         "marker": {
          "color": "#aaffc3",
          "size": 4
         },
         "mode": "markers",
         "name": "teapot",
         "type": "scatter3d",
         "x": [
          5.735739231109619,
          4.844719886779785,
          6.221957206726074,
          4.588363170623779,
          7.070765972137451,
          6.131915092468262,
          5.355386734008789,
          6.988704681396484,
          7.16030740737915,
          7.032808780670166,
          3.9131693840026855,
          2.9568042755126953,
          5.899334907531738,
          7.516057014465332,
          6.679745197296143,
          8.942415237426758,
          7.261414527893066,
          6.2832183837890625,
          2.613161325454712,
          7.321788311004639,
          6.914651870727539,
          5.2773518562316895,
          5.611719131469727,
          6.914651870727539,
          5.119205951690674,
          3.4739837646484375
         ],
         "y": [
          -2.4567034244537354,
          -4.214174747467041,
          -2.793435573577881,
          -3.2511677742004395,
          -2.6673455238342285,
          -1.1154814958572388,
          -1.397499918937683,
          -2.8729515075683594,
          -2.4257538318634033,
          -1.1032142639160156,
          -1.0506017208099365,
          -1.7953107357025146,
          -3.285271167755127,
          -4.722943305969238,
          -3.4231607913970947,
          -4.802942752838135,
          -3.7056949138641357,
          -3.0917344093322754,
          -0.17058345675468445,
          -3.5088648796081543,
          -3.7016632556915283,
          -2.5954957008361816,
          -3.274282217025757,
          -3.7016632556915283,
          -2.2264485359191895,
          -0.9214470386505127
         ],
         "z": [
          0.2266027182340622,
          -2.6573400497436523,
          -0.07859582453966141,
          -0.2958274483680725,
          1.2547919750213623,
          1.1652177572250366,
          -3.391932249069214,
          -0.18461774289608002,
          1.2588213682174683,
          0.8567819595336914,
          -0.2695215940475464,
          -0.5345228314399719,
          1.3858295679092407,
          1.020849347114563,
          2.6342997550964355,
          2.0844383239746094,
          1.8526815176010132,
          2.0643928050994873,
          0.6739391684532166,
          1.8859413862228394,
          1.9754483699798584,
          1.572981595993042,
          2.1121699810028076,
          1.9754483699798584,
          0.2017946094274521,
          1.033211350440979
         ]
        },
        {
         "marker": {
          "color": "#808000",
          "size": 4
         },
         "mode": "markers",
         "name": "teddy_bear",
         "type": "scatter3d",
         "x": [
          0.005571328569203615,
          -1.1741483211517334,
          -2.1264171600341797,
          -0.5373288989067078,
          -1.7966481447219849,
          -1.462638258934021,
          0.9840648770332336,
          1.0998605489730835,
          0.8267385363578796,
          -0.9824127554893494,
          -0.935766875743866,
          -3.707111358642578,
          -0.5303819179534912,
          -0.06868399679660797,
          1.1232813596725464,
          1.3641942739486694,
          1.4032596349716187,
          -0.6520774364471436,
          0.23072580993175507,
          0.5720500349998474,
          0.5345761179924011
         ],
         "y": [
          -4.140340328216553,
          -3.3408854007720947,
          -3.5415778160095215,
          -5.119794845581055,
          -4.215806007385254,
          -4.177847862243652,
          -3.4349849224090576,
          -2.6257009506225586,
          -3.7133126258850098,
          -2.8121695518493652,
          -4.76781702041626,
          -3.576181411743164,
          -5.032730579376221,
          -0.18234597146511078,
          -3.6853322982788086,
          -3.7185003757476807,
          -3.638638496398926,
          -3.7822389602661133,
          -3.1463539600372314,
          -3.519598960876465,
          -3.8803281784057617
         ],
         "z": [
          1.203183889389038,
          2.005585193634033,
          1.032677412033081,
          1.5982757806777954,
          1.2773244380950928,
          2.1631295680999756,
          0.4690420925617218,
          2.042074203491211,
          1.4692118167877197,
          1.6386173963546753,
          0.7491036653518677,
          1.3850481510162354,
          1.8979378938674927,
          0.5562558174133301,
          1.8356091976165771,
          1.5639739036560059,
          2.019589900970459,
          1.601700782775879,
          2.4068374633789062,
          2.0825490951538086,
          2.139726400375366
         ]
        },
        {
         "marker": {
          "color": "#ffd8b1",
          "size": 4
         },
         "mode": "markers",
         "name": "tiger",
         "type": "scatter3d",
         "x": [
          -4.050858974456787,
          -5.2478485107421875,
          -4.091287136077881,
          -5.864190578460693,
          -5.572565078735352,
          -4.905603408813477,
          -5.288658618927002,
          -3.674914598464966,
          -4.208404541015625,
          -4.919437408447266,
          -4.219391822814941,
          -6.1194257736206055,
          -3.258411169052124,
          -4.920065402984619,
          -2.5756185054779053,
          -6.286641597747803,
          -5.277364253997803,
          -5.1404619216918945,
          -5.124070644378662,
          -5.1009063720703125,
          -4.94338846206665,
          -5.475977897644043,
          -4.488199710845947,
          -4.915338516235352,
          -5.373543739318848
         ],
         "y": [
          -2.0553207397460938,
          -2.7313292026519775,
          -2.18631649017334,
          -0.7597599029541016,
          -0.21111196279525757,
          -1.825409173965454,
          -2.6189091205596924,
          0.4477792978286743,
          -1.2765530347824097,
          -3.2649831771850586,
          -1.5831972360610962,
          -1.170981764793396,
          -1.2641631364822388,
          -2.919581413269043,
          -3.36555552482605,
          -0.13744881749153137,
          -1.8048776388168335,
          -1.5386217832565308,
          -1.7659682035446167,
          -1.8291572332382202,
          -1.636983871459961,
          -1.1592931747436523,
          -1.5172874927520752,
          -1.5191550254821777,
          -1.1943995952606201
         ],
         "z": [
          2.398942708969116,
          1.7404578924179077,
          1.147292971611023,
          1.7215384244918823,
          -0.029872378334403038,
          4.435551166534424,
          3.258380889892578,
          1.0545344352722168,
          2.2207558155059814,
          1.7931331396102905,
          3.3904225826263428,
          2.0753746032714844,
          3.2346558570861816,
          1.0702133178710938,
          2.4629509449005127,
          2.1752259731292725,
          1.7872108221054077,
          2.1746041774749756,
          2.0534439086914062,
          2.2899370193481445,
          1.9006080627441406,
          2.0281033515930176,
          2.4917147159576416,
          2.480095624923706,
          1.9260300397872925
         ]
        },
        {
         "marker": {
          "color": "#000075",
          "size": 4
         },
         "mode": "markers",
         "name": "umbrella",
         "type": "scatter3d",
         "x": [
          0.2458931803703308,
          -1.3996139764785767,
          -0.22245655953884125,
          0.5503349304199219,
          0.2010561227798462,
          0.3504588007926941,
          1.6509369611740112,
          0.6633917093276978,
          0.26180899143218994,
          0.9577428698539734,
          1.1323026418685913,
          0.5523585677146912,
          1.2376154661178589,
          2.5503790378570557,
          0.4653492569923401,
          0.3524206578731537,
          -0.409476637840271,
          1.0387681722640991
         ],
         "y": [
          -0.3063269853591919,
          1.4022045135498047,
          2.82327938079834,
          2.6592955589294434,
          0.7277098894119263,
          0.7963680028915405,
          -0.744235098361969,
          1.6687426567077637,
          0.8829593658447266,
          1.4043753147125244,
          0.11571043729782104,
          1.1643671989440918,
          0.7484347224235535,
          2.2709622383117676,
          1.0377144813537598,
          2.708317995071411,
          1.1375524997711182,
          0.18363520503044128
         ],
         "z": [
          0.004059115424752235,
          -2.7178614139556885,
          -2.2586476802825928,
          -0.466156005859375,
          -1.2366211414337158,
          -0.5027889609336853,
          -0.7405441999435425,
          -0.7796741724014282,
          -0.48895296454429626,
          -1.7098071575164795,
          -0.3687254786491394,
          0.4167652726173401,
          0.014752272516489029,
          -0.625676155090332,
          1.6653193235397339,
          0.27329742908477783,
          -0.9401007890701294,
          0.7900233864784241
         ]
        },
        {
         "marker": {
          "color": "#808080",
          "size": 4
         },
         "mode": "markers",
         "name": "violin",
         "type": "scatter3d",
         "x": [
          3.3474979400634766,
          1.4037871360778809,
          3.070781707763672,
          4.11124849319458,
          2.0070958137512207,
          2.2008092403411865,
          2.2799665927886963,
          0.7181975841522217,
          2.253256320953369,
          2.2303683757781982,
          1.9676274061203003,
          1.1339398622512817,
          2.3717904090881348,
          2.2799665927886963,
          1.769398808479309,
          2.8695082664489746,
          2.0414679050445557,
          1.5814610719680786,
          1.8374019861221313,
          3.2075350284576416,
          1.51726233959198,
          1.5717887878417969,
          2.2896382808685303,
          2.0788016319274902,
          1.9843194484710693,
          2.10074520111084,
          2.011448383331299,
          1.6129467487335205,
          3.2967851161956787,
          2.438206195831299,
          2.295097589492798,
          1.5514206886291504
         ],
         "y": [
          0.5901784300804138,
          4.929248809814453,
          1.685657262802124,
          3.0495636463165283,
          8.37063980102539,
          0.898931086063385,
          9.135991096496582,
          6.233935356140137,
          5.092710971832275,
          4.864866733551025,
          7.660274505615234,
          6.086643695831299,
          6.528772354125977,
          9.135991096496582,
          4.949118137359619,
          1.9735231399536133,
          4.966700553894043,
          3.634836196899414,
          6.649943828582764,
          3.824249029159546,
          5.290261268615723,
          5.266276836395264,
          6.446488857269287,
          6.51496696472168,
          5.373249053955078,
          6.307419300079346,
          5.762267112731934,
          6.311044692993164,
          9.419551849365234,
          8.40534782409668,
          7.51552677154541,
          5.501481056213379
         ],
         "z": [
          -2.7406580448150635,
          -2.2098701000213623,
          -4.404975891113281,
          -3.3539609909057617,
          -3.8495981693267822,
          -1.7303357124328613,
          -3.5642874240875244,
          -4.0574140548706055,
          -1.9344924688339233,
          -3.1248340606689453,
          -2.9068920612335205,
          -2.5744540691375732,
          -3.8836987018585205,
          -3.5642874240875244,
          -3.227837085723877,
          0.9758831858634949,
          -0.9932851195335388,
          -1.4098615646362305,
          -3.107653856277466,
          -0.75289386510849,
          -3.454420328140259,
          -1.728164792060852,
          -3.125136375427246,
          -2.5398411750793457,
          -1.3960518836975098,
          -2.356337070465088,
          -2.014103412628174,
          -2.516481637954712,
          -4.219581127166748,
          -3.3793487548828125,
          -2.6475281715393066,
          -1.5328878164291382
         ]
        },
        {
         "marker": {
          "color": "#000000",
          "size": 4
         },
         "mode": "markers",
         "name": "zebra",
         "type": "scatter3d",
         "x": [
          -5.726954460144043,
          -5.894146919250488,
          -4.774819374084473,
          -6.2189507484436035,
          -5.894146919250488,
          -3.63242244720459,
          -5.673618316650391,
          -5.876346111297607,
          -4.31134557723999,
          -5.96123743057251,
          -2.4486286640167236,
          -5.626580238342285,
          -4.843810081481934,
          -5.424615859985352,
          -5.850955486297607,
          -6.546449661254883,
          -5.984685897827148,
          -6.0518293380737305,
          -5.975971698760986,
          -7.169973373413086,
          -6.750272750854492,
          -5.835574626922607,
          -6.823672771453857,
          -6.829385280609131,
          -5.843286991119385,
          -5.257931232452393
         ],
         "y": [
          1.8261244297027588,
          -0.05729306861758232,
          -0.6555920839309692,
          0.8673197627067566,
          -0.05729306861758232,
          -1.877524971961975,
          0.0205813217908144,
          1.1213113069534302,
          -1.3217288255691528,
          0.06674914062023163,
          0.6415722966194153,
          1.1293200254440308,
          0.6508572697639465,
          2.1149868965148926,
          0.6452633738517761,
          1.0344563722610474,
          0.12182915210723877,
          0.3798364996910095,
          0.463032066822052,
          0.5139212012290955,
          0.9361493587493896,
          1.1251232624053955,
          0.5960221886634827,
          0.15683110058307648,
          0.2611832618713379,
          0.09722718596458435
         ],
         "z": [
          1.4902164936065674,
          -0.18474403023719788,
          -0.7256031632423401,
          0.02811455726623535,
          -0.18474403023719788,
          0.6554684638977051,
          1.3884936571121216,
          0.08171532303094864,
          -0.4276246726512909,
          0.4009939134120941,
          -1.1291340589523315,
          0.09233509004116058,
          -0.8656906485557556,
          -0.7177844047546387,
          0.5566327571868896,
          0.19078882038593292,
          -0.7937819957733154,
          0.9169849157333374,
          0.5839805603027344,
          0.4838659167289734,
          0.34596744179725647,
          0.2709212005138397,
          0.2681029140949249,
          0.6354019045829773,
          0.6937347650527954,
          -0.19986966252326965
         ]
        }
       ],
       "layout": {
        "template": {
         "data": {
          "bar": [
           {
            "error_x": {
             "color": "#2a3f5f"
            },
            "error_y": {
             "color": "#2a3f5f"
            },
            "marker": {
             "line": {
              "color": "#E5ECF6",
              "width": 0.5
             }
            },
            "type": "bar"
           }
          ],
          "barpolar": [
           {
            "marker": {
             "line": {
              "color": "#E5ECF6",
              "width": 0.5
             }
            },
            "type": "barpolar"
           }
          ],
          "carpet": [
           {
            "aaxis": {
             "endlinecolor": "#2a3f5f",
             "gridcolor": "white",
             "linecolor": "white",
             "minorgridcolor": "white",
             "startlinecolor": "#2a3f5f"
            },
            "baxis": {
             "endlinecolor": "#2a3f5f",
             "gridcolor": "white",
             "linecolor": "white",
             "minorgridcolor": "white",
             "startlinecolor": "#2a3f5f"
            },
            "type": "carpet"
           }
          ],
          "choropleth": [
           {
            "colorbar": {
             "outlinewidth": 0,
             "ticks": ""
            },
            "type": "choropleth"
           }
          ],
          "contour": [
           {
            "colorbar": {
             "outlinewidth": 0,
             "ticks": ""
            },
            "colorscale": [
             [
              0,
              "#0d0887"
             ],
             [
              0.1111111111111111,
              "#46039f"
             ],
             [
              0.2222222222222222,
              "#7201a8"
             ],
             [
              0.3333333333333333,
              "#9c179e"
             ],
             [
              0.4444444444444444,
              "#bd3786"
             ],
             [
              0.5555555555555556,
              "#d8576b"
             ],
             [
              0.6666666666666666,
              "#ed7953"
             ],
             [
              0.7777777777777778,
              "#fb9f3a"
             ],
             [
              0.8888888888888888,
              "#fdca26"
             ],
             [
              1,
              "#f0f921"
             ]
            ],
            "type": "contour"
           }
          ],
          "contourcarpet": [
           {
            "colorbar": {
             "outlinewidth": 0,
             "ticks": ""
            },
            "type": "contourcarpet"
           }
          ],
          "heatmap": [
           {
            "colorbar": {
             "outlinewidth": 0,
             "ticks": ""
            },
            "colorscale": [
             [
              0,
              "#0d0887"
             ],
             [
              0.1111111111111111,
              "#46039f"
             ],
             [
              0.2222222222222222,
              "#7201a8"
             ],
             [
              0.3333333333333333,
              "#9c179e"
             ],
             [
              0.4444444444444444,
              "#bd3786"
             ],
             [
              0.5555555555555556,
              "#d8576b"
             ],
             [
              0.6666666666666666,
              "#ed7953"
             ],
             [
              0.7777777777777778,
              "#fb9f3a"
             ],
             [
              0.8888888888888888,
              "#fdca26"
             ],
             [
              1,
              "#f0f921"
             ]
            ],
            "type": "heatmap"
           }
          ],
          "heatmapgl": [
           {
            "colorbar": {
             "outlinewidth": 0,
             "ticks": ""
            },
            "colorscale": [
             [
              0,
              "#0d0887"
             ],
             [
              0.1111111111111111,
              "#46039f"
             ],
             [
              0.2222222222222222,
              "#7201a8"
             ],
             [
              0.3333333333333333,
              "#9c179e"
             ],
             [
              0.4444444444444444,
              "#bd3786"
             ],
             [
              0.5555555555555556,
              "#d8576b"
             ],
             [
              0.6666666666666666,
              "#ed7953"
             ],
             [
              0.7777777777777778,
              "#fb9f3a"
             ],
             [
              0.8888888888888888,
              "#fdca26"
             ],
             [
              1,
              "#f0f921"
             ]
            ],
            "type": "heatmapgl"
           }
          ],
          "histogram": [
           {
            "marker": {
             "colorbar": {
              "outlinewidth": 0,
              "ticks": ""
             }
            },
            "type": "histogram"
           }
          ],
          "histogram2d": [
           {
            "colorbar": {
             "outlinewidth": 0,
             "ticks": ""
            },
            "colorscale": [
             [
              0,
              "#0d0887"
             ],
             [
              0.1111111111111111,
              "#46039f"
             ],
             [
              0.2222222222222222,
              "#7201a8"
             ],
             [
              0.3333333333333333,
              "#9c179e"
             ],
             [
              0.4444444444444444,
              "#bd3786"
             ],
             [
              0.5555555555555556,
              "#d8576b"
             ],
             [
              0.6666666666666666,
              "#ed7953"
             ],
             [
              0.7777777777777778,
              "#fb9f3a"
             ],
             [
              0.8888888888888888,
              "#fdca26"
             ],
             [
              1,
              "#f0f921"
             ]
            ],
            "type": "histogram2d"
           }
          ],
          "histogram2dcontour": [
           {
            "colorbar": {
             "outlinewidth": 0,
             "ticks": ""
            },
            "colorscale": [
             [
              0,
              "#0d0887"
             ],
             [
              0.1111111111111111,
              "#46039f"
             ],
             [
              0.2222222222222222,
              "#7201a8"
             ],
             [
              0.3333333333333333,
              "#9c179e"
             ],
             [
              0.4444444444444444,
              "#bd3786"
             ],
             [
              0.5555555555555556,
              "#d8576b"
             ],
             [
              0.6666666666666666,
              "#ed7953"
             ],
             [
              0.7777777777777778,
              "#fb9f3a"
             ],
             [
              0.8888888888888888,
              "#fdca26"
             ],
             [
              1,
              "#f0f921"
             ]
            ],
            "type": "histogram2dcontour"
           }
          ],
          "mesh3d": [
           {
            "colorbar": {
             "outlinewidth": 0,
             "ticks": ""
            },
            "type": "mesh3d"
           }
          ],
          "parcoords": [
           {
            "line": {
             "colorbar": {
              "outlinewidth": 0,
              "ticks": ""
             }
            },
            "type": "parcoords"
           }
          ],
          "pie": [
           {
            "automargin": true,
            "type": "pie"
           }
          ],
          "scatter": [
           {
            "marker": {
             "colorbar": {
              "outlinewidth": 0,
              "ticks": ""
             }
            },
            "type": "scatter"
           }
          ],
          "scatter3d": [
           {
            "line": {
             "colorbar": {
              "outlinewidth": 0,
              "ticks": ""
             }
            },
            "marker": {
             "colorbar": {
              "outlinewidth": 0,
              "ticks": ""
             }
            },
            "type": "scatter3d"
           }
          ],
          "scattercarpet": [
           {
            "marker": {
             "colorbar": {
              "outlinewidth": 0,
              "ticks": ""
             }
            },
            "type": "scattercarpet"
           }
          ],
          "scattergeo": [
           {
            "marker": {
             "colorbar": {
              "outlinewidth": 0,
              "ticks": ""
             }
            },
            "type": "scattergeo"
           }
          ],
          "scattergl": [
           {
            "marker": {
             "colorbar": {
              "outlinewidth": 0,
              "ticks": ""
             }
            },
            "type": "scattergl"
           }
          ],
          "scattermapbox": [
           {
            "marker": {
             "colorbar": {
              "outlinewidth": 0,
              "ticks": ""
             }
            },
            "type": "scattermapbox"
           }
          ],
          "scatterpolar": [
           {
            "marker": {
             "colorbar": {
              "outlinewidth": 0,
              "ticks": ""
             }
            },
            "type": "scatterpolar"
           }
          ],
          "scatterpolargl": [
           {
            "marker": {
             "colorbar": {
              "outlinewidth": 0,
              "ticks": ""
             }
            },
            "type": "scatterpolargl"
           }
          ],
          "scatterternary": [
           {
            "marker": {
             "colorbar": {
              "outlinewidth": 0,
              "ticks": ""
             }
            },
            "type": "scatterternary"
           }
          ],
          "surface": [
           {
            "colorbar": {
             "outlinewidth": 0,
             "ticks": ""
            },
            "colorscale": [
             [
              0,
              "#0d0887"
             ],
             [
              0.1111111111111111,
              "#46039f"
             ],
             [
              0.2222222222222222,
              "#7201a8"
             ],
             [
              0.3333333333333333,
              "#9c179e"
             ],
             [
              0.4444444444444444,
              "#bd3786"
             ],
             [
              0.5555555555555556,
              "#d8576b"
             ],
             [
              0.6666666666666666,
              "#ed7953"
             ],
             [
              0.7777777777777778,
              "#fb9f3a"
             ],
             [
              0.8888888888888888,
              "#fdca26"
             ],
             [
              1,
              "#f0f921"
             ]
            ],
            "type": "surface"
           }
          ],
          "table": [
           {
            "cells": {
             "fill": {
              "color": "#EBF0F8"
             },
             "line": {
              "color": "white"
             }
            },
            "header": {
             "fill": {
              "color": "#C8D4E3"
             },
             "line": {
              "color": "white"
             }
            },
            "type": "table"
           }
          ]
         },
         "layout": {
          "annotationdefaults": {
           "arrowcolor": "#2a3f5f",
           "arrowhead": 0,
           "arrowwidth": 1
          },
          "autotypenumbers": "strict",
          "coloraxis": {
           "colorbar": {
            "outlinewidth": 0,
            "ticks": ""
           }
          },
          "colorscale": {
           "diverging": [
            [
             0,
             "#8e0152"
            ],
            [
             0.1,
             "#c51b7d"
            ],
            [
             0.2,
             "#de77ae"
            ],
            [
             0.3,
             "#f1b6da"
            ],
            [
             0.4,
             "#fde0ef"
            ],
            [
             0.5,
             "#f7f7f7"
            ],
            [
             0.6,
             "#e6f5d0"
            ],
            [
             0.7,
             "#b8e186"
            ],
            [
             0.8,
             "#7fbc41"
            ],
            [
             0.9,
             "#4d9221"
            ],
            [
             1,
             "#276419"
            ]
           ],
           "sequential": [
            [
             0,
             "#0d0887"
            ],
            [
             0.1111111111111111,
             "#46039f"
            ],
            [
             0.2222222222222222,
             "#7201a8"
            ],
            [
             0.3333333333333333,
             "#9c179e"
            ],
            [
             0.4444444444444444,
             "#bd3786"
            ],
            [
             0.5555555555555556,
             "#d8576b"
            ],
            [
             0.6666666666666666,
             "#ed7953"
            ],
            [
             0.7777777777777778,
             "#fb9f3a"
            ],
            [
             0.8888888888888888,
             "#fdca26"
            ],
            [
             1,
             "#f0f921"
            ]
           ],
           "sequentialminus": [
            [
             0,
             "#0d0887"
            ],
            [
             0.1111111111111111,
             "#46039f"
            ],
            [
             0.2222222222222222,
             "#7201a8"
            ],
            [
             0.3333333333333333,
             "#9c179e"
            ],
            [
             0.4444444444444444,
             "#bd3786"
            ],
            [
             0.5555555555555556,
             "#d8576b"
            ],
            [
             0.6666666666666666,
             "#ed7953"
            ],
            [
             0.7777777777777778,
             "#fb9f3a"
            ],
            [
             0.8888888888888888,
             "#fdca26"
            ],
            [
             1,
             "#f0f921"
            ]
           ]
          },
          "colorway": [
           "#636efa",
           "#EF553B",
           "#00cc96",
           "#ab63fa",
           "#FFA15A",
           "#19d3f3",
           "#FF6692",
           "#B6E880",
           "#FF97FF",
           "#FECB52"
          ],
          "font": {
           "color": "#2a3f5f"
          },
          "geo": {
           "bgcolor": "white",
           "lakecolor": "white",
           "landcolor": "#E5ECF6",
           "showlakes": true,
           "showland": true,
           "subunitcolor": "white"
          },
          "hoverlabel": {
           "align": "left"
          },
          "hovermode": "closest",
          "mapbox": {
           "style": "light"
          },
          "paper_bgcolor": "white",
          "plot_bgcolor": "#E5ECF6",
          "polar": {
           "angularaxis": {
            "gridcolor": "white",
            "linecolor": "white",
            "ticks": ""
           },
           "bgcolor": "#E5ECF6",
           "radialaxis": {
            "gridcolor": "white",
            "linecolor": "white",
            "ticks": ""
           }
          },
          "scene": {
           "xaxis": {
            "backgroundcolor": "#E5ECF6",
            "gridcolor": "white",
            "gridwidth": 2,
            "linecolor": "white",
            "showbackground": true,
            "ticks": "",
            "zerolinecolor": "white"
           },
           "yaxis": {
            "backgroundcolor": "#E5ECF6",
            "gridcolor": "white",
            "gridwidth": 2,
            "linecolor": "white",
            "showbackground": true,
            "ticks": "",
            "zerolinecolor": "white"
           },
           "zaxis": {
            "backgroundcolor": "#E5ECF6",
            "gridcolor": "white",
            "gridwidth": 2,
            "linecolor": "white",
            "showbackground": true,
            "ticks": "",
            "zerolinecolor": "white"
           }
          },
          "shapedefaults": {
           "line": {
            "color": "#2a3f5f"
           }
          },
          "ternary": {
           "aaxis": {
            "gridcolor": "white",
            "linecolor": "white",
            "ticks": ""
           },
           "baxis": {
            "gridcolor": "white",
            "linecolor": "white",
            "ticks": ""
           },
           "bgcolor": "#E5ECF6",
           "caxis": {
            "gridcolor": "white",
            "linecolor": "white",
            "ticks": ""
           }
          },
          "title": {
           "x": 0.05
          },
          "xaxis": {
           "automargin": true,
           "gridcolor": "white",
           "linecolor": "white",
           "ticks": "",
           "title": {
            "standoff": 15
           },
           "zerolinecolor": "white",
           "zerolinewidth": 2
          },
          "yaxis": {
           "automargin": true,
           "gridcolor": "white",
           "linecolor": "white",
           "ticks": "",
           "title": {
            "standoff": 15
           },
           "zerolinecolor": "white",
           "zerolinewidth": 2
          }
         }
        },
        "title": {
         "text": "3D plot of the embeddings (projected with the PCA)"
        }
       }
      },
      "text/html": [
       "<div>                            <div id=\"72812fc4-64ec-4668-8414-39636faae689\" class=\"plotly-graph-div\" style=\"height:525px; width:100%;\"></div>            <script type=\"text/javascript\">                require([\"plotly\"], function(Plotly) {                    window.PLOTLYENV=window.PLOTLYENV || {};                                    if (document.getElementById(\"72812fc4-64ec-4668-8414-39636faae689\")) {                    Plotly.newPlot(                        \"72812fc4-64ec-4668-8414-39636faae689\",                        [{\"marker\": {\"color\": \"#e6194b\", \"size\": 8}, \"mode\": \"markers\", \"name\": \"My Custom Sketch\", \"type\": \"scatter3d\", \"x\": [-1.421826720237732], \"y\": [1.8866368532180786], \"z\": [3.0864174365997314]}, {\"marker\": {\"color\": \"#3cb44b\", \"size\": 4}, \"mode\": \"markers\", \"name\": \"butterfly\", \"type\": \"scatter3d\", \"x\": [-0.7696430683135986, 0.4605318605899811, 0.19331732392311096, 1.1452471017837524, -1.0042781829833984, -1.0042781829833984, 0.7230244278907776, -1.2324827909469604, -0.22690318524837494, 0.0017026717541739345, 0.4198543131351471, -0.05361926555633545, 2.0810139179229736, -1.1816638708114624, 0.8377044796943665, 0.4937871992588043, 0.9721515774726868, 0.19563572108745575, 0.7298001050949097, 1.0983647108078003, 0.7559474110603333], \"y\": [-0.7501497864723206, -0.9233900308609009, -2.044931173324585, -1.9564683437347412, -0.854819655418396, -0.854819655418396, -0.5211262702941895, 1.0259222984313965, -0.9750736355781555, -1.4227381944656372, -2.4640402793884277, 0.8313651084899902, -2.434687376022339, -2.2633490562438965, -1.5639127492904663, -1.5288349390029907, -1.8453333377838135, -2.117419719696045, -1.904513955116272, -1.44295334815979, -1.5184564590454102], \"z\": [-2.6588988304138184, -5.109092712402344, -5.024402141571045, -5.752435684204102, -3.9991307258605957, -3.9991307258605957, -3.713287830352783, -5.120906829833984, -3.6852688789367676, -3.1720077991485596, -3.848489284515381, -5.162402153015137, -1.9536628723144531, -3.874243974685669, -4.780689239501953, -4.133124351501465, -2.243135690689087, -4.559198379516602, -5.405207633972168, -4.331035137176514, -3.892033338546753]}, {\"marker\": {\"color\": \"#ffe119\", \"size\": 4}, \"mode\": \"markers\", \"name\": \"candle\", \"type\": \"scatter3d\", \"x\": [1.7326382398605347, 2.490412473678589, 2.703310251235962, 3.4692811965942383, 4.372997283935547, 2.703310251235962, 3.282365322113037, 5.237685203552246, 4.476894855499268, 4.09104061126709, 3.1657164096832275, 2.703310251235962, 4.919178485870361, 2.209524154663086, 4.900241851806641, 3.5725340843200684, 2.677262544631958, 4.6151123046875, 2.1736655235290527, 5.19008207321167, 1.663265347480774, 4.662116050720215, 3.4328083992004395, 3.3055970668792725, 4.3648905754089355, 5.4910430908203125, 4.972259998321533, 5.310508728027344], \"y\": [0.5673011541366577, 0.2323559671640396, 3.043633222579956, -1.1858941316604614, -1.2091363668441772, 3.043633222579956, 2.3076012134552, -1.3007147312164307, -2.159309148788452, -0.6777008771896362, -1.1145098209381104, 3.043633222579956, -2.8223180770874023, 1.2666525840759277, -0.5713532567024231, -0.458330899477005, 0.462599515914917, -1.2238930463790894, 0.16981802880764008, -2.082822561264038, -0.8853752613067627, -2.039968967437744, -1.1539651155471802, -1.8070273399353027, -1.867019772529602, -1.8218544721603394, -1.3042161464691162, -1.8759914636611938], \"z\": [2.657285690307617, 1.674269676208496, 0.026374641805887222, 2.609825611114502, 2.773073434829712, 0.026374641805887222, 0.3848423957824707, 2.946932792663574, 2.9771463871002197, 2.3064491748809814, 3.23384165763855, 0.026374641805887222, 1.262744665145874, 3.535792112350464, 1.8409061431884766, 3.181368589401245, 1.1939677000045776, 2.4164340496063232, 0.5983319878578186, 4.1412835121154785, 1.0053073167800903, 1.3049671649932861, 0.9306236505508423, 0.51326584815979, 1.9324935674667358, 3.6150758266448975, 4.045283794403076, 3.9012467861175537]}, {\"marker\": {\"color\": \"#4363d8\", \"size\": 4}, \"mode\": \"markers\", \"name\": \"church\", \"type\": \"scatter3d\", \"x\": [-0.008305036462843418, -0.9144654870033264, 3.3580520153045654, -1.1934360265731812, -1.178885817527771, 0.19048231840133667, 0.029568077996373177, -1.9135137796401978, 0.7313027381896973, -1.9135137796401978, 0.7313027381896973, 2.0181095600128174, -2.3011014461517334, -1.0298786163330078, 0.7522419095039368, -0.9144654870033264, -1.0298786163330078, -0.10029240697622299, -0.3894456923007965, -0.13649091124534607, -0.9981938004493713, -1.1068023443222046, 0.053312793374061584, 0.053312793374061584, -0.36003223061561584, 0.3352448642253876, -0.3894456923007965, 0.5759720802307129, -0.08402024954557419, 0.24216187000274658, -0.31052500009536743, 0.6614967584609985, 0.05010850355029106, -0.5619045495986938], \"y\": [1.9034923315048218, 2.430716037750244, 1.0736424922943115, 2.166551113128662, 2.1559929847717285, 2.104449987411499, 2.383136034011841, 3.5196802616119385, 2.276567220687866, 3.5196802616119385, 2.276567220687866, 0.7469059228897095, 1.4681187868118286, 2.718769073486328, 1.3880562782287598, 2.430716037750244, 2.718769073486328, 1.3407865762710571, 1.6076276302337646, 2.7874317169189453, 2.0167973041534424, 1.5913364887237549, 1.582848310470581, 1.582848310470581, 1.7727960348129272, 0.9900820851325989, 1.6076276302337646, 1.4317251443862915, 1.5564911365509033, 0.9306362271308899, 1.5474919080734253, 1.1070382595062256, 2.3747925758361816, 1.800445556640625], \"z\": [6.427221775054932, 5.069526195526123, 2.5398645401000977, 6.310609340667725, 7.026384353637695, 5.820962905883789, 4.920417308807373, 6.282556056976318, 3.5760252475738525, 6.282556056976318, 3.5760252475738525, 3.663336992263794, 5.974334716796875, 6.611608982086182, 4.385206699371338, 5.069526195526123, 6.611608982086182, 5.313756465911865, 6.292332649230957, 4.988617420196533, 7.406467437744141, 7.460864543914795, 6.954557418823242, 6.954557418823242, 6.710938930511475, 4.50991153717041, 6.292332649230957, 5.635014057159424, 6.1761603355407715, 6.612794399261475, 5.540438175201416, 6.591952323913574, 7.206276893615723, 7.59194278717041]}, {\"marker\": {\"color\": \"#f58231\", \"size\": 4}, \"mode\": \"markers\", \"name\": \"cup\", \"type\": \"scatter3d\", \"x\": [4.68599796295166, 6.924652576446533, 5.6771697998046875, 4.68599796295166, 6.013210296630859, 5.6771697998046875, 5.567708492279053, 6.822833061218262, 5.647218704223633, 4.3409247398376465, 7.2533040046691895, 3.252431869506836, 5.6806721687316895, 5.8249359130859375, 6.147753715515137, 3.8243582248687744, 5.702782154083252, 5.8249359130859375, 6.2581963539123535, 4.063579559326172, 6.712723255157471, 5.934361934661865, 5.830281734466553, 6.755101680755615, 5.351916313171387, 7.306563377380371, 3.9467790126800537], \"y\": [-0.45063838362693787, -3.1936933994293213, -3.173537015914917, -0.45063838362693787, -3.1869606971740723, -3.173537015914917, -4.1283979415893555, -1.9951969385147095, -2.201476573944092, -1.5411373376846313, -3.2772746086120605, -1.2859294414520264, -2.5366575717926025, -2.2924489974975586, -1.8219794034957886, 0.7250880002975464, -3.423337936401367, -2.2924489974975586, -3.4300551414489746, -2.294466495513916, -1.9788330793380737, -3.190000295639038, -2.146792411804199, -4.263928413391113, -2.4799530506134033, -3.604254961013794, -1.5133678913116455], \"z\": [2.31242036819458, 1.0383377075195312, 0.018824340775609016, 2.31242036819458, 0.4956885874271393, 0.018824340775609016, 0.6603386402130127, 1.2154093980789185, 0.0505172535777092, 2.2228474617004395, 0.8119170069694519, 0.5531298518180847, -0.8547049760818481, 0.35521823167800903, 1.437013030052185, 2.6474862098693848, 1.5148649215698242, 0.35521823167800903, 1.7893046140670776, 0.7217082381248474, 1.714484691619873, 3.1069300174713135, 1.788422703742981, 3.0498623847961426, 1.29289710521698, 2.4499917030334473, -0.7808310985565186]}, {\"marker\": {\"color\": \"#911eb4\", \"size\": 4}, \"mode\": \"markers\", \"name\": \"door\", \"type\": \"scatter3d\", \"x\": [-1.0643235445022583, -0.17947308719158173, -1.5637990236282349, 1.2423697710037231, -0.7236914038658142, -0.011198501102626324, -0.03208871930837631, -0.243746817111969, -0.6843436360359192, -0.243746817111969, 1.7830618619918823, -0.2187756896018982, -0.37947705388069153, -1.2437775135040283, 0.00256025861017406, -0.08268626779317856, -1.2836695909500122, -1.3704564571380615, -0.375473290681839, -1.2437775135040283, -1.2966711521148682, -0.6939725279808044, -2.6579623222351074, 0.18469339609146118, -0.27992627024650574, -0.293975293636322, -0.3359447121620178, -1.19725501537323, 0.412583589553833, 0.34885546565055847, -0.40615302324295044, 1.7830618619918823], \"y\": [0.5526146292686462, 1.647092580795288, 1.8726030588150024, 3.1957125663757324, -0.08698642253875732, 1.1934642791748047, 0.8092396855354309, 2.497612237930298, 1.4051933288574219, 2.497612237930298, 0.7728498578071594, -0.10817060619592667, 0.44489285349845886, 0.18483643233776093, 0.7409778833389282, 1.9072433710098267, 1.5479199886322021, 0.5589057207107544, 1.3815608024597168, 0.18483643233776093, 0.4953502118587494, 0.4075360596179962, -1.9498580694198608, 0.22742044925689697, 0.6565184593200684, 1.492182731628418, 2.797959327697754, 0.5446035265922546, 0.4843379855155945, 1.1621596813201904, 1.8975677490234375, 0.7728498578071594], \"z\": [4.910386085510254, 3.5048460960388184, 5.454294204711914, 2.5643014907836914, 3.749873399734497, 4.1703290939331055, 4.718310832977295, 4.870625019073486, 3.4077680110931396, 4.870625019073486, 4.094170093536377, 4.580259799957275, 5.528530120849609, 5.002772808074951, 5.829461097717285, 4.806336879730225, 4.165377616882324, 4.138838291168213, 4.976785659790039, 5.002772808074951, 5.686976909637451, 5.7717061042785645, 2.3886682987213135, 3.7241640090942383, 4.185652732849121, 4.565119743347168, 2.474090814590454, 5.678831577301025, 6.069948196411133, 4.825814723968506, 4.501865863800049, 4.094170093536377]}, {\"marker\": {\"color\": \"#46f0f0\", \"size\": 4}, \"mode\": \"markers\", \"name\": \"hat\", \"type\": \"scatter3d\", \"x\": [3.6547763347625732, 5.221585750579834, 2.556063652038574, 3.0721147060394287, 3.5275487899780273, 1.4057555198669434, 1.936239242553711, 1.9057059288024902, 2.9583120346069336, 2.7825589179992676, 5.221585750579834, 2.6389682292938232, 0.5042989253997803, 0.9661429524421692, 3.093909502029419, 0.9905175566673279, 4.478131294250488, 1.0012224912643433, 3.186323881149292, 0.41875067353248596, 1.9294440746307373], \"y\": [0.846483588218689, -1.8922549486160278, -0.9217092990875244, -0.31702831387519836, 1.1045353412628174, 0.8836868405342102, 0.7593778371810913, 1.2603141069412231, -1.48557448387146, 2.011976718902588, -1.8922549486160278, -0.38212019205093384, 0.46613919734954834, -2.3041727542877197, -0.1281585842370987, -0.7177599668502808, 0.9746899604797363, 0.4426848292350769, -1.4272613525390625, -0.6200607419013977, -0.1804383546113968], \"z\": [-1.6291512250900269, 0.6305084228515625, -1.8361040353775024, -1.4013844728469849, -0.8110436201095581, -2.4087393283843994, -2.3497936725616455, -2.02272367477417, -1.3596396446228027, 1.356099009513855, 0.6305084228515625, -1.040109395980835, 0.002072908915579319, 0.9363927841186523, 1.7776358127593994, -1.1689363718032837, 0.5104992985725403, 0.2471846640110016, 0.8236221671104431, -0.11121232807636261, -1.5047390460968018]}, {\"marker\": {\"color\": \"#f032e6\", \"size\": 4}, \"mode\": \"markers\", \"name\": \"hedgehog\", \"type\": \"scatter3d\", \"x\": [-4.024796485900879, -2.138747215270996, -4.624395370483398, -5.084311008453369, -4.3482489585876465, -4.1029276847839355, -4.484657287597656, -3.8060343265533447, -5.049785614013672, -5.164312839508057, -4.048577308654785, -4.422657489776611, -4.263481616973877, -3.3188064098358154, -3.9838647842407227, -5.029378890991211, -4.0667901039123535, -3.536978006362915, -3.1082184314727783, -3.617245674133301, -5.166101455688477, -4.471885681152344, -3.740689516067505, -3.199673652648926, -5.676106929779053, -4.888967990875244, -4.843497276306152, -2.5461626052856445, -5.03748893737793], \"y\": [-2.154362440109253, -3.1434857845306396, -3.5236358642578125, -2.929548740386963, -3.6370151042938232, -5.269677639007568, -3.8440780639648438, -2.972126007080078, -4.5124640464782715, -4.862954616546631, -3.345001697540283, -3.3648693561553955, -4.251982688903809, -3.6847915649414062, -2.6428062915802, -4.044031143188477, -3.1789772510528564, -3.7144627571105957, -3.236616373062134, -2.8877041339874268, -3.5977368354797363, -4.391849517822266, -3.3227643966674805, -2.998929977416992, -4.001880168914795, -3.758091449737549, -3.810527801513672, -1.5816190242767334, -3.492021322250366], \"z\": [-0.6211565732955933, -0.6574823260307312, 0.9530361294746399, -0.5441261529922485, -1.8972681760787964, -1.3198826313018799, -0.8280066847801208, -1.061950922012329, -2.67922306060791, -2.0704989433288574, -1.663766860961914, -2.2792232036590576, -2.041142463684082, -2.0691001415252686, -2.8599326610565186, -2.388568162918091, -2.4170782566070557, -2.4873452186584473, -0.7045880556106567, -1.4349370002746582, -2.0065128803253174, -2.1378204822540283, -1.983953833580017, 0.06701785326004028, -1.9741357564926147, -2.1978201866149902, -1.5488625764846802, -1.8699699640274048, -1.4355204105377197]}, {\"marker\": {\"color\": \"#bcf60c\", \"size\": 4}, \"mode\": \"markers\", \"name\": \"helicopter\", \"type\": \"scatter3d\", \"x\": [2.252276659011841, -1.084566354751587, 0.16125139594078064, 0.8394629955291748, 0.26300284266471863, -0.7030003070831299, 1.4841076135635376, 1.4066169261932373, 0.8877518773078918, 0.008625687099993229, -0.22492533922195435, -0.18670500814914703, -0.37583184242248535, -0.35209745168685913, -0.7249756455421448, -0.8797443509101868, -0.7630053162574768, -0.047069624066352844, -0.7751069068908691, -0.11350884288549423, -0.8463615775108337, -0.5417241454124451], \"y\": [2.670534372329712, 4.180203914642334, 5.775101661682129, 2.441781759262085, 0.9759179949760437, 4.257565975189209, 3.872889995574951, 4.428907871246338, 2.5976407527923584, 3.9522228240966797, 1.3816986083984375, 3.952037811279297, 3.499091863632202, 3.4774558544158936, 2.6436188220977783, 4.222167015075684, 2.9671900272369385, 2.6287691593170166, 4.493500709533691, 3.3099422454833984, 2.8997979164123535, 3.275822162628174], \"z\": [-2.791348934173584, -0.7496945261955261, -1.9541761875152588, -1.3259373903274536, -3.4996416568756104, -0.534390389919281, -3.043363332748413, -1.9272314310073853, -1.696682333946228, -2.152956247329712, -1.738896369934082, -1.1710697412490845, -1.9565439224243164, -0.9916492700576782, -2.4115123748779297, -1.7406858205795288, -2.1290524005889893, -2.9348950386047363, -1.7699596881866455, -1.252205491065979, -1.9035416841506958, -2.4930338859558105]}, {\"marker\": {\"color\": \"#fabebe\", \"size\": 4}, \"mode\": \"markers\", \"name\": \"horse\", \"type\": \"scatter3d\", \"x\": [-4.989619255065918, -5.674478054046631, -4.53131103515625, -3.792360544204712, -5.4757304191589355, -5.1065592765808105, -3.9763364791870117, -4.970747947692871, -4.794250965118408, -4.481725692749023, -4.399168014526367, -4.553514003753662, -5.674478054046631, -4.480210781097412, -5.095900535583496, -4.754840850830078, -5.397744655609131, -5.790445327758789, -4.309723854064941, -5.634693622589111, -4.971104145050049, -4.0256500244140625], \"y\": [-0.5043547749519348, -1.0429645776748657, 0.7558363676071167, -1.3745969533920288, -0.3385116755962372, 0.7364400029182434, 0.09612560272216797, -0.544452428817749, 0.5161564350128174, 2.1349709033966064, 0.8998386263847351, -0.8565501570701599, -1.0429645776748657, 1.5240561962127686, -0.07296352088451385, 0.7497679591178894, -0.13008646667003632, 1.3903212547302246, 0.06741169840097427, 1.1004290580749512, 1.034397006034851, -1.6744366884231567], \"z\": [1.445151448249817, 2.610217332839966, 1.879582166671753, 0.07387856394052505, 0.5846965909004211, 1.9795562028884888, 0.8128475546836853, 1.0939240455627441, 2.246804714202881, 1.1800949573516846, 1.200422763824463, 0.9347503185272217, 2.610217332839966, 1.5935473442077637, 1.0133527517318726, 2.1122865676879883, 1.1884589195251465, 2.2674965858459473, 0.8748367428779602, 1.0630638599395752, 0.19159512221813202, 2.61507511138916]}, {\"marker\": {\"color\": \"#008080\", \"size\": 4}, \"mode\": \"markers\", \"name\": \"pineapple\", \"type\": \"scatter3d\", \"x\": [1.2504692077636719, 0.32591956853866577, 0.2908988893032074, -1.541306972503662, 0.1817401647567749, 0.009358590468764305, -0.9186269640922546, 0.6435556411743164, -0.29813915491104126, 0.507493793964386, -0.15920226275920868, 1.1739673614501953, 0.1677994728088379, -0.52642422914505, 0.5330035090446472, 0.3171979784965515, 0.10093751549720764, -0.18192020058631897, 0.437469482421875, 0.4655550718307495, 0.6324308514595032, -0.15920226275920868], \"y\": [-5.499549865722656, -4.471860408782959, -6.002356052398682, -5.305150985717773, -7.7423481941223145, -7.325435161590576, -4.750685214996338, -6.195626735687256, -7.792900085449219, -5.829782009124756, -6.349552631378174, -4.866106986999512, -5.675020217895508, -4.019365310668945, -6.862138271331787, -6.19938325881958, -5.179169654846191, -5.466579437255859, -5.855973243713379, -4.297733783721924, -5.592416286468506, -6.349552631378174], \"z\": [-0.6238487362861633, -3.029224395751953, -1.2995097637176514, -1.6230958700180054, -0.273364394903183, -0.8251152634620667, 0.6237663626670837, -1.2085371017456055, -0.27679482102394104, -0.4550687372684479, -0.7860364317893982, -1.3656284809112549, -1.3543787002563477, -2.2993738651275635, -1.4811269044876099, -1.5578252077102661, -1.3298674821853638, -1.7273640632629395, -1.5566991567611694, -1.3490506410598755, -0.8236141204833984, -0.7860364317893982]}, {\"marker\": {\"color\": \"#e6beff\", \"size\": 4}, \"mode\": \"markers\", \"name\": \"rifle\", \"type\": \"scatter3d\", \"x\": [0.8932294249534607, -0.13593916594982147, -0.31556063890457153, -0.6369269490242004, 0.7495948672294617, 0.20302145183086395, 1.0331183671951294, -0.12404417246580124, 0.29268619418144226, -0.662264883518219, 1.4052027463912964, 0.6379378437995911, -0.6369269490242004, 0.9981779456138611, 0.4927348494529724, -0.31556063890457153, 1.5019031763076782, 0.06356719881296158, 0.788516640663147, 0.5982450246810913, 1.0622628927230835, 0.9162741303443909, 0.5947728157043457, 0.9162741303443909, 0.5959675908088684, -0.7465837001800537, 0.2950708270072937, -0.9193523526191711, 0.6734806895256042, 0.7315474152565002, 0.8941967487335205, 0.8592343926429749, 0.5899440050125122, 1.2965507507324219], \"y\": [5.140138626098633, 6.702156066894531, 6.194005966186523, 6.480376243591309, 6.125208854675293, 5.348295211791992, 5.727341175079346, 7.335897445678711, 8.205621719360352, 7.403005123138428, 6.12139368057251, 8.067525863647461, 6.480376243591309, 6.317838191986084, 4.105844497680664, 6.194005966186523, 7.7421746253967285, 5.400601863861084, 5.3034796714782715, 7.638971328735352, 3.9167559146881104, 7.084628105163574, 4.050284385681152, 7.084628105163574, 5.961904525756836, 3.50776743888855, 5.121905326843262, 3.314004421234131, 7.275739669799805, 6.245089054107666, 7.093074798583984, 6.619360446929932, 3.976123332977295, 5.885122299194336], \"z\": [-0.8810021281242371, -0.2503776550292969, -1.0427542924880981, -0.9129332304000854, -1.373397946357727, -0.6012420058250427, -2.4225847721099854, -1.5587213039398193, -1.4960925579071045, -1.6637132167816162, -2.1969425678253174, -1.9731993675231934, -0.9129332304000854, -1.3701391220092773, -1.6327801942825317, -1.0427542924880981, -2.0720484256744385, -2.6952648162841797, 0.5725330710411072, -1.2671139240264893, 0.15307356417179108, -0.20590101182460785, 0.049699440598487854, -0.20590101182460785, -0.8688077926635742, 1.9017442464828491, -1.698614478111267, 0.4630909264087677, -0.47002026438713074, -0.21933530271053314, -0.06552796065807343, -0.6852254271507263, -0.3017602264881134, 0.4854303002357483]}, {\"marker\": {\"color\": \"#9a6324\", \"size\": 4}, \"mode\": \"markers\", \"name\": \"shark\", \"type\": \"scatter3d\", \"x\": [-4.61614465713501, -5.6202216148376465, -2.7328083515167236, -1.6108782291412354, -4.837766170501709, -3.875666856765747, -4.986593246459961, -2.8314361572265625, -4.837766170501709, -4.453873634338379, -4.870697498321533, -4.128377437591553, -3.498291254043579, -4.2385969161987305, -4.512495040893555, -4.413051605224609, -2.507253885269165, -4.122501850128174, -4.50376558303833, -2.507253885269165, -2.183326244354248, -4.512495040893555, -4.507380962371826, -4.008935451507568, -3.065403699874878], \"y\": [-0.6999364495277405, -2.868655204772949, 0.4853038191795349, 0.4120052456855774, -0.0574079304933548, -0.08358369767665863, -1.2577778100967407, 0.5765969753265381, -0.0574079304933548, 0.5247647762298584, -1.4993890523910522, -0.917900025844574, -0.9184654355049133, -1.2939716577529907, -0.3786257803440094, -1.24399995803833, -0.6967288851737976, -1.3806359767913818, -0.9427123069763184, -0.6967288851737976, -0.11143926531076431, -0.3786257803440094, -1.4827351570129395, -0.12029598653316498, -0.7000191807746887], \"z\": [-4.291543006896973, -3.0981502532958984, -2.9985053539276123, -2.9818673133850098, -4.137783527374268, -3.466780424118042, -3.218346357345581, 0.24514563381671906, -4.137783527374268, -3.1159489154815674, -4.697494983673096, -3.6343839168548584, -4.181272506713867, -4.4695563316345215, -4.409862995147705, -4.207563400268555, -2.613776683807373, -3.3682117462158203, -4.1958794593811035, -2.613776683807373, -1.3433195352554321, -4.409862995147705, -3.664064884185791, -4.024533748626709, -3.7876763343811035]}, {\"marker\": {\"color\": \"#fffac8\", \"size\": 4}, \"mode\": \"markers\", \"name\": \"snail\", \"type\": \"scatter3d\", \"x\": [3.8222408294677734, 4.010415077209473, 1.994620442390442, -0.4017701745033264, 2.5319595336914062, 4.009514331817627, 1.816072702407837, 1.2202726602554321, 3.236802101135254, 1.4230400323867798, 2.2894155979156494, 3.676339864730835, 3.144550085067749, 2.148479700088501, 2.0006959438323975, 1.4562280178070068, 2.061572313308716, 1.5247166156768799, 1.864311933517456], \"y\": [-3.3102822303771973, -2.345275402069092, -1.695696473121643, 0.09593223035335541, -3.1045081615448, -3.080169200897217, -2.1249115467071533, -2.9057774543762207, -2.1839993000030518, -2.2454142570495605, -1.9528191089630127, -2.6575517654418945, -0.8670501112937927, -1.6259499788284302, -1.7063339948654175, -2.2398197650909424, -2.384838342666626, -2.6915762424468994, -2.925849437713623], \"z\": [-6.063657283782959, -5.380213737487793, -5.131564140319824, -2.331820011138916, -6.520977020263672, -6.8908915519714355, -6.679206848144531, -5.200353145599365, -5.220747947692871, -2.7899041175842285, -5.0544819831848145, -6.074047088623047, -5.612520217895508, -4.959712028503418, -3.3242721557617188, -5.713672637939453, -5.3137288093566895, -3.7916388511657715, -4.096806049346924]}, {\"marker\": {\"color\": \"#800000\", \"size\": 4}, \"mode\": \"markers\", \"name\": \"snake\", \"type\": \"scatter3d\", \"x\": [2.0084922313690186, 3.4543657302856445, 2.0084922313690186, 1.7696527242660522, 0.8374413847923279, 1.3048949241638184, 0.8374413847923279, 1.7696527242660522, 3.4543657302856445, -2.458955764770508, 0.3593989610671997, -1.2232582569122314, -0.5865773558616638, -1.2232582569122314, 0.7546982169151306, 0.02863272652029991], \"y\": [-0.4408209025859833, -2.0417559146881104, -0.4408209025859833, -0.2229849398136139, 0.16378581523895264, -0.29180100560188293, 0.16378581523895264, -0.2229849398136139, -2.0417559146881104, -1.1642110347747803, 0.4129898250102997, 0.4706217646598816, -0.6649237275123596, 0.4706217646598816, -0.5680785775184631, -1.1063324213027954], \"z\": [-4.535148620605469, -2.4310078620910645, -4.535148620605469, -4.777337551116943, -3.9403598308563232, -4.7548651695251465, -3.9403598308563232, -4.777337551116943, -2.4310078620910645, -1.263389229774475, -3.912630319595337, -3.5373661518096924, -4.390594959259033, -3.5373661518096924, -4.037727355957031, -4.700141429901123]}, {\"marker\": {\"color\": \"#aaffc3\", \"size\": 4}, \"mode\": \"markers\", \"name\": \"teapot\", \"type\": \"scatter3d\", \"x\": [5.735739231109619, 4.844719886779785, 6.221957206726074, 4.588363170623779, 7.070765972137451, 6.131915092468262, 5.355386734008789, 6.988704681396484, 7.16030740737915, 7.032808780670166, 3.9131693840026855, 2.9568042755126953, 5.899334907531738, 7.516057014465332, 6.679745197296143, 8.942415237426758, 7.261414527893066, 6.2832183837890625, 2.613161325454712, 7.321788311004639, 6.914651870727539, 5.2773518562316895, 5.611719131469727, 6.914651870727539, 5.119205951690674, 3.4739837646484375], \"y\": [-2.4567034244537354, -4.214174747467041, -2.793435573577881, -3.2511677742004395, -2.6673455238342285, -1.1154814958572388, -1.397499918937683, -2.8729515075683594, -2.4257538318634033, -1.1032142639160156, -1.0506017208099365, -1.7953107357025146, -3.285271167755127, -4.722943305969238, -3.4231607913970947, -4.802942752838135, -3.7056949138641357, -3.0917344093322754, -0.17058345675468445, -3.5088648796081543, -3.7016632556915283, -2.5954957008361816, -3.274282217025757, -3.7016632556915283, -2.2264485359191895, -0.9214470386505127], \"z\": [0.2266027182340622, -2.6573400497436523, -0.07859582453966141, -0.2958274483680725, 1.2547919750213623, 1.1652177572250366, -3.391932249069214, -0.18461774289608002, 1.2588213682174683, 0.8567819595336914, -0.2695215940475464, -0.5345228314399719, 1.3858295679092407, 1.020849347114563, 2.6342997550964355, 2.0844383239746094, 1.8526815176010132, 2.0643928050994873, 0.6739391684532166, 1.8859413862228394, 1.9754483699798584, 1.572981595993042, 2.1121699810028076, 1.9754483699798584, 0.2017946094274521, 1.033211350440979]}, {\"marker\": {\"color\": \"#808000\", \"size\": 4}, \"mode\": \"markers\", \"name\": \"teddy_bear\", \"type\": \"scatter3d\", \"x\": [0.005571328569203615, -1.1741483211517334, -2.1264171600341797, -0.5373288989067078, -1.7966481447219849, -1.462638258934021, 0.9840648770332336, 1.0998605489730835, 0.8267385363578796, -0.9824127554893494, -0.935766875743866, -3.707111358642578, -0.5303819179534912, -0.06868399679660797, 1.1232813596725464, 1.3641942739486694, 1.4032596349716187, -0.6520774364471436, 0.23072580993175507, 0.5720500349998474, 0.5345761179924011], \"y\": [-4.140340328216553, -3.3408854007720947, -3.5415778160095215, -5.119794845581055, -4.215806007385254, -4.177847862243652, -3.4349849224090576, -2.6257009506225586, -3.7133126258850098, -2.8121695518493652, -4.76781702041626, -3.576181411743164, -5.032730579376221, -0.18234597146511078, -3.6853322982788086, -3.7185003757476807, -3.638638496398926, -3.7822389602661133, -3.1463539600372314, -3.519598960876465, -3.8803281784057617], \"z\": [1.203183889389038, 2.005585193634033, 1.032677412033081, 1.5982757806777954, 1.2773244380950928, 2.1631295680999756, 0.4690420925617218, 2.042074203491211, 1.4692118167877197, 1.6386173963546753, 0.7491036653518677, 1.3850481510162354, 1.8979378938674927, 0.5562558174133301, 1.8356091976165771, 1.5639739036560059, 2.019589900970459, 1.601700782775879, 2.4068374633789062, 2.0825490951538086, 2.139726400375366]}, {\"marker\": {\"color\": \"#ffd8b1\", \"size\": 4}, \"mode\": \"markers\", \"name\": \"tiger\", \"type\": \"scatter3d\", \"x\": [-4.050858974456787, -5.2478485107421875, -4.091287136077881, -5.864190578460693, -5.572565078735352, -4.905603408813477, -5.288658618927002, -3.674914598464966, -4.208404541015625, -4.919437408447266, -4.219391822814941, -6.1194257736206055, -3.258411169052124, -4.920065402984619, -2.5756185054779053, -6.286641597747803, -5.277364253997803, -5.1404619216918945, -5.124070644378662, -5.1009063720703125, -4.94338846206665, -5.475977897644043, -4.488199710845947, -4.915338516235352, -5.373543739318848], \"y\": [-2.0553207397460938, -2.7313292026519775, -2.18631649017334, -0.7597599029541016, -0.21111196279525757, -1.825409173965454, -2.6189091205596924, 0.4477792978286743, -1.2765530347824097, -3.2649831771850586, -1.5831972360610962, -1.170981764793396, -1.2641631364822388, -2.919581413269043, -3.36555552482605, -0.13744881749153137, -1.8048776388168335, -1.5386217832565308, -1.7659682035446167, -1.8291572332382202, -1.636983871459961, -1.1592931747436523, -1.5172874927520752, -1.5191550254821777, -1.1943995952606201], \"z\": [2.398942708969116, 1.7404578924179077, 1.147292971611023, 1.7215384244918823, -0.029872378334403038, 4.435551166534424, 3.258380889892578, 1.0545344352722168, 2.2207558155059814, 1.7931331396102905, 3.3904225826263428, 2.0753746032714844, 3.2346558570861816, 1.0702133178710938, 2.4629509449005127, 2.1752259731292725, 1.7872108221054077, 2.1746041774749756, 2.0534439086914062, 2.2899370193481445, 1.9006080627441406, 2.0281033515930176, 2.4917147159576416, 2.480095624923706, 1.9260300397872925]}, {\"marker\": {\"color\": \"#000075\", \"size\": 4}, \"mode\": \"markers\", \"name\": \"umbrella\", \"type\": \"scatter3d\", \"x\": [0.2458931803703308, -1.3996139764785767, -0.22245655953884125, 0.5503349304199219, 0.2010561227798462, 0.3504588007926941, 1.6509369611740112, 0.6633917093276978, 0.26180899143218994, 0.9577428698539734, 1.1323026418685913, 0.5523585677146912, 1.2376154661178589, 2.5503790378570557, 0.4653492569923401, 0.3524206578731537, -0.409476637840271, 1.0387681722640991], \"y\": [-0.3063269853591919, 1.4022045135498047, 2.82327938079834, 2.6592955589294434, 0.7277098894119263, 0.7963680028915405, -0.744235098361969, 1.6687426567077637, 0.8829593658447266, 1.4043753147125244, 0.11571043729782104, 1.1643671989440918, 0.7484347224235535, 2.2709622383117676, 1.0377144813537598, 2.708317995071411, 1.1375524997711182, 0.18363520503044128], \"z\": [0.004059115424752235, -2.7178614139556885, -2.2586476802825928, -0.466156005859375, -1.2366211414337158, -0.5027889609336853, -0.7405441999435425, -0.7796741724014282, -0.48895296454429626, -1.7098071575164795, -0.3687254786491394, 0.4167652726173401, 0.014752272516489029, -0.625676155090332, 1.6653193235397339, 0.27329742908477783, -0.9401007890701294, 0.7900233864784241]}, {\"marker\": {\"color\": \"#808080\", \"size\": 4}, \"mode\": \"markers\", \"name\": \"violin\", \"type\": \"scatter3d\", \"x\": [3.3474979400634766, 1.4037871360778809, 3.070781707763672, 4.11124849319458, 2.0070958137512207, 2.2008092403411865, 2.2799665927886963, 0.7181975841522217, 2.253256320953369, 2.2303683757781982, 1.9676274061203003, 1.1339398622512817, 2.3717904090881348, 2.2799665927886963, 1.769398808479309, 2.8695082664489746, 2.0414679050445557, 1.5814610719680786, 1.8374019861221313, 3.2075350284576416, 1.51726233959198, 1.5717887878417969, 2.2896382808685303, 2.0788016319274902, 1.9843194484710693, 2.10074520111084, 2.011448383331299, 1.6129467487335205, 3.2967851161956787, 2.438206195831299, 2.295097589492798, 1.5514206886291504], \"y\": [0.5901784300804138, 4.929248809814453, 1.685657262802124, 3.0495636463165283, 8.37063980102539, 0.898931086063385, 9.135991096496582, 6.233935356140137, 5.092710971832275, 4.864866733551025, 7.660274505615234, 6.086643695831299, 6.528772354125977, 9.135991096496582, 4.949118137359619, 1.9735231399536133, 4.966700553894043, 3.634836196899414, 6.649943828582764, 3.824249029159546, 5.290261268615723, 5.266276836395264, 6.446488857269287, 6.51496696472168, 5.373249053955078, 6.307419300079346, 5.762267112731934, 6.311044692993164, 9.419551849365234, 8.40534782409668, 7.51552677154541, 5.501481056213379], \"z\": [-2.7406580448150635, -2.2098701000213623, -4.404975891113281, -3.3539609909057617, -3.8495981693267822, -1.7303357124328613, -3.5642874240875244, -4.0574140548706055, -1.9344924688339233, -3.1248340606689453, -2.9068920612335205, -2.5744540691375732, -3.8836987018585205, -3.5642874240875244, -3.227837085723877, 0.9758831858634949, -0.9932851195335388, -1.4098615646362305, -3.107653856277466, -0.75289386510849, -3.454420328140259, -1.728164792060852, -3.125136375427246, -2.5398411750793457, -1.3960518836975098, -2.356337070465088, -2.014103412628174, -2.516481637954712, -4.219581127166748, -3.3793487548828125, -2.6475281715393066, -1.5328878164291382]}, {\"marker\": {\"color\": \"#000000\", \"size\": 4}, \"mode\": \"markers\", \"name\": \"zebra\", \"type\": \"scatter3d\", \"x\": [-5.726954460144043, -5.894146919250488, -4.774819374084473, -6.2189507484436035, -5.894146919250488, -3.63242244720459, -5.673618316650391, -5.876346111297607, -4.31134557723999, -5.96123743057251, -2.4486286640167236, -5.626580238342285, -4.843810081481934, -5.424615859985352, -5.850955486297607, -6.546449661254883, -5.984685897827148, -6.0518293380737305, -5.975971698760986, -7.169973373413086, -6.750272750854492, -5.835574626922607, -6.823672771453857, -6.829385280609131, -5.843286991119385, -5.257931232452393], \"y\": [1.8261244297027588, -0.05729306861758232, -0.6555920839309692, 0.8673197627067566, -0.05729306861758232, -1.877524971961975, 0.0205813217908144, 1.1213113069534302, -1.3217288255691528, 0.06674914062023163, 0.6415722966194153, 1.1293200254440308, 0.6508572697639465, 2.1149868965148926, 0.6452633738517761, 1.0344563722610474, 0.12182915210723877, 0.3798364996910095, 0.463032066822052, 0.5139212012290955, 0.9361493587493896, 1.1251232624053955, 0.5960221886634827, 0.15683110058307648, 0.2611832618713379, 0.09722718596458435], \"z\": [1.4902164936065674, -0.18474403023719788, -0.7256031632423401, 0.02811455726623535, -0.18474403023719788, 0.6554684638977051, 1.3884936571121216, 0.08171532303094864, -0.4276246726512909, 0.4009939134120941, -1.1291340589523315, 0.09233509004116058, -0.8656906485557556, -0.7177844047546387, 0.5566327571868896, 0.19078882038593292, -0.7937819957733154, 0.9169849157333374, 0.5839805603027344, 0.4838659167289734, 0.34596744179725647, 0.2709212005138397, 0.2681029140949249, 0.6354019045829773, 0.6937347650527954, -0.19986966252326965]}],                        {\"template\": {\"data\": {\"bar\": [{\"error_x\": {\"color\": \"#2a3f5f\"}, \"error_y\": {\"color\": \"#2a3f5f\"}, \"marker\": {\"line\": {\"color\": \"#E5ECF6\", \"width\": 0.5}}, \"type\": \"bar\"}], \"barpolar\": [{\"marker\": {\"line\": {\"color\": \"#E5ECF6\", \"width\": 0.5}}, \"type\": \"barpolar\"}], \"carpet\": [{\"aaxis\": {\"endlinecolor\": \"#2a3f5f\", \"gridcolor\": \"white\", \"linecolor\": \"white\", \"minorgridcolor\": \"white\", \"startlinecolor\": \"#2a3f5f\"}, \"baxis\": {\"endlinecolor\": \"#2a3f5f\", \"gridcolor\": \"white\", \"linecolor\": \"white\", \"minorgridcolor\": \"white\", \"startlinecolor\": \"#2a3f5f\"}, \"type\": \"carpet\"}], \"choropleth\": [{\"colorbar\": {\"outlinewidth\": 0, \"ticks\": \"\"}, \"type\": \"choropleth\"}], \"contour\": [{\"colorbar\": {\"outlinewidth\": 0, \"ticks\": \"\"}, \"colorscale\": [[0.0, \"#0d0887\"], [0.1111111111111111, \"#46039f\"], [0.2222222222222222, \"#7201a8\"], [0.3333333333333333, \"#9c179e\"], [0.4444444444444444, \"#bd3786\"], [0.5555555555555556, \"#d8576b\"], [0.6666666666666666, \"#ed7953\"], [0.7777777777777778, \"#fb9f3a\"], [0.8888888888888888, \"#fdca26\"], [1.0, \"#f0f921\"]], \"type\": \"contour\"}], \"contourcarpet\": [{\"colorbar\": {\"outlinewidth\": 0, \"ticks\": \"\"}, \"type\": \"contourcarpet\"}], \"heatmap\": [{\"colorbar\": {\"outlinewidth\": 0, \"ticks\": \"\"}, \"colorscale\": [[0.0, \"#0d0887\"], [0.1111111111111111, \"#46039f\"], [0.2222222222222222, \"#7201a8\"], [0.3333333333333333, \"#9c179e\"], [0.4444444444444444, \"#bd3786\"], [0.5555555555555556, \"#d8576b\"], [0.6666666666666666, \"#ed7953\"], [0.7777777777777778, \"#fb9f3a\"], [0.8888888888888888, \"#fdca26\"], [1.0, \"#f0f921\"]], \"type\": \"heatmap\"}], \"heatmapgl\": [{\"colorbar\": {\"outlinewidth\": 0, \"ticks\": \"\"}, \"colorscale\": [[0.0, \"#0d0887\"], [0.1111111111111111, \"#46039f\"], [0.2222222222222222, \"#7201a8\"], [0.3333333333333333, \"#9c179e\"], [0.4444444444444444, \"#bd3786\"], [0.5555555555555556, \"#d8576b\"], [0.6666666666666666, \"#ed7953\"], [0.7777777777777778, \"#fb9f3a\"], [0.8888888888888888, \"#fdca26\"], [1.0, \"#f0f921\"]], \"type\": \"heatmapgl\"}], \"histogram\": [{\"marker\": {\"colorbar\": {\"outlinewidth\": 0, \"ticks\": \"\"}}, \"type\": \"histogram\"}], \"histogram2d\": [{\"colorbar\": {\"outlinewidth\": 0, \"ticks\": \"\"}, \"colorscale\": [[0.0, \"#0d0887\"], [0.1111111111111111, \"#46039f\"], [0.2222222222222222, \"#7201a8\"], [0.3333333333333333, \"#9c179e\"], [0.4444444444444444, \"#bd3786\"], [0.5555555555555556, \"#d8576b\"], [0.6666666666666666, \"#ed7953\"], [0.7777777777777778, \"#fb9f3a\"], [0.8888888888888888, \"#fdca26\"], [1.0, \"#f0f921\"]], \"type\": \"histogram2d\"}], \"histogram2dcontour\": [{\"colorbar\": {\"outlinewidth\": 0, \"ticks\": \"\"}, \"colorscale\": [[0.0, \"#0d0887\"], [0.1111111111111111, \"#46039f\"], [0.2222222222222222, \"#7201a8\"], [0.3333333333333333, \"#9c179e\"], [0.4444444444444444, \"#bd3786\"], [0.5555555555555556, \"#d8576b\"], [0.6666666666666666, \"#ed7953\"], [0.7777777777777778, \"#fb9f3a\"], [0.8888888888888888, \"#fdca26\"], [1.0, \"#f0f921\"]], \"type\": \"histogram2dcontour\"}], \"mesh3d\": [{\"colorbar\": {\"outlinewidth\": 0, \"ticks\": \"\"}, \"type\": \"mesh3d\"}], \"parcoords\": [{\"line\": {\"colorbar\": {\"outlinewidth\": 0, \"ticks\": \"\"}}, \"type\": \"parcoords\"}], \"pie\": [{\"automargin\": true, \"type\": \"pie\"}], \"scatter\": [{\"marker\": {\"colorbar\": {\"outlinewidth\": 0, \"ticks\": \"\"}}, \"type\": \"scatter\"}], \"scatter3d\": [{\"line\": {\"colorbar\": {\"outlinewidth\": 0, \"ticks\": \"\"}}, \"marker\": {\"colorbar\": {\"outlinewidth\": 0, \"ticks\": \"\"}}, \"type\": \"scatter3d\"}], \"scattercarpet\": [{\"marker\": {\"colorbar\": {\"outlinewidth\": 0, \"ticks\": \"\"}}, \"type\": \"scattercarpet\"}], \"scattergeo\": [{\"marker\": {\"colorbar\": {\"outlinewidth\": 0, \"ticks\": \"\"}}, \"type\": \"scattergeo\"}], \"scattergl\": [{\"marker\": {\"colorbar\": {\"outlinewidth\": 0, \"ticks\": \"\"}}, \"type\": \"scattergl\"}], \"scattermapbox\": [{\"marker\": {\"colorbar\": {\"outlinewidth\": 0, \"ticks\": \"\"}}, \"type\": \"scattermapbox\"}], \"scatterpolar\": [{\"marker\": {\"colorbar\": {\"outlinewidth\": 0, \"ticks\": \"\"}}, \"type\": \"scatterpolar\"}], \"scatterpolargl\": [{\"marker\": {\"colorbar\": {\"outlinewidth\": 0, \"ticks\": \"\"}}, \"type\": \"scatterpolargl\"}], \"scatterternary\": [{\"marker\": {\"colorbar\": {\"outlinewidth\": 0, \"ticks\": \"\"}}, \"type\": \"scatterternary\"}], \"surface\": [{\"colorbar\": {\"outlinewidth\": 0, \"ticks\": \"\"}, \"colorscale\": [[0.0, \"#0d0887\"], [0.1111111111111111, \"#46039f\"], [0.2222222222222222, \"#7201a8\"], [0.3333333333333333, \"#9c179e\"], [0.4444444444444444, \"#bd3786\"], [0.5555555555555556, \"#d8576b\"], [0.6666666666666666, \"#ed7953\"], [0.7777777777777778, \"#fb9f3a\"], [0.8888888888888888, \"#fdca26\"], [1.0, \"#f0f921\"]], \"type\": \"surface\"}], \"table\": [{\"cells\": {\"fill\": {\"color\": \"#EBF0F8\"}, \"line\": {\"color\": \"white\"}}, \"header\": {\"fill\": {\"color\": \"#C8D4E3\"}, \"line\": {\"color\": \"white\"}}, \"type\": \"table\"}]}, \"layout\": {\"annotationdefaults\": {\"arrowcolor\": \"#2a3f5f\", \"arrowhead\": 0, \"arrowwidth\": 1}, \"autotypenumbers\": \"strict\", \"coloraxis\": {\"colorbar\": {\"outlinewidth\": 0, \"ticks\": \"\"}}, \"colorscale\": {\"diverging\": [[0, \"#8e0152\"], [0.1, \"#c51b7d\"], [0.2, \"#de77ae\"], [0.3, \"#f1b6da\"], [0.4, \"#fde0ef\"], [0.5, \"#f7f7f7\"], [0.6, \"#e6f5d0\"], [0.7, \"#b8e186\"], [0.8, \"#7fbc41\"], [0.9, \"#4d9221\"], [1, \"#276419\"]], \"sequential\": [[0.0, \"#0d0887\"], [0.1111111111111111, \"#46039f\"], [0.2222222222222222, \"#7201a8\"], [0.3333333333333333, \"#9c179e\"], [0.4444444444444444, \"#bd3786\"], [0.5555555555555556, \"#d8576b\"], [0.6666666666666666, \"#ed7953\"], [0.7777777777777778, \"#fb9f3a\"], [0.8888888888888888, \"#fdca26\"], [1.0, \"#f0f921\"]], \"sequentialminus\": [[0.0, \"#0d0887\"], [0.1111111111111111, \"#46039f\"], [0.2222222222222222, \"#7201a8\"], [0.3333333333333333, \"#9c179e\"], [0.4444444444444444, \"#bd3786\"], [0.5555555555555556, \"#d8576b\"], [0.6666666666666666, \"#ed7953\"], [0.7777777777777778, \"#fb9f3a\"], [0.8888888888888888, \"#fdca26\"], [1.0, \"#f0f921\"]]}, \"colorway\": [\"#636efa\", \"#EF553B\", \"#00cc96\", \"#ab63fa\", \"#FFA15A\", \"#19d3f3\", \"#FF6692\", \"#B6E880\", \"#FF97FF\", \"#FECB52\"], \"font\": {\"color\": \"#2a3f5f\"}, \"geo\": {\"bgcolor\": \"white\", \"lakecolor\": \"white\", \"landcolor\": \"#E5ECF6\", \"showlakes\": true, \"showland\": true, \"subunitcolor\": \"white\"}, \"hoverlabel\": {\"align\": \"left\"}, \"hovermode\": \"closest\", \"mapbox\": {\"style\": \"light\"}, \"paper_bgcolor\": \"white\", \"plot_bgcolor\": \"#E5ECF6\", \"polar\": {\"angularaxis\": {\"gridcolor\": \"white\", \"linecolor\": \"white\", \"ticks\": \"\"}, \"bgcolor\": \"#E5ECF6\", \"radialaxis\": {\"gridcolor\": \"white\", \"linecolor\": \"white\", \"ticks\": \"\"}}, \"scene\": {\"xaxis\": {\"backgroundcolor\": \"#E5ECF6\", \"gridcolor\": \"white\", \"gridwidth\": 2, \"linecolor\": \"white\", \"showbackground\": true, \"ticks\": \"\", \"zerolinecolor\": \"white\"}, \"yaxis\": {\"backgroundcolor\": \"#E5ECF6\", \"gridcolor\": \"white\", \"gridwidth\": 2, \"linecolor\": \"white\", \"showbackground\": true, \"ticks\": \"\", \"zerolinecolor\": \"white\"}, \"zaxis\": {\"backgroundcolor\": \"#E5ECF6\", \"gridcolor\": \"white\", \"gridwidth\": 2, \"linecolor\": \"white\", \"showbackground\": true, \"ticks\": \"\", \"zerolinecolor\": \"white\"}}, \"shapedefaults\": {\"line\": {\"color\": \"#2a3f5f\"}}, \"ternary\": {\"aaxis\": {\"gridcolor\": \"white\", \"linecolor\": \"white\", \"ticks\": \"\"}, \"baxis\": {\"gridcolor\": \"white\", \"linecolor\": \"white\", \"ticks\": \"\"}, \"bgcolor\": \"#E5ECF6\", \"caxis\": {\"gridcolor\": \"white\", \"linecolor\": \"white\", \"ticks\": \"\"}}, \"title\": {\"x\": 0.05}, \"xaxis\": {\"automargin\": true, \"gridcolor\": \"white\", \"linecolor\": \"white\", \"ticks\": \"\", \"title\": {\"standoff\": 15}, \"zerolinecolor\": \"white\", \"zerolinewidth\": 2}, \"yaxis\": {\"automargin\": true, \"gridcolor\": \"white\", \"linecolor\": \"white\", \"ticks\": \"\", \"title\": {\"standoff\": 15}, \"zerolinecolor\": \"white\", \"zerolinewidth\": 2}}}, \"title\": {\"text\": \"3D plot of the embeddings (projected with the PCA)\"}},                        {\"responsive\": true}                    ).then(function(){\n",
       "                            \n",
       "var gd = document.getElementById('72812fc4-64ec-4668-8414-39636faae689');\n",
       "var x = new MutationObserver(function (mutations, observer) {{\n",
       "        var display = window.getComputedStyle(gd).display;\n",
       "        if (!display || display === 'none') {{\n",
       "            console.log([gd, 'removed!']);\n",
       "            Plotly.purge(gd);\n",
       "            observer.disconnect();\n",
       "        }}\n",
       "}});\n",
       "\n",
       "// Listen for the removal of the full notebook cells\n",
       "var notebookContainer = gd.closest('#notebook-container');\n",
       "if (notebookContainer) {{\n",
       "    x.observe(notebookContainer, {childList: true});\n",
       "}}\n",
       "\n",
       "// Listen for the clearing of the current output cell\n",
       "var outputEl = gd.closest('.output');\n",
       "if (outputEl) {{\n",
       "    x.observe(outputEl, {childList: true});\n",
       "}}\n",
       "\n",
       "                        })                };                });            </script>        </div>"
      ]
     },
     "metadata": {},
     "output_type": "display_data"
    }
   ],
   "source": [
    "'''Correction '''\n",
    "traces = []\n",
    "fig = go.Figure()\n",
    "for i, (category, coordinates) in enumerate(res.items()):\n",
    "    if category == \"My Custom Sketch\":\n",
    "        marker_size=8\n",
    "    else:\n",
    "        marker_size=4\n",
    "    trace = go.Scatter3d(\n",
    "        x=coordinates['x'],\n",
    "        y=coordinates['y'],\n",
    "        z=coordinates['z'],\n",
    "        name=category,\n",
    "        mode='markers',\n",
    "        marker=dict(\n",
    "            size=marker_size,\n",
    "            color=colors[i],\n",
    "        )\n",
    "    )\n",
    "    fig.add_trace(trace)\n",
    "    fig.update_layout(title='3D plot of the embeddings (projected with the PCA)')\n",
    "    \n",
    "fig.show()"
   ]
  },
  {
   "cell_type": "markdown",
   "metadata": {},
   "source": [
    "## Dataset: return 5 random images and sketches of a category"
   ]
  },
  {
   "cell_type": "code",
   "execution_count": 213,
   "metadata": {},
   "outputs": [],
   "source": [
    "category = \"hedgehog\"\n",
    "data = {\"category\": category}\n",
    "res = requests.post(\"http://127.0.0.1:5000/get_dataset_images\", json=data).json()"
   ]
  },
  {
   "cell_type": "markdown",
   "metadata": {},
   "source": [
    "This api call returns 5 random images and sketch belonging to the category sent as parameter.\n",
    "\n",
    "**TODO**: plot them all in a similar way as the web app in the dataset page. (You can inspire yourself from the inference part). Your plot should look like this:"
   ]
  },
  {
   "cell_type": "markdown",
   "metadata": {},
   "source": [
    "<img src=\"images/sea-turtle.png\">"
   ]
  },
  {
   "cell_type": "code",
   "execution_count": 214,
   "metadata": {},
   "outputs": [
    {
     "data": {
      "image/png": "[encoded data removed]",
      "text/plain": [
       "<Figure size 1440x720 with 10 Axes>"
      ]
     },
     "metadata": {
      "needs_background": "light"
     },
     "output_type": "display_data"
    }
   ],
   "source": [
    "''' Correction '''\n",
    "images, sketches = [], []\n",
    "\n",
    "fig, axes = plt.subplots(2, 5, figsize=(20, 10))\n",
    "fig.suptitle(f'Dataset category: {category}', fontsize=20)\n",
    "for i in range(5):\n",
    "    sketch = res[f'sketches_{i}_base64']\n",
    "    image = res[f'images_{i}_base64']\n",
    "    image = base64_to_array(image)\n",
    "    sketch = base64_to_array(sketch)\n",
    "    \n",
    "    axes[0, i].imshow(image)\n",
    "    axes[0, i].axis(\"off\");\n",
    "    axes[0, i].set_title('Image ' + str(i))\n",
    "    \n",
    "    axes[1, i].imshow(sketch)\n",
    "    axes[1, i].axis(\"off\");\n",
    "    axes[1, i].set_title('Sketch ' + str(i))"
   ]
  },
  {
   "cell_type": "code",
   "execution_count": null,
   "metadata": {},
   "outputs": [],
   "source": []
  }
 ],
 "metadata": {
  "kernelspec": {
   "display_name": "AMLD env",
   "language": "python",
   "name": "env"
  },
  "language_info": {
   "codemirror_mode": {
    "name": "ipython",
    "version": 3
   },
   "file_extension": ".py",
   "mimetype": "text/x-python",
   "name": "python",
   "nbconvert_exporter": "python",
   "pygments_lexer": "ipython3",
   "version": "3.7.9"
  }
 },
 "nbformat": 4,
 "nbformat_minor": 4
}
